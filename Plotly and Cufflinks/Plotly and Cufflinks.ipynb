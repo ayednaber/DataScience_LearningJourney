{
 "cells": [
  {
   "cell_type": "markdown",
   "metadata": {},
   "source": [
    "# Plotly and Cufflinks"
   ]
  },
  {
   "cell_type": "code",
   "execution_count": 1,
   "metadata": {},
   "outputs": [],
   "source": [
    "import pandas as pd\n",
    "import numpy as np"
   ]
  },
  {
   "cell_type": "code",
   "execution_count": 2,
   "metadata": {},
   "outputs": [],
   "source": [
    "from plotly import __version__"
   ]
  },
  {
   "cell_type": "code",
   "execution_count": 3,
   "metadata": {},
   "outputs": [
    {
     "name": "stdout",
     "output_type": "stream",
     "text": [
      "4.14.3\n"
     ]
    }
   ],
   "source": [
    "print(__version__)"
   ]
  },
  {
   "cell_type": "code",
   "execution_count": 4,
   "metadata": {},
   "outputs": [],
   "source": [
    "import cufflinks as cf"
   ]
  },
  {
   "cell_type": "code",
   "execution_count": 5,
   "metadata": {},
   "outputs": [],
   "source": [
    "from plotly.offline import download_plotlyjs, init_notebook_mode, plot, iplot"
   ]
  },
  {
   "cell_type": "code",
   "execution_count": 6,
   "metadata": {},
   "outputs": [
    {
     "data": {
      "text/html": [
       "        <script type=\"text/javascript\">\n",
       "        window.PlotlyConfig = {MathJaxConfig: 'local'};\n",
       "        if (window.MathJax) {MathJax.Hub.Config({SVG: {font: \"STIX-Web\"}});}\n",
       "        if (typeof require !== 'undefined') {\n",
       "        require.undef(\"plotly\");\n",
       "        requirejs.config({\n",
       "            paths: {\n",
       "                'plotly': ['https://cdn.plot.ly/plotly-latest.min']\n",
       "            }\n",
       "        });\n",
       "        require(['plotly'], function(Plotly) {\n",
       "            window._Plotly = Plotly;\n",
       "        });\n",
       "        }\n",
       "        </script>\n",
       "        "
      ]
     },
     "metadata": {},
     "output_type": "display_data"
    }
   ],
   "source": [
    "init_notebook_mode(connected=True) # Allows our notebook to access those visualizations"
   ]
  },
  {
   "cell_type": "code",
   "execution_count": 8,
   "metadata": {},
   "outputs": [
    {
     "data": {
      "text/html": [
       "        <script type=\"text/javascript\">\n",
       "        window.PlotlyConfig = {MathJaxConfig: 'local'};\n",
       "        if (window.MathJax) {MathJax.Hub.Config({SVG: {font: \"STIX-Web\"}});}\n",
       "        if (typeof require !== 'undefined') {\n",
       "        require.undef(\"plotly\");\n",
       "        requirejs.config({\n",
       "            paths: {\n",
       "                'plotly': ['https://cdn.plot.ly/plotly-latest.min']\n",
       "            }\n",
       "        });\n",
       "        require(['plotly'], function(Plotly) {\n",
       "            window._Plotly = Plotly;\n",
       "        });\n",
       "        }\n",
       "        </script>\n",
       "        "
      ]
     },
     "metadata": {},
     "output_type": "display_data"
    }
   ],
   "source": [
    "cf.go_offline() # Allows us to use cufflinks offline"
   ]
  },
  {
   "cell_type": "code",
   "execution_count": 9,
   "metadata": {},
   "outputs": [],
   "source": [
    "# DATA\n",
    "df = pd.DataFrame(np.random.randn(100,4), columns='A B C D'.split())"
   ]
  },
  {
   "cell_type": "code",
   "execution_count": 10,
   "metadata": {},
   "outputs": [
    {
     "data": {
      "text/html": [
       "<div>\n",
       "<style scoped>\n",
       "    .dataframe tbody tr th:only-of-type {\n",
       "        vertical-align: middle;\n",
       "    }\n",
       "\n",
       "    .dataframe tbody tr th {\n",
       "        vertical-align: top;\n",
       "    }\n",
       "\n",
       "    .dataframe thead th {\n",
       "        text-align: right;\n",
       "    }\n",
       "</style>\n",
       "<table border=\"1\" class=\"dataframe\">\n",
       "  <thead>\n",
       "    <tr style=\"text-align: right;\">\n",
       "      <th></th>\n",
       "      <th>A</th>\n",
       "      <th>B</th>\n",
       "      <th>C</th>\n",
       "      <th>D</th>\n",
       "    </tr>\n",
       "  </thead>\n",
       "  <tbody>\n",
       "    <tr>\n",
       "      <th>0</th>\n",
       "      <td>-1.334454</td>\n",
       "      <td>0.141152</td>\n",
       "      <td>0.253092</td>\n",
       "      <td>0.913510</td>\n",
       "    </tr>\n",
       "    <tr>\n",
       "      <th>1</th>\n",
       "      <td>-0.892499</td>\n",
       "      <td>0.006494</td>\n",
       "      <td>-0.989010</td>\n",
       "      <td>0.830077</td>\n",
       "    </tr>\n",
       "    <tr>\n",
       "      <th>2</th>\n",
       "      <td>0.268868</td>\n",
       "      <td>0.742257</td>\n",
       "      <td>-0.393991</td>\n",
       "      <td>-0.320043</td>\n",
       "    </tr>\n",
       "    <tr>\n",
       "      <th>3</th>\n",
       "      <td>0.157689</td>\n",
       "      <td>1.064509</td>\n",
       "      <td>-0.806349</td>\n",
       "      <td>-0.658130</td>\n",
       "    </tr>\n",
       "    <tr>\n",
       "      <th>4</th>\n",
       "      <td>-0.221192</td>\n",
       "      <td>-0.310691</td>\n",
       "      <td>1.026929</td>\n",
       "      <td>1.483695</td>\n",
       "    </tr>\n",
       "    <tr>\n",
       "      <th>...</th>\n",
       "      <td>...</td>\n",
       "      <td>...</td>\n",
       "      <td>...</td>\n",
       "      <td>...</td>\n",
       "    </tr>\n",
       "    <tr>\n",
       "      <th>95</th>\n",
       "      <td>-0.298128</td>\n",
       "      <td>0.330751</td>\n",
       "      <td>-2.103844</td>\n",
       "      <td>1.704920</td>\n",
       "    </tr>\n",
       "    <tr>\n",
       "      <th>96</th>\n",
       "      <td>0.719616</td>\n",
       "      <td>0.592571</td>\n",
       "      <td>0.680810</td>\n",
       "      <td>-0.405947</td>\n",
       "    </tr>\n",
       "    <tr>\n",
       "      <th>97</th>\n",
       "      <td>-0.988715</td>\n",
       "      <td>1.635235</td>\n",
       "      <td>-0.350201</td>\n",
       "      <td>-2.217239</td>\n",
       "    </tr>\n",
       "    <tr>\n",
       "      <th>98</th>\n",
       "      <td>-1.285883</td>\n",
       "      <td>0.476557</td>\n",
       "      <td>-1.113547</td>\n",
       "      <td>1.104506</td>\n",
       "    </tr>\n",
       "    <tr>\n",
       "      <th>99</th>\n",
       "      <td>-0.656752</td>\n",
       "      <td>-1.199649</td>\n",
       "      <td>0.798476</td>\n",
       "      <td>0.134681</td>\n",
       "    </tr>\n",
       "  </tbody>\n",
       "</table>\n",
       "<p>100 rows × 4 columns</p>\n",
       "</div>"
      ],
      "text/plain": [
       "           A         B         C         D\n",
       "0  -1.334454  0.141152  0.253092  0.913510\n",
       "1  -0.892499  0.006494 -0.989010  0.830077\n",
       "2   0.268868  0.742257 -0.393991 -0.320043\n",
       "3   0.157689  1.064509 -0.806349 -0.658130\n",
       "4  -0.221192 -0.310691  1.026929  1.483695\n",
       "..       ...       ...       ...       ...\n",
       "95 -0.298128  0.330751 -2.103844  1.704920\n",
       "96  0.719616  0.592571  0.680810 -0.405947\n",
       "97 -0.988715  1.635235 -0.350201 -2.217239\n",
       "98 -1.285883  0.476557 -1.113547  1.104506\n",
       "99 -0.656752 -1.199649  0.798476  0.134681\n",
       "\n",
       "[100 rows x 4 columns]"
      ]
     },
     "execution_count": 10,
     "metadata": {},
     "output_type": "execute_result"
    }
   ],
   "source": [
    "df"
   ]
  },
  {
   "cell_type": "code",
   "execution_count": 11,
   "metadata": {},
   "outputs": [],
   "source": [
    "df2 = pd.DataFrame({'Category': ['A', 'B', 'C'], 'Values':[32, 43, 50]})"
   ]
  },
  {
   "cell_type": "code",
   "execution_count": 12,
   "metadata": {},
   "outputs": [
    {
     "data": {
      "text/html": [
       "<div>\n",
       "<style scoped>\n",
       "    .dataframe tbody tr th:only-of-type {\n",
       "        vertical-align: middle;\n",
       "    }\n",
       "\n",
       "    .dataframe tbody tr th {\n",
       "        vertical-align: top;\n",
       "    }\n",
       "\n",
       "    .dataframe thead th {\n",
       "        text-align: right;\n",
       "    }\n",
       "</style>\n",
       "<table border=\"1\" class=\"dataframe\">\n",
       "  <thead>\n",
       "    <tr style=\"text-align: right;\">\n",
       "      <th></th>\n",
       "      <th>Category</th>\n",
       "      <th>Values</th>\n",
       "    </tr>\n",
       "  </thead>\n",
       "  <tbody>\n",
       "    <tr>\n",
       "      <th>0</th>\n",
       "      <td>A</td>\n",
       "      <td>32</td>\n",
       "    </tr>\n",
       "    <tr>\n",
       "      <th>1</th>\n",
       "      <td>B</td>\n",
       "      <td>43</td>\n",
       "    </tr>\n",
       "    <tr>\n",
       "      <th>2</th>\n",
       "      <td>C</td>\n",
       "      <td>50</td>\n",
       "    </tr>\n",
       "  </tbody>\n",
       "</table>\n",
       "</div>"
      ],
      "text/plain": [
       "  Category  Values\n",
       "0        A      32\n",
       "1        B      43\n",
       "2        C      50"
      ]
     },
     "execution_count": 12,
     "metadata": {},
     "output_type": "execute_result"
    }
   ],
   "source": [
    "df2"
   ]
  },
  {
   "cell_type": "code",
   "execution_count": 13,
   "metadata": {},
   "outputs": [],
   "source": [
    "%matplotlib inline"
   ]
  },
  {
   "cell_type": "code",
   "execution_count": 14,
   "metadata": {},
   "outputs": [
    {
     "data": {
      "text/plain": [
       "<matplotlib.axes._subplots.AxesSubplot at 0x1933aa36348>"
      ]
     },
     "execution_count": 14,
     "metadata": {},
     "output_type": "execute_result"
    },
    {
     "data": {
      "image/png": "[encoded data removed]",
      "text/plain": [
       "<Figure size 432x288 with 1 Axes>"
      ]
     },
     "metadata": {
      "needs_background": "light"
     },
     "output_type": "display_data"
    }
   ],
   "source": [
    "df.plot()"
   ]
  },
  {
   "cell_type": "code",
   "execution_count": 15,
   "metadata": {},
   "outputs": [
    {
     "data": {
      "application/vnd.plotly.v1+json": {
       "config": {
        "linkText": "Export to plot.ly",
        "plotlyServerURL": "https://plot.ly",
        "showLink": true
       },
       "data": [
        {
         "line": {
          "color": "rgba(255, 153, 51, 1.0)",
          "dash": "solid",
          "shape": "linear",
          "width": 1.3
         },
         "mode": "lines",
         "name": "A",
         "text": "",
         "type": "scatter",
         "x": [
          0,
          1,
          2,
          3,
          4,
          5,
          6,
          7,
          8,
          9,
          10,
          11,
          12,
          13,
          14,
          15,
          16,
          17,
          18,
          19,
          20,
          21,
          22,
          23,
          24,
          25,
          26,
          27,
          28,
          29,
          30,
          31,
          32,
          33,
          34,
          35,
          36,
          37,
          38,
          39,
          40,
          41,
          42,
          43,
          44,
          45,
          46,
          47,
          48,
          49,
          50,
          51,
          52,
          53,
          54,
          55,
          56,
          57,
          58,
          59,
          60,
          61,
          62,
          63,
          64,
          65,
          66,
          67,
          68,
          69,
          70,
          71,
          72,
          73,
          74,
          75,
          76,
          77,
          78,
          79,
          80,
          81,
          82,
          83,
          84,
          85,
          86,
          87,
          88,
          89,
          90,
          91,
          92,
          93,
          94,
          95,
          96,
          97,
          98,
          99
         ],
         "y": [
          -1.3344538032223674,
          -0.8924994259218787,
          0.26886804372886924,
          0.15768862475176948,
          -0.22119158008310583,
          0.4620509340031127,
          2.4335083818309733,
          0.6283138878570738,
          0.5916528935640983,
          -1.107880473845743,
          -0.9624677212340109,
          -2.0455267244571513,
          0.0909847865615543,
          0.3952627572504107,
          0.4419932489725158,
          -0.4226953551742026,
          0.06289069744869118,
          -0.7006193989648868,
          -1.083720431567451,
          -1.060865658791126,
          -0.09081056338239148,
          -0.9353209782547409,
          0.3589422148729274,
          -1.7868990461486924,
          -0.745064837314155,
          1.6890846798067614,
          -0.1583008202058165,
          -0.2393581360509466,
          -0.3591360207502799,
          0.08032986483476401,
          -1.0175142609752241,
          -1.5016700621947336,
          1.0074806858167047,
          0.6986590715947596,
          -2.588343670560577,
          1.6081822850576204,
          -0.22914040070541067,
          -0.5293183734964289,
          0.08222597405486373,
          -1.4699631892936766,
          -1.7930767125550209,
          -0.8790112806279785,
          -1.169373718837128,
          0.1384087066882726,
          -1.0214761584041196,
          -0.04441846576227683,
          0.39667629555448003,
          0.20222543201121596,
          -1.2020756242009765,
          -1.0165590854073892,
          0.46592468153875083,
          0.31916647378233987,
          -1.7589705686927102,
          -0.19469290293284697,
          -0.017517836703771206,
          -1.0825926071297598,
          0.8868635912852298,
          1.5313879689211365,
          -0.8832920419908965,
          1.0771696646288276,
          0.4214819723313268,
          0.512096106061291,
          -0.5765759849025575,
          0.11538594660067654,
          -1.1688312935731027,
          0.6842055251828377,
          0.22219602704027291,
          -0.5744307101478267,
          0.6367232205179054,
          0.6191256148390696,
          1.8834084468543921,
          -0.019136677575396017,
          -1.1087586253663548,
          -0.09033572122028868,
          1.4938373325772583,
          -0.4050399181262893,
          -1.7460005036504043,
          -0.874792619992864,
          1.3994180541184202,
          0.799905796022181,
          1.274938101349231,
          0.2394547792737676,
          -1.577915260135125,
          0.1213707929995456,
          0.13672512118700048,
          -0.6331153406325125,
          0.8242219198301328,
          0.11707874435192542,
          0.7436012566066985,
          -1.6258384419836545,
          -0.03584548827872644,
          0.08944783921389679,
          0.578477924074061,
          0.7299558400202367,
          0.08093456386569041,
          -0.2981280006647906,
          0.7196159948359657,
          -0.9887151828728751,
          -1.2858827698631239,
          -0.6567521716175984
         ]
        },
        {
         "line": {
          "color": "rgba(55, 128, 191, 1.0)",
          "dash": "solid",
          "shape": "linear",
          "width": 1.3
         },
         "mode": "lines",
         "name": "B",
         "text": "",
         "type": "scatter",
         "x": [
          0,
          1,
          2,
          3,
          4,
          5,
          6,
          7,
          8,
          9,
          10,
          11,
          12,
          13,
          14,
          15,
          16,
          17,
          18,
          19,
          20,
          21,
          22,
          23,
          24,
          25,
          26,
          27,
          28,
          29,
          30,
          31,
          32,
          33,
          34,
          35,
          36,
          37,
          38,
          39,
          40,
          41,
          42,
          43,
          44,
          45,
          46,
          47,
          48,
          49,
          50,
          51,
          52,
          53,
          54,
          55,
          56,
          57,
          58,
          59,
          60,
          61,
          62,
          63,
          64,
          65,
          66,
          67,
          68,
          69,
          70,
          71,
          72,
          73,
          74,
          75,
          76,
          77,
          78,
          79,
          80,
          81,
          82,
          83,
          84,
          85,
          86,
          87,
          88,
          89,
          90,
          91,
          92,
          93,
          94,
          95,
          96,
          97,
          98,
          99
         ],
         "y": [
          0.14115223110497468,
          0.0064944644833475305,
          0.7422571167780311,
          1.0645093771659695,
          -0.3106905288382996,
          0.9105427572688288,
          0.6103120706936248,
          0.9859342503407027,
          -1.3935904672907908,
          0.5691387823512065,
          0.6619116415384811,
          1.6926025880928388,
          -0.6199815554999915,
          -0.08994976033741052,
          1.0750757711471672,
          0.9473855422854135,
          -0.9659146731795786,
          -0.8563163114136054,
          0.40461905434576567,
          -0.352421659367107,
          -0.17570731026437184,
          -0.9037477548119306,
          -0.02350852517774842,
          0.05092474675920466,
          1.043949946154262,
          -2.4490346466295554,
          0.33014417054208783,
          -2.2514329386378424,
          0.13653096809477527,
          0.27854119209137806,
          0.12084021939900245,
          -0.22910722021751045,
          0.8157967113919772,
          0.843764373253457,
          -0.1426121926871968,
          -0.5483486869724357,
          0.2608490671514323,
          -0.26372400914740446,
          0.8194095519733929,
          -0.270587376920324,
          -0.7737009584318266,
          -1.8472980629037679,
          -0.7082294452695416,
          0.41190023363389006,
          -0.05569757355731567,
          -0.8395179440475853,
          1.237960335845157,
          0.09429165095844295,
          0.8444303425008042,
          1.0941573273460798,
          0.5004607034246967,
          -1.2380236960978572,
          -0.5299553544779251,
          -2.401224423159397,
          -1.533248329403312,
          -0.17338990000742058,
          -1.303044209950965,
          0.15434110478985552,
          -0.014923617770171496,
          2.2196598208911857,
          -0.22823646275445944,
          -0.2495367783710828,
          -0.08131270339267661,
          1.9699500613792806,
          -1.188690274209095,
          0.8832334729754634,
          2.09273443955495,
          -1.0036519160375525,
          -0.7060680965281807,
          -0.23968689244003327,
          0.163276759185642,
          -0.686450971672635,
          -0.30631556602327387,
          -0.08707637532852806,
          -0.5228852910421682,
          -0.7172234514173806,
          -0.29517886902307716,
          -0.20458324362180894,
          -1.462710827625806,
          1.4670598502699281,
          0.8479039242641055,
          -1.9986453717747588,
          -0.6388634514624134,
          0.28169086802838134,
          -0.7770575057522737,
          0.04592948766882219,
          -1.0942302497431726,
          0.9789185809599306,
          -0.46129486343229453,
          -0.40833102173104213,
          1.227531863543337,
          -0.37368070911341755,
          -0.45808425613661174,
          0.7934113176984202,
          -1.500505747410543,
          0.3307505779477316,
          0.5925706519046703,
          1.635234820387899,
          0.4765566163310391,
          -1.1996493035445714
         ]
        },
        {
         "line": {
          "color": "rgba(50, 171, 96, 1.0)",
          "dash": "solid",
          "shape": "linear",
          "width": 1.3
         },
         "mode": "lines",
         "name": "C",
         "text": "",
         "type": "scatter",
         "x": [
          0,
          1,
          2,
          3,
          4,
          5,
          6,
          7,
          8,
          9,
          10,
          11,
          12,
          13,
          14,
          15,
          16,
          17,
          18,
          19,
          20,
          21,
          22,
          23,
          24,
          25,
          26,
          27,
          28,
          29,
          30,
          31,
          32,
          33,
          34,
          35,
          36,
          37,
          38,
          39,
          40,
          41,
          42,
          43,
          44,
          45,
          46,
          47,
          48,
          49,
          50,
          51,
          52,
          53,
          54,
          55,
          56,
          57,
          58,
          59,
          60,
          61,
          62,
          63,
          64,
          65,
          66,
          67,
          68,
          69,
          70,
          71,
          72,
          73,
          74,
          75,
          76,
          77,
          78,
          79,
          80,
          81,
          82,
          83,
          84,
          85,
          86,
          87,
          88,
          89,
          90,
          91,
          92,
          93,
          94,
          95,
          96,
          97,
          98,
          99
         ],
         "y": [
          0.2530917113271322,
          -0.9890104346964195,
          -0.39399061015526105,
          -0.806349443728782,
          1.0269292755252677,
          -0.5765171906888962,
          1.595271012716274,
          0.5963187126316164,
          -1.4502231149363887,
          -0.4112895787635489,
          1.8019109475952786,
          -0.0918095648497734,
          0.7627425581289289,
          -0.21914522192757702,
          -0.2926509630327127,
          -0.6971203406836002,
          -0.5468277875916475,
          -0.7331471279589682,
          0.7182673562773526,
          -1.1734544133177471,
          -1.474992929667637,
          0.8683397659408032,
          0.35905053100282663,
          0.2292625916257633,
          -0.6967589269149497,
          -0.48177822080743415,
          -0.9222113134634797,
          1.2461523735545468,
          1.5046599491507222,
          0.92261259229617,
          0.06195593412560095,
          1.3501517219540615,
          -0.1962592516509624,
          -1.5236450780327122,
          0.07013849426944149,
          -1.0175226875210754,
          -1.967895625772992,
          1.181703711464979,
          -0.5678600438042352,
          0.6595631355626677,
          -0.34433448425807334,
          -0.20307368400259568,
          -0.54553609386368,
          -1.6769241078819122,
          0.6757788510129932,
          0.8258212450642957,
          -0.350307561972649,
          1.2574260935280994,
          1.3359166977975272,
          -2.043068859179839,
          -0.519474178200342,
          0.20599050286675058,
          -1.651846473593329,
          0.31113593378343907,
          -0.49987751408599584,
          0.3888705685375426,
          -1.506532134549189,
          0.14568265358322754,
          0.6887695472572651,
          0.24988829811863322,
          -0.08825695195704542,
          0.5420044701977272,
          -0.849556723826802,
          -0.2921489315869297,
          0.5073892089994784,
          -0.3683131455091124,
          1.1933559825006401,
          0.01849527309794985,
          -0.8311877135581195,
          -0.903773590381288,
          -0.3148140662690922,
          1.964400161863338,
          -1.581092584064821,
          -0.07324715397940061,
          0.1485008590973546,
          0.9057581978437469,
          -0.618261773342376,
          0.6330497758753028,
          -0.13553713399477593,
          0.12943801352764087,
          0.9031247247539765,
          1.446838737665481,
          1.477826912335126,
          -1.1763939428341526,
          0.9995732717882453,
          -0.12423940048829445,
          -1.1013294246687177,
          -0.17903286619989758,
          -0.04605668442365374,
          1.89833634590754,
          0.038807438640817114,
          -0.8161127075991621,
          -0.9456418183483448,
          0.17419248814889204,
          0.1405198689364899,
          -2.1038438209599977,
          0.6808095514690816,
          -0.35020137419082026,
          -1.113547234381775,
          0.7984763692018992
         ]
        },
        {
         "line": {
          "color": "rgba(128, 0, 128, 1.0)",
          "dash": "solid",
          "shape": "linear",
          "width": 1.3
         },
         "mode": "lines",
         "name": "D",
         "text": "",
         "type": "scatter",
         "x": [
          0,
          1,
          2,
          3,
          4,
          5,
          6,
          7,
          8,
          9,
          10,
          11,
          12,
          13,
          14,
          15,
          16,
          17,
          18,
          19,
          20,
          21,
          22,
          23,
          24,
          25,
          26,
          27,
          28,
          29,
          30,
          31,
          32,
          33,
          34,
          35,
          36,
          37,
          38,
          39,
          40,
          41,
          42,
          43,
          44,
          45,
          46,
          47,
          48,
          49,
          50,
          51,
          52,
          53,
          54,
          55,
          56,
          57,
          58,
          59,
          60,
          61,
          62,
          63,
          64,
          65,
          66,
          67,
          68,
          69,
          70,
          71,
          72,
          73,
          74,
          75,
          76,
          77,
          78,
          79,
          80,
          81,
          82,
          83,
          84,
          85,
          86,
          87,
          88,
          89,
          90,
          91,
          92,
          93,
          94,
          95,
          96,
          97,
          98,
          99
         ],
         "y": [
          0.9135095511270055,
          0.8300768819790462,
          -0.32004306346453193,
          -0.6581296286650561,
          1.4836945505803925,
          1.0270586035577867,
          -0.9859497561904975,
          1.5701847583308441,
          1.0689501999873456,
          0.27469367698909647,
          0.802179541436546,
          0.28884337018785844,
          -0.7434532905448736,
          0.27274012450951335,
          -1.2859035819950417,
          1.4733751166997981,
          -1.448170024930766,
          0.6387142479829242,
          0.10544400953620241,
          -1.2102928294002335,
          -0.24276755640050543,
          -0.8963604076627338,
          0.22887388670666756,
          0.7055734686513757,
          -0.11357563100775599,
          0.9252196163749348,
          1.058228680287137,
          0.25047384372673487,
          1.1653344926210953,
          0.15865317944084573,
          1.3866504724146873,
          1.6689296985913067,
          -0.8134044689759502,
          0.6487187769518447,
          -0.8052091624301895,
          2.0326603507057137,
          0.1073820460355707,
          0.4071162529196392,
          -0.5750653685166855,
          -0.6315805871754341,
          0.5418712272596757,
          -1.1306708673810189,
          -1.118714709363381,
          -0.4401647702306003,
          -0.8061306367639891,
          -1.197345475413853,
          -1.0068972492704373,
          -0.17817852999860212,
          0.639369678595348,
          1.013703991356466,
          -0.23922158717259134,
          1.4633201945065708,
          1.3800134011897498,
          0.2247267573806439,
          0.49163132075695115,
          -0.10828728589737688,
          1.1069484290607003,
          -1.2288487448834053,
          0.1754650161188707,
          0.7507986272132572,
          -0.20081391988588704,
          -0.6226641921427002,
          -0.16735697752048215,
          -0.38524578546611754,
          -0.5355048393729672,
          -0.34164985540023096,
          -0.2774104723203889,
          -0.2584209934005529,
          -0.3814423922234519,
          0.3257577500486821,
          0.6434080629177568,
          0.66077107797274,
          0.3637986673716947,
          -0.09214981424928291,
          0.5276787296850053,
          -1.0338595767059349,
          -0.21097706924663143,
          0.8984944691691217,
          0.0820970582758034,
          0.11562641623887104,
          0.10032385906751383,
          -0.6503813578923999,
          -0.055876884880289614,
          -0.8571822962027709,
          0.615500073921127,
          -1.3194434776149946,
          2.0925297421943623,
          0.9410652730595865,
          -3.673307455724263,
          -0.1572986034633572,
          -0.47613933558282523,
          0.8539426335428666,
          -0.23704464026201616,
          0.6063597785257324,
          -0.6518794725049938,
          1.7049202285082419,
          -0.4059466352822378,
          -2.217238611239522,
          1.1045060637619017,
          0.13468126793607563
         ]
        }
       ],
       "layout": {
        "legend": {
         "bgcolor": "#F5F6F9",
         "font": {
          "color": "#4D5663"
         }
        },
        "paper_bgcolor": "#F5F6F9",
        "plot_bgcolor": "#F5F6F9",
        "template": {
         "data": {
          "bar": [
           {
            "error_x": {
             "color": "#2a3f5f"
            },
            "error_y": {
             "color": "#2a3f5f"
            },
            "marker": {
             "line": {
              "color": "#E5ECF6",
              "width": 0.5
             }
            },
            "type": "bar"
           }
          ],
          "barpolar": [
           {
            "marker": {
             "line": {
              "color": "#E5ECF6",
              "width": 0.5
             }
            },
            "type": "barpolar"
           }
          ],
          "carpet": [
           {
            "aaxis": {
             "endlinecolor": "#2a3f5f",
             "gridcolor": "white",
             "linecolor": "white",
             "minorgridcolor": "white",
             "startlinecolor": "#2a3f5f"
            },
            "baxis": {
             "endlinecolor": "#2a3f5f",
             "gridcolor": "white",
             "linecolor": "white",
             "minorgridcolor": "white",
             "startlinecolor": "#2a3f5f"
            },
            "type": "carpet"
           }
          ],
          "choropleth": [
           {
            "colorbar": {
             "outlinewidth": 0,
             "ticks": ""
            },
            "type": "choropleth"
           }
          ],
          "contour": [
           {
            "colorbar": {
             "outlinewidth": 0,
             "ticks": ""
            },
            "colorscale": [
             [
              0,
              "#0d0887"
             ],
             [
              0.1111111111111111,
              "#46039f"
             ],
             [
              0.2222222222222222,
              "#7201a8"
             ],
             [
              0.3333333333333333,
              "#9c179e"
             ],
             [
              0.4444444444444444,
              "#bd3786"
             ],
             [
              0.5555555555555556,
              "#d8576b"
             ],
             [
              0.6666666666666666,
              "#ed7953"
             ],
             [
              0.7777777777777778,
              "#fb9f3a"
             ],
             [
              0.8888888888888888,
              "#fdca26"
             ],
             [
              1,
              "#f0f921"
             ]
            ],
            "type": "contour"
           }
          ],
          "contourcarpet": [
           {
            "colorbar": {
             "outlinewidth": 0,
             "ticks": ""
            },
            "type": "contourcarpet"
           }
          ],
          "heatmap": [
           {
            "colorbar": {
             "outlinewidth": 0,
             "ticks": ""
            },
            "colorscale": [
             [
              0,
              "#0d0887"
             ],
             [
              0.1111111111111111,
              "#46039f"
             ],
             [
              0.2222222222222222,
              "#7201a8"
             ],
             [
              0.3333333333333333,
              "#9c179e"
             ],
             [
              0.4444444444444444,
              "#bd3786"
             ],
             [
              0.5555555555555556,
              "#d8576b"
             ],
             [
              0.6666666666666666,
              "#ed7953"
             ],
             [
              0.7777777777777778,
              "#fb9f3a"
             ],
             [
              0.8888888888888888,
              "#fdca26"
             ],
             [
              1,
              "#f0f921"
             ]
            ],
            "type": "heatmap"
           }
          ],
          "heatmapgl": [
           {
            "colorbar": {
             "outlinewidth": 0,
             "ticks": ""
            },
            "colorscale": [
             [
              0,
              "#0d0887"
             ],
             [
              0.1111111111111111,
              "#46039f"
             ],
             [
              0.2222222222222222,
              "#7201a8"
             ],
             [
              0.3333333333333333,
              "#9c179e"
             ],
             [
              0.4444444444444444,
              "#bd3786"
             ],
             [
              0.5555555555555556,
              "#d8576b"
             ],
             [
              0.6666666666666666,
              "#ed7953"
             ],
             [
              0.7777777777777778,
              "#fb9f3a"
             ],
             [
              0.8888888888888888,
              "#fdca26"
             ],
             [
              1,
              "#f0f921"
             ]
            ],
            "type": "heatmapgl"
           }
          ],
          "histogram": [
           {
            "marker": {
             "colorbar": {
              "outlinewidth": 0,
              "ticks": ""
             }
            },
            "type": "histogram"
           }
          ],
          "histogram2d": [
           {
            "colorbar": {
             "outlinewidth": 0,
             "ticks": ""
            },
            "colorscale": [
             [
              0,
              "#0d0887"
             ],
             [
              0.1111111111111111,
              "#46039f"
             ],
             [
              0.2222222222222222,
              "#7201a8"
             ],
             [
              0.3333333333333333,
              "#9c179e"
             ],
             [
              0.4444444444444444,
              "#bd3786"
             ],
             [
              0.5555555555555556,
              "#d8576b"
             ],
             [
              0.6666666666666666,
              "#ed7953"
             ],
             [
              0.7777777777777778,
              "#fb9f3a"
             ],
             [
              0.8888888888888888,
              "#fdca26"
             ],
             [
              1,
              "#f0f921"
             ]
            ],
            "type": "histogram2d"
           }
          ],
          "histogram2dcontour": [
           {
            "colorbar": {
             "outlinewidth": 0,
             "ticks": ""
            },
            "colorscale": [
             [
              0,
              "#0d0887"
             ],
             [
              0.1111111111111111,
              "#46039f"
             ],
             [
              0.2222222222222222,
              "#7201a8"
             ],
             [
              0.3333333333333333,
              "#9c179e"
             ],
             [
              0.4444444444444444,
              "#bd3786"
             ],
             [
              0.5555555555555556,
              "#d8576b"
             ],
             [
              0.6666666666666666,
              "#ed7953"
             ],
             [
              0.7777777777777778,
              "#fb9f3a"
             ],
             [
              0.8888888888888888,
              "#fdca26"
             ],
             [
              1,
              "#f0f921"
             ]
            ],
            "type": "histogram2dcontour"
           }
          ],
          "mesh3d": [
           {
            "colorbar": {
             "outlinewidth": 0,
             "ticks": ""
            },
            "type": "mesh3d"
           }
          ],
          "parcoords": [
           {
            "line": {
             "colorbar": {
              "outlinewidth": 0,
              "ticks": ""
             }
            },
            "type": "parcoords"
           }
          ],
          "pie": [
           {
            "automargin": true,
            "type": "pie"
           }
          ],
          "scatter": [
           {
            "marker": {
             "colorbar": {
              "outlinewidth": 0,
              "ticks": ""
             }
            },
            "type": "scatter"
           }
          ],
          "scatter3d": [
           {
            "line": {
             "colorbar": {
              "outlinewidth": 0,
              "ticks": ""
             }
            },
            "marker": {
             "colorbar": {
              "outlinewidth": 0,
              "ticks": ""
             }
            },
            "type": "scatter3d"
           }
          ],
          "scattercarpet": [
           {
            "marker": {
             "colorbar": {
              "outlinewidth": 0,
              "ticks": ""
             }
            },
            "type": "scattercarpet"
           }
          ],
          "scattergeo": [
           {
            "marker": {
             "colorbar": {
              "outlinewidth": 0,
              "ticks": ""
             }
            },
            "type": "scattergeo"
           }
          ],
          "scattergl": [
           {
            "marker": {
             "colorbar": {
              "outlinewidth": 0,
              "ticks": ""
             }
            },
            "type": "scattergl"
           }
          ],
          "scattermapbox": [
           {
            "marker": {
             "colorbar": {
              "outlinewidth": 0,
              "ticks": ""
             }
            },
            "type": "scattermapbox"
           }
          ],
          "scatterpolar": [
           {
            "marker": {
             "colorbar": {
              "outlinewidth": 0,
              "ticks": ""
             }
            },
            "type": "scatterpolar"
           }
          ],
          "scatterpolargl": [
           {
            "marker": {
             "colorbar": {
              "outlinewidth": 0,
              "ticks": ""
             }
            },
            "type": "scatterpolargl"
           }
          ],
          "scatterternary": [
           {
            "marker": {
             "colorbar": {
              "outlinewidth": 0,
              "ticks": ""
             }
            },
            "type": "scatterternary"
           }
          ],
          "surface": [
           {
            "colorbar": {
             "outlinewidth": 0,
             "ticks": ""
            },
            "colorscale": [
             [
              0,
              "#0d0887"
             ],
             [
              0.1111111111111111,
              "#46039f"
             ],
             [
              0.2222222222222222,
              "#7201a8"
             ],
             [
              0.3333333333333333,
              "#9c179e"
             ],
             [
              0.4444444444444444,
              "#bd3786"
             ],
             [
              0.5555555555555556,
              "#d8576b"
             ],
             [
              0.6666666666666666,
              "#ed7953"
             ],
             [
              0.7777777777777778,
              "#fb9f3a"
             ],
             [
              0.8888888888888888,
              "#fdca26"
             ],
             [
              1,
              "#f0f921"
             ]
            ],
            "type": "surface"
           }
          ],
          "table": [
           {
            "cells": {
             "fill": {
              "color": "#EBF0F8"
             },
             "line": {
              "color": "white"
             }
            },
            "header": {
             "fill": {
              "color": "#C8D4E3"
             },
             "line": {
              "color": "white"
             }
            },
            "type": "table"
           }
          ]
         },
         "layout": {
          "annotationdefaults": {
           "arrowcolor": "#2a3f5f",
           "arrowhead": 0,
           "arrowwidth": 1
          },
          "autotypenumbers": "strict",
          "coloraxis": {
           "colorbar": {
            "outlinewidth": 0,
            "ticks": ""
           }
          },
          "colorscale": {
           "diverging": [
            [
             0,
             "#8e0152"
            ],
            [
             0.1,
             "#c51b7d"
            ],
            [
             0.2,
             "#de77ae"
            ],
            [
             0.3,
             "#f1b6da"
            ],
            [
             0.4,
             "#fde0ef"
            ],
            [
             0.5,
             "#f7f7f7"
            ],
            [
             0.6,
             "#e6f5d0"
            ],
            [
             0.7,
             "#b8e186"
            ],
            [
             0.8,
             "#7fbc41"
            ],
            [
             0.9,
             "#4d9221"
            ],
            [
             1,
             "#276419"
            ]
           ],
           "sequential": [
            [
             0,
             "#0d0887"
            ],
            [
             0.1111111111111111,
             "#46039f"
            ],
            [
             0.2222222222222222,
             "#7201a8"
            ],
            [
             0.3333333333333333,
             "#9c179e"
            ],
            [
             0.4444444444444444,
             "#bd3786"
            ],
            [
             0.5555555555555556,
             "#d8576b"
            ],
            [
             0.6666666666666666,
             "#ed7953"
            ],
            [
             0.7777777777777778,
             "#fb9f3a"
            ],
            [
             0.8888888888888888,
             "#fdca26"
            ],
            [
             1,
             "#f0f921"
            ]
           ],
           "sequentialminus": [
            [
             0,
             "#0d0887"
            ],
            [
             0.1111111111111111,
             "#46039f"
            ],
            [
             0.2222222222222222,
             "#7201a8"
            ],
            [
             0.3333333333333333,
             "#9c179e"
            ],
            [
             0.4444444444444444,
             "#bd3786"
            ],
            [
             0.5555555555555556,
             "#d8576b"
            ],
            [
             0.6666666666666666,
             "#ed7953"
            ],
            [
             0.7777777777777778,
             "#fb9f3a"
            ],
            [
             0.8888888888888888,
             "#fdca26"
            ],
            [
             1,
             "#f0f921"
            ]
           ]
          },
          "colorway": [
           "#636efa",
           "#EF553B",
           "#00cc96",
           "#ab63fa",
           "#FFA15A",
           "#19d3f3",
           "#FF6692",
           "#B6E880",
           "#FF97FF",
           "#FECB52"
          ],
          "font": {
           "color": "#2a3f5f"
          },
          "geo": {
           "bgcolor": "white",
           "lakecolor": "white",
           "landcolor": "#E5ECF6",
           "showlakes": true,
           "showland": true,
           "subunitcolor": "white"
          },
          "hoverlabel": {
           "align": "left"
          },
          "hovermode": "closest",
          "mapbox": {
           "style": "light"
          },
          "paper_bgcolor": "white",
          "plot_bgcolor": "#E5ECF6",
          "polar": {
           "angularaxis": {
            "gridcolor": "white",
            "linecolor": "white",
            "ticks": ""
           },
           "bgcolor": "#E5ECF6",
           "radialaxis": {
            "gridcolor": "white",
            "linecolor": "white",
            "ticks": ""
           }
          },
          "scene": {
           "xaxis": {
            "backgroundcolor": "#E5ECF6",
            "gridcolor": "white",
            "gridwidth": 2,
            "linecolor": "white",
            "showbackground": true,
            "ticks": "",
            "zerolinecolor": "white"
           },
           "yaxis": {
            "backgroundcolor": "#E5ECF6",
            "gridcolor": "white",
            "gridwidth": 2,
            "linecolor": "white",
            "showbackground": true,
            "ticks": "",
            "zerolinecolor": "white"
           },
           "zaxis": {
            "backgroundcolor": "#E5ECF6",
            "gridcolor": "white",
            "gridwidth": 2,
            "linecolor": "white",
            "showbackground": true,
            "ticks": "",
            "zerolinecolor": "white"
           }
          },
          "shapedefaults": {
           "line": {
            "color": "#2a3f5f"
           }
          },
          "ternary": {
           "aaxis": {
            "gridcolor": "white",
            "linecolor": "white",
            "ticks": ""
           },
           "baxis": {
            "gridcolor": "white",
            "linecolor": "white",
            "ticks": ""
           },
           "bgcolor": "#E5ECF6",
           "caxis": {
            "gridcolor": "white",
            "linecolor": "white",
            "ticks": ""
           }
          },
          "title": {
           "x": 0.05
          },
          "xaxis": {
           "automargin": true,
           "gridcolor": "white",
           "linecolor": "white",
           "ticks": "",
           "title": {
            "standoff": 15
           },
           "zerolinecolor": "white",
           "zerolinewidth": 2
          },
          "yaxis": {
           "automargin": true,
           "gridcolor": "white",
           "linecolor": "white",
           "ticks": "",
           "title": {
            "standoff": 15
           },
           "zerolinecolor": "white",
           "zerolinewidth": 2
          }
         }
        },
        "title": {
         "font": {
          "color": "#4D5663"
         }
        },
        "xaxis": {
         "gridcolor": "#E1E5ED",
         "showgrid": true,
         "tickfont": {
          "color": "#4D5663"
         },
         "title": {
          "font": {
           "color": "#4D5663"
          },
          "text": ""
         },
         "zerolinecolor": "#E1E5ED"
        },
        "yaxis": {
         "gridcolor": "#E1E5ED",
         "showgrid": true,
         "tickfont": {
          "color": "#4D5663"
         },
         "title": {
          "font": {
           "color": "#4D5663"
          },
          "text": ""
         },
         "zerolinecolor": "#E1E5ED"
        }
       }
      },
      "text/html": [
       "<div>                            <div id=\"f27590b5-050f-48b5-be11-fbc7e09042b8\" class=\"plotly-graph-div\" style=\"height:525px; width:100%;\"></div>            <script type=\"text/javascript\">                require([\"plotly\"], function(Plotly) {                    window.PLOTLYENV=window.PLOTLYENV || {};\n",
       "                    window.PLOTLYENV.BASE_URL='https://plot.ly';                                    if (document.getElementById(\"f27590b5-050f-48b5-be11-fbc7e09042b8\")) {                    Plotly.newPlot(                        \"f27590b5-050f-48b5-be11-fbc7e09042b8\",                        [{\"line\": {\"color\": \"rgba(255, 153, 51, 1.0)\", \"dash\": \"solid\", \"shape\": \"linear\", \"width\": 1.3}, \"mode\": \"lines\", \"name\": \"A\", \"text\": \"\", \"type\": \"scatter\", \"x\": [0, 1, 2, 3, 4, 5, 6, 7, 8, 9, 10, 11, 12, 13, 14, 15, 16, 17, 18, 19, 20, 21, 22, 23, 24, 25, 26, 27, 28, 29, 30, 31, 32, 33, 34, 35, 36, 37, 38, 39, 40, 41, 42, 43, 44, 45, 46, 47, 48, 49, 50, 51, 52, 53, 54, 55, 56, 57, 58, 59, 60, 61, 62, 63, 64, 65, 66, 67, 68, 69, 70, 71, 72, 73, 74, 75, 76, 77, 78, 79, 80, 81, 82, 83, 84, 85, 86, 87, 88, 89, 90, 91, 92, 93, 94, 95, 96, 97, 98, 99], \"y\": [-1.3344538032223674, -0.8924994259218787, 0.26886804372886924, 0.15768862475176948, -0.22119158008310583, 0.4620509340031127, 2.4335083818309733, 0.6283138878570738, 0.5916528935640983, -1.107880473845743, -0.9624677212340109, -2.0455267244571513, 0.0909847865615543, 0.3952627572504107, 0.4419932489725158, -0.4226953551742026, 0.06289069744869118, -0.7006193989648868, -1.083720431567451, -1.060865658791126, -0.09081056338239148, -0.9353209782547409, 0.3589422148729274, -1.7868990461486924, -0.745064837314155, 1.6890846798067614, -0.1583008202058165, -0.2393581360509466, -0.3591360207502799, 0.08032986483476401, -1.0175142609752241, -1.5016700621947336, 1.0074806858167047, 0.6986590715947596, -2.588343670560577, 1.6081822850576204, -0.22914040070541067, -0.5293183734964289, 0.08222597405486373, -1.4699631892936766, -1.7930767125550209, -0.8790112806279785, -1.169373718837128, 0.1384087066882726, -1.0214761584041196, -0.04441846576227683, 0.39667629555448003, 0.20222543201121596, -1.2020756242009765, -1.0165590854073892, 0.46592468153875083, 0.31916647378233987, -1.7589705686927102, -0.19469290293284697, -0.017517836703771206, -1.0825926071297598, 0.8868635912852298, 1.5313879689211365, -0.8832920419908965, 1.0771696646288276, 0.4214819723313268, 0.512096106061291, -0.5765759849025575, 0.11538594660067654, -1.1688312935731027, 0.6842055251828377, 0.22219602704027291, -0.5744307101478267, 0.6367232205179054, 0.6191256148390696, 1.8834084468543921, -0.019136677575396017, -1.1087586253663548, -0.09033572122028868, 1.4938373325772583, -0.4050399181262893, -1.7460005036504043, -0.874792619992864, 1.3994180541184202, 0.799905796022181, 1.274938101349231, 0.2394547792737676, -1.577915260135125, 0.1213707929995456, 0.13672512118700048, -0.6331153406325125, 0.8242219198301328, 0.11707874435192542, 0.7436012566066985, -1.6258384419836545, -0.03584548827872644, 0.08944783921389679, 0.578477924074061, 0.7299558400202367, 0.08093456386569041, -0.2981280006647906, 0.7196159948359657, -0.9887151828728751, -1.2858827698631239, -0.6567521716175984]}, {\"line\": {\"color\": \"rgba(55, 128, 191, 1.0)\", \"dash\": \"solid\", \"shape\": \"linear\", \"width\": 1.3}, \"mode\": \"lines\", \"name\": \"B\", \"text\": \"\", \"type\": \"scatter\", \"x\": [0, 1, 2, 3, 4, 5, 6, 7, 8, 9, 10, 11, 12, 13, 14, 15, 16, 17, 18, 19, 20, 21, 22, 23, 24, 25, 26, 27, 28, 29, 30, 31, 32, 33, 34, 35, 36, 37, 38, 39, 40, 41, 42, 43, 44, 45, 46, 47, 48, 49, 50, 51, 52, 53, 54, 55, 56, 57, 58, 59, 60, 61, 62, 63, 64, 65, 66, 67, 68, 69, 70, 71, 72, 73, 74, 75, 76, 77, 78, 79, 80, 81, 82, 83, 84, 85, 86, 87, 88, 89, 90, 91, 92, 93, 94, 95, 96, 97, 98, 99], \"y\": [0.14115223110497468, 0.0064944644833475305, 0.7422571167780311, 1.0645093771659695, -0.3106905288382996, 0.9105427572688288, 0.6103120706936248, 0.9859342503407027, -1.3935904672907908, 0.5691387823512065, 0.6619116415384811, 1.6926025880928388, -0.6199815554999915, -0.08994976033741052, 1.0750757711471672, 0.9473855422854135, -0.9659146731795786, -0.8563163114136054, 0.40461905434576567, -0.352421659367107, -0.17570731026437184, -0.9037477548119306, -0.02350852517774842, 0.05092474675920466, 1.043949946154262, -2.4490346466295554, 0.33014417054208783, -2.2514329386378424, 0.13653096809477527, 0.27854119209137806, 0.12084021939900245, -0.22910722021751045, 0.8157967113919772, 0.843764373253457, -0.1426121926871968, -0.5483486869724357, 0.2608490671514323, -0.26372400914740446, 0.8194095519733929, -0.270587376920324, -0.7737009584318266, -1.8472980629037679, -0.7082294452695416, 0.41190023363389006, -0.05569757355731567, -0.8395179440475853, 1.237960335845157, 0.09429165095844295, 0.8444303425008042, 1.0941573273460798, 0.5004607034246967, -1.2380236960978572, -0.5299553544779251, -2.401224423159397, -1.533248329403312, -0.17338990000742058, -1.303044209950965, 0.15434110478985552, -0.014923617770171496, 2.2196598208911857, -0.22823646275445944, -0.2495367783710828, -0.08131270339267661, 1.9699500613792806, -1.188690274209095, 0.8832334729754634, 2.09273443955495, -1.0036519160375525, -0.7060680965281807, -0.23968689244003327, 0.163276759185642, -0.686450971672635, -0.30631556602327387, -0.08707637532852806, -0.5228852910421682, -0.7172234514173806, -0.29517886902307716, -0.20458324362180894, -1.462710827625806, 1.4670598502699281, 0.8479039242641055, -1.9986453717747588, -0.6388634514624134, 0.28169086802838134, -0.7770575057522737, 0.04592948766882219, -1.0942302497431726, 0.9789185809599306, -0.46129486343229453, -0.40833102173104213, 1.227531863543337, -0.37368070911341755, -0.45808425613661174, 0.7934113176984202, -1.500505747410543, 0.3307505779477316, 0.5925706519046703, 1.635234820387899, 0.4765566163310391, -1.1996493035445714]}, {\"line\": {\"color\": \"rgba(50, 171, 96, 1.0)\", \"dash\": \"solid\", \"shape\": \"linear\", \"width\": 1.3}, \"mode\": \"lines\", \"name\": \"C\", \"text\": \"\", \"type\": \"scatter\", \"x\": [0, 1, 2, 3, 4, 5, 6, 7, 8, 9, 10, 11, 12, 13, 14, 15, 16, 17, 18, 19, 20, 21, 22, 23, 24, 25, 26, 27, 28, 29, 30, 31, 32, 33, 34, 35, 36, 37, 38, 39, 40, 41, 42, 43, 44, 45, 46, 47, 48, 49, 50, 51, 52, 53, 54, 55, 56, 57, 58, 59, 60, 61, 62, 63, 64, 65, 66, 67, 68, 69, 70, 71, 72, 73, 74, 75, 76, 77, 78, 79, 80, 81, 82, 83, 84, 85, 86, 87, 88, 89, 90, 91, 92, 93, 94, 95, 96, 97, 98, 99], \"y\": [0.2530917113271322, -0.9890104346964195, -0.39399061015526105, -0.806349443728782, 1.0269292755252677, -0.5765171906888962, 1.595271012716274, 0.5963187126316164, -1.4502231149363887, -0.4112895787635489, 1.8019109475952786, -0.0918095648497734, 0.7627425581289289, -0.21914522192757702, -0.2926509630327127, -0.6971203406836002, -0.5468277875916475, -0.7331471279589682, 0.7182673562773526, -1.1734544133177471, -1.474992929667637, 0.8683397659408032, 0.35905053100282663, 0.2292625916257633, -0.6967589269149497, -0.48177822080743415, -0.9222113134634797, 1.2461523735545468, 1.5046599491507222, 0.92261259229617, 0.06195593412560095, 1.3501517219540615, -0.1962592516509624, -1.5236450780327122, 0.07013849426944149, -1.0175226875210754, -1.967895625772992, 1.181703711464979, -0.5678600438042352, 0.6595631355626677, -0.34433448425807334, -0.20307368400259568, -0.54553609386368, -1.6769241078819122, 0.6757788510129932, 0.8258212450642957, -0.350307561972649, 1.2574260935280994, 1.3359166977975272, -2.043068859179839, -0.519474178200342, 0.20599050286675058, -1.651846473593329, 0.31113593378343907, -0.49987751408599584, 0.3888705685375426, -1.506532134549189, 0.14568265358322754, 0.6887695472572651, 0.24988829811863322, -0.08825695195704542, 0.5420044701977272, -0.849556723826802, -0.2921489315869297, 0.5073892089994784, -0.3683131455091124, 1.1933559825006401, 0.01849527309794985, -0.8311877135581195, -0.903773590381288, -0.3148140662690922, 1.964400161863338, -1.581092584064821, -0.07324715397940061, 0.1485008590973546, 0.9057581978437469, -0.618261773342376, 0.6330497758753028, -0.13553713399477593, 0.12943801352764087, 0.9031247247539765, 1.446838737665481, 1.477826912335126, -1.1763939428341526, 0.9995732717882453, -0.12423940048829445, -1.1013294246687177, -0.17903286619989758, -0.04605668442365374, 1.89833634590754, 0.038807438640817114, -0.8161127075991621, -0.9456418183483448, 0.17419248814889204, 0.1405198689364899, -2.1038438209599977, 0.6808095514690816, -0.35020137419082026, -1.113547234381775, 0.7984763692018992]}, {\"line\": {\"color\": \"rgba(128, 0, 128, 1.0)\", \"dash\": \"solid\", \"shape\": \"linear\", \"width\": 1.3}, \"mode\": \"lines\", \"name\": \"D\", \"text\": \"\", \"type\": \"scatter\", \"x\": [0, 1, 2, 3, 4, 5, 6, 7, 8, 9, 10, 11, 12, 13, 14, 15, 16, 17, 18, 19, 20, 21, 22, 23, 24, 25, 26, 27, 28, 29, 30, 31, 32, 33, 34, 35, 36, 37, 38, 39, 40, 41, 42, 43, 44, 45, 46, 47, 48, 49, 50, 51, 52, 53, 54, 55, 56, 57, 58, 59, 60, 61, 62, 63, 64, 65, 66, 67, 68, 69, 70, 71, 72, 73, 74, 75, 76, 77, 78, 79, 80, 81, 82, 83, 84, 85, 86, 87, 88, 89, 90, 91, 92, 93, 94, 95, 96, 97, 98, 99], \"y\": [0.9135095511270055, 0.8300768819790462, -0.32004306346453193, -0.6581296286650561, 1.4836945505803925, 1.0270586035577867, -0.9859497561904975, 1.5701847583308441, 1.0689501999873456, 0.27469367698909647, 0.802179541436546, 0.28884337018785844, -0.7434532905448736, 0.27274012450951335, -1.2859035819950417, 1.4733751166997981, -1.448170024930766, 0.6387142479829242, 0.10544400953620241, -1.2102928294002335, -0.24276755640050543, -0.8963604076627338, 0.22887388670666756, 0.7055734686513757, -0.11357563100775599, 0.9252196163749348, 1.058228680287137, 0.25047384372673487, 1.1653344926210953, 0.15865317944084573, 1.3866504724146873, 1.6689296985913067, -0.8134044689759502, 0.6487187769518447, -0.8052091624301895, 2.0326603507057137, 0.1073820460355707, 0.4071162529196392, -0.5750653685166855, -0.6315805871754341, 0.5418712272596757, -1.1306708673810189, -1.118714709363381, -0.4401647702306003, -0.8061306367639891, -1.197345475413853, -1.0068972492704373, -0.17817852999860212, 0.639369678595348, 1.013703991356466, -0.23922158717259134, 1.4633201945065708, 1.3800134011897498, 0.2247267573806439, 0.49163132075695115, -0.10828728589737688, 1.1069484290607003, -1.2288487448834053, 0.1754650161188707, 0.7507986272132572, -0.20081391988588704, -0.6226641921427002, -0.16735697752048215, -0.38524578546611754, -0.5355048393729672, -0.34164985540023096, -0.2774104723203889, -0.2584209934005529, -0.3814423922234519, 0.3257577500486821, 0.6434080629177568, 0.66077107797274, 0.3637986673716947, -0.09214981424928291, 0.5276787296850053, -1.0338595767059349, -0.21097706924663143, 0.8984944691691217, 0.0820970582758034, 0.11562641623887104, 0.10032385906751383, -0.6503813578923999, -0.055876884880289614, -0.8571822962027709, 0.615500073921127, -1.3194434776149946, 2.0925297421943623, 0.9410652730595865, -3.673307455724263, -0.1572986034633572, -0.47613933558282523, 0.8539426335428666, -0.23704464026201616, 0.6063597785257324, -0.6518794725049938, 1.7049202285082419, -0.4059466352822378, -2.217238611239522, 1.1045060637619017, 0.13468126793607563]}],                        {\"legend\": {\"bgcolor\": \"#F5F6F9\", \"font\": {\"color\": \"#4D5663\"}}, \"paper_bgcolor\": \"#F5F6F9\", \"plot_bgcolor\": \"#F5F6F9\", \"template\": {\"data\": {\"bar\": [{\"error_x\": {\"color\": \"#2a3f5f\"}, \"error_y\": {\"color\": \"#2a3f5f\"}, \"marker\": {\"line\": {\"color\": \"#E5ECF6\", \"width\": 0.5}}, \"type\": \"bar\"}], \"barpolar\": [{\"marker\": {\"line\": {\"color\": \"#E5ECF6\", \"width\": 0.5}}, \"type\": \"barpolar\"}], \"carpet\": [{\"aaxis\": {\"endlinecolor\": \"#2a3f5f\", \"gridcolor\": \"white\", \"linecolor\": \"white\", \"minorgridcolor\": \"white\", \"startlinecolor\": \"#2a3f5f\"}, \"baxis\": {\"endlinecolor\": \"#2a3f5f\", \"gridcolor\": \"white\", \"linecolor\": \"white\", \"minorgridcolor\": \"white\", \"startlinecolor\": \"#2a3f5f\"}, \"type\": \"carpet\"}], \"choropleth\": [{\"colorbar\": {\"outlinewidth\": 0, \"ticks\": \"\"}, \"type\": \"choropleth\"}], \"contour\": [{\"colorbar\": {\"outlinewidth\": 0, \"ticks\": \"\"}, \"colorscale\": [[0.0, \"#0d0887\"], [0.1111111111111111, \"#46039f\"], [0.2222222222222222, \"#7201a8\"], [0.3333333333333333, \"#9c179e\"], [0.4444444444444444, \"#bd3786\"], [0.5555555555555556, \"#d8576b\"], [0.6666666666666666, \"#ed7953\"], [0.7777777777777778, \"#fb9f3a\"], [0.8888888888888888, \"#fdca26\"], [1.0, \"#f0f921\"]], \"type\": \"contour\"}], \"contourcarpet\": [{\"colorbar\": {\"outlinewidth\": 0, \"ticks\": \"\"}, \"type\": \"contourcarpet\"}], \"heatmap\": [{\"colorbar\": {\"outlinewidth\": 0, \"ticks\": \"\"}, \"colorscale\": [[0.0, \"#0d0887\"], [0.1111111111111111, \"#46039f\"], [0.2222222222222222, \"#7201a8\"], [0.3333333333333333, \"#9c179e\"], [0.4444444444444444, \"#bd3786\"], [0.5555555555555556, \"#d8576b\"], [0.6666666666666666, \"#ed7953\"], [0.7777777777777778, \"#fb9f3a\"], [0.8888888888888888, \"#fdca26\"], [1.0, \"#f0f921\"]], \"type\": \"heatmap\"}], \"heatmapgl\": [{\"colorbar\": {\"outlinewidth\": 0, \"ticks\": \"\"}, \"colorscale\": [[0.0, \"#0d0887\"], [0.1111111111111111, \"#46039f\"], [0.2222222222222222, \"#7201a8\"], [0.3333333333333333, \"#9c179e\"], [0.4444444444444444, \"#bd3786\"], [0.5555555555555556, \"#d8576b\"], [0.6666666666666666, \"#ed7953\"], [0.7777777777777778, \"#fb9f3a\"], [0.8888888888888888, \"#fdca26\"], [1.0, \"#f0f921\"]], \"type\": \"heatmapgl\"}], \"histogram\": [{\"marker\": {\"colorbar\": {\"outlinewidth\": 0, \"ticks\": \"\"}}, \"type\": \"histogram\"}], \"histogram2d\": [{\"colorbar\": {\"outlinewidth\": 0, \"ticks\": \"\"}, \"colorscale\": [[0.0, \"#0d0887\"], [0.1111111111111111, \"#46039f\"], [0.2222222222222222, \"#7201a8\"], [0.3333333333333333, \"#9c179e\"], [0.4444444444444444, \"#bd3786\"], [0.5555555555555556, \"#d8576b\"], [0.6666666666666666, \"#ed7953\"], [0.7777777777777778, \"#fb9f3a\"], [0.8888888888888888, \"#fdca26\"], [1.0, \"#f0f921\"]], \"type\": \"histogram2d\"}], \"histogram2dcontour\": [{\"colorbar\": {\"outlinewidth\": 0, \"ticks\": \"\"}, \"colorscale\": [[0.0, \"#0d0887\"], [0.1111111111111111, \"#46039f\"], [0.2222222222222222, \"#7201a8\"], [0.3333333333333333, \"#9c179e\"], [0.4444444444444444, \"#bd3786\"], [0.5555555555555556, \"#d8576b\"], [0.6666666666666666, \"#ed7953\"], [0.7777777777777778, \"#fb9f3a\"], [0.8888888888888888, \"#fdca26\"], [1.0, \"#f0f921\"]], \"type\": \"histogram2dcontour\"}], \"mesh3d\": [{\"colorbar\": {\"outlinewidth\": 0, \"ticks\": \"\"}, \"type\": \"mesh3d\"}], \"parcoords\": [{\"line\": {\"colorbar\": {\"outlinewidth\": 0, \"ticks\": \"\"}}, \"type\": \"parcoords\"}], \"pie\": [{\"automargin\": true, \"type\": \"pie\"}], \"scatter\": [{\"marker\": {\"colorbar\": {\"outlinewidth\": 0, \"ticks\": \"\"}}, \"type\": \"scatter\"}], \"scatter3d\": [{\"line\": {\"colorbar\": {\"outlinewidth\": 0, \"ticks\": \"\"}}, \"marker\": {\"colorbar\": {\"outlinewidth\": 0, \"ticks\": \"\"}}, \"type\": \"scatter3d\"}], \"scattercarpet\": [{\"marker\": {\"colorbar\": {\"outlinewidth\": 0, \"ticks\": \"\"}}, \"type\": \"scattercarpet\"}], \"scattergeo\": [{\"marker\": {\"colorbar\": {\"outlinewidth\": 0, \"ticks\": \"\"}}, \"type\": \"scattergeo\"}], \"scattergl\": [{\"marker\": {\"colorbar\": {\"outlinewidth\": 0, \"ticks\": \"\"}}, \"type\": \"scattergl\"}], \"scattermapbox\": [{\"marker\": {\"colorbar\": {\"outlinewidth\": 0, \"ticks\": \"\"}}, \"type\": \"scattermapbox\"}], \"scatterpolar\": [{\"marker\": {\"colorbar\": {\"outlinewidth\": 0, \"ticks\": \"\"}}, \"type\": \"scatterpolar\"}], \"scatterpolargl\": [{\"marker\": {\"colorbar\": {\"outlinewidth\": 0, \"ticks\": \"\"}}, \"type\": \"scatterpolargl\"}], \"scatterternary\": [{\"marker\": {\"colorbar\": {\"outlinewidth\": 0, \"ticks\": \"\"}}, \"type\": \"scatterternary\"}], \"surface\": [{\"colorbar\": {\"outlinewidth\": 0, \"ticks\": \"\"}, \"colorscale\": [[0.0, \"#0d0887\"], [0.1111111111111111, \"#46039f\"], [0.2222222222222222, \"#7201a8\"], [0.3333333333333333, \"#9c179e\"], [0.4444444444444444, \"#bd3786\"], [0.5555555555555556, \"#d8576b\"], [0.6666666666666666, \"#ed7953\"], [0.7777777777777778, \"#fb9f3a\"], [0.8888888888888888, \"#fdca26\"], [1.0, \"#f0f921\"]], \"type\": \"surface\"}], \"table\": [{\"cells\": {\"fill\": {\"color\": \"#EBF0F8\"}, \"line\": {\"color\": \"white\"}}, \"header\": {\"fill\": {\"color\": \"#C8D4E3\"}, \"line\": {\"color\": \"white\"}}, \"type\": \"table\"}]}, \"layout\": {\"annotationdefaults\": {\"arrowcolor\": \"#2a3f5f\", \"arrowhead\": 0, \"arrowwidth\": 1}, \"autotypenumbers\": \"strict\", \"coloraxis\": {\"colorbar\": {\"outlinewidth\": 0, \"ticks\": \"\"}}, \"colorscale\": {\"diverging\": [[0, \"#8e0152\"], [0.1, \"#c51b7d\"], [0.2, \"#de77ae\"], [0.3, \"#f1b6da\"], [0.4, \"#fde0ef\"], [0.5, \"#f7f7f7\"], [0.6, \"#e6f5d0\"], [0.7, \"#b8e186\"], [0.8, \"#7fbc41\"], [0.9, \"#4d9221\"], [1, \"#276419\"]], \"sequential\": [[0.0, \"#0d0887\"], [0.1111111111111111, \"#46039f\"], [0.2222222222222222, \"#7201a8\"], [0.3333333333333333, \"#9c179e\"], [0.4444444444444444, \"#bd3786\"], [0.5555555555555556, \"#d8576b\"], [0.6666666666666666, \"#ed7953\"], [0.7777777777777778, \"#fb9f3a\"], [0.8888888888888888, \"#fdca26\"], [1.0, \"#f0f921\"]], \"sequentialminus\": [[0.0, \"#0d0887\"], [0.1111111111111111, \"#46039f\"], [0.2222222222222222, \"#7201a8\"], [0.3333333333333333, \"#9c179e\"], [0.4444444444444444, \"#bd3786\"], [0.5555555555555556, \"#d8576b\"], [0.6666666666666666, \"#ed7953\"], [0.7777777777777778, \"#fb9f3a\"], [0.8888888888888888, \"#fdca26\"], [1.0, \"#f0f921\"]]}, \"colorway\": [\"#636efa\", \"#EF553B\", \"#00cc96\", \"#ab63fa\", \"#FFA15A\", \"#19d3f3\", \"#FF6692\", \"#B6E880\", \"#FF97FF\", \"#FECB52\"], \"font\": {\"color\": \"#2a3f5f\"}, \"geo\": {\"bgcolor\": \"white\", \"lakecolor\": \"white\", \"landcolor\": \"#E5ECF6\", \"showlakes\": true, \"showland\": true, \"subunitcolor\": \"white\"}, \"hoverlabel\": {\"align\": \"left\"}, \"hovermode\": \"closest\", \"mapbox\": {\"style\": \"light\"}, \"paper_bgcolor\": \"white\", \"plot_bgcolor\": \"#E5ECF6\", \"polar\": {\"angularaxis\": {\"gridcolor\": \"white\", \"linecolor\": \"white\", \"ticks\": \"\"}, \"bgcolor\": \"#E5ECF6\", \"radialaxis\": {\"gridcolor\": \"white\", \"linecolor\": \"white\", \"ticks\": \"\"}}, \"scene\": {\"xaxis\": {\"backgroundcolor\": \"#E5ECF6\", \"gridcolor\": \"white\", \"gridwidth\": 2, \"linecolor\": \"white\", \"showbackground\": true, \"ticks\": \"\", \"zerolinecolor\": \"white\"}, \"yaxis\": {\"backgroundcolor\": \"#E5ECF6\", \"gridcolor\": \"white\", \"gridwidth\": 2, \"linecolor\": \"white\", \"showbackground\": true, \"ticks\": \"\", \"zerolinecolor\": \"white\"}, \"zaxis\": {\"backgroundcolor\": \"#E5ECF6\", \"gridcolor\": \"white\", \"gridwidth\": 2, \"linecolor\": \"white\", \"showbackground\": true, \"ticks\": \"\", \"zerolinecolor\": \"white\"}}, \"shapedefaults\": {\"line\": {\"color\": \"#2a3f5f\"}}, \"ternary\": {\"aaxis\": {\"gridcolor\": \"white\", \"linecolor\": \"white\", \"ticks\": \"\"}, \"baxis\": {\"gridcolor\": \"white\", \"linecolor\": \"white\", \"ticks\": \"\"}, \"bgcolor\": \"#E5ECF6\", \"caxis\": {\"gridcolor\": \"white\", \"linecolor\": \"white\", \"ticks\": \"\"}}, \"title\": {\"x\": 0.05}, \"xaxis\": {\"automargin\": true, \"gridcolor\": \"white\", \"linecolor\": \"white\", \"ticks\": \"\", \"title\": {\"standoff\": 15}, \"zerolinecolor\": \"white\", \"zerolinewidth\": 2}, \"yaxis\": {\"automargin\": true, \"gridcolor\": \"white\", \"linecolor\": \"white\", \"ticks\": \"\", \"title\": {\"standoff\": 15}, \"zerolinecolor\": \"white\", \"zerolinewidth\": 2}}}, \"title\": {\"font\": {\"color\": \"#4D5663\"}}, \"xaxis\": {\"gridcolor\": \"#E1E5ED\", \"showgrid\": true, \"tickfont\": {\"color\": \"#4D5663\"}, \"title\": {\"font\": {\"color\": \"#4D5663\"}, \"text\": \"\"}, \"zerolinecolor\": \"#E1E5ED\"}, \"yaxis\": {\"gridcolor\": \"#E1E5ED\", \"showgrid\": true, \"tickfont\": {\"color\": \"#4D5663\"}, \"title\": {\"font\": {\"color\": \"#4D5663\"}, \"text\": \"\"}, \"zerolinecolor\": \"#E1E5ED\"}},                        {\"showLink\": true, \"linkText\": \"Export to plot.ly\", \"plotlyServerURL\": \"https://plot.ly\", \"responsive\": true}                    ).then(function(){\n",
       "                            \n",
       "var gd = document.getElementById('f27590b5-050f-48b5-be11-fbc7e09042b8');\n",
       "var x = new MutationObserver(function (mutations, observer) {{\n",
       "        var display = window.getComputedStyle(gd).display;\n",
       "        if (!display || display === 'none') {{\n",
       "            console.log([gd, 'removed!']);\n",
       "            Plotly.purge(gd);\n",
       "            observer.disconnect();\n",
       "        }}\n",
       "}});\n",
       "\n",
       "// Listen for the removal of the full notebook cells\n",
       "var notebookContainer = gd.closest('#notebook-container');\n",
       "if (notebookContainer) {{\n",
       "    x.observe(notebookContainer, {childList: true});\n",
       "}}\n",
       "\n",
       "// Listen for the clearing of the current output cell\n",
       "var outputEl = gd.closest('.output');\n",
       "if (outputEl) {{\n",
       "    x.observe(outputEl, {childList: true});\n",
       "}}\n",
       "\n",
       "                        })                };                });            </script>        </div>"
      ]
     },
     "metadata": {},
     "output_type": "display_data"
    }
   ],
   "source": [
    "df.iplot()"
   ]
  },
  {
   "cell_type": "code",
   "execution_count": 17,
   "metadata": {},
   "outputs": [
    {
     "data": {
      "application/vnd.plotly.v1+json": {
       "config": {
        "linkText": "Export to plot.ly",
        "plotlyServerURL": "https://plot.ly",
        "showLink": true
       },
       "data": [
        {
         "line": {
          "color": "rgba(255, 153, 51, 1.0)",
          "dash": "solid",
          "shape": "linear",
          "width": 1.3
         },
         "marker": {
          "size": 12,
          "symbol": "circle"
         },
         "mode": "markers",
         "name": "B",
         "text": "",
         "type": "scatter",
         "x": [
          -1.3344538032223674,
          -0.8924994259218787,
          0.26886804372886924,
          0.15768862475176948,
          -0.22119158008310583,
          0.4620509340031127,
          2.4335083818309733,
          0.6283138878570738,
          0.5916528935640983,
          -1.107880473845743,
          -0.9624677212340109,
          -2.0455267244571513,
          0.0909847865615543,
          0.3952627572504107,
          0.4419932489725158,
          -0.4226953551742026,
          0.06289069744869118,
          -0.7006193989648868,
          -1.083720431567451,
          -1.060865658791126,
          -0.09081056338239148,
          -0.9353209782547409,
          0.3589422148729274,
          -1.7868990461486924,
          -0.745064837314155,
          1.6890846798067614,
          -0.1583008202058165,
          -0.2393581360509466,
          -0.3591360207502799,
          0.08032986483476401,
          -1.0175142609752241,
          -1.5016700621947336,
          1.0074806858167047,
          0.6986590715947596,
          -2.588343670560577,
          1.6081822850576204,
          -0.22914040070541067,
          -0.5293183734964289,
          0.08222597405486373,
          -1.4699631892936766,
          -1.7930767125550209,
          -0.8790112806279785,
          -1.169373718837128,
          0.1384087066882726,
          -1.0214761584041196,
          -0.04441846576227683,
          0.39667629555448003,
          0.20222543201121596,
          -1.2020756242009765,
          -1.0165590854073892,
          0.46592468153875083,
          0.31916647378233987,
          -1.7589705686927102,
          -0.19469290293284697,
          -0.017517836703771206,
          -1.0825926071297598,
          0.8868635912852298,
          1.5313879689211365,
          -0.8832920419908965,
          1.0771696646288276,
          0.4214819723313268,
          0.512096106061291,
          -0.5765759849025575,
          0.11538594660067654,
          -1.1688312935731027,
          0.6842055251828377,
          0.22219602704027291,
          -0.5744307101478267,
          0.6367232205179054,
          0.6191256148390696,
          1.8834084468543921,
          -0.019136677575396017,
          -1.1087586253663548,
          -0.09033572122028868,
          1.4938373325772583,
          -0.4050399181262893,
          -1.7460005036504043,
          -0.874792619992864,
          1.3994180541184202,
          0.799905796022181,
          1.274938101349231,
          0.2394547792737676,
          -1.577915260135125,
          0.1213707929995456,
          0.13672512118700048,
          -0.6331153406325125,
          0.8242219198301328,
          0.11707874435192542,
          0.7436012566066985,
          -1.6258384419836545,
          -0.03584548827872644,
          0.08944783921389679,
          0.578477924074061,
          0.7299558400202367,
          0.08093456386569041,
          -0.2981280006647906,
          0.7196159948359657,
          -0.9887151828728751,
          -1.2858827698631239,
          -0.6567521716175984
         ],
         "y": [
          0.14115223110497468,
          0.0064944644833475305,
          0.7422571167780311,
          1.0645093771659695,
          -0.3106905288382996,
          0.9105427572688288,
          0.6103120706936248,
          0.9859342503407027,
          -1.3935904672907908,
          0.5691387823512065,
          0.6619116415384811,
          1.6926025880928388,
          -0.6199815554999915,
          -0.08994976033741052,
          1.0750757711471672,
          0.9473855422854135,
          -0.9659146731795786,
          -0.8563163114136054,
          0.40461905434576567,
          -0.352421659367107,
          -0.17570731026437184,
          -0.9037477548119306,
          -0.02350852517774842,
          0.05092474675920466,
          1.043949946154262,
          -2.4490346466295554,
          0.33014417054208783,
          -2.2514329386378424,
          0.13653096809477527,
          0.27854119209137806,
          0.12084021939900245,
          -0.22910722021751045,
          0.8157967113919772,
          0.843764373253457,
          -0.1426121926871968,
          -0.5483486869724357,
          0.2608490671514323,
          -0.26372400914740446,
          0.8194095519733929,
          -0.270587376920324,
          -0.7737009584318266,
          -1.8472980629037679,
          -0.7082294452695416,
          0.41190023363389006,
          -0.05569757355731567,
          -0.8395179440475853,
          1.237960335845157,
          0.09429165095844295,
          0.8444303425008042,
          1.0941573273460798,
          0.5004607034246967,
          -1.2380236960978572,
          -0.5299553544779251,
          -2.401224423159397,
          -1.533248329403312,
          -0.17338990000742058,
          -1.303044209950965,
          0.15434110478985552,
          -0.014923617770171496,
          2.2196598208911857,
          -0.22823646275445944,
          -0.2495367783710828,
          -0.08131270339267661,
          1.9699500613792806,
          -1.188690274209095,
          0.8832334729754634,
          2.09273443955495,
          -1.0036519160375525,
          -0.7060680965281807,
          -0.23968689244003327,
          0.163276759185642,
          -0.686450971672635,
          -0.30631556602327387,
          -0.08707637532852806,
          -0.5228852910421682,
          -0.7172234514173806,
          -0.29517886902307716,
          -0.20458324362180894,
          -1.462710827625806,
          1.4670598502699281,
          0.8479039242641055,
          -1.9986453717747588,
          -0.6388634514624134,
          0.28169086802838134,
          -0.7770575057522737,
          0.04592948766882219,
          -1.0942302497431726,
          0.9789185809599306,
          -0.46129486343229453,
          -0.40833102173104213,
          1.227531863543337,
          -0.37368070911341755,
          -0.45808425613661174,
          0.7934113176984202,
          -1.500505747410543,
          0.3307505779477316,
          0.5925706519046703,
          1.635234820387899,
          0.4765566163310391,
          -1.1996493035445714
         ]
        }
       ],
       "layout": {
        "legend": {
         "bgcolor": "#F5F6F9",
         "font": {
          "color": "#4D5663"
         }
        },
        "paper_bgcolor": "#F5F6F9",
        "plot_bgcolor": "#F5F6F9",
        "template": {
         "data": {
          "bar": [
           {
            "error_x": {
             "color": "#2a3f5f"
            },
            "error_y": {
             "color": "#2a3f5f"
            },
            "marker": {
             "line": {
              "color": "#E5ECF6",
              "width": 0.5
             }
            },
            "type": "bar"
           }
          ],
          "barpolar": [
           {
            "marker": {
             "line": {
              "color": "#E5ECF6",
              "width": 0.5
             }
            },
            "type": "barpolar"
           }
          ],
          "carpet": [
           {
            "aaxis": {
             "endlinecolor": "#2a3f5f",
             "gridcolor": "white",
             "linecolor": "white",
             "minorgridcolor": "white",
             "startlinecolor": "#2a3f5f"
            },
            "baxis": {
             "endlinecolor": "#2a3f5f",
             "gridcolor": "white",
             "linecolor": "white",
             "minorgridcolor": "white",
             "startlinecolor": "#2a3f5f"
            },
            "type": "carpet"
           }
          ],
          "choropleth": [
           {
            "colorbar": {
             "outlinewidth": 0,
             "ticks": ""
            },
            "type": "choropleth"
           }
          ],
          "contour": [
           {
            "colorbar": {
             "outlinewidth": 0,
             "ticks": ""
            },
            "colorscale": [
             [
              0,
              "#0d0887"
             ],
             [
              0.1111111111111111,
              "#46039f"
             ],
             [
              0.2222222222222222,
              "#7201a8"
             ],
             [
              0.3333333333333333,
              "#9c179e"
             ],
             [
              0.4444444444444444,
              "#bd3786"
             ],
             [
              0.5555555555555556,
              "#d8576b"
             ],
             [
              0.6666666666666666,
              "#ed7953"
             ],
             [
              0.7777777777777778,
              "#fb9f3a"
             ],
             [
              0.8888888888888888,
              "#fdca26"
             ],
             [
              1,
              "#f0f921"
             ]
            ],
            "type": "contour"
           }
          ],
          "contourcarpet": [
           {
            "colorbar": {
             "outlinewidth": 0,
             "ticks": ""
            },
            "type": "contourcarpet"
           }
          ],
          "heatmap": [
           {
            "colorbar": {
             "outlinewidth": 0,
             "ticks": ""
            },
            "colorscale": [
             [
              0,
              "#0d0887"
             ],
             [
              0.1111111111111111,
              "#46039f"
             ],
             [
              0.2222222222222222,
              "#7201a8"
             ],
             [
              0.3333333333333333,
              "#9c179e"
             ],
             [
              0.4444444444444444,
              "#bd3786"
             ],
             [
              0.5555555555555556,
              "#d8576b"
             ],
             [
              0.6666666666666666,
              "#ed7953"
             ],
             [
              0.7777777777777778,
              "#fb9f3a"
             ],
             [
              0.8888888888888888,
              "#fdca26"
             ],
             [
              1,
              "#f0f921"
             ]
            ],
            "type": "heatmap"
           }
          ],
          "heatmapgl": [
           {
            "colorbar": {
             "outlinewidth": 0,
             "ticks": ""
            },
            "colorscale": [
             [
              0,
              "#0d0887"
             ],
             [
              0.1111111111111111,
              "#46039f"
             ],
             [
              0.2222222222222222,
              "#7201a8"
             ],
             [
              0.3333333333333333,
              "#9c179e"
             ],
             [
              0.4444444444444444,
              "#bd3786"
             ],
             [
              0.5555555555555556,
              "#d8576b"
             ],
             [
              0.6666666666666666,
              "#ed7953"
             ],
             [
              0.7777777777777778,
              "#fb9f3a"
             ],
             [
              0.8888888888888888,
              "#fdca26"
             ],
             [
              1,
              "#f0f921"
             ]
            ],
            "type": "heatmapgl"
           }
          ],
          "histogram": [
           {
            "marker": {
             "colorbar": {
              "outlinewidth": 0,
              "ticks": ""
             }
            },
            "type": "histogram"
           }
          ],
          "histogram2d": [
           {
            "colorbar": {
             "outlinewidth": 0,
             "ticks": ""
            },
            "colorscale": [
             [
              0,
              "#0d0887"
             ],
             [
              0.1111111111111111,
              "#46039f"
             ],
             [
              0.2222222222222222,
              "#7201a8"
             ],
             [
              0.3333333333333333,
              "#9c179e"
             ],
             [
              0.4444444444444444,
              "#bd3786"
             ],
             [
              0.5555555555555556,
              "#d8576b"
             ],
             [
              0.6666666666666666,
              "#ed7953"
             ],
             [
              0.7777777777777778,
              "#fb9f3a"
             ],
             [
              0.8888888888888888,
              "#fdca26"
             ],
             [
              1,
              "#f0f921"
             ]
            ],
            "type": "histogram2d"
           }
          ],
          "histogram2dcontour": [
           {
            "colorbar": {
             "outlinewidth": 0,
             "ticks": ""
            },
            "colorscale": [
             [
              0,
              "#0d0887"
             ],
             [
              0.1111111111111111,
              "#46039f"
             ],
             [
              0.2222222222222222,
              "#7201a8"
             ],
             [
              0.3333333333333333,
              "#9c179e"
             ],
             [
              0.4444444444444444,
              "#bd3786"
             ],
             [
              0.5555555555555556,
              "#d8576b"
             ],
             [
              0.6666666666666666,
              "#ed7953"
             ],
             [
              0.7777777777777778,
              "#fb9f3a"
             ],
             [
              0.8888888888888888,
              "#fdca26"
             ],
             [
              1,
              "#f0f921"
             ]
            ],
            "type": "histogram2dcontour"
           }
          ],
          "mesh3d": [
           {
            "colorbar": {
             "outlinewidth": 0,
             "ticks": ""
            },
            "type": "mesh3d"
           }
          ],
          "parcoords": [
           {
            "line": {
             "colorbar": {
              "outlinewidth": 0,
              "ticks": ""
             }
            },
            "type": "parcoords"
           }
          ],
          "pie": [
           {
            "automargin": true,
            "type": "pie"
           }
          ],
          "scatter": [
           {
            "marker": {
             "colorbar": {
              "outlinewidth": 0,
              "ticks": ""
             }
            },
            "type": "scatter"
           }
          ],
          "scatter3d": [
           {
            "line": {
             "colorbar": {
              "outlinewidth": 0,
              "ticks": ""
             }
            },
            "marker": {
             "colorbar": {
              "outlinewidth": 0,
              "ticks": ""
             }
            },
            "type": "scatter3d"
           }
          ],
          "scattercarpet": [
           {
            "marker": {
             "colorbar": {
              "outlinewidth": 0,
              "ticks": ""
             }
            },
            "type": "scattercarpet"
           }
          ],
          "scattergeo": [
           {
            "marker": {
             "colorbar": {
              "outlinewidth": 0,
              "ticks": ""
             }
            },
            "type": "scattergeo"
           }
          ],
          "scattergl": [
           {
            "marker": {
             "colorbar": {
              "outlinewidth": 0,
              "ticks": ""
             }
            },
            "type": "scattergl"
           }
          ],
          "scattermapbox": [
           {
            "marker": {
             "colorbar": {
              "outlinewidth": 0,
              "ticks": ""
             }
            },
            "type": "scattermapbox"
           }
          ],
          "scatterpolar": [
           {
            "marker": {
             "colorbar": {
              "outlinewidth": 0,
              "ticks": ""
             }
            },
            "type": "scatterpolar"
           }
          ],
          "scatterpolargl": [
           {
            "marker": {
             "colorbar": {
              "outlinewidth": 0,
              "ticks": ""
             }
            },
            "type": "scatterpolargl"
           }
          ],
          "scatterternary": [
           {
            "marker": {
             "colorbar": {
              "outlinewidth": 0,
              "ticks": ""
             }
            },
            "type": "scatterternary"
           }
          ],
          "surface": [
           {
            "colorbar": {
             "outlinewidth": 0,
             "ticks": ""
            },
            "colorscale": [
             [
              0,
              "#0d0887"
             ],
             [
              0.1111111111111111,
              "#46039f"
             ],
             [
              0.2222222222222222,
              "#7201a8"
             ],
             [
              0.3333333333333333,
              "#9c179e"
             ],
             [
              0.4444444444444444,
              "#bd3786"
             ],
             [
              0.5555555555555556,
              "#d8576b"
             ],
             [
              0.6666666666666666,
              "#ed7953"
             ],
             [
              0.7777777777777778,
              "#fb9f3a"
             ],
             [
              0.8888888888888888,
              "#fdca26"
             ],
             [
              1,
              "#f0f921"
             ]
            ],
            "type": "surface"
           }
          ],
          "table": [
           {
            "cells": {
             "fill": {
              "color": "#EBF0F8"
             },
             "line": {
              "color": "white"
             }
            },
            "header": {
             "fill": {
              "color": "#C8D4E3"
             },
             "line": {
              "color": "white"
             }
            },
            "type": "table"
           }
          ]
         },
         "layout": {
          "annotationdefaults": {
           "arrowcolor": "#2a3f5f",
           "arrowhead": 0,
           "arrowwidth": 1
          },
          "autotypenumbers": "strict",
          "coloraxis": {
           "colorbar": {
            "outlinewidth": 0,
            "ticks": ""
           }
          },
          "colorscale": {
           "diverging": [
            [
             0,
             "#8e0152"
            ],
            [
             0.1,
             "#c51b7d"
            ],
            [
             0.2,
             "#de77ae"
            ],
            [
             0.3,
             "#f1b6da"
            ],
            [
             0.4,
             "#fde0ef"
            ],
            [
             0.5,
             "#f7f7f7"
            ],
            [
             0.6,
             "#e6f5d0"
            ],
            [
             0.7,
             "#b8e186"
            ],
            [
             0.8,
             "#7fbc41"
            ],
            [
             0.9,
             "#4d9221"
            ],
            [
             1,
             "#276419"
            ]
           ],
           "sequential": [
            [
             0,
             "#0d0887"
            ],
            [
             0.1111111111111111,
             "#46039f"
            ],
            [
             0.2222222222222222,
             "#7201a8"
            ],
            [
             0.3333333333333333,
             "#9c179e"
            ],
            [
             0.4444444444444444,
             "#bd3786"
            ],
            [
             0.5555555555555556,
             "#d8576b"
            ],
            [
             0.6666666666666666,
             "#ed7953"
            ],
            [
             0.7777777777777778,
             "#fb9f3a"
            ],
            [
             0.8888888888888888,
             "#fdca26"
            ],
            [
             1,
             "#f0f921"
            ]
           ],
           "sequentialminus": [
            [
             0,
             "#0d0887"
            ],
            [
             0.1111111111111111,
             "#46039f"
            ],
            [
             0.2222222222222222,
             "#7201a8"
            ],
            [
             0.3333333333333333,
             "#9c179e"
            ],
            [
             0.4444444444444444,
             "#bd3786"
            ],
            [
             0.5555555555555556,
             "#d8576b"
            ],
            [
             0.6666666666666666,
             "#ed7953"
            ],
            [
             0.7777777777777778,
             "#fb9f3a"
            ],
            [
             0.8888888888888888,
             "#fdca26"
            ],
            [
             1,
             "#f0f921"
            ]
           ]
          },
          "colorway": [
           "#636efa",
           "#EF553B",
           "#00cc96",
           "#ab63fa",
           "#FFA15A",
           "#19d3f3",
           "#FF6692",
           "#B6E880",
           "#FF97FF",
           "#FECB52"
          ],
          "font": {
           "color": "#2a3f5f"
          },
          "geo": {
           "bgcolor": "white",
           "lakecolor": "white",
           "landcolor": "#E5ECF6",
           "showlakes": true,
           "showland": true,
           "subunitcolor": "white"
          },
          "hoverlabel": {
           "align": "left"
          },
          "hovermode": "closest",
          "mapbox": {
           "style": "light"
          },
          "paper_bgcolor": "white",
          "plot_bgcolor": "#E5ECF6",
          "polar": {
           "angularaxis": {
            "gridcolor": "white",
            "linecolor": "white",
            "ticks": ""
           },
           "bgcolor": "#E5ECF6",
           "radialaxis": {
            "gridcolor": "white",
            "linecolor": "white",
            "ticks": ""
           }
          },
          "scene": {
           "xaxis": {
            "backgroundcolor": "#E5ECF6",
            "gridcolor": "white",
            "gridwidth": 2,
            "linecolor": "white",
            "showbackground": true,
            "ticks": "",
            "zerolinecolor": "white"
           },
           "yaxis": {
            "backgroundcolor": "#E5ECF6",
            "gridcolor": "white",
            "gridwidth": 2,
            "linecolor": "white",
            "showbackground": true,
            "ticks": "",
            "zerolinecolor": "white"
           },
           "zaxis": {
            "backgroundcolor": "#E5ECF6",
            "gridcolor": "white",
            "gridwidth": 2,
            "linecolor": "white",
            "showbackground": true,
            "ticks": "",
            "zerolinecolor": "white"
           }
          },
          "shapedefaults": {
           "line": {
            "color": "#2a3f5f"
           }
          },
          "ternary": {
           "aaxis": {
            "gridcolor": "white",
            "linecolor": "white",
            "ticks": ""
           },
           "baxis": {
            "gridcolor": "white",
            "linecolor": "white",
            "ticks": ""
           },
           "bgcolor": "#E5ECF6",
           "caxis": {
            "gridcolor": "white",
            "linecolor": "white",
            "ticks": ""
           }
          },
          "title": {
           "x": 0.05
          },
          "xaxis": {
           "automargin": true,
           "gridcolor": "white",
           "linecolor": "white",
           "ticks": "",
           "title": {
            "standoff": 15
           },
           "zerolinecolor": "white",
           "zerolinewidth": 2
          },
          "yaxis": {
           "automargin": true,
           "gridcolor": "white",
           "linecolor": "white",
           "ticks": "",
           "title": {
            "standoff": 15
           },
           "zerolinecolor": "white",
           "zerolinewidth": 2
          }
         }
        },
        "title": {
         "font": {
          "color": "#4D5663"
         }
        },
        "xaxis": {
         "gridcolor": "#E1E5ED",
         "showgrid": true,
         "tickfont": {
          "color": "#4D5663"
         },
         "title": {
          "font": {
           "color": "#4D5663"
          },
          "text": ""
         },
         "zerolinecolor": "#E1E5ED"
        },
        "yaxis": {
         "gridcolor": "#E1E5ED",
         "showgrid": true,
         "tickfont": {
          "color": "#4D5663"
         },
         "title": {
          "font": {
           "color": "#4D5663"
          },
          "text": ""
         },
         "zerolinecolor": "#E1E5ED"
        }
       }
      },
      "text/html": [
       "<div>                            <div id=\"82b9556d-20df-4ccf-960a-72c035ceab66\" class=\"plotly-graph-div\" style=\"height:525px; width:100%;\"></div>            <script type=\"text/javascript\">                require([\"plotly\"], function(Plotly) {                    window.PLOTLYENV=window.PLOTLYENV || {};\n",
       "                    window.PLOTLYENV.BASE_URL='https://plot.ly';                                    if (document.getElementById(\"82b9556d-20df-4ccf-960a-72c035ceab66\")) {                    Plotly.newPlot(                        \"82b9556d-20df-4ccf-960a-72c035ceab66\",                        [{\"line\": {\"color\": \"rgba(255, 153, 51, 1.0)\", \"dash\": \"solid\", \"shape\": \"linear\", \"width\": 1.3}, \"marker\": {\"size\": 12, \"symbol\": \"circle\"}, \"mode\": \"markers\", \"name\": \"B\", \"text\": \"\", \"type\": \"scatter\", \"x\": [-1.3344538032223674, -0.8924994259218787, 0.26886804372886924, 0.15768862475176948, -0.22119158008310583, 0.4620509340031127, 2.4335083818309733, 0.6283138878570738, 0.5916528935640983, -1.107880473845743, -0.9624677212340109, -2.0455267244571513, 0.0909847865615543, 0.3952627572504107, 0.4419932489725158, -0.4226953551742026, 0.06289069744869118, -0.7006193989648868, -1.083720431567451, -1.060865658791126, -0.09081056338239148, -0.9353209782547409, 0.3589422148729274, -1.7868990461486924, -0.745064837314155, 1.6890846798067614, -0.1583008202058165, -0.2393581360509466, -0.3591360207502799, 0.08032986483476401, -1.0175142609752241, -1.5016700621947336, 1.0074806858167047, 0.6986590715947596, -2.588343670560577, 1.6081822850576204, -0.22914040070541067, -0.5293183734964289, 0.08222597405486373, -1.4699631892936766, -1.7930767125550209, -0.8790112806279785, -1.169373718837128, 0.1384087066882726, -1.0214761584041196, -0.04441846576227683, 0.39667629555448003, 0.20222543201121596, -1.2020756242009765, -1.0165590854073892, 0.46592468153875083, 0.31916647378233987, -1.7589705686927102, -0.19469290293284697, -0.017517836703771206, -1.0825926071297598, 0.8868635912852298, 1.5313879689211365, -0.8832920419908965, 1.0771696646288276, 0.4214819723313268, 0.512096106061291, -0.5765759849025575, 0.11538594660067654, -1.1688312935731027, 0.6842055251828377, 0.22219602704027291, -0.5744307101478267, 0.6367232205179054, 0.6191256148390696, 1.8834084468543921, -0.019136677575396017, -1.1087586253663548, -0.09033572122028868, 1.4938373325772583, -0.4050399181262893, -1.7460005036504043, -0.874792619992864, 1.3994180541184202, 0.799905796022181, 1.274938101349231, 0.2394547792737676, -1.577915260135125, 0.1213707929995456, 0.13672512118700048, -0.6331153406325125, 0.8242219198301328, 0.11707874435192542, 0.7436012566066985, -1.6258384419836545, -0.03584548827872644, 0.08944783921389679, 0.578477924074061, 0.7299558400202367, 0.08093456386569041, -0.2981280006647906, 0.7196159948359657, -0.9887151828728751, -1.2858827698631239, -0.6567521716175984], \"y\": [0.14115223110497468, 0.0064944644833475305, 0.7422571167780311, 1.0645093771659695, -0.3106905288382996, 0.9105427572688288, 0.6103120706936248, 0.9859342503407027, -1.3935904672907908, 0.5691387823512065, 0.6619116415384811, 1.6926025880928388, -0.6199815554999915, -0.08994976033741052, 1.0750757711471672, 0.9473855422854135, -0.9659146731795786, -0.8563163114136054, 0.40461905434576567, -0.352421659367107, -0.17570731026437184, -0.9037477548119306, -0.02350852517774842, 0.05092474675920466, 1.043949946154262, -2.4490346466295554, 0.33014417054208783, -2.2514329386378424, 0.13653096809477527, 0.27854119209137806, 0.12084021939900245, -0.22910722021751045, 0.8157967113919772, 0.843764373253457, -0.1426121926871968, -0.5483486869724357, 0.2608490671514323, -0.26372400914740446, 0.8194095519733929, -0.270587376920324, -0.7737009584318266, -1.8472980629037679, -0.7082294452695416, 0.41190023363389006, -0.05569757355731567, -0.8395179440475853, 1.237960335845157, 0.09429165095844295, 0.8444303425008042, 1.0941573273460798, 0.5004607034246967, -1.2380236960978572, -0.5299553544779251, -2.401224423159397, -1.533248329403312, -0.17338990000742058, -1.303044209950965, 0.15434110478985552, -0.014923617770171496, 2.2196598208911857, -0.22823646275445944, -0.2495367783710828, -0.08131270339267661, 1.9699500613792806, -1.188690274209095, 0.8832334729754634, 2.09273443955495, -1.0036519160375525, -0.7060680965281807, -0.23968689244003327, 0.163276759185642, -0.686450971672635, -0.30631556602327387, -0.08707637532852806, -0.5228852910421682, -0.7172234514173806, -0.29517886902307716, -0.20458324362180894, -1.462710827625806, 1.4670598502699281, 0.8479039242641055, -1.9986453717747588, -0.6388634514624134, 0.28169086802838134, -0.7770575057522737, 0.04592948766882219, -1.0942302497431726, 0.9789185809599306, -0.46129486343229453, -0.40833102173104213, 1.227531863543337, -0.37368070911341755, -0.45808425613661174, 0.7934113176984202, -1.500505747410543, 0.3307505779477316, 0.5925706519046703, 1.635234820387899, 0.4765566163310391, -1.1996493035445714]}],                        {\"legend\": {\"bgcolor\": \"#F5F6F9\", \"font\": {\"color\": \"#4D5663\"}}, \"paper_bgcolor\": \"#F5F6F9\", \"plot_bgcolor\": \"#F5F6F9\", \"template\": {\"data\": {\"bar\": [{\"error_x\": {\"color\": \"#2a3f5f\"}, \"error_y\": {\"color\": \"#2a3f5f\"}, \"marker\": {\"line\": {\"color\": \"#E5ECF6\", \"width\": 0.5}}, \"type\": \"bar\"}], \"barpolar\": [{\"marker\": {\"line\": {\"color\": \"#E5ECF6\", \"width\": 0.5}}, \"type\": \"barpolar\"}], \"carpet\": [{\"aaxis\": {\"endlinecolor\": \"#2a3f5f\", \"gridcolor\": \"white\", \"linecolor\": \"white\", \"minorgridcolor\": \"white\", \"startlinecolor\": \"#2a3f5f\"}, \"baxis\": {\"endlinecolor\": \"#2a3f5f\", \"gridcolor\": \"white\", \"linecolor\": \"white\", \"minorgridcolor\": \"white\", \"startlinecolor\": \"#2a3f5f\"}, \"type\": \"carpet\"}], \"choropleth\": [{\"colorbar\": {\"outlinewidth\": 0, \"ticks\": \"\"}, \"type\": \"choropleth\"}], \"contour\": [{\"colorbar\": {\"outlinewidth\": 0, \"ticks\": \"\"}, \"colorscale\": [[0.0, \"#0d0887\"], [0.1111111111111111, \"#46039f\"], [0.2222222222222222, \"#7201a8\"], [0.3333333333333333, \"#9c179e\"], [0.4444444444444444, \"#bd3786\"], [0.5555555555555556, \"#d8576b\"], [0.6666666666666666, \"#ed7953\"], [0.7777777777777778, \"#fb9f3a\"], [0.8888888888888888, \"#fdca26\"], [1.0, \"#f0f921\"]], \"type\": \"contour\"}], \"contourcarpet\": [{\"colorbar\": {\"outlinewidth\": 0, \"ticks\": \"\"}, \"type\": \"contourcarpet\"}], \"heatmap\": [{\"colorbar\": {\"outlinewidth\": 0, \"ticks\": \"\"}, \"colorscale\": [[0.0, \"#0d0887\"], [0.1111111111111111, \"#46039f\"], [0.2222222222222222, \"#7201a8\"], [0.3333333333333333, \"#9c179e\"], [0.4444444444444444, \"#bd3786\"], [0.5555555555555556, \"#d8576b\"], [0.6666666666666666, \"#ed7953\"], [0.7777777777777778, \"#fb9f3a\"], [0.8888888888888888, \"#fdca26\"], [1.0, \"#f0f921\"]], \"type\": \"heatmap\"}], \"heatmapgl\": [{\"colorbar\": {\"outlinewidth\": 0, \"ticks\": \"\"}, \"colorscale\": [[0.0, \"#0d0887\"], [0.1111111111111111, \"#46039f\"], [0.2222222222222222, \"#7201a8\"], [0.3333333333333333, \"#9c179e\"], [0.4444444444444444, \"#bd3786\"], [0.5555555555555556, \"#d8576b\"], [0.6666666666666666, \"#ed7953\"], [0.7777777777777778, \"#fb9f3a\"], [0.8888888888888888, \"#fdca26\"], [1.0, \"#f0f921\"]], \"type\": \"heatmapgl\"}], \"histogram\": [{\"marker\": {\"colorbar\": {\"outlinewidth\": 0, \"ticks\": \"\"}}, \"type\": \"histogram\"}], \"histogram2d\": [{\"colorbar\": {\"outlinewidth\": 0, \"ticks\": \"\"}, \"colorscale\": [[0.0, \"#0d0887\"], [0.1111111111111111, \"#46039f\"], [0.2222222222222222, \"#7201a8\"], [0.3333333333333333, \"#9c179e\"], [0.4444444444444444, \"#bd3786\"], [0.5555555555555556, \"#d8576b\"], [0.6666666666666666, \"#ed7953\"], [0.7777777777777778, \"#fb9f3a\"], [0.8888888888888888, \"#fdca26\"], [1.0, \"#f0f921\"]], \"type\": \"histogram2d\"}], \"histogram2dcontour\": [{\"colorbar\": {\"outlinewidth\": 0, \"ticks\": \"\"}, \"colorscale\": [[0.0, \"#0d0887\"], [0.1111111111111111, \"#46039f\"], [0.2222222222222222, \"#7201a8\"], [0.3333333333333333, \"#9c179e\"], [0.4444444444444444, \"#bd3786\"], [0.5555555555555556, \"#d8576b\"], [0.6666666666666666, \"#ed7953\"], [0.7777777777777778, \"#fb9f3a\"], [0.8888888888888888, \"#fdca26\"], [1.0, \"#f0f921\"]], \"type\": \"histogram2dcontour\"}], \"mesh3d\": [{\"colorbar\": {\"outlinewidth\": 0, \"ticks\": \"\"}, \"type\": \"mesh3d\"}], \"parcoords\": [{\"line\": {\"colorbar\": {\"outlinewidth\": 0, \"ticks\": \"\"}}, \"type\": \"parcoords\"}], \"pie\": [{\"automargin\": true, \"type\": \"pie\"}], \"scatter\": [{\"marker\": {\"colorbar\": {\"outlinewidth\": 0, \"ticks\": \"\"}}, \"type\": \"scatter\"}], \"scatter3d\": [{\"line\": {\"colorbar\": {\"outlinewidth\": 0, \"ticks\": \"\"}}, \"marker\": {\"colorbar\": {\"outlinewidth\": 0, \"ticks\": \"\"}}, \"type\": \"scatter3d\"}], \"scattercarpet\": [{\"marker\": {\"colorbar\": {\"outlinewidth\": 0, \"ticks\": \"\"}}, \"type\": \"scattercarpet\"}], \"scattergeo\": [{\"marker\": {\"colorbar\": {\"outlinewidth\": 0, \"ticks\": \"\"}}, \"type\": \"scattergeo\"}], \"scattergl\": [{\"marker\": {\"colorbar\": {\"outlinewidth\": 0, \"ticks\": \"\"}}, \"type\": \"scattergl\"}], \"scattermapbox\": [{\"marker\": {\"colorbar\": {\"outlinewidth\": 0, \"ticks\": \"\"}}, \"type\": \"scattermapbox\"}], \"scatterpolar\": [{\"marker\": {\"colorbar\": {\"outlinewidth\": 0, \"ticks\": \"\"}}, \"type\": \"scatterpolar\"}], \"scatterpolargl\": [{\"marker\": {\"colorbar\": {\"outlinewidth\": 0, \"ticks\": \"\"}}, \"type\": \"scatterpolargl\"}], \"scatterternary\": [{\"marker\": {\"colorbar\": {\"outlinewidth\": 0, \"ticks\": \"\"}}, \"type\": \"scatterternary\"}], \"surface\": [{\"colorbar\": {\"outlinewidth\": 0, \"ticks\": \"\"}, \"colorscale\": [[0.0, \"#0d0887\"], [0.1111111111111111, \"#46039f\"], [0.2222222222222222, \"#7201a8\"], [0.3333333333333333, \"#9c179e\"], [0.4444444444444444, \"#bd3786\"], [0.5555555555555556, \"#d8576b\"], [0.6666666666666666, \"#ed7953\"], [0.7777777777777778, \"#fb9f3a\"], [0.8888888888888888, \"#fdca26\"], [1.0, \"#f0f921\"]], \"type\": \"surface\"}], \"table\": [{\"cells\": {\"fill\": {\"color\": \"#EBF0F8\"}, \"line\": {\"color\": \"white\"}}, \"header\": {\"fill\": {\"color\": \"#C8D4E3\"}, \"line\": {\"color\": \"white\"}}, \"type\": \"table\"}]}, \"layout\": {\"annotationdefaults\": {\"arrowcolor\": \"#2a3f5f\", \"arrowhead\": 0, \"arrowwidth\": 1}, \"autotypenumbers\": \"strict\", \"coloraxis\": {\"colorbar\": {\"outlinewidth\": 0, \"ticks\": \"\"}}, \"colorscale\": {\"diverging\": [[0, \"#8e0152\"], [0.1, \"#c51b7d\"], [0.2, \"#de77ae\"], [0.3, \"#f1b6da\"], [0.4, \"#fde0ef\"], [0.5, \"#f7f7f7\"], [0.6, \"#e6f5d0\"], [0.7, \"#b8e186\"], [0.8, \"#7fbc41\"], [0.9, \"#4d9221\"], [1, \"#276419\"]], \"sequential\": [[0.0, \"#0d0887\"], [0.1111111111111111, \"#46039f\"], [0.2222222222222222, \"#7201a8\"], [0.3333333333333333, \"#9c179e\"], [0.4444444444444444, \"#bd3786\"], [0.5555555555555556, \"#d8576b\"], [0.6666666666666666, \"#ed7953\"], [0.7777777777777778, \"#fb9f3a\"], [0.8888888888888888, \"#fdca26\"], [1.0, \"#f0f921\"]], \"sequentialminus\": [[0.0, \"#0d0887\"], [0.1111111111111111, \"#46039f\"], [0.2222222222222222, \"#7201a8\"], [0.3333333333333333, \"#9c179e\"], [0.4444444444444444, \"#bd3786\"], [0.5555555555555556, \"#d8576b\"], [0.6666666666666666, \"#ed7953\"], [0.7777777777777778, \"#fb9f3a\"], [0.8888888888888888, \"#fdca26\"], [1.0, \"#f0f921\"]]}, \"colorway\": [\"#636efa\", \"#EF553B\", \"#00cc96\", \"#ab63fa\", \"#FFA15A\", \"#19d3f3\", \"#FF6692\", \"#B6E880\", \"#FF97FF\", \"#FECB52\"], \"font\": {\"color\": \"#2a3f5f\"}, \"geo\": {\"bgcolor\": \"white\", \"lakecolor\": \"white\", \"landcolor\": \"#E5ECF6\", \"showlakes\": true, \"showland\": true, \"subunitcolor\": \"white\"}, \"hoverlabel\": {\"align\": \"left\"}, \"hovermode\": \"closest\", \"mapbox\": {\"style\": \"light\"}, \"paper_bgcolor\": \"white\", \"plot_bgcolor\": \"#E5ECF6\", \"polar\": {\"angularaxis\": {\"gridcolor\": \"white\", \"linecolor\": \"white\", \"ticks\": \"\"}, \"bgcolor\": \"#E5ECF6\", \"radialaxis\": {\"gridcolor\": \"white\", \"linecolor\": \"white\", \"ticks\": \"\"}}, \"scene\": {\"xaxis\": {\"backgroundcolor\": \"#E5ECF6\", \"gridcolor\": \"white\", \"gridwidth\": 2, \"linecolor\": \"white\", \"showbackground\": true, \"ticks\": \"\", \"zerolinecolor\": \"white\"}, \"yaxis\": {\"backgroundcolor\": \"#E5ECF6\", \"gridcolor\": \"white\", \"gridwidth\": 2, \"linecolor\": \"white\", \"showbackground\": true, \"ticks\": \"\", \"zerolinecolor\": \"white\"}, \"zaxis\": {\"backgroundcolor\": \"#E5ECF6\", \"gridcolor\": \"white\", \"gridwidth\": 2, \"linecolor\": \"white\", \"showbackground\": true, \"ticks\": \"\", \"zerolinecolor\": \"white\"}}, \"shapedefaults\": {\"line\": {\"color\": \"#2a3f5f\"}}, \"ternary\": {\"aaxis\": {\"gridcolor\": \"white\", \"linecolor\": \"white\", \"ticks\": \"\"}, \"baxis\": {\"gridcolor\": \"white\", \"linecolor\": \"white\", \"ticks\": \"\"}, \"bgcolor\": \"#E5ECF6\", \"caxis\": {\"gridcolor\": \"white\", \"linecolor\": \"white\", \"ticks\": \"\"}}, \"title\": {\"x\": 0.05}, \"xaxis\": {\"automargin\": true, \"gridcolor\": \"white\", \"linecolor\": \"white\", \"ticks\": \"\", \"title\": {\"standoff\": 15}, \"zerolinecolor\": \"white\", \"zerolinewidth\": 2}, \"yaxis\": {\"automargin\": true, \"gridcolor\": \"white\", \"linecolor\": \"white\", \"ticks\": \"\", \"title\": {\"standoff\": 15}, \"zerolinecolor\": \"white\", \"zerolinewidth\": 2}}}, \"title\": {\"font\": {\"color\": \"#4D5663\"}}, \"xaxis\": {\"gridcolor\": \"#E1E5ED\", \"showgrid\": true, \"tickfont\": {\"color\": \"#4D5663\"}, \"title\": {\"font\": {\"color\": \"#4D5663\"}, \"text\": \"\"}, \"zerolinecolor\": \"#E1E5ED\"}, \"yaxis\": {\"gridcolor\": \"#E1E5ED\", \"showgrid\": true, \"tickfont\": {\"color\": \"#4D5663\"}, \"title\": {\"font\": {\"color\": \"#4D5663\"}, \"text\": \"\"}, \"zerolinecolor\": \"#E1E5ED\"}},                        {\"showLink\": true, \"linkText\": \"Export to plot.ly\", \"plotlyServerURL\": \"https://plot.ly\", \"responsive\": true}                    ).then(function(){\n",
       "                            \n",
       "var gd = document.getElementById('82b9556d-20df-4ccf-960a-72c035ceab66');\n",
       "var x = new MutationObserver(function (mutations, observer) {{\n",
       "        var display = window.getComputedStyle(gd).display;\n",
       "        if (!display || display === 'none') {{\n",
       "            console.log([gd, 'removed!']);\n",
       "            Plotly.purge(gd);\n",
       "            observer.disconnect();\n",
       "        }}\n",
       "}});\n",
       "\n",
       "// Listen for the removal of the full notebook cells\n",
       "var notebookContainer = gd.closest('#notebook-container');\n",
       "if (notebookContainer) {{\n",
       "    x.observe(notebookContainer, {childList: true});\n",
       "}}\n",
       "\n",
       "// Listen for the clearing of the current output cell\n",
       "var outputEl = gd.closest('.output');\n",
       "if (outputEl) {{\n",
       "    x.observe(outputEl, {childList: true});\n",
       "}}\n",
       "\n",
       "                        })                };                });            </script>        </div>"
      ]
     },
     "metadata": {},
     "output_type": "display_data"
    }
   ],
   "source": [
    "df.iplot(kind='scatter', x='A', y='B', mode='markers')"
   ]
  },
  {
   "cell_type": "code",
   "execution_count": 20,
   "metadata": {},
   "outputs": [
    {
     "data": {
      "application/vnd.plotly.v1+json": {
       "config": {
        "linkText": "Export to plot.ly",
        "plotlyServerURL": "https://plot.ly",
        "showLink": true
       },
       "data": [
        {
         "marker": {
          "color": "rgba(255, 153, 51, 0.6)",
          "line": {
           "color": "rgba(255, 153, 51, 1.0)",
           "width": 1
          }
         },
         "name": "Values",
         "orientation": "v",
         "text": "",
         "type": "bar",
         "x": [
          "A",
          "B",
          "C"
         ],
         "y": [
          32,
          43,
          50
         ]
        }
       ],
       "layout": {
        "legend": {
         "bgcolor": "#F5F6F9",
         "font": {
          "color": "#4D5663"
         }
        },
        "paper_bgcolor": "#F5F6F9",
        "plot_bgcolor": "#F5F6F9",
        "template": {
         "data": {
          "bar": [
           {
            "error_x": {
             "color": "#2a3f5f"
            },
            "error_y": {
             "color": "#2a3f5f"
            },
            "marker": {
             "line": {
              "color": "#E5ECF6",
              "width": 0.5
             }
            },
            "type": "bar"
           }
          ],
          "barpolar": [
           {
            "marker": {
             "line": {
              "color": "#E5ECF6",
              "width": 0.5
             }
            },
            "type": "barpolar"
           }
          ],
          "carpet": [
           {
            "aaxis": {
             "endlinecolor": "#2a3f5f",
             "gridcolor": "white",
             "linecolor": "white",
             "minorgridcolor": "white",
             "startlinecolor": "#2a3f5f"
            },
            "baxis": {
             "endlinecolor": "#2a3f5f",
             "gridcolor": "white",
             "linecolor": "white",
             "minorgridcolor": "white",
             "startlinecolor": "#2a3f5f"
            },
            "type": "carpet"
           }
          ],
          "choropleth": [
           {
            "colorbar": {
             "outlinewidth": 0,
             "ticks": ""
            },
            "type": "choropleth"
           }
          ],
          "contour": [
           {
            "colorbar": {
             "outlinewidth": 0,
             "ticks": ""
            },
            "colorscale": [
             [
              0,
              "#0d0887"
             ],
             [
              0.1111111111111111,
              "#46039f"
             ],
             [
              0.2222222222222222,
              "#7201a8"
             ],
             [
              0.3333333333333333,
              "#9c179e"
             ],
             [
              0.4444444444444444,
              "#bd3786"
             ],
             [
              0.5555555555555556,
              "#d8576b"
             ],
             [
              0.6666666666666666,
              "#ed7953"
             ],
             [
              0.7777777777777778,
              "#fb9f3a"
             ],
             [
              0.8888888888888888,
              "#fdca26"
             ],
             [
              1,
              "#f0f921"
             ]
            ],
            "type": "contour"
           }
          ],
          "contourcarpet": [
           {
            "colorbar": {
             "outlinewidth": 0,
             "ticks": ""
            },
            "type": "contourcarpet"
           }
          ],
          "heatmap": [
           {
            "colorbar": {
             "outlinewidth": 0,
             "ticks": ""
            },
            "colorscale": [
             [
              0,
              "#0d0887"
             ],
             [
              0.1111111111111111,
              "#46039f"
             ],
             [
              0.2222222222222222,
              "#7201a8"
             ],
             [
              0.3333333333333333,
              "#9c179e"
             ],
             [
              0.4444444444444444,
              "#bd3786"
             ],
             [
              0.5555555555555556,
              "#d8576b"
             ],
             [
              0.6666666666666666,
              "#ed7953"
             ],
             [
              0.7777777777777778,
              "#fb9f3a"
             ],
             [
              0.8888888888888888,
              "#fdca26"
             ],
             [
              1,
              "#f0f921"
             ]
            ],
            "type": "heatmap"
           }
          ],
          "heatmapgl": [
           {
            "colorbar": {
             "outlinewidth": 0,
             "ticks": ""
            },
            "colorscale": [
             [
              0,
              "#0d0887"
             ],
             [
              0.1111111111111111,
              "#46039f"
             ],
             [
              0.2222222222222222,
              "#7201a8"
             ],
             [
              0.3333333333333333,
              "#9c179e"
             ],
             [
              0.4444444444444444,
              "#bd3786"
             ],
             [
              0.5555555555555556,
              "#d8576b"
             ],
             [
              0.6666666666666666,
              "#ed7953"
             ],
             [
              0.7777777777777778,
              "#fb9f3a"
             ],
             [
              0.8888888888888888,
              "#fdca26"
             ],
             [
              1,
              "#f0f921"
             ]
            ],
            "type": "heatmapgl"
           }
          ],
          "histogram": [
           {
            "marker": {
             "colorbar": {
              "outlinewidth": 0,
              "ticks": ""
             }
            },
            "type": "histogram"
           }
          ],
          "histogram2d": [
           {
            "colorbar": {
             "outlinewidth": 0,
             "ticks": ""
            },
            "colorscale": [
             [
              0,
              "#0d0887"
             ],
             [
              0.1111111111111111,
              "#46039f"
             ],
             [
              0.2222222222222222,
              "#7201a8"
             ],
             [
              0.3333333333333333,
              "#9c179e"
             ],
             [
              0.4444444444444444,
              "#bd3786"
             ],
             [
              0.5555555555555556,
              "#d8576b"
             ],
             [
              0.6666666666666666,
              "#ed7953"
             ],
             [
              0.7777777777777778,
              "#fb9f3a"
             ],
             [
              0.8888888888888888,
              "#fdca26"
             ],
             [
              1,
              "#f0f921"
             ]
            ],
            "type": "histogram2d"
           }
          ],
          "histogram2dcontour": [
           {
            "colorbar": {
             "outlinewidth": 0,
             "ticks": ""
            },
            "colorscale": [
             [
              0,
              "#0d0887"
             ],
             [
              0.1111111111111111,
              "#46039f"
             ],
             [
              0.2222222222222222,
              "#7201a8"
             ],
             [
              0.3333333333333333,
              "#9c179e"
             ],
             [
              0.4444444444444444,
              "#bd3786"
             ],
             [
              0.5555555555555556,
              "#d8576b"
             ],
             [
              0.6666666666666666,
              "#ed7953"
             ],
             [
              0.7777777777777778,
              "#fb9f3a"
             ],
             [
              0.8888888888888888,
              "#fdca26"
             ],
             [
              1,
              "#f0f921"
             ]
            ],
            "type": "histogram2dcontour"
           }
          ],
          "mesh3d": [
           {
            "colorbar": {
             "outlinewidth": 0,
             "ticks": ""
            },
            "type": "mesh3d"
           }
          ],
          "parcoords": [
           {
            "line": {
             "colorbar": {
              "outlinewidth": 0,
              "ticks": ""
             }
            },
            "type": "parcoords"
           }
          ],
          "pie": [
           {
            "automargin": true,
            "type": "pie"
           }
          ],
          "scatter": [
           {
            "marker": {
             "colorbar": {
              "outlinewidth": 0,
              "ticks": ""
             }
            },
            "type": "scatter"
           }
          ],
          "scatter3d": [
           {
            "line": {
             "colorbar": {
              "outlinewidth": 0,
              "ticks": ""
             }
            },
            "marker": {
             "colorbar": {
              "outlinewidth": 0,
              "ticks": ""
             }
            },
            "type": "scatter3d"
           }
          ],
          "scattercarpet": [
           {
            "marker": {
             "colorbar": {
              "outlinewidth": 0,
              "ticks": ""
             }
            },
            "type": "scattercarpet"
           }
          ],
          "scattergeo": [
           {
            "marker": {
             "colorbar": {
              "outlinewidth": 0,
              "ticks": ""
             }
            },
            "type": "scattergeo"
           }
          ],
          "scattergl": [
           {
            "marker": {
             "colorbar": {
              "outlinewidth": 0,
              "ticks": ""
             }
            },
            "type": "scattergl"
           }
          ],
          "scattermapbox": [
           {
            "marker": {
             "colorbar": {
              "outlinewidth": 0,
              "ticks": ""
             }
            },
            "type": "scattermapbox"
           }
          ],
          "scatterpolar": [
           {
            "marker": {
             "colorbar": {
              "outlinewidth": 0,
              "ticks": ""
             }
            },
            "type": "scatterpolar"
           }
          ],
          "scatterpolargl": [
           {
            "marker": {
             "colorbar": {
              "outlinewidth": 0,
              "ticks": ""
             }
            },
            "type": "scatterpolargl"
           }
          ],
          "scatterternary": [
           {
            "marker": {
             "colorbar": {
              "outlinewidth": 0,
              "ticks": ""
             }
            },
            "type": "scatterternary"
           }
          ],
          "surface": [
           {
            "colorbar": {
             "outlinewidth": 0,
             "ticks": ""
            },
            "colorscale": [
             [
              0,
              "#0d0887"
             ],
             [
              0.1111111111111111,
              "#46039f"
             ],
             [
              0.2222222222222222,
              "#7201a8"
             ],
             [
              0.3333333333333333,
              "#9c179e"
             ],
             [
              0.4444444444444444,
              "#bd3786"
             ],
             [
              0.5555555555555556,
              "#d8576b"
             ],
             [
              0.6666666666666666,
              "#ed7953"
             ],
             [
              0.7777777777777778,
              "#fb9f3a"
             ],
             [
              0.8888888888888888,
              "#fdca26"
             ],
             [
              1,
              "#f0f921"
             ]
            ],
            "type": "surface"
           }
          ],
          "table": [
           {
            "cells": {
             "fill": {
              "color": "#EBF0F8"
             },
             "line": {
              "color": "white"
             }
            },
            "header": {
             "fill": {
              "color": "#C8D4E3"
             },
             "line": {
              "color": "white"
             }
            },
            "type": "table"
           }
          ]
         },
         "layout": {
          "annotationdefaults": {
           "arrowcolor": "#2a3f5f",
           "arrowhead": 0,
           "arrowwidth": 1
          },
          "autotypenumbers": "strict",
          "coloraxis": {
           "colorbar": {
            "outlinewidth": 0,
            "ticks": ""
           }
          },
          "colorscale": {
           "diverging": [
            [
             0,
             "#8e0152"
            ],
            [
             0.1,
             "#c51b7d"
            ],
            [
             0.2,
             "#de77ae"
            ],
            [
             0.3,
             "#f1b6da"
            ],
            [
             0.4,
             "#fde0ef"
            ],
            [
             0.5,
             "#f7f7f7"
            ],
            [
             0.6,
             "#e6f5d0"
            ],
            [
             0.7,
             "#b8e186"
            ],
            [
             0.8,
             "#7fbc41"
            ],
            [
             0.9,
             "#4d9221"
            ],
            [
             1,
             "#276419"
            ]
           ],
           "sequential": [
            [
             0,
             "#0d0887"
            ],
            [
             0.1111111111111111,
             "#46039f"
            ],
            [
             0.2222222222222222,
             "#7201a8"
            ],
            [
             0.3333333333333333,
             "#9c179e"
            ],
            [
             0.4444444444444444,
             "#bd3786"
            ],
            [
             0.5555555555555556,
             "#d8576b"
            ],
            [
             0.6666666666666666,
             "#ed7953"
            ],
            [
             0.7777777777777778,
             "#fb9f3a"
            ],
            [
             0.8888888888888888,
             "#fdca26"
            ],
            [
             1,
             "#f0f921"
            ]
           ],
           "sequentialminus": [
            [
             0,
             "#0d0887"
            ],
            [
             0.1111111111111111,
             "#46039f"
            ],
            [
             0.2222222222222222,
             "#7201a8"
            ],
            [
             0.3333333333333333,
             "#9c179e"
            ],
            [
             0.4444444444444444,
             "#bd3786"
            ],
            [
             0.5555555555555556,
             "#d8576b"
            ],
            [
             0.6666666666666666,
             "#ed7953"
            ],
            [
             0.7777777777777778,
             "#fb9f3a"
            ],
            [
             0.8888888888888888,
             "#fdca26"
            ],
            [
             1,
             "#f0f921"
            ]
           ]
          },
          "colorway": [
           "#636efa",
           "#EF553B",
           "#00cc96",
           "#ab63fa",
           "#FFA15A",
           "#19d3f3",
           "#FF6692",
           "#B6E880",
           "#FF97FF",
           "#FECB52"
          ],
          "font": {
           "color": "#2a3f5f"
          },
          "geo": {
           "bgcolor": "white",
           "lakecolor": "white",
           "landcolor": "#E5ECF6",
           "showlakes": true,
           "showland": true,
           "subunitcolor": "white"
          },
          "hoverlabel": {
           "align": "left"
          },
          "hovermode": "closest",
          "mapbox": {
           "style": "light"
          },
          "paper_bgcolor": "white",
          "plot_bgcolor": "#E5ECF6",
          "polar": {
           "angularaxis": {
            "gridcolor": "white",
            "linecolor": "white",
            "ticks": ""
           },
           "bgcolor": "#E5ECF6",
           "radialaxis": {
            "gridcolor": "white",
            "linecolor": "white",
            "ticks": ""
           }
          },
          "scene": {
           "xaxis": {
            "backgroundcolor": "#E5ECF6",
            "gridcolor": "white",
            "gridwidth": 2,
            "linecolor": "white",
            "showbackground": true,
            "ticks": "",
            "zerolinecolor": "white"
           },
           "yaxis": {
            "backgroundcolor": "#E5ECF6",
            "gridcolor": "white",
            "gridwidth": 2,
            "linecolor": "white",
            "showbackground": true,
            "ticks": "",
            "zerolinecolor": "white"
           },
           "zaxis": {
            "backgroundcolor": "#E5ECF6",
            "gridcolor": "white",
            "gridwidth": 2,
            "linecolor": "white",
            "showbackground": true,
            "ticks": "",
            "zerolinecolor": "white"
           }
          },
          "shapedefaults": {
           "line": {
            "color": "#2a3f5f"
           }
          },
          "ternary": {
           "aaxis": {
            "gridcolor": "white",
            "linecolor": "white",
            "ticks": ""
           },
           "baxis": {
            "gridcolor": "white",
            "linecolor": "white",
            "ticks": ""
           },
           "bgcolor": "#E5ECF6",
           "caxis": {
            "gridcolor": "white",
            "linecolor": "white",
            "ticks": ""
           }
          },
          "title": {
           "x": 0.05
          },
          "xaxis": {
           "automargin": true,
           "gridcolor": "white",
           "linecolor": "white",
           "ticks": "",
           "title": {
            "standoff": 15
           },
           "zerolinecolor": "white",
           "zerolinewidth": 2
          },
          "yaxis": {
           "automargin": true,
           "gridcolor": "white",
           "linecolor": "white",
           "ticks": "",
           "title": {
            "standoff": 15
           },
           "zerolinecolor": "white",
           "zerolinewidth": 2
          }
         }
        },
        "title": {
         "font": {
          "color": "#4D5663"
         }
        },
        "xaxis": {
         "gridcolor": "#E1E5ED",
         "showgrid": true,
         "tickfont": {
          "color": "#4D5663"
         },
         "title": {
          "font": {
           "color": "#4D5663"
          },
          "text": ""
         },
         "zerolinecolor": "#E1E5ED"
        },
        "yaxis": {
         "gridcolor": "#E1E5ED",
         "showgrid": true,
         "tickfont": {
          "color": "#4D5663"
         },
         "title": {
          "font": {
           "color": "#4D5663"
          },
          "text": ""
         },
         "zerolinecolor": "#E1E5ED"
        }
       }
      },
      "text/html": [
       "<div>                            <div id=\"6c02ee61-f81c-42e8-8dc8-9645507978a6\" class=\"plotly-graph-div\" style=\"height:525px; width:100%;\"></div>            <script type=\"text/javascript\">                require([\"plotly\"], function(Plotly) {                    window.PLOTLYENV=window.PLOTLYENV || {};\n",
       "                    window.PLOTLYENV.BASE_URL='https://plot.ly';                                    if (document.getElementById(\"6c02ee61-f81c-42e8-8dc8-9645507978a6\")) {                    Plotly.newPlot(                        \"6c02ee61-f81c-42e8-8dc8-9645507978a6\",                        [{\"marker\": {\"color\": \"rgba(255, 153, 51, 0.6)\", \"line\": {\"color\": \"rgba(255, 153, 51, 1.0)\", \"width\": 1}}, \"name\": \"Values\", \"orientation\": \"v\", \"text\": \"\", \"type\": \"bar\", \"x\": [\"A\", \"B\", \"C\"], \"y\": [32, 43, 50]}],                        {\"legend\": {\"bgcolor\": \"#F5F6F9\", \"font\": {\"color\": \"#4D5663\"}}, \"paper_bgcolor\": \"#F5F6F9\", \"plot_bgcolor\": \"#F5F6F9\", \"template\": {\"data\": {\"bar\": [{\"error_x\": {\"color\": \"#2a3f5f\"}, \"error_y\": {\"color\": \"#2a3f5f\"}, \"marker\": {\"line\": {\"color\": \"#E5ECF6\", \"width\": 0.5}}, \"type\": \"bar\"}], \"barpolar\": [{\"marker\": {\"line\": {\"color\": \"#E5ECF6\", \"width\": 0.5}}, \"type\": \"barpolar\"}], \"carpet\": [{\"aaxis\": {\"endlinecolor\": \"#2a3f5f\", \"gridcolor\": \"white\", \"linecolor\": \"white\", \"minorgridcolor\": \"white\", \"startlinecolor\": \"#2a3f5f\"}, \"baxis\": {\"endlinecolor\": \"#2a3f5f\", \"gridcolor\": \"white\", \"linecolor\": \"white\", \"minorgridcolor\": \"white\", \"startlinecolor\": \"#2a3f5f\"}, \"type\": \"carpet\"}], \"choropleth\": [{\"colorbar\": {\"outlinewidth\": 0, \"ticks\": \"\"}, \"type\": \"choropleth\"}], \"contour\": [{\"colorbar\": {\"outlinewidth\": 0, \"ticks\": \"\"}, \"colorscale\": [[0.0, \"#0d0887\"], [0.1111111111111111, \"#46039f\"], [0.2222222222222222, \"#7201a8\"], [0.3333333333333333, \"#9c179e\"], [0.4444444444444444, \"#bd3786\"], [0.5555555555555556, \"#d8576b\"], [0.6666666666666666, \"#ed7953\"], [0.7777777777777778, \"#fb9f3a\"], [0.8888888888888888, \"#fdca26\"], [1.0, \"#f0f921\"]], \"type\": \"contour\"}], \"contourcarpet\": [{\"colorbar\": {\"outlinewidth\": 0, \"ticks\": \"\"}, \"type\": \"contourcarpet\"}], \"heatmap\": [{\"colorbar\": {\"outlinewidth\": 0, \"ticks\": \"\"}, \"colorscale\": [[0.0, \"#0d0887\"], [0.1111111111111111, \"#46039f\"], [0.2222222222222222, \"#7201a8\"], [0.3333333333333333, \"#9c179e\"], [0.4444444444444444, \"#bd3786\"], [0.5555555555555556, \"#d8576b\"], [0.6666666666666666, \"#ed7953\"], [0.7777777777777778, \"#fb9f3a\"], [0.8888888888888888, \"#fdca26\"], [1.0, \"#f0f921\"]], \"type\": \"heatmap\"}], \"heatmapgl\": [{\"colorbar\": {\"outlinewidth\": 0, \"ticks\": \"\"}, \"colorscale\": [[0.0, \"#0d0887\"], [0.1111111111111111, \"#46039f\"], [0.2222222222222222, \"#7201a8\"], [0.3333333333333333, \"#9c179e\"], [0.4444444444444444, \"#bd3786\"], [0.5555555555555556, \"#d8576b\"], [0.6666666666666666, \"#ed7953\"], [0.7777777777777778, \"#fb9f3a\"], [0.8888888888888888, \"#fdca26\"], [1.0, \"#f0f921\"]], \"type\": \"heatmapgl\"}], \"histogram\": [{\"marker\": {\"colorbar\": {\"outlinewidth\": 0, \"ticks\": \"\"}}, \"type\": \"histogram\"}], \"histogram2d\": [{\"colorbar\": {\"outlinewidth\": 0, \"ticks\": \"\"}, \"colorscale\": [[0.0, \"#0d0887\"], [0.1111111111111111, \"#46039f\"], [0.2222222222222222, \"#7201a8\"], [0.3333333333333333, \"#9c179e\"], [0.4444444444444444, \"#bd3786\"], [0.5555555555555556, \"#d8576b\"], [0.6666666666666666, \"#ed7953\"], [0.7777777777777778, \"#fb9f3a\"], [0.8888888888888888, \"#fdca26\"], [1.0, \"#f0f921\"]], \"type\": \"histogram2d\"}], \"histogram2dcontour\": [{\"colorbar\": {\"outlinewidth\": 0, \"ticks\": \"\"}, \"colorscale\": [[0.0, \"#0d0887\"], [0.1111111111111111, \"#46039f\"], [0.2222222222222222, \"#7201a8\"], [0.3333333333333333, \"#9c179e\"], [0.4444444444444444, \"#bd3786\"], [0.5555555555555556, \"#d8576b\"], [0.6666666666666666, \"#ed7953\"], [0.7777777777777778, \"#fb9f3a\"], [0.8888888888888888, \"#fdca26\"], [1.0, \"#f0f921\"]], \"type\": \"histogram2dcontour\"}], \"mesh3d\": [{\"colorbar\": {\"outlinewidth\": 0, \"ticks\": \"\"}, \"type\": \"mesh3d\"}], \"parcoords\": [{\"line\": {\"colorbar\": {\"outlinewidth\": 0, \"ticks\": \"\"}}, \"type\": \"parcoords\"}], \"pie\": [{\"automargin\": true, \"type\": \"pie\"}], \"scatter\": [{\"marker\": {\"colorbar\": {\"outlinewidth\": 0, \"ticks\": \"\"}}, \"type\": \"scatter\"}], \"scatter3d\": [{\"line\": {\"colorbar\": {\"outlinewidth\": 0, \"ticks\": \"\"}}, \"marker\": {\"colorbar\": {\"outlinewidth\": 0, \"ticks\": \"\"}}, \"type\": \"scatter3d\"}], \"scattercarpet\": [{\"marker\": {\"colorbar\": {\"outlinewidth\": 0, \"ticks\": \"\"}}, \"type\": \"scattercarpet\"}], \"scattergeo\": [{\"marker\": {\"colorbar\": {\"outlinewidth\": 0, \"ticks\": \"\"}}, \"type\": \"scattergeo\"}], \"scattergl\": [{\"marker\": {\"colorbar\": {\"outlinewidth\": 0, \"ticks\": \"\"}}, \"type\": \"scattergl\"}], \"scattermapbox\": [{\"marker\": {\"colorbar\": {\"outlinewidth\": 0, \"ticks\": \"\"}}, \"type\": \"scattermapbox\"}], \"scatterpolar\": [{\"marker\": {\"colorbar\": {\"outlinewidth\": 0, \"ticks\": \"\"}}, \"type\": \"scatterpolar\"}], \"scatterpolargl\": [{\"marker\": {\"colorbar\": {\"outlinewidth\": 0, \"ticks\": \"\"}}, \"type\": \"scatterpolargl\"}], \"scatterternary\": [{\"marker\": {\"colorbar\": {\"outlinewidth\": 0, \"ticks\": \"\"}}, \"type\": \"scatterternary\"}], \"surface\": [{\"colorbar\": {\"outlinewidth\": 0, \"ticks\": \"\"}, \"colorscale\": [[0.0, \"#0d0887\"], [0.1111111111111111, \"#46039f\"], [0.2222222222222222, \"#7201a8\"], [0.3333333333333333, \"#9c179e\"], [0.4444444444444444, \"#bd3786\"], [0.5555555555555556, \"#d8576b\"], [0.6666666666666666, \"#ed7953\"], [0.7777777777777778, \"#fb9f3a\"], [0.8888888888888888, \"#fdca26\"], [1.0, \"#f0f921\"]], \"type\": \"surface\"}], \"table\": [{\"cells\": {\"fill\": {\"color\": \"#EBF0F8\"}, \"line\": {\"color\": \"white\"}}, \"header\": {\"fill\": {\"color\": \"#C8D4E3\"}, \"line\": {\"color\": \"white\"}}, \"type\": \"table\"}]}, \"layout\": {\"annotationdefaults\": {\"arrowcolor\": \"#2a3f5f\", \"arrowhead\": 0, \"arrowwidth\": 1}, \"autotypenumbers\": \"strict\", \"coloraxis\": {\"colorbar\": {\"outlinewidth\": 0, \"ticks\": \"\"}}, \"colorscale\": {\"diverging\": [[0, \"#8e0152\"], [0.1, \"#c51b7d\"], [0.2, \"#de77ae\"], [0.3, \"#f1b6da\"], [0.4, \"#fde0ef\"], [0.5, \"#f7f7f7\"], [0.6, \"#e6f5d0\"], [0.7, \"#b8e186\"], [0.8, \"#7fbc41\"], [0.9, \"#4d9221\"], [1, \"#276419\"]], \"sequential\": [[0.0, \"#0d0887\"], [0.1111111111111111, \"#46039f\"], [0.2222222222222222, \"#7201a8\"], [0.3333333333333333, \"#9c179e\"], [0.4444444444444444, \"#bd3786\"], [0.5555555555555556, \"#d8576b\"], [0.6666666666666666, \"#ed7953\"], [0.7777777777777778, \"#fb9f3a\"], [0.8888888888888888, \"#fdca26\"], [1.0, \"#f0f921\"]], \"sequentialminus\": [[0.0, \"#0d0887\"], [0.1111111111111111, \"#46039f\"], [0.2222222222222222, \"#7201a8\"], [0.3333333333333333, \"#9c179e\"], [0.4444444444444444, \"#bd3786\"], [0.5555555555555556, \"#d8576b\"], [0.6666666666666666, \"#ed7953\"], [0.7777777777777778, \"#fb9f3a\"], [0.8888888888888888, \"#fdca26\"], [1.0, \"#f0f921\"]]}, \"colorway\": [\"#636efa\", \"#EF553B\", \"#00cc96\", \"#ab63fa\", \"#FFA15A\", \"#19d3f3\", \"#FF6692\", \"#B6E880\", \"#FF97FF\", \"#FECB52\"], \"font\": {\"color\": \"#2a3f5f\"}, \"geo\": {\"bgcolor\": \"white\", \"lakecolor\": \"white\", \"landcolor\": \"#E5ECF6\", \"showlakes\": true, \"showland\": true, \"subunitcolor\": \"white\"}, \"hoverlabel\": {\"align\": \"left\"}, \"hovermode\": \"closest\", \"mapbox\": {\"style\": \"light\"}, \"paper_bgcolor\": \"white\", \"plot_bgcolor\": \"#E5ECF6\", \"polar\": {\"angularaxis\": {\"gridcolor\": \"white\", \"linecolor\": \"white\", \"ticks\": \"\"}, \"bgcolor\": \"#E5ECF6\", \"radialaxis\": {\"gridcolor\": \"white\", \"linecolor\": \"white\", \"ticks\": \"\"}}, \"scene\": {\"xaxis\": {\"backgroundcolor\": \"#E5ECF6\", \"gridcolor\": \"white\", \"gridwidth\": 2, \"linecolor\": \"white\", \"showbackground\": true, \"ticks\": \"\", \"zerolinecolor\": \"white\"}, \"yaxis\": {\"backgroundcolor\": \"#E5ECF6\", \"gridcolor\": \"white\", \"gridwidth\": 2, \"linecolor\": \"white\", \"showbackground\": true, \"ticks\": \"\", \"zerolinecolor\": \"white\"}, \"zaxis\": {\"backgroundcolor\": \"#E5ECF6\", \"gridcolor\": \"white\", \"gridwidth\": 2, \"linecolor\": \"white\", \"showbackground\": true, \"ticks\": \"\", \"zerolinecolor\": \"white\"}}, \"shapedefaults\": {\"line\": {\"color\": \"#2a3f5f\"}}, \"ternary\": {\"aaxis\": {\"gridcolor\": \"white\", \"linecolor\": \"white\", \"ticks\": \"\"}, \"baxis\": {\"gridcolor\": \"white\", \"linecolor\": \"white\", \"ticks\": \"\"}, \"bgcolor\": \"#E5ECF6\", \"caxis\": {\"gridcolor\": \"white\", \"linecolor\": \"white\", \"ticks\": \"\"}}, \"title\": {\"x\": 0.05}, \"xaxis\": {\"automargin\": true, \"gridcolor\": \"white\", \"linecolor\": \"white\", \"ticks\": \"\", \"title\": {\"standoff\": 15}, \"zerolinecolor\": \"white\", \"zerolinewidth\": 2}, \"yaxis\": {\"automargin\": true, \"gridcolor\": \"white\", \"linecolor\": \"white\", \"ticks\": \"\", \"title\": {\"standoff\": 15}, \"zerolinecolor\": \"white\", \"zerolinewidth\": 2}}}, \"title\": {\"font\": {\"color\": \"#4D5663\"}}, \"xaxis\": {\"gridcolor\": \"#E1E5ED\", \"showgrid\": true, \"tickfont\": {\"color\": \"#4D5663\"}, \"title\": {\"font\": {\"color\": \"#4D5663\"}, \"text\": \"\"}, \"zerolinecolor\": \"#E1E5ED\"}, \"yaxis\": {\"gridcolor\": \"#E1E5ED\", \"showgrid\": true, \"tickfont\": {\"color\": \"#4D5663\"}, \"title\": {\"font\": {\"color\": \"#4D5663\"}, \"text\": \"\"}, \"zerolinecolor\": \"#E1E5ED\"}},                        {\"showLink\": true, \"linkText\": \"Export to plot.ly\", \"plotlyServerURL\": \"https://plot.ly\", \"responsive\": true}                    ).then(function(){\n",
       "                            \n",
       "var gd = document.getElementById('6c02ee61-f81c-42e8-8dc8-9645507978a6');\n",
       "var x = new MutationObserver(function (mutations, observer) {{\n",
       "        var display = window.getComputedStyle(gd).display;\n",
       "        if (!display || display === 'none') {{\n",
       "            console.log([gd, 'removed!']);\n",
       "            Plotly.purge(gd);\n",
       "            observer.disconnect();\n",
       "        }}\n",
       "}});\n",
       "\n",
       "// Listen for the removal of the full notebook cells\n",
       "var notebookContainer = gd.closest('#notebook-container');\n",
       "if (notebookContainer) {{\n",
       "    x.observe(notebookContainer, {childList: true});\n",
       "}}\n",
       "\n",
       "// Listen for the clearing of the current output cell\n",
       "var outputEl = gd.closest('.output');\n",
       "if (outputEl) {{\n",
       "    x.observe(outputEl, {childList: true});\n",
       "}}\n",
       "\n",
       "                        })                };                });            </script>        </div>"
      ]
     },
     "metadata": {},
     "output_type": "display_data"
    }
   ],
   "source": [
    "df2.iplot(kind='bar', x='Category', y='Values')"
   ]
  },
  {
   "cell_type": "code",
   "execution_count": 28,
   "metadata": {},
   "outputs": [
    {
     "data": {
      "application/vnd.plotly.v1+json": {
       "config": {
        "linkText": "Export to plot.ly",
        "plotlyServerURL": "https://plot.ly",
        "showLink": true
       },
       "data": [
        {
         "boxpoints": false,
         "line": {
          "width": 1.3
         },
         "marker": {
          "color": "rgba(255, 153, 51, 1.0)"
         },
         "name": "A",
         "orientation": "v",
         "type": "box",
         "y": [
          -1.3344538032223674,
          -0.8924994259218787,
          0.26886804372886924,
          0.15768862475176948,
          -0.22119158008310583,
          0.4620509340031127,
          2.4335083818309733,
          0.6283138878570738,
          0.5916528935640983,
          -1.107880473845743,
          -0.9624677212340109,
          -2.0455267244571513,
          0.0909847865615543,
          0.3952627572504107,
          0.4419932489725158,
          -0.4226953551742026,
          0.06289069744869118,
          -0.7006193989648868,
          -1.083720431567451,
          -1.060865658791126,
          -0.09081056338239148,
          -0.9353209782547409,
          0.3589422148729274,
          -1.7868990461486924,
          -0.745064837314155,
          1.6890846798067614,
          -0.1583008202058165,
          -0.2393581360509466,
          -0.3591360207502799,
          0.08032986483476401,
          -1.0175142609752241,
          -1.5016700621947336,
          1.0074806858167047,
          0.6986590715947596,
          -2.588343670560577,
          1.6081822850576204,
          -0.22914040070541067,
          -0.5293183734964289,
          0.08222597405486373,
          -1.4699631892936766,
          -1.7930767125550209,
          -0.8790112806279785,
          -1.169373718837128,
          0.1384087066882726,
          -1.0214761584041196,
          -0.04441846576227683,
          0.39667629555448003,
          0.20222543201121596,
          -1.2020756242009765,
          -1.0165590854073892,
          0.46592468153875083,
          0.31916647378233987,
          -1.7589705686927102,
          -0.19469290293284697,
          -0.017517836703771206,
          -1.0825926071297598,
          0.8868635912852298,
          1.5313879689211365,
          -0.8832920419908965,
          1.0771696646288276,
          0.4214819723313268,
          0.512096106061291,
          -0.5765759849025575,
          0.11538594660067654,
          -1.1688312935731027,
          0.6842055251828377,
          0.22219602704027291,
          -0.5744307101478267,
          0.6367232205179054,
          0.6191256148390696,
          1.8834084468543921,
          -0.019136677575396017,
          -1.1087586253663548,
          -0.09033572122028868,
          1.4938373325772583,
          -0.4050399181262893,
          -1.7460005036504043,
          -0.874792619992864,
          1.3994180541184202,
          0.799905796022181,
          1.274938101349231,
          0.2394547792737676,
          -1.577915260135125,
          0.1213707929995456,
          0.13672512118700048,
          -0.6331153406325125,
          0.8242219198301328,
          0.11707874435192542,
          0.7436012566066985,
          -1.6258384419836545,
          -0.03584548827872644,
          0.08944783921389679,
          0.578477924074061,
          0.7299558400202367,
          0.08093456386569041,
          -0.2981280006647906,
          0.7196159948359657,
          -0.9887151828728751,
          -1.2858827698631239,
          -0.6567521716175984
         ]
        },
        {
         "boxpoints": false,
         "line": {
          "width": 1.3
         },
         "marker": {
          "color": "rgba(55, 128, 191, 1.0)"
         },
         "name": "B",
         "orientation": "v",
         "type": "box",
         "y": [
          0.14115223110497468,
          0.0064944644833475305,
          0.7422571167780311,
          1.0645093771659695,
          -0.3106905288382996,
          0.9105427572688288,
          0.6103120706936248,
          0.9859342503407027,
          -1.3935904672907908,
          0.5691387823512065,
          0.6619116415384811,
          1.6926025880928388,
          -0.6199815554999915,
          -0.08994976033741052,
          1.0750757711471672,
          0.9473855422854135,
          -0.9659146731795786,
          -0.8563163114136054,
          0.40461905434576567,
          -0.352421659367107,
          -0.17570731026437184,
          -0.9037477548119306,
          -0.02350852517774842,
          0.05092474675920466,
          1.043949946154262,
          -2.4490346466295554,
          0.33014417054208783,
          -2.2514329386378424,
          0.13653096809477527,
          0.27854119209137806,
          0.12084021939900245,
          -0.22910722021751045,
          0.8157967113919772,
          0.843764373253457,
          -0.1426121926871968,
          -0.5483486869724357,
          0.2608490671514323,
          -0.26372400914740446,
          0.8194095519733929,
          -0.270587376920324,
          -0.7737009584318266,
          -1.8472980629037679,
          -0.7082294452695416,
          0.41190023363389006,
          -0.05569757355731567,
          -0.8395179440475853,
          1.237960335845157,
          0.09429165095844295,
          0.8444303425008042,
          1.0941573273460798,
          0.5004607034246967,
          -1.2380236960978572,
          -0.5299553544779251,
          -2.401224423159397,
          -1.533248329403312,
          -0.17338990000742058,
          -1.303044209950965,
          0.15434110478985552,
          -0.014923617770171496,
          2.2196598208911857,
          -0.22823646275445944,
          -0.2495367783710828,
          -0.08131270339267661,
          1.9699500613792806,
          -1.188690274209095,
          0.8832334729754634,
          2.09273443955495,
          -1.0036519160375525,
          -0.7060680965281807,
          -0.23968689244003327,
          0.163276759185642,
          -0.686450971672635,
          -0.30631556602327387,
          -0.08707637532852806,
          -0.5228852910421682,
          -0.7172234514173806,
          -0.29517886902307716,
          -0.20458324362180894,
          -1.462710827625806,
          1.4670598502699281,
          0.8479039242641055,
          -1.9986453717747588,
          -0.6388634514624134,
          0.28169086802838134,
          -0.7770575057522737,
          0.04592948766882219,
          -1.0942302497431726,
          0.9789185809599306,
          -0.46129486343229453,
          -0.40833102173104213,
          1.227531863543337,
          -0.37368070911341755,
          -0.45808425613661174,
          0.7934113176984202,
          -1.500505747410543,
          0.3307505779477316,
          0.5925706519046703,
          1.635234820387899,
          0.4765566163310391,
          -1.1996493035445714
         ]
        },
        {
         "boxpoints": false,
         "line": {
          "width": 1.3
         },
         "marker": {
          "color": "rgba(50, 171, 96, 1.0)"
         },
         "name": "C",
         "orientation": "v",
         "type": "box",
         "y": [
          0.2530917113271322,
          -0.9890104346964195,
          -0.39399061015526105,
          -0.806349443728782,
          1.0269292755252677,
          -0.5765171906888962,
          1.595271012716274,
          0.5963187126316164,
          -1.4502231149363887,
          -0.4112895787635489,
          1.8019109475952786,
          -0.0918095648497734,
          0.7627425581289289,
          -0.21914522192757702,
          -0.2926509630327127,
          -0.6971203406836002,
          -0.5468277875916475,
          -0.7331471279589682,
          0.7182673562773526,
          -1.1734544133177471,
          -1.474992929667637,
          0.8683397659408032,
          0.35905053100282663,
          0.2292625916257633,
          -0.6967589269149497,
          -0.48177822080743415,
          -0.9222113134634797,
          1.2461523735545468,
          1.5046599491507222,
          0.92261259229617,
          0.06195593412560095,
          1.3501517219540615,
          -0.1962592516509624,
          -1.5236450780327122,
          0.07013849426944149,
          -1.0175226875210754,
          -1.967895625772992,
          1.181703711464979,
          -0.5678600438042352,
          0.6595631355626677,
          -0.34433448425807334,
          -0.20307368400259568,
          -0.54553609386368,
          -1.6769241078819122,
          0.6757788510129932,
          0.8258212450642957,
          -0.350307561972649,
          1.2574260935280994,
          1.3359166977975272,
          -2.043068859179839,
          -0.519474178200342,
          0.20599050286675058,
          -1.651846473593329,
          0.31113593378343907,
          -0.49987751408599584,
          0.3888705685375426,
          -1.506532134549189,
          0.14568265358322754,
          0.6887695472572651,
          0.24988829811863322,
          -0.08825695195704542,
          0.5420044701977272,
          -0.849556723826802,
          -0.2921489315869297,
          0.5073892089994784,
          -0.3683131455091124,
          1.1933559825006401,
          0.01849527309794985,
          -0.8311877135581195,
          -0.903773590381288,
          -0.3148140662690922,
          1.964400161863338,
          -1.581092584064821,
          -0.07324715397940061,
          0.1485008590973546,
          0.9057581978437469,
          -0.618261773342376,
          0.6330497758753028,
          -0.13553713399477593,
          0.12943801352764087,
          0.9031247247539765,
          1.446838737665481,
          1.477826912335126,
          -1.1763939428341526,
          0.9995732717882453,
          -0.12423940048829445,
          -1.1013294246687177,
          -0.17903286619989758,
          -0.04605668442365374,
          1.89833634590754,
          0.038807438640817114,
          -0.8161127075991621,
          -0.9456418183483448,
          0.17419248814889204,
          0.1405198689364899,
          -2.1038438209599977,
          0.6808095514690816,
          -0.35020137419082026,
          -1.113547234381775,
          0.7984763692018992
         ]
        },
        {
         "boxpoints": false,
         "line": {
          "width": 1.3
         },
         "marker": {
          "color": "rgba(128, 0, 128, 1.0)"
         },
         "name": "D",
         "orientation": "v",
         "type": "box",
         "y": [
          0.9135095511270055,
          0.8300768819790462,
          -0.32004306346453193,
          -0.6581296286650561,
          1.4836945505803925,
          1.0270586035577867,
          -0.9859497561904975,
          1.5701847583308441,
          1.0689501999873456,
          0.27469367698909647,
          0.802179541436546,
          0.28884337018785844,
          -0.7434532905448736,
          0.27274012450951335,
          -1.2859035819950417,
          1.4733751166997981,
          -1.448170024930766,
          0.6387142479829242,
          0.10544400953620241,
          -1.2102928294002335,
          -0.24276755640050543,
          -0.8963604076627338,
          0.22887388670666756,
          0.7055734686513757,
          -0.11357563100775599,
          0.9252196163749348,
          1.058228680287137,
          0.25047384372673487,
          1.1653344926210953,
          0.15865317944084573,
          1.3866504724146873,
          1.6689296985913067,
          -0.8134044689759502,
          0.6487187769518447,
          -0.8052091624301895,
          2.0326603507057137,
          0.1073820460355707,
          0.4071162529196392,
          -0.5750653685166855,
          -0.6315805871754341,
          0.5418712272596757,
          -1.1306708673810189,
          -1.118714709363381,
          -0.4401647702306003,
          -0.8061306367639891,
          -1.197345475413853,
          -1.0068972492704373,
          -0.17817852999860212,
          0.639369678595348,
          1.013703991356466,
          -0.23922158717259134,
          1.4633201945065708,
          1.3800134011897498,
          0.2247267573806439,
          0.49163132075695115,
          -0.10828728589737688,
          1.1069484290607003,
          -1.2288487448834053,
          0.1754650161188707,
          0.7507986272132572,
          -0.20081391988588704,
          -0.6226641921427002,
          -0.16735697752048215,
          -0.38524578546611754,
          -0.5355048393729672,
          -0.34164985540023096,
          -0.2774104723203889,
          -0.2584209934005529,
          -0.3814423922234519,
          0.3257577500486821,
          0.6434080629177568,
          0.66077107797274,
          0.3637986673716947,
          -0.09214981424928291,
          0.5276787296850053,
          -1.0338595767059349,
          -0.21097706924663143,
          0.8984944691691217,
          0.0820970582758034,
          0.11562641623887104,
          0.10032385906751383,
          -0.6503813578923999,
          -0.055876884880289614,
          -0.8571822962027709,
          0.615500073921127,
          -1.3194434776149946,
          2.0925297421943623,
          0.9410652730595865,
          -3.673307455724263,
          -0.1572986034633572,
          -0.47613933558282523,
          0.8539426335428666,
          -0.23704464026201616,
          0.6063597785257324,
          -0.6518794725049938,
          1.7049202285082419,
          -0.4059466352822378,
          -2.217238611239522,
          1.1045060637619017,
          0.13468126793607563
         ]
        }
       ],
       "layout": {
        "legend": {
         "bgcolor": "#F5F6F9",
         "font": {
          "color": "#4D5663"
         }
        },
        "paper_bgcolor": "#F5F6F9",
        "plot_bgcolor": "#F5F6F9",
        "template": {
         "data": {
          "bar": [
           {
            "error_x": {
             "color": "#2a3f5f"
            },
            "error_y": {
             "color": "#2a3f5f"
            },
            "marker": {
             "line": {
              "color": "#E5ECF6",
              "width": 0.5
             }
            },
            "type": "bar"
           }
          ],
          "barpolar": [
           {
            "marker": {
             "line": {
              "color": "#E5ECF6",
              "width": 0.5
             }
            },
            "type": "barpolar"
           }
          ],
          "carpet": [
           {
            "aaxis": {
             "endlinecolor": "#2a3f5f",
             "gridcolor": "white",
             "linecolor": "white",
             "minorgridcolor": "white",
             "startlinecolor": "#2a3f5f"
            },
            "baxis": {
             "endlinecolor": "#2a3f5f",
             "gridcolor": "white",
             "linecolor": "white",
             "minorgridcolor": "white",
             "startlinecolor": "#2a3f5f"
            },
            "type": "carpet"
           }
          ],
          "choropleth": [
           {
            "colorbar": {
             "outlinewidth": 0,
             "ticks": ""
            },
            "type": "choropleth"
           }
          ],
          "contour": [
           {
            "colorbar": {
             "outlinewidth": 0,
             "ticks": ""
            },
            "colorscale": [
             [
              0,
              "#0d0887"
             ],
             [
              0.1111111111111111,
              "#46039f"
             ],
             [
              0.2222222222222222,
              "#7201a8"
             ],
             [
              0.3333333333333333,
              "#9c179e"
             ],
             [
              0.4444444444444444,
              "#bd3786"
             ],
             [
              0.5555555555555556,
              "#d8576b"
             ],
             [
              0.6666666666666666,
              "#ed7953"
             ],
             [
              0.7777777777777778,
              "#fb9f3a"
             ],
             [
              0.8888888888888888,
              "#fdca26"
             ],
             [
              1,
              "#f0f921"
             ]
            ],
            "type": "contour"
           }
          ],
          "contourcarpet": [
           {
            "colorbar": {
             "outlinewidth": 0,
             "ticks": ""
            },
            "type": "contourcarpet"
           }
          ],
          "heatmap": [
           {
            "colorbar": {
             "outlinewidth": 0,
             "ticks": ""
            },
            "colorscale": [
             [
              0,
              "#0d0887"
             ],
             [
              0.1111111111111111,
              "#46039f"
             ],
             [
              0.2222222222222222,
              "#7201a8"
             ],
             [
              0.3333333333333333,
              "#9c179e"
             ],
             [
              0.4444444444444444,
              "#bd3786"
             ],
             [
              0.5555555555555556,
              "#d8576b"
             ],
             [
              0.6666666666666666,
              "#ed7953"
             ],
             [
              0.7777777777777778,
              "#fb9f3a"
             ],
             [
              0.8888888888888888,
              "#fdca26"
             ],
             [
              1,
              "#f0f921"
             ]
            ],
            "type": "heatmap"
           }
          ],
          "heatmapgl": [
           {
            "colorbar": {
             "outlinewidth": 0,
             "ticks": ""
            },
            "colorscale": [
             [
              0,
              "#0d0887"
             ],
             [
              0.1111111111111111,
              "#46039f"
             ],
             [
              0.2222222222222222,
              "#7201a8"
             ],
             [
              0.3333333333333333,
              "#9c179e"
             ],
             [
              0.4444444444444444,
              "#bd3786"
             ],
             [
              0.5555555555555556,
              "#d8576b"
             ],
             [
              0.6666666666666666,
              "#ed7953"
             ],
             [
              0.7777777777777778,
              "#fb9f3a"
             ],
             [
              0.8888888888888888,
              "#fdca26"
             ],
             [
              1,
              "#f0f921"
             ]
            ],
            "type": "heatmapgl"
           }
          ],
          "histogram": [
           {
            "marker": {
             "colorbar": {
              "outlinewidth": 0,
              "ticks": ""
             }
            },
            "type": "histogram"
           }
          ],
          "histogram2d": [
           {
            "colorbar": {
             "outlinewidth": 0,
             "ticks": ""
            },
            "colorscale": [
             [
              0,
              "#0d0887"
             ],
             [
              0.1111111111111111,
              "#46039f"
             ],
             [
              0.2222222222222222,
              "#7201a8"
             ],
             [
              0.3333333333333333,
              "#9c179e"
             ],
             [
              0.4444444444444444,
              "#bd3786"
             ],
             [
              0.5555555555555556,
              "#d8576b"
             ],
             [
              0.6666666666666666,
              "#ed7953"
             ],
             [
              0.7777777777777778,
              "#fb9f3a"
             ],
             [
              0.8888888888888888,
              "#fdca26"
             ],
             [
              1,
              "#f0f921"
             ]
            ],
            "type": "histogram2d"
           }
          ],
          "histogram2dcontour": [
           {
            "colorbar": {
             "outlinewidth": 0,
             "ticks": ""
            },
            "colorscale": [
             [
              0,
              "#0d0887"
             ],
             [
              0.1111111111111111,
              "#46039f"
             ],
             [
              0.2222222222222222,
              "#7201a8"
             ],
             [
              0.3333333333333333,
              "#9c179e"
             ],
             [
              0.4444444444444444,
              "#bd3786"
             ],
             [
              0.5555555555555556,
              "#d8576b"
             ],
             [
              0.6666666666666666,
              "#ed7953"
             ],
             [
              0.7777777777777778,
              "#fb9f3a"
             ],
             [
              0.8888888888888888,
              "#fdca26"
             ],
             [
              1,
              "#f0f921"
             ]
            ],
            "type": "histogram2dcontour"
           }
          ],
          "mesh3d": [
           {
            "colorbar": {
             "outlinewidth": 0,
             "ticks": ""
            },
            "type": "mesh3d"
           }
          ],
          "parcoords": [
           {
            "line": {
             "colorbar": {
              "outlinewidth": 0,
              "ticks": ""
             }
            },
            "type": "parcoords"
           }
          ],
          "pie": [
           {
            "automargin": true,
            "type": "pie"
           }
          ],
          "scatter": [
           {
            "marker": {
             "colorbar": {
              "outlinewidth": 0,
              "ticks": ""
             }
            },
            "type": "scatter"
           }
          ],
          "scatter3d": [
           {
            "line": {
             "colorbar": {
              "outlinewidth": 0,
              "ticks": ""
             }
            },
            "marker": {
             "colorbar": {
              "outlinewidth": 0,
              "ticks": ""
             }
            },
            "type": "scatter3d"
           }
          ],
          "scattercarpet": [
           {
            "marker": {
             "colorbar": {
              "outlinewidth": 0,
              "ticks": ""
             }
            },
            "type": "scattercarpet"
           }
          ],
          "scattergeo": [
           {
            "marker": {
             "colorbar": {
              "outlinewidth": 0,
              "ticks": ""
             }
            },
            "type": "scattergeo"
           }
          ],
          "scattergl": [
           {
            "marker": {
             "colorbar": {
              "outlinewidth": 0,
              "ticks": ""
             }
            },
            "type": "scattergl"
           }
          ],
          "scattermapbox": [
           {
            "marker": {
             "colorbar": {
              "outlinewidth": 0,
              "ticks": ""
             }
            },
            "type": "scattermapbox"
           }
          ],
          "scatterpolar": [
           {
            "marker": {
             "colorbar": {
              "outlinewidth": 0,
              "ticks": ""
             }
            },
            "type": "scatterpolar"
           }
          ],
          "scatterpolargl": [
           {
            "marker": {
             "colorbar": {
              "outlinewidth": 0,
              "ticks": ""
             }
            },
            "type": "scatterpolargl"
           }
          ],
          "scatterternary": [
           {
            "marker": {
             "colorbar": {
              "outlinewidth": 0,
              "ticks": ""
             }
            },
            "type": "scatterternary"
           }
          ],
          "surface": [
           {
            "colorbar": {
             "outlinewidth": 0,
             "ticks": ""
            },
            "colorscale": [
             [
              0,
              "#0d0887"
             ],
             [
              0.1111111111111111,
              "#46039f"
             ],
             [
              0.2222222222222222,
              "#7201a8"
             ],
             [
              0.3333333333333333,
              "#9c179e"
             ],
             [
              0.4444444444444444,
              "#bd3786"
             ],
             [
              0.5555555555555556,
              "#d8576b"
             ],
             [
              0.6666666666666666,
              "#ed7953"
             ],
             [
              0.7777777777777778,
              "#fb9f3a"
             ],
             [
              0.8888888888888888,
              "#fdca26"
             ],
             [
              1,
              "#f0f921"
             ]
            ],
            "type": "surface"
           }
          ],
          "table": [
           {
            "cells": {
             "fill": {
              "color": "#EBF0F8"
             },
             "line": {
              "color": "white"
             }
            },
            "header": {
             "fill": {
              "color": "#C8D4E3"
             },
             "line": {
              "color": "white"
             }
            },
            "type": "table"
           }
          ]
         },
         "layout": {
          "annotationdefaults": {
           "arrowcolor": "#2a3f5f",
           "arrowhead": 0,
           "arrowwidth": 1
          },
          "autotypenumbers": "strict",
          "coloraxis": {
           "colorbar": {
            "outlinewidth": 0,
            "ticks": ""
           }
          },
          "colorscale": {
           "diverging": [
            [
             0,
             "#8e0152"
            ],
            [
             0.1,
             "#c51b7d"
            ],
            [
             0.2,
             "#de77ae"
            ],
            [
             0.3,
             "#f1b6da"
            ],
            [
             0.4,
             "#fde0ef"
            ],
            [
             0.5,
             "#f7f7f7"
            ],
            [
             0.6,
             "#e6f5d0"
            ],
            [
             0.7,
             "#b8e186"
            ],
            [
             0.8,
             "#7fbc41"
            ],
            [
             0.9,
             "#4d9221"
            ],
            [
             1,
             "#276419"
            ]
           ],
           "sequential": [
            [
             0,
             "#0d0887"
            ],
            [
             0.1111111111111111,
             "#46039f"
            ],
            [
             0.2222222222222222,
             "#7201a8"
            ],
            [
             0.3333333333333333,
             "#9c179e"
            ],
            [
             0.4444444444444444,
             "#bd3786"
            ],
            [
             0.5555555555555556,
             "#d8576b"
            ],
            [
             0.6666666666666666,
             "#ed7953"
            ],
            [
             0.7777777777777778,
             "#fb9f3a"
            ],
            [
             0.8888888888888888,
             "#fdca26"
            ],
            [
             1,
             "#f0f921"
            ]
           ],
           "sequentialminus": [
            [
             0,
             "#0d0887"
            ],
            [
             0.1111111111111111,
             "#46039f"
            ],
            [
             0.2222222222222222,
             "#7201a8"
            ],
            [
             0.3333333333333333,
             "#9c179e"
            ],
            [
             0.4444444444444444,
             "#bd3786"
            ],
            [
             0.5555555555555556,
             "#d8576b"
            ],
            [
             0.6666666666666666,
             "#ed7953"
            ],
            [
             0.7777777777777778,
             "#fb9f3a"
            ],
            [
             0.8888888888888888,
             "#fdca26"
            ],
            [
             1,
             "#f0f921"
            ]
           ]
          },
          "colorway": [
           "#636efa",
           "#EF553B",
           "#00cc96",
           "#ab63fa",
           "#FFA15A",
           "#19d3f3",
           "#FF6692",
           "#B6E880",
           "#FF97FF",
           "#FECB52"
          ],
          "font": {
           "color": "#2a3f5f"
          },
          "geo": {
           "bgcolor": "white",
           "lakecolor": "white",
           "landcolor": "#E5ECF6",
           "showlakes": true,
           "showland": true,
           "subunitcolor": "white"
          },
          "hoverlabel": {
           "align": "left"
          },
          "hovermode": "closest",
          "mapbox": {
           "style": "light"
          },
          "paper_bgcolor": "white",
          "plot_bgcolor": "#E5ECF6",
          "polar": {
           "angularaxis": {
            "gridcolor": "white",
            "linecolor": "white",
            "ticks": ""
           },
           "bgcolor": "#E5ECF6",
           "radialaxis": {
            "gridcolor": "white",
            "linecolor": "white",
            "ticks": ""
           }
          },
          "scene": {
           "xaxis": {
            "backgroundcolor": "#E5ECF6",
            "gridcolor": "white",
            "gridwidth": 2,
            "linecolor": "white",
            "showbackground": true,
            "ticks": "",
            "zerolinecolor": "white"
           },
           "yaxis": {
            "backgroundcolor": "#E5ECF6",
            "gridcolor": "white",
            "gridwidth": 2,
            "linecolor": "white",
            "showbackground": true,
            "ticks": "",
            "zerolinecolor": "white"
           },
           "zaxis": {
            "backgroundcolor": "#E5ECF6",
            "gridcolor": "white",
            "gridwidth": 2,
            "linecolor": "white",
            "showbackground": true,
            "ticks": "",
            "zerolinecolor": "white"
           }
          },
          "shapedefaults": {
           "line": {
            "color": "#2a3f5f"
           }
          },
          "ternary": {
           "aaxis": {
            "gridcolor": "white",
            "linecolor": "white",
            "ticks": ""
           },
           "baxis": {
            "gridcolor": "white",
            "linecolor": "white",
            "ticks": ""
           },
           "bgcolor": "#E5ECF6",
           "caxis": {
            "gridcolor": "white",
            "linecolor": "white",
            "ticks": ""
           }
          },
          "title": {
           "x": 0.05
          },
          "xaxis": {
           "automargin": true,
           "gridcolor": "white",
           "linecolor": "white",
           "ticks": "",
           "title": {
            "standoff": 15
           },
           "zerolinecolor": "white",
           "zerolinewidth": 2
          },
          "yaxis": {
           "automargin": true,
           "gridcolor": "white",
           "linecolor": "white",
           "ticks": "",
           "title": {
            "standoff": 15
           },
           "zerolinecolor": "white",
           "zerolinewidth": 2
          }
         }
        },
        "title": {
         "font": {
          "color": "#4D5663"
         }
        },
        "xaxis": {
         "gridcolor": "#E1E5ED",
         "showgrid": true,
         "tickfont": {
          "color": "#4D5663"
         },
         "title": {
          "font": {
           "color": "#4D5663"
          },
          "text": ""
         },
         "zerolinecolor": "#E1E5ED"
        },
        "yaxis": {
         "gridcolor": "#E1E5ED",
         "showgrid": true,
         "tickfont": {
          "color": "#4D5663"
         },
         "title": {
          "font": {
           "color": "#4D5663"
          },
          "text": ""
         },
         "zerolinecolor": "#E1E5ED"
        }
       }
      },
      "text/html": [
       "<div>                            <div id=\"2dadb507-1724-424a-bdc5-2a59c70f5d31\" class=\"plotly-graph-div\" style=\"height:525px; width:100%;\"></div>            <script type=\"text/javascript\">                require([\"plotly\"], function(Plotly) {                    window.PLOTLYENV=window.PLOTLYENV || {};\n",
       "                    window.PLOTLYENV.BASE_URL='https://plot.ly';                                    if (document.getElementById(\"2dadb507-1724-424a-bdc5-2a59c70f5d31\")) {                    Plotly.newPlot(                        \"2dadb507-1724-424a-bdc5-2a59c70f5d31\",                        [{\"boxpoints\": false, \"line\": {\"width\": 1.3}, \"marker\": {\"color\": \"rgba(255, 153, 51, 1.0)\"}, \"name\": \"A\", \"orientation\": \"v\", \"type\": \"box\", \"y\": [-1.3344538032223674, -0.8924994259218787, 0.26886804372886924, 0.15768862475176948, -0.22119158008310583, 0.4620509340031127, 2.4335083818309733, 0.6283138878570738, 0.5916528935640983, -1.107880473845743, -0.9624677212340109, -2.0455267244571513, 0.0909847865615543, 0.3952627572504107, 0.4419932489725158, -0.4226953551742026, 0.06289069744869118, -0.7006193989648868, -1.083720431567451, -1.060865658791126, -0.09081056338239148, -0.9353209782547409, 0.3589422148729274, -1.7868990461486924, -0.745064837314155, 1.6890846798067614, -0.1583008202058165, -0.2393581360509466, -0.3591360207502799, 0.08032986483476401, -1.0175142609752241, -1.5016700621947336, 1.0074806858167047, 0.6986590715947596, -2.588343670560577, 1.6081822850576204, -0.22914040070541067, -0.5293183734964289, 0.08222597405486373, -1.4699631892936766, -1.7930767125550209, -0.8790112806279785, -1.169373718837128, 0.1384087066882726, -1.0214761584041196, -0.04441846576227683, 0.39667629555448003, 0.20222543201121596, -1.2020756242009765, -1.0165590854073892, 0.46592468153875083, 0.31916647378233987, -1.7589705686927102, -0.19469290293284697, -0.017517836703771206, -1.0825926071297598, 0.8868635912852298, 1.5313879689211365, -0.8832920419908965, 1.0771696646288276, 0.4214819723313268, 0.512096106061291, -0.5765759849025575, 0.11538594660067654, -1.1688312935731027, 0.6842055251828377, 0.22219602704027291, -0.5744307101478267, 0.6367232205179054, 0.6191256148390696, 1.8834084468543921, -0.019136677575396017, -1.1087586253663548, -0.09033572122028868, 1.4938373325772583, -0.4050399181262893, -1.7460005036504043, -0.874792619992864, 1.3994180541184202, 0.799905796022181, 1.274938101349231, 0.2394547792737676, -1.577915260135125, 0.1213707929995456, 0.13672512118700048, -0.6331153406325125, 0.8242219198301328, 0.11707874435192542, 0.7436012566066985, -1.6258384419836545, -0.03584548827872644, 0.08944783921389679, 0.578477924074061, 0.7299558400202367, 0.08093456386569041, -0.2981280006647906, 0.7196159948359657, -0.9887151828728751, -1.2858827698631239, -0.6567521716175984]}, {\"boxpoints\": false, \"line\": {\"width\": 1.3}, \"marker\": {\"color\": \"rgba(55, 128, 191, 1.0)\"}, \"name\": \"B\", \"orientation\": \"v\", \"type\": \"box\", \"y\": [0.14115223110497468, 0.0064944644833475305, 0.7422571167780311, 1.0645093771659695, -0.3106905288382996, 0.9105427572688288, 0.6103120706936248, 0.9859342503407027, -1.3935904672907908, 0.5691387823512065, 0.6619116415384811, 1.6926025880928388, -0.6199815554999915, -0.08994976033741052, 1.0750757711471672, 0.9473855422854135, -0.9659146731795786, -0.8563163114136054, 0.40461905434576567, -0.352421659367107, -0.17570731026437184, -0.9037477548119306, -0.02350852517774842, 0.05092474675920466, 1.043949946154262, -2.4490346466295554, 0.33014417054208783, -2.2514329386378424, 0.13653096809477527, 0.27854119209137806, 0.12084021939900245, -0.22910722021751045, 0.8157967113919772, 0.843764373253457, -0.1426121926871968, -0.5483486869724357, 0.2608490671514323, -0.26372400914740446, 0.8194095519733929, -0.270587376920324, -0.7737009584318266, -1.8472980629037679, -0.7082294452695416, 0.41190023363389006, -0.05569757355731567, -0.8395179440475853, 1.237960335845157, 0.09429165095844295, 0.8444303425008042, 1.0941573273460798, 0.5004607034246967, -1.2380236960978572, -0.5299553544779251, -2.401224423159397, -1.533248329403312, -0.17338990000742058, -1.303044209950965, 0.15434110478985552, -0.014923617770171496, 2.2196598208911857, -0.22823646275445944, -0.2495367783710828, -0.08131270339267661, 1.9699500613792806, -1.188690274209095, 0.8832334729754634, 2.09273443955495, -1.0036519160375525, -0.7060680965281807, -0.23968689244003327, 0.163276759185642, -0.686450971672635, -0.30631556602327387, -0.08707637532852806, -0.5228852910421682, -0.7172234514173806, -0.29517886902307716, -0.20458324362180894, -1.462710827625806, 1.4670598502699281, 0.8479039242641055, -1.9986453717747588, -0.6388634514624134, 0.28169086802838134, -0.7770575057522737, 0.04592948766882219, -1.0942302497431726, 0.9789185809599306, -0.46129486343229453, -0.40833102173104213, 1.227531863543337, -0.37368070911341755, -0.45808425613661174, 0.7934113176984202, -1.500505747410543, 0.3307505779477316, 0.5925706519046703, 1.635234820387899, 0.4765566163310391, -1.1996493035445714]}, {\"boxpoints\": false, \"line\": {\"width\": 1.3}, \"marker\": {\"color\": \"rgba(50, 171, 96, 1.0)\"}, \"name\": \"C\", \"orientation\": \"v\", \"type\": \"box\", \"y\": [0.2530917113271322, -0.9890104346964195, -0.39399061015526105, -0.806349443728782, 1.0269292755252677, -0.5765171906888962, 1.595271012716274, 0.5963187126316164, -1.4502231149363887, -0.4112895787635489, 1.8019109475952786, -0.0918095648497734, 0.7627425581289289, -0.21914522192757702, -0.2926509630327127, -0.6971203406836002, -0.5468277875916475, -0.7331471279589682, 0.7182673562773526, -1.1734544133177471, -1.474992929667637, 0.8683397659408032, 0.35905053100282663, 0.2292625916257633, -0.6967589269149497, -0.48177822080743415, -0.9222113134634797, 1.2461523735545468, 1.5046599491507222, 0.92261259229617, 0.06195593412560095, 1.3501517219540615, -0.1962592516509624, -1.5236450780327122, 0.07013849426944149, -1.0175226875210754, -1.967895625772992, 1.181703711464979, -0.5678600438042352, 0.6595631355626677, -0.34433448425807334, -0.20307368400259568, -0.54553609386368, -1.6769241078819122, 0.6757788510129932, 0.8258212450642957, -0.350307561972649, 1.2574260935280994, 1.3359166977975272, -2.043068859179839, -0.519474178200342, 0.20599050286675058, -1.651846473593329, 0.31113593378343907, -0.49987751408599584, 0.3888705685375426, -1.506532134549189, 0.14568265358322754, 0.6887695472572651, 0.24988829811863322, -0.08825695195704542, 0.5420044701977272, -0.849556723826802, -0.2921489315869297, 0.5073892089994784, -0.3683131455091124, 1.1933559825006401, 0.01849527309794985, -0.8311877135581195, -0.903773590381288, -0.3148140662690922, 1.964400161863338, -1.581092584064821, -0.07324715397940061, 0.1485008590973546, 0.9057581978437469, -0.618261773342376, 0.6330497758753028, -0.13553713399477593, 0.12943801352764087, 0.9031247247539765, 1.446838737665481, 1.477826912335126, -1.1763939428341526, 0.9995732717882453, -0.12423940048829445, -1.1013294246687177, -0.17903286619989758, -0.04605668442365374, 1.89833634590754, 0.038807438640817114, -0.8161127075991621, -0.9456418183483448, 0.17419248814889204, 0.1405198689364899, -2.1038438209599977, 0.6808095514690816, -0.35020137419082026, -1.113547234381775, 0.7984763692018992]}, {\"boxpoints\": false, \"line\": {\"width\": 1.3}, \"marker\": {\"color\": \"rgba(128, 0, 128, 1.0)\"}, \"name\": \"D\", \"orientation\": \"v\", \"type\": \"box\", \"y\": [0.9135095511270055, 0.8300768819790462, -0.32004306346453193, -0.6581296286650561, 1.4836945505803925, 1.0270586035577867, -0.9859497561904975, 1.5701847583308441, 1.0689501999873456, 0.27469367698909647, 0.802179541436546, 0.28884337018785844, -0.7434532905448736, 0.27274012450951335, -1.2859035819950417, 1.4733751166997981, -1.448170024930766, 0.6387142479829242, 0.10544400953620241, -1.2102928294002335, -0.24276755640050543, -0.8963604076627338, 0.22887388670666756, 0.7055734686513757, -0.11357563100775599, 0.9252196163749348, 1.058228680287137, 0.25047384372673487, 1.1653344926210953, 0.15865317944084573, 1.3866504724146873, 1.6689296985913067, -0.8134044689759502, 0.6487187769518447, -0.8052091624301895, 2.0326603507057137, 0.1073820460355707, 0.4071162529196392, -0.5750653685166855, -0.6315805871754341, 0.5418712272596757, -1.1306708673810189, -1.118714709363381, -0.4401647702306003, -0.8061306367639891, -1.197345475413853, -1.0068972492704373, -0.17817852999860212, 0.639369678595348, 1.013703991356466, -0.23922158717259134, 1.4633201945065708, 1.3800134011897498, 0.2247267573806439, 0.49163132075695115, -0.10828728589737688, 1.1069484290607003, -1.2288487448834053, 0.1754650161188707, 0.7507986272132572, -0.20081391988588704, -0.6226641921427002, -0.16735697752048215, -0.38524578546611754, -0.5355048393729672, -0.34164985540023096, -0.2774104723203889, -0.2584209934005529, -0.3814423922234519, 0.3257577500486821, 0.6434080629177568, 0.66077107797274, 0.3637986673716947, -0.09214981424928291, 0.5276787296850053, -1.0338595767059349, -0.21097706924663143, 0.8984944691691217, 0.0820970582758034, 0.11562641623887104, 0.10032385906751383, -0.6503813578923999, -0.055876884880289614, -0.8571822962027709, 0.615500073921127, -1.3194434776149946, 2.0925297421943623, 0.9410652730595865, -3.673307455724263, -0.1572986034633572, -0.47613933558282523, 0.8539426335428666, -0.23704464026201616, 0.6063597785257324, -0.6518794725049938, 1.7049202285082419, -0.4059466352822378, -2.217238611239522, 1.1045060637619017, 0.13468126793607563]}],                        {\"legend\": {\"bgcolor\": \"#F5F6F9\", \"font\": {\"color\": \"#4D5663\"}}, \"paper_bgcolor\": \"#F5F6F9\", \"plot_bgcolor\": \"#F5F6F9\", \"template\": {\"data\": {\"bar\": [{\"error_x\": {\"color\": \"#2a3f5f\"}, \"error_y\": {\"color\": \"#2a3f5f\"}, \"marker\": {\"line\": {\"color\": \"#E5ECF6\", \"width\": 0.5}}, \"type\": \"bar\"}], \"barpolar\": [{\"marker\": {\"line\": {\"color\": \"#E5ECF6\", \"width\": 0.5}}, \"type\": \"barpolar\"}], \"carpet\": [{\"aaxis\": {\"endlinecolor\": \"#2a3f5f\", \"gridcolor\": \"white\", \"linecolor\": \"white\", \"minorgridcolor\": \"white\", \"startlinecolor\": \"#2a3f5f\"}, \"baxis\": {\"endlinecolor\": \"#2a3f5f\", \"gridcolor\": \"white\", \"linecolor\": \"white\", \"minorgridcolor\": \"white\", \"startlinecolor\": \"#2a3f5f\"}, \"type\": \"carpet\"}], \"choropleth\": [{\"colorbar\": {\"outlinewidth\": 0, \"ticks\": \"\"}, \"type\": \"choropleth\"}], \"contour\": [{\"colorbar\": {\"outlinewidth\": 0, \"ticks\": \"\"}, \"colorscale\": [[0.0, \"#0d0887\"], [0.1111111111111111, \"#46039f\"], [0.2222222222222222, \"#7201a8\"], [0.3333333333333333, \"#9c179e\"], [0.4444444444444444, \"#bd3786\"], [0.5555555555555556, \"#d8576b\"], [0.6666666666666666, \"#ed7953\"], [0.7777777777777778, \"#fb9f3a\"], [0.8888888888888888, \"#fdca26\"], [1.0, \"#f0f921\"]], \"type\": \"contour\"}], \"contourcarpet\": [{\"colorbar\": {\"outlinewidth\": 0, \"ticks\": \"\"}, \"type\": \"contourcarpet\"}], \"heatmap\": [{\"colorbar\": {\"outlinewidth\": 0, \"ticks\": \"\"}, \"colorscale\": [[0.0, \"#0d0887\"], [0.1111111111111111, \"#46039f\"], [0.2222222222222222, \"#7201a8\"], [0.3333333333333333, \"#9c179e\"], [0.4444444444444444, \"#bd3786\"], [0.5555555555555556, \"#d8576b\"], [0.6666666666666666, \"#ed7953\"], [0.7777777777777778, \"#fb9f3a\"], [0.8888888888888888, \"#fdca26\"], [1.0, \"#f0f921\"]], \"type\": \"heatmap\"}], \"heatmapgl\": [{\"colorbar\": {\"outlinewidth\": 0, \"ticks\": \"\"}, \"colorscale\": [[0.0, \"#0d0887\"], [0.1111111111111111, \"#46039f\"], [0.2222222222222222, \"#7201a8\"], [0.3333333333333333, \"#9c179e\"], [0.4444444444444444, \"#bd3786\"], [0.5555555555555556, \"#d8576b\"], [0.6666666666666666, \"#ed7953\"], [0.7777777777777778, \"#fb9f3a\"], [0.8888888888888888, \"#fdca26\"], [1.0, \"#f0f921\"]], \"type\": \"heatmapgl\"}], \"histogram\": [{\"marker\": {\"colorbar\": {\"outlinewidth\": 0, \"ticks\": \"\"}}, \"type\": \"histogram\"}], \"histogram2d\": [{\"colorbar\": {\"outlinewidth\": 0, \"ticks\": \"\"}, \"colorscale\": [[0.0, \"#0d0887\"], [0.1111111111111111, \"#46039f\"], [0.2222222222222222, \"#7201a8\"], [0.3333333333333333, \"#9c179e\"], [0.4444444444444444, \"#bd3786\"], [0.5555555555555556, \"#d8576b\"], [0.6666666666666666, \"#ed7953\"], [0.7777777777777778, \"#fb9f3a\"], [0.8888888888888888, \"#fdca26\"], [1.0, \"#f0f921\"]], \"type\": \"histogram2d\"}], \"histogram2dcontour\": [{\"colorbar\": {\"outlinewidth\": 0, \"ticks\": \"\"}, \"colorscale\": [[0.0, \"#0d0887\"], [0.1111111111111111, \"#46039f\"], [0.2222222222222222, \"#7201a8\"], [0.3333333333333333, \"#9c179e\"], [0.4444444444444444, \"#bd3786\"], [0.5555555555555556, \"#d8576b\"], [0.6666666666666666, \"#ed7953\"], [0.7777777777777778, \"#fb9f3a\"], [0.8888888888888888, \"#fdca26\"], [1.0, \"#f0f921\"]], \"type\": \"histogram2dcontour\"}], \"mesh3d\": [{\"colorbar\": {\"outlinewidth\": 0, \"ticks\": \"\"}, \"type\": \"mesh3d\"}], \"parcoords\": [{\"line\": {\"colorbar\": {\"outlinewidth\": 0, \"ticks\": \"\"}}, \"type\": \"parcoords\"}], \"pie\": [{\"automargin\": true, \"type\": \"pie\"}], \"scatter\": [{\"marker\": {\"colorbar\": {\"outlinewidth\": 0, \"ticks\": \"\"}}, \"type\": \"scatter\"}], \"scatter3d\": [{\"line\": {\"colorbar\": {\"outlinewidth\": 0, \"ticks\": \"\"}}, \"marker\": {\"colorbar\": {\"outlinewidth\": 0, \"ticks\": \"\"}}, \"type\": \"scatter3d\"}], \"scattercarpet\": [{\"marker\": {\"colorbar\": {\"outlinewidth\": 0, \"ticks\": \"\"}}, \"type\": \"scattercarpet\"}], \"scattergeo\": [{\"marker\": {\"colorbar\": {\"outlinewidth\": 0, \"ticks\": \"\"}}, \"type\": \"scattergeo\"}], \"scattergl\": [{\"marker\": {\"colorbar\": {\"outlinewidth\": 0, \"ticks\": \"\"}}, \"type\": \"scattergl\"}], \"scattermapbox\": [{\"marker\": {\"colorbar\": {\"outlinewidth\": 0, \"ticks\": \"\"}}, \"type\": \"scattermapbox\"}], \"scatterpolar\": [{\"marker\": {\"colorbar\": {\"outlinewidth\": 0, \"ticks\": \"\"}}, \"type\": \"scatterpolar\"}], \"scatterpolargl\": [{\"marker\": {\"colorbar\": {\"outlinewidth\": 0, \"ticks\": \"\"}}, \"type\": \"scatterpolargl\"}], \"scatterternary\": [{\"marker\": {\"colorbar\": {\"outlinewidth\": 0, \"ticks\": \"\"}}, \"type\": \"scatterternary\"}], \"surface\": [{\"colorbar\": {\"outlinewidth\": 0, \"ticks\": \"\"}, \"colorscale\": [[0.0, \"#0d0887\"], [0.1111111111111111, \"#46039f\"], [0.2222222222222222, \"#7201a8\"], [0.3333333333333333, \"#9c179e\"], [0.4444444444444444, \"#bd3786\"], [0.5555555555555556, \"#d8576b\"], [0.6666666666666666, \"#ed7953\"], [0.7777777777777778, \"#fb9f3a\"], [0.8888888888888888, \"#fdca26\"], [1.0, \"#f0f921\"]], \"type\": \"surface\"}], \"table\": [{\"cells\": {\"fill\": {\"color\": \"#EBF0F8\"}, \"line\": {\"color\": \"white\"}}, \"header\": {\"fill\": {\"color\": \"#C8D4E3\"}, \"line\": {\"color\": \"white\"}}, \"type\": \"table\"}]}, \"layout\": {\"annotationdefaults\": {\"arrowcolor\": \"#2a3f5f\", \"arrowhead\": 0, \"arrowwidth\": 1}, \"autotypenumbers\": \"strict\", \"coloraxis\": {\"colorbar\": {\"outlinewidth\": 0, \"ticks\": \"\"}}, \"colorscale\": {\"diverging\": [[0, \"#8e0152\"], [0.1, \"#c51b7d\"], [0.2, \"#de77ae\"], [0.3, \"#f1b6da\"], [0.4, \"#fde0ef\"], [0.5, \"#f7f7f7\"], [0.6, \"#e6f5d0\"], [0.7, \"#b8e186\"], [0.8, \"#7fbc41\"], [0.9, \"#4d9221\"], [1, \"#276419\"]], \"sequential\": [[0.0, \"#0d0887\"], [0.1111111111111111, \"#46039f\"], [0.2222222222222222, \"#7201a8\"], [0.3333333333333333, \"#9c179e\"], [0.4444444444444444, \"#bd3786\"], [0.5555555555555556, \"#d8576b\"], [0.6666666666666666, \"#ed7953\"], [0.7777777777777778, \"#fb9f3a\"], [0.8888888888888888, \"#fdca26\"], [1.0, \"#f0f921\"]], \"sequentialminus\": [[0.0, \"#0d0887\"], [0.1111111111111111, \"#46039f\"], [0.2222222222222222, \"#7201a8\"], [0.3333333333333333, \"#9c179e\"], [0.4444444444444444, \"#bd3786\"], [0.5555555555555556, \"#d8576b\"], [0.6666666666666666, \"#ed7953\"], [0.7777777777777778, \"#fb9f3a\"], [0.8888888888888888, \"#fdca26\"], [1.0, \"#f0f921\"]]}, \"colorway\": [\"#636efa\", \"#EF553B\", \"#00cc96\", \"#ab63fa\", \"#FFA15A\", \"#19d3f3\", \"#FF6692\", \"#B6E880\", \"#FF97FF\", \"#FECB52\"], \"font\": {\"color\": \"#2a3f5f\"}, \"geo\": {\"bgcolor\": \"white\", \"lakecolor\": \"white\", \"landcolor\": \"#E5ECF6\", \"showlakes\": true, \"showland\": true, \"subunitcolor\": \"white\"}, \"hoverlabel\": {\"align\": \"left\"}, \"hovermode\": \"closest\", \"mapbox\": {\"style\": \"light\"}, \"paper_bgcolor\": \"white\", \"plot_bgcolor\": \"#E5ECF6\", \"polar\": {\"angularaxis\": {\"gridcolor\": \"white\", \"linecolor\": \"white\", \"ticks\": \"\"}, \"bgcolor\": \"#E5ECF6\", \"radialaxis\": {\"gridcolor\": \"white\", \"linecolor\": \"white\", \"ticks\": \"\"}}, \"scene\": {\"xaxis\": {\"backgroundcolor\": \"#E5ECF6\", \"gridcolor\": \"white\", \"gridwidth\": 2, \"linecolor\": \"white\", \"showbackground\": true, \"ticks\": \"\", \"zerolinecolor\": \"white\"}, \"yaxis\": {\"backgroundcolor\": \"#E5ECF6\", \"gridcolor\": \"white\", \"gridwidth\": 2, \"linecolor\": \"white\", \"showbackground\": true, \"ticks\": \"\", \"zerolinecolor\": \"white\"}, \"zaxis\": {\"backgroundcolor\": \"#E5ECF6\", \"gridcolor\": \"white\", \"gridwidth\": 2, \"linecolor\": \"white\", \"showbackground\": true, \"ticks\": \"\", \"zerolinecolor\": \"white\"}}, \"shapedefaults\": {\"line\": {\"color\": \"#2a3f5f\"}}, \"ternary\": {\"aaxis\": {\"gridcolor\": \"white\", \"linecolor\": \"white\", \"ticks\": \"\"}, \"baxis\": {\"gridcolor\": \"white\", \"linecolor\": \"white\", \"ticks\": \"\"}, \"bgcolor\": \"#E5ECF6\", \"caxis\": {\"gridcolor\": \"white\", \"linecolor\": \"white\", \"ticks\": \"\"}}, \"title\": {\"x\": 0.05}, \"xaxis\": {\"automargin\": true, \"gridcolor\": \"white\", \"linecolor\": \"white\", \"ticks\": \"\", \"title\": {\"standoff\": 15}, \"zerolinecolor\": \"white\", \"zerolinewidth\": 2}, \"yaxis\": {\"automargin\": true, \"gridcolor\": \"white\", \"linecolor\": \"white\", \"ticks\": \"\", \"title\": {\"standoff\": 15}, \"zerolinecolor\": \"white\", \"zerolinewidth\": 2}}}, \"title\": {\"font\": {\"color\": \"#4D5663\"}}, \"xaxis\": {\"gridcolor\": \"#E1E5ED\", \"showgrid\": true, \"tickfont\": {\"color\": \"#4D5663\"}, \"title\": {\"font\": {\"color\": \"#4D5663\"}, \"text\": \"\"}, \"zerolinecolor\": \"#E1E5ED\"}, \"yaxis\": {\"gridcolor\": \"#E1E5ED\", \"showgrid\": true, \"tickfont\": {\"color\": \"#4D5663\"}, \"title\": {\"font\": {\"color\": \"#4D5663\"}, \"text\": \"\"}, \"zerolinecolor\": \"#E1E5ED\"}},                        {\"showLink\": true, \"linkText\": \"Export to plot.ly\", \"plotlyServerURL\": \"https://plot.ly\", \"responsive\": true}                    ).then(function(){\n",
       "                            \n",
       "var gd = document.getElementById('2dadb507-1724-424a-bdc5-2a59c70f5d31');\n",
       "var x = new MutationObserver(function (mutations, observer) {{\n",
       "        var display = window.getComputedStyle(gd).display;\n",
       "        if (!display || display === 'none') {{\n",
       "            console.log([gd, 'removed!']);\n",
       "            Plotly.purge(gd);\n",
       "            observer.disconnect();\n",
       "        }}\n",
       "}});\n",
       "\n",
       "// Listen for the removal of the full notebook cells\n",
       "var notebookContainer = gd.closest('#notebook-container');\n",
       "if (notebookContainer) {{\n",
       "    x.observe(notebookContainer, {childList: true});\n",
       "}}\n",
       "\n",
       "// Listen for the clearing of the current output cell\n",
       "var outputEl = gd.closest('.output');\n",
       "if (outputEl) {{\n",
       "    x.observe(outputEl, {childList: true});\n",
       "}}\n",
       "\n",
       "                        })                };                });            </script>        </div>"
      ]
     },
     "metadata": {},
     "output_type": "display_data"
    }
   ],
   "source": [
    "df.iplot(kind='box')"
   ]
  },
  {
   "cell_type": "code",
   "execution_count": 32,
   "metadata": {},
   "outputs": [],
   "source": [
    "df3 = pd.DataFrame({'x': [1, 2, 3, 4, 5], 'y':[10, 20, 30, 20, 10], 'z':[5, 4, 3, 2, 1]})"
   ]
  },
  {
   "cell_type": "code",
   "execution_count": 33,
   "metadata": {},
   "outputs": [
    {
     "data": {
      "text/html": [
       "<div>\n",
       "<style scoped>\n",
       "    .dataframe tbody tr th:only-of-type {\n",
       "        vertical-align: middle;\n",
       "    }\n",
       "\n",
       "    .dataframe tbody tr th {\n",
       "        vertical-align: top;\n",
       "    }\n",
       "\n",
       "    .dataframe thead th {\n",
       "        text-align: right;\n",
       "    }\n",
       "</style>\n",
       "<table border=\"1\" class=\"dataframe\">\n",
       "  <thead>\n",
       "    <tr style=\"text-align: right;\">\n",
       "      <th></th>\n",
       "      <th>x</th>\n",
       "      <th>y</th>\n",
       "      <th>z</th>\n",
       "    </tr>\n",
       "  </thead>\n",
       "  <tbody>\n",
       "    <tr>\n",
       "      <th>0</th>\n",
       "      <td>1</td>\n",
       "      <td>10</td>\n",
       "      <td>5</td>\n",
       "    </tr>\n",
       "    <tr>\n",
       "      <th>1</th>\n",
       "      <td>2</td>\n",
       "      <td>20</td>\n",
       "      <td>4</td>\n",
       "    </tr>\n",
       "    <tr>\n",
       "      <th>2</th>\n",
       "      <td>3</td>\n",
       "      <td>30</td>\n",
       "      <td>3</td>\n",
       "    </tr>\n",
       "    <tr>\n",
       "      <th>3</th>\n",
       "      <td>4</td>\n",
       "      <td>20</td>\n",
       "      <td>2</td>\n",
       "    </tr>\n",
       "    <tr>\n",
       "      <th>4</th>\n",
       "      <td>5</td>\n",
       "      <td>10</td>\n",
       "      <td>1</td>\n",
       "    </tr>\n",
       "  </tbody>\n",
       "</table>\n",
       "</div>"
      ],
      "text/plain": [
       "   x   y  z\n",
       "0  1  10  5\n",
       "1  2  20  4\n",
       "2  3  30  3\n",
       "3  4  20  2\n",
       "4  5  10  1"
      ]
     },
     "execution_count": 33,
     "metadata": {},
     "output_type": "execute_result"
    }
   ],
   "source": [
    "df3"
   ]
  },
  {
   "cell_type": "code",
   "execution_count": 34,
   "metadata": {},
   "outputs": [
    {
     "data": {
      "application/vnd.plotly.v1+json": {
       "config": {
        "linkText": "Export to plot.ly",
        "plotlyServerURL": "https://plot.ly",
        "showLink": true
       },
       "data": [
        {
         "colorscale": [
          [
           0,
           "rgb(255, 153, 51)"
          ],
          [
           0.1111111111111111,
           "rgb(55, 128, 191)"
          ],
          [
           0.2222222222222222,
           "rgb(50, 171, 96)"
          ],
          [
           0.3333333333333333,
           "rgb(128, 0, 128)"
          ],
          [
           0.4444444444444444,
           "rgb(219, 64, 82)"
          ],
          [
           0.5555555555555556,
           "rgb(0, 128, 128)"
          ],
          [
           0.6666666666666666,
           "rgb(255, 255, 51)"
          ],
          [
           0.7777777777777778,
           "rgb(128, 128, 0)"
          ],
          [
           0.8888888888888888,
           "rgb(251, 128, 114)"
          ],
          [
           1,
           "rgb(128, 177, 211)"
          ]
         ],
         "type": "surface",
         "x": [
          0,
          1,
          2,
          3,
          4
         ],
         "y": [
          "x",
          "y",
          "z"
         ],
         "z": [
          [
           1,
           2,
           3,
           4,
           5
          ],
          [
           10,
           20,
           30,
           20,
           10
          ],
          [
           5,
           4,
           3,
           2,
           1
          ]
         ]
        }
       ],
       "layout": {
        "legend": {
         "bgcolor": "#F5F6F9",
         "font": {
          "color": "#4D5663"
         }
        },
        "paper_bgcolor": "#F5F6F9",
        "plot_bgcolor": "#F5F6F9",
        "template": {
         "data": {
          "bar": [
           {
            "error_x": {
             "color": "#2a3f5f"
            },
            "error_y": {
             "color": "#2a3f5f"
            },
            "marker": {
             "line": {
              "color": "#E5ECF6",
              "width": 0.5
             }
            },
            "type": "bar"
           }
          ],
          "barpolar": [
           {
            "marker": {
             "line": {
              "color": "#E5ECF6",
              "width": 0.5
             }
            },
            "type": "barpolar"
           }
          ],
          "carpet": [
           {
            "aaxis": {
             "endlinecolor": "#2a3f5f",
             "gridcolor": "white",
             "linecolor": "white",
             "minorgridcolor": "white",
             "startlinecolor": "#2a3f5f"
            },
            "baxis": {
             "endlinecolor": "#2a3f5f",
             "gridcolor": "white",
             "linecolor": "white",
             "minorgridcolor": "white",
             "startlinecolor": "#2a3f5f"
            },
            "type": "carpet"
           }
          ],
          "choropleth": [
           {
            "colorbar": {
             "outlinewidth": 0,
             "ticks": ""
            },
            "type": "choropleth"
           }
          ],
          "contour": [
           {
            "colorbar": {
             "outlinewidth": 0,
             "ticks": ""
            },
            "colorscale": [
             [
              0,
              "#0d0887"
             ],
             [
              0.1111111111111111,
              "#46039f"
             ],
             [
              0.2222222222222222,
              "#7201a8"
             ],
             [
              0.3333333333333333,
              "#9c179e"
             ],
             [
              0.4444444444444444,
              "#bd3786"
             ],
             [
              0.5555555555555556,
              "#d8576b"
             ],
             [
              0.6666666666666666,
              "#ed7953"
             ],
             [
              0.7777777777777778,
              "#fb9f3a"
             ],
             [
              0.8888888888888888,
              "#fdca26"
             ],
             [
              1,
              "#f0f921"
             ]
            ],
            "type": "contour"
           }
          ],
          "contourcarpet": [
           {
            "colorbar": {
             "outlinewidth": 0,
             "ticks": ""
            },
            "type": "contourcarpet"
           }
          ],
          "heatmap": [
           {
            "colorbar": {
             "outlinewidth": 0,
             "ticks": ""
            },
            "colorscale": [
             [
              0,
              "#0d0887"
             ],
             [
              0.1111111111111111,
              "#46039f"
             ],
             [
              0.2222222222222222,
              "#7201a8"
             ],
             [
              0.3333333333333333,
              "#9c179e"
             ],
             [
              0.4444444444444444,
              "#bd3786"
             ],
             [
              0.5555555555555556,
              "#d8576b"
             ],
             [
              0.6666666666666666,
              "#ed7953"
             ],
             [
              0.7777777777777778,
              "#fb9f3a"
             ],
             [
              0.8888888888888888,
              "#fdca26"
             ],
             [
              1,
              "#f0f921"
             ]
            ],
            "type": "heatmap"
           }
          ],
          "heatmapgl": [
           {
            "colorbar": {
             "outlinewidth": 0,
             "ticks": ""
            },
            "colorscale": [
             [
              0,
              "#0d0887"
             ],
             [
              0.1111111111111111,
              "#46039f"
             ],
             [
              0.2222222222222222,
              "#7201a8"
             ],
             [
              0.3333333333333333,
              "#9c179e"
             ],
             [
              0.4444444444444444,
              "#bd3786"
             ],
             [
              0.5555555555555556,
              "#d8576b"
             ],
             [
              0.6666666666666666,
              "#ed7953"
             ],
             [
              0.7777777777777778,
              "#fb9f3a"
             ],
             [
              0.8888888888888888,
              "#fdca26"
             ],
             [
              1,
              "#f0f921"
             ]
            ],
            "type": "heatmapgl"
           }
          ],
          "histogram": [
           {
            "marker": {
             "colorbar": {
              "outlinewidth": 0,
              "ticks": ""
             }
            },
            "type": "histogram"
           }
          ],
          "histogram2d": [
           {
            "colorbar": {
             "outlinewidth": 0,
             "ticks": ""
            },
            "colorscale": [
             [
              0,
              "#0d0887"
             ],
             [
              0.1111111111111111,
              "#46039f"
             ],
             [
              0.2222222222222222,
              "#7201a8"
             ],
             [
              0.3333333333333333,
              "#9c179e"
             ],
             [
              0.4444444444444444,
              "#bd3786"
             ],
             [
              0.5555555555555556,
              "#d8576b"
             ],
             [
              0.6666666666666666,
              "#ed7953"
             ],
             [
              0.7777777777777778,
              "#fb9f3a"
             ],
             [
              0.8888888888888888,
              "#fdca26"
             ],
             [
              1,
              "#f0f921"
             ]
            ],
            "type": "histogram2d"
           }
          ],
          "histogram2dcontour": [
           {
            "colorbar": {
             "outlinewidth": 0,
             "ticks": ""
            },
            "colorscale": [
             [
              0,
              "#0d0887"
             ],
             [
              0.1111111111111111,
              "#46039f"
             ],
             [
              0.2222222222222222,
              "#7201a8"
             ],
             [
              0.3333333333333333,
              "#9c179e"
             ],
             [
              0.4444444444444444,
              "#bd3786"
             ],
             [
              0.5555555555555556,
              "#d8576b"
             ],
             [
              0.6666666666666666,
              "#ed7953"
             ],
             [
              0.7777777777777778,
              "#fb9f3a"
             ],
             [
              0.8888888888888888,
              "#fdca26"
             ],
             [
              1,
              "#f0f921"
             ]
            ],
            "type": "histogram2dcontour"
           }
          ],
          "mesh3d": [
           {
            "colorbar": {
             "outlinewidth": 0,
             "ticks": ""
            },
            "type": "mesh3d"
           }
          ],
          "parcoords": [
           {
            "line": {
             "colorbar": {
              "outlinewidth": 0,
              "ticks": ""
             }
            },
            "type": "parcoords"
           }
          ],
          "pie": [
           {
            "automargin": true,
            "type": "pie"
           }
          ],
          "scatter": [
           {
            "marker": {
             "colorbar": {
              "outlinewidth": 0,
              "ticks": ""
             }
            },
            "type": "scatter"
           }
          ],
          "scatter3d": [
           {
            "line": {
             "colorbar": {
              "outlinewidth": 0,
              "ticks": ""
             }
            },
            "marker": {
             "colorbar": {
              "outlinewidth": 0,
              "ticks": ""
             }
            },
            "type": "scatter3d"
           }
          ],
          "scattercarpet": [
           {
            "marker": {
             "colorbar": {
              "outlinewidth": 0,
              "ticks": ""
             }
            },
            "type": "scattercarpet"
           }
          ],
          "scattergeo": [
           {
            "marker": {
             "colorbar": {
              "outlinewidth": 0,
              "ticks": ""
             }
            },
            "type": "scattergeo"
           }
          ],
          "scattergl": [
           {
            "marker": {
             "colorbar": {
              "outlinewidth": 0,
              "ticks": ""
             }
            },
            "type": "scattergl"
           }
          ],
          "scattermapbox": [
           {
            "marker": {
             "colorbar": {
              "outlinewidth": 0,
              "ticks": ""
             }
            },
            "type": "scattermapbox"
           }
          ],
          "scatterpolar": [
           {
            "marker": {
             "colorbar": {
              "outlinewidth": 0,
              "ticks": ""
             }
            },
            "type": "scatterpolar"
           }
          ],
          "scatterpolargl": [
           {
            "marker": {
             "colorbar": {
              "outlinewidth": 0,
              "ticks": ""
             }
            },
            "type": "scatterpolargl"
           }
          ],
          "scatterternary": [
           {
            "marker": {
             "colorbar": {
              "outlinewidth": 0,
              "ticks": ""
             }
            },
            "type": "scatterternary"
           }
          ],
          "surface": [
           {
            "colorbar": {
             "outlinewidth": 0,
             "ticks": ""
            },
            "colorscale": [
             [
              0,
              "#0d0887"
             ],
             [
              0.1111111111111111,
              "#46039f"
             ],
             [
              0.2222222222222222,
              "#7201a8"
             ],
             [
              0.3333333333333333,
              "#9c179e"
             ],
             [
              0.4444444444444444,
              "#bd3786"
             ],
             [
              0.5555555555555556,
              "#d8576b"
             ],
             [
              0.6666666666666666,
              "#ed7953"
             ],
             [
              0.7777777777777778,
              "#fb9f3a"
             ],
             [
              0.8888888888888888,
              "#fdca26"
             ],
             [
              1,
              "#f0f921"
             ]
            ],
            "type": "surface"
           }
          ],
          "table": [
           {
            "cells": {
             "fill": {
              "color": "#EBF0F8"
             },
             "line": {
              "color": "white"
             }
            },
            "header": {
             "fill": {
              "color": "#C8D4E3"
             },
             "line": {
              "color": "white"
             }
            },
            "type": "table"
           }
          ]
         },
         "layout": {
          "annotationdefaults": {
           "arrowcolor": "#2a3f5f",
           "arrowhead": 0,
           "arrowwidth": 1
          },
          "autotypenumbers": "strict",
          "coloraxis": {
           "colorbar": {
            "outlinewidth": 0,
            "ticks": ""
           }
          },
          "colorscale": {
           "diverging": [
            [
             0,
             "#8e0152"
            ],
            [
             0.1,
             "#c51b7d"
            ],
            [
             0.2,
             "#de77ae"
            ],
            [
             0.3,
             "#f1b6da"
            ],
            [
             0.4,
             "#fde0ef"
            ],
            [
             0.5,
             "#f7f7f7"
            ],
            [
             0.6,
             "#e6f5d0"
            ],
            [
             0.7,
             "#b8e186"
            ],
            [
             0.8,
             "#7fbc41"
            ],
            [
             0.9,
             "#4d9221"
            ],
            [
             1,
             "#276419"
            ]
           ],
           "sequential": [
            [
             0,
             "#0d0887"
            ],
            [
             0.1111111111111111,
             "#46039f"
            ],
            [
             0.2222222222222222,
             "#7201a8"
            ],
            [
             0.3333333333333333,
             "#9c179e"
            ],
            [
             0.4444444444444444,
             "#bd3786"
            ],
            [
             0.5555555555555556,
             "#d8576b"
            ],
            [
             0.6666666666666666,
             "#ed7953"
            ],
            [
             0.7777777777777778,
             "#fb9f3a"
            ],
            [
             0.8888888888888888,
             "#fdca26"
            ],
            [
             1,
             "#f0f921"
            ]
           ],
           "sequentialminus": [
            [
             0,
             "#0d0887"
            ],
            [
             0.1111111111111111,
             "#46039f"
            ],
            [
             0.2222222222222222,
             "#7201a8"
            ],
            [
             0.3333333333333333,
             "#9c179e"
            ],
            [
             0.4444444444444444,
             "#bd3786"
            ],
            [
             0.5555555555555556,
             "#d8576b"
            ],
            [
             0.6666666666666666,
             "#ed7953"
            ],
            [
             0.7777777777777778,
             "#fb9f3a"
            ],
            [
             0.8888888888888888,
             "#fdca26"
            ],
            [
             1,
             "#f0f921"
            ]
           ]
          },
          "colorway": [
           "#636efa",
           "#EF553B",
           "#00cc96",
           "#ab63fa",
           "#FFA15A",
           "#19d3f3",
           "#FF6692",
           "#B6E880",
           "#FF97FF",
           "#FECB52"
          ],
          "font": {
           "color": "#2a3f5f"
          },
          "geo": {
           "bgcolor": "white",
           "lakecolor": "white",
           "landcolor": "#E5ECF6",
           "showlakes": true,
           "showland": true,
           "subunitcolor": "white"
          },
          "hoverlabel": {
           "align": "left"
          },
          "hovermode": "closest",
          "mapbox": {
           "style": "light"
          },
          "paper_bgcolor": "white",
          "plot_bgcolor": "#E5ECF6",
          "polar": {
           "angularaxis": {
            "gridcolor": "white",
            "linecolor": "white",
            "ticks": ""
           },
           "bgcolor": "#E5ECF6",
           "radialaxis": {
            "gridcolor": "white",
            "linecolor": "white",
            "ticks": ""
           }
          },
          "scene": {
           "xaxis": {
            "backgroundcolor": "#E5ECF6",
            "gridcolor": "white",
            "gridwidth": 2,
            "linecolor": "white",
            "showbackground": true,
            "ticks": "",
            "zerolinecolor": "white"
           },
           "yaxis": {
            "backgroundcolor": "#E5ECF6",
            "gridcolor": "white",
            "gridwidth": 2,
            "linecolor": "white",
            "showbackground": true,
            "ticks": "",
            "zerolinecolor": "white"
           },
           "zaxis": {
            "backgroundcolor": "#E5ECF6",
            "gridcolor": "white",
            "gridwidth": 2,
            "linecolor": "white",
            "showbackground": true,
            "ticks": "",
            "zerolinecolor": "white"
           }
          },
          "shapedefaults": {
           "line": {
            "color": "#2a3f5f"
           }
          },
          "ternary": {
           "aaxis": {
            "gridcolor": "white",
            "linecolor": "white",
            "ticks": ""
           },
           "baxis": {
            "gridcolor": "white",
            "linecolor": "white",
            "ticks": ""
           },
           "bgcolor": "#E5ECF6",
           "caxis": {
            "gridcolor": "white",
            "linecolor": "white",
            "ticks": ""
           }
          },
          "title": {
           "x": 0.05
          },
          "xaxis": {
           "automargin": true,
           "gridcolor": "white",
           "linecolor": "white",
           "ticks": "",
           "title": {
            "standoff": 15
           },
           "zerolinecolor": "white",
           "zerolinewidth": 2
          },
          "yaxis": {
           "automargin": true,
           "gridcolor": "white",
           "linecolor": "white",
           "ticks": "",
           "title": {
            "standoff": 15
           },
           "zerolinecolor": "white",
           "zerolinewidth": 2
          }
         }
        },
        "title": {
         "font": {
          "color": "#4D5663"
         }
        },
        "xaxis": {
         "gridcolor": "#E1E5ED",
         "showgrid": true,
         "tickfont": {
          "color": "#4D5663"
         },
         "title": {
          "font": {
           "color": "#4D5663"
          },
          "text": ""
         },
         "zerolinecolor": "#E1E5ED"
        },
        "yaxis": {
         "gridcolor": "#E1E5ED",
         "showgrid": true,
         "tickfont": {
          "color": "#4D5663"
         },
         "title": {
          "font": {
           "color": "#4D5663"
          },
          "text": ""
         },
         "zerolinecolor": "#E1E5ED"
        }
       }
      },
      "text/html": [
       "<div>                            <div id=\"46d4634b-ac44-447a-8cf3-4d5abc94513e\" class=\"plotly-graph-div\" style=\"height:525px; width:100%;\"></div>            <script type=\"text/javascript\">                require([\"plotly\"], function(Plotly) {                    window.PLOTLYENV=window.PLOTLYENV || {};\n",
       "                    window.PLOTLYENV.BASE_URL='https://plot.ly';                                    if (document.getElementById(\"46d4634b-ac44-447a-8cf3-4d5abc94513e\")) {                    Plotly.newPlot(                        \"46d4634b-ac44-447a-8cf3-4d5abc94513e\",                        [{\"colorscale\": [[0.0, \"rgb(255, 153, 51)\"], [0.1111111111111111, \"rgb(55, 128, 191)\"], [0.2222222222222222, \"rgb(50, 171, 96)\"], [0.3333333333333333, \"rgb(128, 0, 128)\"], [0.4444444444444444, \"rgb(219, 64, 82)\"], [0.5555555555555556, \"rgb(0, 128, 128)\"], [0.6666666666666666, \"rgb(255, 255, 51)\"], [0.7777777777777778, \"rgb(128, 128, 0)\"], [0.8888888888888888, \"rgb(251, 128, 114)\"], [1.0, \"rgb(128, 177, 211)\"]], \"type\": \"surface\", \"x\": [0, 1, 2, 3, 4], \"y\": [\"x\", \"y\", \"z\"], \"z\": [[1, 2, 3, 4, 5], [10, 20, 30, 20, 10], [5, 4, 3, 2, 1]]}],                        {\"legend\": {\"bgcolor\": \"#F5F6F9\", \"font\": {\"color\": \"#4D5663\"}}, \"paper_bgcolor\": \"#F5F6F9\", \"plot_bgcolor\": \"#F5F6F9\", \"template\": {\"data\": {\"bar\": [{\"error_x\": {\"color\": \"#2a3f5f\"}, \"error_y\": {\"color\": \"#2a3f5f\"}, \"marker\": {\"line\": {\"color\": \"#E5ECF6\", \"width\": 0.5}}, \"type\": \"bar\"}], \"barpolar\": [{\"marker\": {\"line\": {\"color\": \"#E5ECF6\", \"width\": 0.5}}, \"type\": \"barpolar\"}], \"carpet\": [{\"aaxis\": {\"endlinecolor\": \"#2a3f5f\", \"gridcolor\": \"white\", \"linecolor\": \"white\", \"minorgridcolor\": \"white\", \"startlinecolor\": \"#2a3f5f\"}, \"baxis\": {\"endlinecolor\": \"#2a3f5f\", \"gridcolor\": \"white\", \"linecolor\": \"white\", \"minorgridcolor\": \"white\", \"startlinecolor\": \"#2a3f5f\"}, \"type\": \"carpet\"}], \"choropleth\": [{\"colorbar\": {\"outlinewidth\": 0, \"ticks\": \"\"}, \"type\": \"choropleth\"}], \"contour\": [{\"colorbar\": {\"outlinewidth\": 0, \"ticks\": \"\"}, \"colorscale\": [[0.0, \"#0d0887\"], [0.1111111111111111, \"#46039f\"], [0.2222222222222222, \"#7201a8\"], [0.3333333333333333, \"#9c179e\"], [0.4444444444444444, \"#bd3786\"], [0.5555555555555556, \"#d8576b\"], [0.6666666666666666, \"#ed7953\"], [0.7777777777777778, \"#fb9f3a\"], [0.8888888888888888, \"#fdca26\"], [1.0, \"#f0f921\"]], \"type\": \"contour\"}], \"contourcarpet\": [{\"colorbar\": {\"outlinewidth\": 0, \"ticks\": \"\"}, \"type\": \"contourcarpet\"}], \"heatmap\": [{\"colorbar\": {\"outlinewidth\": 0, \"ticks\": \"\"}, \"colorscale\": [[0.0, \"#0d0887\"], [0.1111111111111111, \"#46039f\"], [0.2222222222222222, \"#7201a8\"], [0.3333333333333333, \"#9c179e\"], [0.4444444444444444, \"#bd3786\"], [0.5555555555555556, \"#d8576b\"], [0.6666666666666666, \"#ed7953\"], [0.7777777777777778, \"#fb9f3a\"], [0.8888888888888888, \"#fdca26\"], [1.0, \"#f0f921\"]], \"type\": \"heatmap\"}], \"heatmapgl\": [{\"colorbar\": {\"outlinewidth\": 0, \"ticks\": \"\"}, \"colorscale\": [[0.0, \"#0d0887\"], [0.1111111111111111, \"#46039f\"], [0.2222222222222222, \"#7201a8\"], [0.3333333333333333, \"#9c179e\"], [0.4444444444444444, \"#bd3786\"], [0.5555555555555556, \"#d8576b\"], [0.6666666666666666, \"#ed7953\"], [0.7777777777777778, \"#fb9f3a\"], [0.8888888888888888, \"#fdca26\"], [1.0, \"#f0f921\"]], \"type\": \"heatmapgl\"}], \"histogram\": [{\"marker\": {\"colorbar\": {\"outlinewidth\": 0, \"ticks\": \"\"}}, \"type\": \"histogram\"}], \"histogram2d\": [{\"colorbar\": {\"outlinewidth\": 0, \"ticks\": \"\"}, \"colorscale\": [[0.0, \"#0d0887\"], [0.1111111111111111, \"#46039f\"], [0.2222222222222222, \"#7201a8\"], [0.3333333333333333, \"#9c179e\"], [0.4444444444444444, \"#bd3786\"], [0.5555555555555556, \"#d8576b\"], [0.6666666666666666, \"#ed7953\"], [0.7777777777777778, \"#fb9f3a\"], [0.8888888888888888, \"#fdca26\"], [1.0, \"#f0f921\"]], \"type\": \"histogram2d\"}], \"histogram2dcontour\": [{\"colorbar\": {\"outlinewidth\": 0, \"ticks\": \"\"}, \"colorscale\": [[0.0, \"#0d0887\"], [0.1111111111111111, \"#46039f\"], [0.2222222222222222, \"#7201a8\"], [0.3333333333333333, \"#9c179e\"], [0.4444444444444444, \"#bd3786\"], [0.5555555555555556, \"#d8576b\"], [0.6666666666666666, \"#ed7953\"], [0.7777777777777778, \"#fb9f3a\"], [0.8888888888888888, \"#fdca26\"], [1.0, \"#f0f921\"]], \"type\": \"histogram2dcontour\"}], \"mesh3d\": [{\"colorbar\": {\"outlinewidth\": 0, \"ticks\": \"\"}, \"type\": \"mesh3d\"}], \"parcoords\": [{\"line\": {\"colorbar\": {\"outlinewidth\": 0, \"ticks\": \"\"}}, \"type\": \"parcoords\"}], \"pie\": [{\"automargin\": true, \"type\": \"pie\"}], \"scatter\": [{\"marker\": {\"colorbar\": {\"outlinewidth\": 0, \"ticks\": \"\"}}, \"type\": \"scatter\"}], \"scatter3d\": [{\"line\": {\"colorbar\": {\"outlinewidth\": 0, \"ticks\": \"\"}}, \"marker\": {\"colorbar\": {\"outlinewidth\": 0, \"ticks\": \"\"}}, \"type\": \"scatter3d\"}], \"scattercarpet\": [{\"marker\": {\"colorbar\": {\"outlinewidth\": 0, \"ticks\": \"\"}}, \"type\": \"scattercarpet\"}], \"scattergeo\": [{\"marker\": {\"colorbar\": {\"outlinewidth\": 0, \"ticks\": \"\"}}, \"type\": \"scattergeo\"}], \"scattergl\": [{\"marker\": {\"colorbar\": {\"outlinewidth\": 0, \"ticks\": \"\"}}, \"type\": \"scattergl\"}], \"scattermapbox\": [{\"marker\": {\"colorbar\": {\"outlinewidth\": 0, \"ticks\": \"\"}}, \"type\": \"scattermapbox\"}], \"scatterpolar\": [{\"marker\": {\"colorbar\": {\"outlinewidth\": 0, \"ticks\": \"\"}}, \"type\": \"scatterpolar\"}], \"scatterpolargl\": [{\"marker\": {\"colorbar\": {\"outlinewidth\": 0, \"ticks\": \"\"}}, \"type\": \"scatterpolargl\"}], \"scatterternary\": [{\"marker\": {\"colorbar\": {\"outlinewidth\": 0, \"ticks\": \"\"}}, \"type\": \"scatterternary\"}], \"surface\": [{\"colorbar\": {\"outlinewidth\": 0, \"ticks\": \"\"}, \"colorscale\": [[0.0, \"#0d0887\"], [0.1111111111111111, \"#46039f\"], [0.2222222222222222, \"#7201a8\"], [0.3333333333333333, \"#9c179e\"], [0.4444444444444444, \"#bd3786\"], [0.5555555555555556, \"#d8576b\"], [0.6666666666666666, \"#ed7953\"], [0.7777777777777778, \"#fb9f3a\"], [0.8888888888888888, \"#fdca26\"], [1.0, \"#f0f921\"]], \"type\": \"surface\"}], \"table\": [{\"cells\": {\"fill\": {\"color\": \"#EBF0F8\"}, \"line\": {\"color\": \"white\"}}, \"header\": {\"fill\": {\"color\": \"#C8D4E3\"}, \"line\": {\"color\": \"white\"}}, \"type\": \"table\"}]}, \"layout\": {\"annotationdefaults\": {\"arrowcolor\": \"#2a3f5f\", \"arrowhead\": 0, \"arrowwidth\": 1}, \"autotypenumbers\": \"strict\", \"coloraxis\": {\"colorbar\": {\"outlinewidth\": 0, \"ticks\": \"\"}}, \"colorscale\": {\"diverging\": [[0, \"#8e0152\"], [0.1, \"#c51b7d\"], [0.2, \"#de77ae\"], [0.3, \"#f1b6da\"], [0.4, \"#fde0ef\"], [0.5, \"#f7f7f7\"], [0.6, \"#e6f5d0\"], [0.7, \"#b8e186\"], [0.8, \"#7fbc41\"], [0.9, \"#4d9221\"], [1, \"#276419\"]], \"sequential\": [[0.0, \"#0d0887\"], [0.1111111111111111, \"#46039f\"], [0.2222222222222222, \"#7201a8\"], [0.3333333333333333, \"#9c179e\"], [0.4444444444444444, \"#bd3786\"], [0.5555555555555556, \"#d8576b\"], [0.6666666666666666, \"#ed7953\"], [0.7777777777777778, \"#fb9f3a\"], [0.8888888888888888, \"#fdca26\"], [1.0, \"#f0f921\"]], \"sequentialminus\": [[0.0, \"#0d0887\"], [0.1111111111111111, \"#46039f\"], [0.2222222222222222, \"#7201a8\"], [0.3333333333333333, \"#9c179e\"], [0.4444444444444444, \"#bd3786\"], [0.5555555555555556, \"#d8576b\"], [0.6666666666666666, \"#ed7953\"], [0.7777777777777778, \"#fb9f3a\"], [0.8888888888888888, \"#fdca26\"], [1.0, \"#f0f921\"]]}, \"colorway\": [\"#636efa\", \"#EF553B\", \"#00cc96\", \"#ab63fa\", \"#FFA15A\", \"#19d3f3\", \"#FF6692\", \"#B6E880\", \"#FF97FF\", \"#FECB52\"], \"font\": {\"color\": \"#2a3f5f\"}, \"geo\": {\"bgcolor\": \"white\", \"lakecolor\": \"white\", \"landcolor\": \"#E5ECF6\", \"showlakes\": true, \"showland\": true, \"subunitcolor\": \"white\"}, \"hoverlabel\": {\"align\": \"left\"}, \"hovermode\": \"closest\", \"mapbox\": {\"style\": \"light\"}, \"paper_bgcolor\": \"white\", \"plot_bgcolor\": \"#E5ECF6\", \"polar\": {\"angularaxis\": {\"gridcolor\": \"white\", \"linecolor\": \"white\", \"ticks\": \"\"}, \"bgcolor\": \"#E5ECF6\", \"radialaxis\": {\"gridcolor\": \"white\", \"linecolor\": \"white\", \"ticks\": \"\"}}, \"scene\": {\"xaxis\": {\"backgroundcolor\": \"#E5ECF6\", \"gridcolor\": \"white\", \"gridwidth\": 2, \"linecolor\": \"white\", \"showbackground\": true, \"ticks\": \"\", \"zerolinecolor\": \"white\"}, \"yaxis\": {\"backgroundcolor\": \"#E5ECF6\", \"gridcolor\": \"white\", \"gridwidth\": 2, \"linecolor\": \"white\", \"showbackground\": true, \"ticks\": \"\", \"zerolinecolor\": \"white\"}, \"zaxis\": {\"backgroundcolor\": \"#E5ECF6\", \"gridcolor\": \"white\", \"gridwidth\": 2, \"linecolor\": \"white\", \"showbackground\": true, \"ticks\": \"\", \"zerolinecolor\": \"white\"}}, \"shapedefaults\": {\"line\": {\"color\": \"#2a3f5f\"}}, \"ternary\": {\"aaxis\": {\"gridcolor\": \"white\", \"linecolor\": \"white\", \"ticks\": \"\"}, \"baxis\": {\"gridcolor\": \"white\", \"linecolor\": \"white\", \"ticks\": \"\"}, \"bgcolor\": \"#E5ECF6\", \"caxis\": {\"gridcolor\": \"white\", \"linecolor\": \"white\", \"ticks\": \"\"}}, \"title\": {\"x\": 0.05}, \"xaxis\": {\"automargin\": true, \"gridcolor\": \"white\", \"linecolor\": \"white\", \"ticks\": \"\", \"title\": {\"standoff\": 15}, \"zerolinecolor\": \"white\", \"zerolinewidth\": 2}, \"yaxis\": {\"automargin\": true, \"gridcolor\": \"white\", \"linecolor\": \"white\", \"ticks\": \"\", \"title\": {\"standoff\": 15}, \"zerolinecolor\": \"white\", \"zerolinewidth\": 2}}}, \"title\": {\"font\": {\"color\": \"#4D5663\"}}, \"xaxis\": {\"gridcolor\": \"#E1E5ED\", \"showgrid\": true, \"tickfont\": {\"color\": \"#4D5663\"}, \"title\": {\"font\": {\"color\": \"#4D5663\"}, \"text\": \"\"}, \"zerolinecolor\": \"#E1E5ED\"}, \"yaxis\": {\"gridcolor\": \"#E1E5ED\", \"showgrid\": true, \"tickfont\": {\"color\": \"#4D5663\"}, \"title\": {\"font\": {\"color\": \"#4D5663\"}, \"text\": \"\"}, \"zerolinecolor\": \"#E1E5ED\"}},                        {\"showLink\": true, \"linkText\": \"Export to plot.ly\", \"plotlyServerURL\": \"https://plot.ly\", \"responsive\": true}                    ).then(function(){\n",
       "                            \n",
       "var gd = document.getElementById('46d4634b-ac44-447a-8cf3-4d5abc94513e');\n",
       "var x = new MutationObserver(function (mutations, observer) {{\n",
       "        var display = window.getComputedStyle(gd).display;\n",
       "        if (!display || display === 'none') {{\n",
       "            console.log([gd, 'removed!']);\n",
       "            Plotly.purge(gd);\n",
       "            observer.disconnect();\n",
       "        }}\n",
       "}});\n",
       "\n",
       "// Listen for the removal of the full notebook cells\n",
       "var notebookContainer = gd.closest('#notebook-container');\n",
       "if (notebookContainer) {{\n",
       "    x.observe(notebookContainer, {childList: true});\n",
       "}}\n",
       "\n",
       "// Listen for the clearing of the current output cell\n",
       "var outputEl = gd.closest('.output');\n",
       "if (outputEl) {{\n",
       "    x.observe(outputEl, {childList: true});\n",
       "}}\n",
       "\n",
       "                        })                };                });            </script>        </div>"
      ]
     },
     "metadata": {},
     "output_type": "display_data"
    }
   ],
   "source": [
    "df3.iplot(kind='surface')"
   ]
  },
  {
   "cell_type": "code",
   "execution_count": 37,
   "metadata": {},
   "outputs": [
    {
     "data": {
      "application/vnd.plotly.v1+json": {
       "config": {
        "linkText": "Export to plot.ly",
        "plotlyServerURL": "https://plot.ly",
        "showLink": true
       },
       "data": [
        {
         "histfunc": "count",
         "histnorm": "",
         "marker": {
          "color": "rgba(255, 153, 51, 1.0)",
          "line": {
           "color": "#4D5663",
           "width": 1.3
          }
         },
         "name": "A",
         "nbinsx": 60,
         "opacity": 0.8,
         "orientation": "v",
         "type": "histogram",
         "x": [
          -1.3344538032223674,
          -0.8924994259218787,
          0.26886804372886924,
          0.15768862475176948,
          -0.22119158008310583,
          0.4620509340031127,
          2.4335083818309733,
          0.6283138878570738,
          0.5916528935640983,
          -1.107880473845743,
          -0.9624677212340109,
          -2.0455267244571513,
          0.0909847865615543,
          0.3952627572504107,
          0.4419932489725158,
          -0.4226953551742026,
          0.06289069744869118,
          -0.7006193989648868,
          -1.083720431567451,
          -1.060865658791126,
          -0.09081056338239148,
          -0.9353209782547409,
          0.3589422148729274,
          -1.7868990461486924,
          -0.745064837314155,
          1.6890846798067614,
          -0.1583008202058165,
          -0.2393581360509466,
          -0.3591360207502799,
          0.08032986483476401,
          -1.0175142609752241,
          -1.5016700621947336,
          1.0074806858167047,
          0.6986590715947596,
          -2.588343670560577,
          1.6081822850576204,
          -0.22914040070541067,
          -0.5293183734964289,
          0.08222597405486373,
          -1.4699631892936766,
          -1.7930767125550209,
          -0.8790112806279785,
          -1.169373718837128,
          0.1384087066882726,
          -1.0214761584041196,
          -0.04441846576227683,
          0.39667629555448003,
          0.20222543201121596,
          -1.2020756242009765,
          -1.0165590854073892,
          0.46592468153875083,
          0.31916647378233987,
          -1.7589705686927102,
          -0.19469290293284697,
          -0.017517836703771206,
          -1.0825926071297598,
          0.8868635912852298,
          1.5313879689211365,
          -0.8832920419908965,
          1.0771696646288276,
          0.4214819723313268,
          0.512096106061291,
          -0.5765759849025575,
          0.11538594660067654,
          -1.1688312935731027,
          0.6842055251828377,
          0.22219602704027291,
          -0.5744307101478267,
          0.6367232205179054,
          0.6191256148390696,
          1.8834084468543921,
          -0.019136677575396017,
          -1.1087586253663548,
          -0.09033572122028868,
          1.4938373325772583,
          -0.4050399181262893,
          -1.7460005036504043,
          -0.874792619992864,
          1.3994180541184202,
          0.799905796022181,
          1.274938101349231,
          0.2394547792737676,
          -1.577915260135125,
          0.1213707929995456,
          0.13672512118700048,
          -0.6331153406325125,
          0.8242219198301328,
          0.11707874435192542,
          0.7436012566066985,
          -1.6258384419836545,
          -0.03584548827872644,
          0.08944783921389679,
          0.578477924074061,
          0.7299558400202367,
          0.08093456386569041,
          -0.2981280006647906,
          0.7196159948359657,
          -0.9887151828728751,
          -1.2858827698631239,
          -0.6567521716175984
         ]
        },
        {
         "histfunc": "count",
         "histnorm": "",
         "marker": {
          "color": "rgba(55, 128, 191, 1.0)",
          "line": {
           "color": "#4D5663",
           "width": 1.3
          }
         },
         "name": "B",
         "nbinsx": 60,
         "opacity": 0.8,
         "orientation": "v",
         "type": "histogram",
         "x": [
          0.14115223110497468,
          0.0064944644833475305,
          0.7422571167780311,
          1.0645093771659695,
          -0.3106905288382996,
          0.9105427572688288,
          0.6103120706936248,
          0.9859342503407027,
          -1.3935904672907908,
          0.5691387823512065,
          0.6619116415384811,
          1.6926025880928388,
          -0.6199815554999915,
          -0.08994976033741052,
          1.0750757711471672,
          0.9473855422854135,
          -0.9659146731795786,
          -0.8563163114136054,
          0.40461905434576567,
          -0.352421659367107,
          -0.17570731026437184,
          -0.9037477548119306,
          -0.02350852517774842,
          0.05092474675920466,
          1.043949946154262,
          -2.4490346466295554,
          0.33014417054208783,
          -2.2514329386378424,
          0.13653096809477527,
          0.27854119209137806,
          0.12084021939900245,
          -0.22910722021751045,
          0.8157967113919772,
          0.843764373253457,
          -0.1426121926871968,
          -0.5483486869724357,
          0.2608490671514323,
          -0.26372400914740446,
          0.8194095519733929,
          -0.270587376920324,
          -0.7737009584318266,
          -1.8472980629037679,
          -0.7082294452695416,
          0.41190023363389006,
          -0.05569757355731567,
          -0.8395179440475853,
          1.237960335845157,
          0.09429165095844295,
          0.8444303425008042,
          1.0941573273460798,
          0.5004607034246967,
          -1.2380236960978572,
          -0.5299553544779251,
          -2.401224423159397,
          -1.533248329403312,
          -0.17338990000742058,
          -1.303044209950965,
          0.15434110478985552,
          -0.014923617770171496,
          2.2196598208911857,
          -0.22823646275445944,
          -0.2495367783710828,
          -0.08131270339267661,
          1.9699500613792806,
          -1.188690274209095,
          0.8832334729754634,
          2.09273443955495,
          -1.0036519160375525,
          -0.7060680965281807,
          -0.23968689244003327,
          0.163276759185642,
          -0.686450971672635,
          -0.30631556602327387,
          -0.08707637532852806,
          -0.5228852910421682,
          -0.7172234514173806,
          -0.29517886902307716,
          -0.20458324362180894,
          -1.462710827625806,
          1.4670598502699281,
          0.8479039242641055,
          -1.9986453717747588,
          -0.6388634514624134,
          0.28169086802838134,
          -0.7770575057522737,
          0.04592948766882219,
          -1.0942302497431726,
          0.9789185809599306,
          -0.46129486343229453,
          -0.40833102173104213,
          1.227531863543337,
          -0.37368070911341755,
          -0.45808425613661174,
          0.7934113176984202,
          -1.500505747410543,
          0.3307505779477316,
          0.5925706519046703,
          1.635234820387899,
          0.4765566163310391,
          -1.1996493035445714
         ]
        },
        {
         "histfunc": "count",
         "histnorm": "",
         "marker": {
          "color": "rgba(50, 171, 96, 1.0)",
          "line": {
           "color": "#4D5663",
           "width": 1.3
          }
         },
         "name": "C",
         "nbinsx": 60,
         "opacity": 0.8,
         "orientation": "v",
         "type": "histogram",
         "x": [
          0.2530917113271322,
          -0.9890104346964195,
          -0.39399061015526105,
          -0.806349443728782,
          1.0269292755252677,
          -0.5765171906888962,
          1.595271012716274,
          0.5963187126316164,
          -1.4502231149363887,
          -0.4112895787635489,
          1.8019109475952786,
          -0.0918095648497734,
          0.7627425581289289,
          -0.21914522192757702,
          -0.2926509630327127,
          -0.6971203406836002,
          -0.5468277875916475,
          -0.7331471279589682,
          0.7182673562773526,
          -1.1734544133177471,
          -1.474992929667637,
          0.8683397659408032,
          0.35905053100282663,
          0.2292625916257633,
          -0.6967589269149497,
          -0.48177822080743415,
          -0.9222113134634797,
          1.2461523735545468,
          1.5046599491507222,
          0.92261259229617,
          0.06195593412560095,
          1.3501517219540615,
          -0.1962592516509624,
          -1.5236450780327122,
          0.07013849426944149,
          -1.0175226875210754,
          -1.967895625772992,
          1.181703711464979,
          -0.5678600438042352,
          0.6595631355626677,
          -0.34433448425807334,
          -0.20307368400259568,
          -0.54553609386368,
          -1.6769241078819122,
          0.6757788510129932,
          0.8258212450642957,
          -0.350307561972649,
          1.2574260935280994,
          1.3359166977975272,
          -2.043068859179839,
          -0.519474178200342,
          0.20599050286675058,
          -1.651846473593329,
          0.31113593378343907,
          -0.49987751408599584,
          0.3888705685375426,
          -1.506532134549189,
          0.14568265358322754,
          0.6887695472572651,
          0.24988829811863322,
          -0.08825695195704542,
          0.5420044701977272,
          -0.849556723826802,
          -0.2921489315869297,
          0.5073892089994784,
          -0.3683131455091124,
          1.1933559825006401,
          0.01849527309794985,
          -0.8311877135581195,
          -0.903773590381288,
          -0.3148140662690922,
          1.964400161863338,
          -1.581092584064821,
          -0.07324715397940061,
          0.1485008590973546,
          0.9057581978437469,
          -0.618261773342376,
          0.6330497758753028,
          -0.13553713399477593,
          0.12943801352764087,
          0.9031247247539765,
          1.446838737665481,
          1.477826912335126,
          -1.1763939428341526,
          0.9995732717882453,
          -0.12423940048829445,
          -1.1013294246687177,
          -0.17903286619989758,
          -0.04605668442365374,
          1.89833634590754,
          0.038807438640817114,
          -0.8161127075991621,
          -0.9456418183483448,
          0.17419248814889204,
          0.1405198689364899,
          -2.1038438209599977,
          0.6808095514690816,
          -0.35020137419082026,
          -1.113547234381775,
          0.7984763692018992
         ]
        },
        {
         "histfunc": "count",
         "histnorm": "",
         "marker": {
          "color": "rgba(128, 0, 128, 1.0)",
          "line": {
           "color": "#4D5663",
           "width": 1.3
          }
         },
         "name": "D",
         "nbinsx": 60,
         "opacity": 0.8,
         "orientation": "v",
         "type": "histogram",
         "x": [
          0.9135095511270055,
          0.8300768819790462,
          -0.32004306346453193,
          -0.6581296286650561,
          1.4836945505803925,
          1.0270586035577867,
          -0.9859497561904975,
          1.5701847583308441,
          1.0689501999873456,
          0.27469367698909647,
          0.802179541436546,
          0.28884337018785844,
          -0.7434532905448736,
          0.27274012450951335,
          -1.2859035819950417,
          1.4733751166997981,
          -1.448170024930766,
          0.6387142479829242,
          0.10544400953620241,
          -1.2102928294002335,
          -0.24276755640050543,
          -0.8963604076627338,
          0.22887388670666756,
          0.7055734686513757,
          -0.11357563100775599,
          0.9252196163749348,
          1.058228680287137,
          0.25047384372673487,
          1.1653344926210953,
          0.15865317944084573,
          1.3866504724146873,
          1.6689296985913067,
          -0.8134044689759502,
          0.6487187769518447,
          -0.8052091624301895,
          2.0326603507057137,
          0.1073820460355707,
          0.4071162529196392,
          -0.5750653685166855,
          -0.6315805871754341,
          0.5418712272596757,
          -1.1306708673810189,
          -1.118714709363381,
          -0.4401647702306003,
          -0.8061306367639891,
          -1.197345475413853,
          -1.0068972492704373,
          -0.17817852999860212,
          0.639369678595348,
          1.013703991356466,
          -0.23922158717259134,
          1.4633201945065708,
          1.3800134011897498,
          0.2247267573806439,
          0.49163132075695115,
          -0.10828728589737688,
          1.1069484290607003,
          -1.2288487448834053,
          0.1754650161188707,
          0.7507986272132572,
          -0.20081391988588704,
          -0.6226641921427002,
          -0.16735697752048215,
          -0.38524578546611754,
          -0.5355048393729672,
          -0.34164985540023096,
          -0.2774104723203889,
          -0.2584209934005529,
          -0.3814423922234519,
          0.3257577500486821,
          0.6434080629177568,
          0.66077107797274,
          0.3637986673716947,
          -0.09214981424928291,
          0.5276787296850053,
          -1.0338595767059349,
          -0.21097706924663143,
          0.8984944691691217,
          0.0820970582758034,
          0.11562641623887104,
          0.10032385906751383,
          -0.6503813578923999,
          -0.055876884880289614,
          -0.8571822962027709,
          0.615500073921127,
          -1.3194434776149946,
          2.0925297421943623,
          0.9410652730595865,
          -3.673307455724263,
          -0.1572986034633572,
          -0.47613933558282523,
          0.8539426335428666,
          -0.23704464026201616,
          0.6063597785257324,
          -0.6518794725049938,
          1.7049202285082419,
          -0.4059466352822378,
          -2.217238611239522,
          1.1045060637619017,
          0.13468126793607563
         ]
        }
       ],
       "layout": {
        "barmode": "overlay",
        "legend": {
         "bgcolor": "#F5F6F9",
         "font": {
          "color": "#4D5663"
         }
        },
        "paper_bgcolor": "#F5F6F9",
        "plot_bgcolor": "#F5F6F9",
        "template": {
         "data": {
          "bar": [
           {
            "error_x": {
             "color": "#2a3f5f"
            },
            "error_y": {
             "color": "#2a3f5f"
            },
            "marker": {
             "line": {
              "color": "#E5ECF6",
              "width": 0.5
             }
            },
            "type": "bar"
           }
          ],
          "barpolar": [
           {
            "marker": {
             "line": {
              "color": "#E5ECF6",
              "width": 0.5
             }
            },
            "type": "barpolar"
           }
          ],
          "carpet": [
           {
            "aaxis": {
             "endlinecolor": "#2a3f5f",
             "gridcolor": "white",
             "linecolor": "white",
             "minorgridcolor": "white",
             "startlinecolor": "#2a3f5f"
            },
            "baxis": {
             "endlinecolor": "#2a3f5f",
             "gridcolor": "white",
             "linecolor": "white",
             "minorgridcolor": "white",
             "startlinecolor": "#2a3f5f"
            },
            "type": "carpet"
           }
          ],
          "choropleth": [
           {
            "colorbar": {
             "outlinewidth": 0,
             "ticks": ""
            },
            "type": "choropleth"
           }
          ],
          "contour": [
           {
            "colorbar": {
             "outlinewidth": 0,
             "ticks": ""
            },
            "colorscale": [
             [
              0,
              "#0d0887"
             ],
             [
              0.1111111111111111,
              "#46039f"
             ],
             [
              0.2222222222222222,
              "#7201a8"
             ],
             [
              0.3333333333333333,
              "#9c179e"
             ],
             [
              0.4444444444444444,
              "#bd3786"
             ],
             [
              0.5555555555555556,
              "#d8576b"
             ],
             [
              0.6666666666666666,
              "#ed7953"
             ],
             [
              0.7777777777777778,
              "#fb9f3a"
             ],
             [
              0.8888888888888888,
              "#fdca26"
             ],
             [
              1,
              "#f0f921"
             ]
            ],
            "type": "contour"
           }
          ],
          "contourcarpet": [
           {
            "colorbar": {
             "outlinewidth": 0,
             "ticks": ""
            },
            "type": "contourcarpet"
           }
          ],
          "heatmap": [
           {
            "colorbar": {
             "outlinewidth": 0,
             "ticks": ""
            },
            "colorscale": [
             [
              0,
              "#0d0887"
             ],
             [
              0.1111111111111111,
              "#46039f"
             ],
             [
              0.2222222222222222,
              "#7201a8"
             ],
             [
              0.3333333333333333,
              "#9c179e"
             ],
             [
              0.4444444444444444,
              "#bd3786"
             ],
             [
              0.5555555555555556,
              "#d8576b"
             ],
             [
              0.6666666666666666,
              "#ed7953"
             ],
             [
              0.7777777777777778,
              "#fb9f3a"
             ],
             [
              0.8888888888888888,
              "#fdca26"
             ],
             [
              1,
              "#f0f921"
             ]
            ],
            "type": "heatmap"
           }
          ],
          "heatmapgl": [
           {
            "colorbar": {
             "outlinewidth": 0,
             "ticks": ""
            },
            "colorscale": [
             [
              0,
              "#0d0887"
             ],
             [
              0.1111111111111111,
              "#46039f"
             ],
             [
              0.2222222222222222,
              "#7201a8"
             ],
             [
              0.3333333333333333,
              "#9c179e"
             ],
             [
              0.4444444444444444,
              "#bd3786"
             ],
             [
              0.5555555555555556,
              "#d8576b"
             ],
             [
              0.6666666666666666,
              "#ed7953"
             ],
             [
              0.7777777777777778,
              "#fb9f3a"
             ],
             [
              0.8888888888888888,
              "#fdca26"
             ],
             [
              1,
              "#f0f921"
             ]
            ],
            "type": "heatmapgl"
           }
          ],
          "histogram": [
           {
            "marker": {
             "colorbar": {
              "outlinewidth": 0,
              "ticks": ""
             }
            },
            "type": "histogram"
           }
          ],
          "histogram2d": [
           {
            "colorbar": {
             "outlinewidth": 0,
             "ticks": ""
            },
            "colorscale": [
             [
              0,
              "#0d0887"
             ],
             [
              0.1111111111111111,
              "#46039f"
             ],
             [
              0.2222222222222222,
              "#7201a8"
             ],
             [
              0.3333333333333333,
              "#9c179e"
             ],
             [
              0.4444444444444444,
              "#bd3786"
             ],
             [
              0.5555555555555556,
              "#d8576b"
             ],
             [
              0.6666666666666666,
              "#ed7953"
             ],
             [
              0.7777777777777778,
              "#fb9f3a"
             ],
             [
              0.8888888888888888,
              "#fdca26"
             ],
             [
              1,
              "#f0f921"
             ]
            ],
            "type": "histogram2d"
           }
          ],
          "histogram2dcontour": [
           {
            "colorbar": {
             "outlinewidth": 0,
             "ticks": ""
            },
            "colorscale": [
             [
              0,
              "#0d0887"
             ],
             [
              0.1111111111111111,
              "#46039f"
             ],
             [
              0.2222222222222222,
              "#7201a8"
             ],
             [
              0.3333333333333333,
              "#9c179e"
             ],
             [
              0.4444444444444444,
              "#bd3786"
             ],
             [
              0.5555555555555556,
              "#d8576b"
             ],
             [
              0.6666666666666666,
              "#ed7953"
             ],
             [
              0.7777777777777778,
              "#fb9f3a"
             ],
             [
              0.8888888888888888,
              "#fdca26"
             ],
             [
              1,
              "#f0f921"
             ]
            ],
            "type": "histogram2dcontour"
           }
          ],
          "mesh3d": [
           {
            "colorbar": {
             "outlinewidth": 0,
             "ticks": ""
            },
            "type": "mesh3d"
           }
          ],
          "parcoords": [
           {
            "line": {
             "colorbar": {
              "outlinewidth": 0,
              "ticks": ""
             }
            },
            "type": "parcoords"
           }
          ],
          "pie": [
           {
            "automargin": true,
            "type": "pie"
           }
          ],
          "scatter": [
           {
            "marker": {
             "colorbar": {
              "outlinewidth": 0,
              "ticks": ""
             }
            },
            "type": "scatter"
           }
          ],
          "scatter3d": [
           {
            "line": {
             "colorbar": {
              "outlinewidth": 0,
              "ticks": ""
             }
            },
            "marker": {
             "colorbar": {
              "outlinewidth": 0,
              "ticks": ""
             }
            },
            "type": "scatter3d"
           }
          ],
          "scattercarpet": [
           {
            "marker": {
             "colorbar": {
              "outlinewidth": 0,
              "ticks": ""
             }
            },
            "type": "scattercarpet"
           }
          ],
          "scattergeo": [
           {
            "marker": {
             "colorbar": {
              "outlinewidth": 0,
              "ticks": ""
             }
            },
            "type": "scattergeo"
           }
          ],
          "scattergl": [
           {
            "marker": {
             "colorbar": {
              "outlinewidth": 0,
              "ticks": ""
             }
            },
            "type": "scattergl"
           }
          ],
          "scattermapbox": [
           {
            "marker": {
             "colorbar": {
              "outlinewidth": 0,
              "ticks": ""
             }
            },
            "type": "scattermapbox"
           }
          ],
          "scatterpolar": [
           {
            "marker": {
             "colorbar": {
              "outlinewidth": 0,
              "ticks": ""
             }
            },
            "type": "scatterpolar"
           }
          ],
          "scatterpolargl": [
           {
            "marker": {
             "colorbar": {
              "outlinewidth": 0,
              "ticks": ""
             }
            },
            "type": "scatterpolargl"
           }
          ],
          "scatterternary": [
           {
            "marker": {
             "colorbar": {
              "outlinewidth": 0,
              "ticks": ""
             }
            },
            "type": "scatterternary"
           }
          ],
          "surface": [
           {
            "colorbar": {
             "outlinewidth": 0,
             "ticks": ""
            },
            "colorscale": [
             [
              0,
              "#0d0887"
             ],
             [
              0.1111111111111111,
              "#46039f"
             ],
             [
              0.2222222222222222,
              "#7201a8"
             ],
             [
              0.3333333333333333,
              "#9c179e"
             ],
             [
              0.4444444444444444,
              "#bd3786"
             ],
             [
              0.5555555555555556,
              "#d8576b"
             ],
             [
              0.6666666666666666,
              "#ed7953"
             ],
             [
              0.7777777777777778,
              "#fb9f3a"
             ],
             [
              0.8888888888888888,
              "#fdca26"
             ],
             [
              1,
              "#f0f921"
             ]
            ],
            "type": "surface"
           }
          ],
          "table": [
           {
            "cells": {
             "fill": {
              "color": "#EBF0F8"
             },
             "line": {
              "color": "white"
             }
            },
            "header": {
             "fill": {
              "color": "#C8D4E3"
             },
             "line": {
              "color": "white"
             }
            },
            "type": "table"
           }
          ]
         },
         "layout": {
          "annotationdefaults": {
           "arrowcolor": "#2a3f5f",
           "arrowhead": 0,
           "arrowwidth": 1
          },
          "autotypenumbers": "strict",
          "coloraxis": {
           "colorbar": {
            "outlinewidth": 0,
            "ticks": ""
           }
          },
          "colorscale": {
           "diverging": [
            [
             0,
             "#8e0152"
            ],
            [
             0.1,
             "#c51b7d"
            ],
            [
             0.2,
             "#de77ae"
            ],
            [
             0.3,
             "#f1b6da"
            ],
            [
             0.4,
             "#fde0ef"
            ],
            [
             0.5,
             "#f7f7f7"
            ],
            [
             0.6,
             "#e6f5d0"
            ],
            [
             0.7,
             "#b8e186"
            ],
            [
             0.8,
             "#7fbc41"
            ],
            [
             0.9,
             "#4d9221"
            ],
            [
             1,
             "#276419"
            ]
           ],
           "sequential": [
            [
             0,
             "#0d0887"
            ],
            [
             0.1111111111111111,
             "#46039f"
            ],
            [
             0.2222222222222222,
             "#7201a8"
            ],
            [
             0.3333333333333333,
             "#9c179e"
            ],
            [
             0.4444444444444444,
             "#bd3786"
            ],
            [
             0.5555555555555556,
             "#d8576b"
            ],
            [
             0.6666666666666666,
             "#ed7953"
            ],
            [
             0.7777777777777778,
             "#fb9f3a"
            ],
            [
             0.8888888888888888,
             "#fdca26"
            ],
            [
             1,
             "#f0f921"
            ]
           ],
           "sequentialminus": [
            [
             0,
             "#0d0887"
            ],
            [
             0.1111111111111111,
             "#46039f"
            ],
            [
             0.2222222222222222,
             "#7201a8"
            ],
            [
             0.3333333333333333,
             "#9c179e"
            ],
            [
             0.4444444444444444,
             "#bd3786"
            ],
            [
             0.5555555555555556,
             "#d8576b"
            ],
            [
             0.6666666666666666,
             "#ed7953"
            ],
            [
             0.7777777777777778,
             "#fb9f3a"
            ],
            [
             0.8888888888888888,
             "#fdca26"
            ],
            [
             1,
             "#f0f921"
            ]
           ]
          },
          "colorway": [
           "#636efa",
           "#EF553B",
           "#00cc96",
           "#ab63fa",
           "#FFA15A",
           "#19d3f3",
           "#FF6692",
           "#B6E880",
           "#FF97FF",
           "#FECB52"
          ],
          "font": {
           "color": "#2a3f5f"
          },
          "geo": {
           "bgcolor": "white",
           "lakecolor": "white",
           "landcolor": "#E5ECF6",
           "showlakes": true,
           "showland": true,
           "subunitcolor": "white"
          },
          "hoverlabel": {
           "align": "left"
          },
          "hovermode": "closest",
          "mapbox": {
           "style": "light"
          },
          "paper_bgcolor": "white",
          "plot_bgcolor": "#E5ECF6",
          "polar": {
           "angularaxis": {
            "gridcolor": "white",
            "linecolor": "white",
            "ticks": ""
           },
           "bgcolor": "#E5ECF6",
           "radialaxis": {
            "gridcolor": "white",
            "linecolor": "white",
            "ticks": ""
           }
          },
          "scene": {
           "xaxis": {
            "backgroundcolor": "#E5ECF6",
            "gridcolor": "white",
            "gridwidth": 2,
            "linecolor": "white",
            "showbackground": true,
            "ticks": "",
            "zerolinecolor": "white"
           },
           "yaxis": {
            "backgroundcolor": "#E5ECF6",
            "gridcolor": "white",
            "gridwidth": 2,
            "linecolor": "white",
            "showbackground": true,
            "ticks": "",
            "zerolinecolor": "white"
           },
           "zaxis": {
            "backgroundcolor": "#E5ECF6",
            "gridcolor": "white",
            "gridwidth": 2,
            "linecolor": "white",
            "showbackground": true,
            "ticks": "",
            "zerolinecolor": "white"
           }
          },
          "shapedefaults": {
           "line": {
            "color": "#2a3f5f"
           }
          },
          "ternary": {
           "aaxis": {
            "gridcolor": "white",
            "linecolor": "white",
            "ticks": ""
           },
           "baxis": {
            "gridcolor": "white",
            "linecolor": "white",
            "ticks": ""
           },
           "bgcolor": "#E5ECF6",
           "caxis": {
            "gridcolor": "white",
            "linecolor": "white",
            "ticks": ""
           }
          },
          "title": {
           "x": 0.05
          },
          "xaxis": {
           "automargin": true,
           "gridcolor": "white",
           "linecolor": "white",
           "ticks": "",
           "title": {
            "standoff": 15
           },
           "zerolinecolor": "white",
           "zerolinewidth": 2
          },
          "yaxis": {
           "automargin": true,
           "gridcolor": "white",
           "linecolor": "white",
           "ticks": "",
           "title": {
            "standoff": 15
           },
           "zerolinecolor": "white",
           "zerolinewidth": 2
          }
         }
        },
        "title": {
         "font": {
          "color": "#4D5663"
         }
        },
        "xaxis": {
         "gridcolor": "#E1E5ED",
         "showgrid": true,
         "tickfont": {
          "color": "#4D5663"
         },
         "title": {
          "font": {
           "color": "#4D5663"
          },
          "text": ""
         },
         "zerolinecolor": "#E1E5ED"
        },
        "yaxis": {
         "gridcolor": "#E1E5ED",
         "showgrid": true,
         "tickfont": {
          "color": "#4D5663"
         },
         "title": {
          "font": {
           "color": "#4D5663"
          },
          "text": ""
         },
         "zerolinecolor": "#E1E5ED"
        }
       }
      },
      "text/html": [
       "<div>                            <div id=\"4e769f29-5a84-4e0c-8a0e-7753efb998e5\" class=\"plotly-graph-div\" style=\"height:525px; width:100%;\"></div>            <script type=\"text/javascript\">                require([\"plotly\"], function(Plotly) {                    window.PLOTLYENV=window.PLOTLYENV || {};\n",
       "                    window.PLOTLYENV.BASE_URL='https://plot.ly';                                    if (document.getElementById(\"4e769f29-5a84-4e0c-8a0e-7753efb998e5\")) {                    Plotly.newPlot(                        \"4e769f29-5a84-4e0c-8a0e-7753efb998e5\",                        [{\"histfunc\": \"count\", \"histnorm\": \"\", \"marker\": {\"color\": \"rgba(255, 153, 51, 1.0)\", \"line\": {\"color\": \"#4D5663\", \"width\": 1.3}}, \"name\": \"A\", \"nbinsx\": 60, \"opacity\": 0.8, \"orientation\": \"v\", \"type\": \"histogram\", \"x\": [-1.3344538032223674, -0.8924994259218787, 0.26886804372886924, 0.15768862475176948, -0.22119158008310583, 0.4620509340031127, 2.4335083818309733, 0.6283138878570738, 0.5916528935640983, -1.107880473845743, -0.9624677212340109, -2.0455267244571513, 0.0909847865615543, 0.3952627572504107, 0.4419932489725158, -0.4226953551742026, 0.06289069744869118, -0.7006193989648868, -1.083720431567451, -1.060865658791126, -0.09081056338239148, -0.9353209782547409, 0.3589422148729274, -1.7868990461486924, -0.745064837314155, 1.6890846798067614, -0.1583008202058165, -0.2393581360509466, -0.3591360207502799, 0.08032986483476401, -1.0175142609752241, -1.5016700621947336, 1.0074806858167047, 0.6986590715947596, -2.588343670560577, 1.6081822850576204, -0.22914040070541067, -0.5293183734964289, 0.08222597405486373, -1.4699631892936766, -1.7930767125550209, -0.8790112806279785, -1.169373718837128, 0.1384087066882726, -1.0214761584041196, -0.04441846576227683, 0.39667629555448003, 0.20222543201121596, -1.2020756242009765, -1.0165590854073892, 0.46592468153875083, 0.31916647378233987, -1.7589705686927102, -0.19469290293284697, -0.017517836703771206, -1.0825926071297598, 0.8868635912852298, 1.5313879689211365, -0.8832920419908965, 1.0771696646288276, 0.4214819723313268, 0.512096106061291, -0.5765759849025575, 0.11538594660067654, -1.1688312935731027, 0.6842055251828377, 0.22219602704027291, -0.5744307101478267, 0.6367232205179054, 0.6191256148390696, 1.8834084468543921, -0.019136677575396017, -1.1087586253663548, -0.09033572122028868, 1.4938373325772583, -0.4050399181262893, -1.7460005036504043, -0.874792619992864, 1.3994180541184202, 0.799905796022181, 1.274938101349231, 0.2394547792737676, -1.577915260135125, 0.1213707929995456, 0.13672512118700048, -0.6331153406325125, 0.8242219198301328, 0.11707874435192542, 0.7436012566066985, -1.6258384419836545, -0.03584548827872644, 0.08944783921389679, 0.578477924074061, 0.7299558400202367, 0.08093456386569041, -0.2981280006647906, 0.7196159948359657, -0.9887151828728751, -1.2858827698631239, -0.6567521716175984]}, {\"histfunc\": \"count\", \"histnorm\": \"\", \"marker\": {\"color\": \"rgba(55, 128, 191, 1.0)\", \"line\": {\"color\": \"#4D5663\", \"width\": 1.3}}, \"name\": \"B\", \"nbinsx\": 60, \"opacity\": 0.8, \"orientation\": \"v\", \"type\": \"histogram\", \"x\": [0.14115223110497468, 0.0064944644833475305, 0.7422571167780311, 1.0645093771659695, -0.3106905288382996, 0.9105427572688288, 0.6103120706936248, 0.9859342503407027, -1.3935904672907908, 0.5691387823512065, 0.6619116415384811, 1.6926025880928388, -0.6199815554999915, -0.08994976033741052, 1.0750757711471672, 0.9473855422854135, -0.9659146731795786, -0.8563163114136054, 0.40461905434576567, -0.352421659367107, -0.17570731026437184, -0.9037477548119306, -0.02350852517774842, 0.05092474675920466, 1.043949946154262, -2.4490346466295554, 0.33014417054208783, -2.2514329386378424, 0.13653096809477527, 0.27854119209137806, 0.12084021939900245, -0.22910722021751045, 0.8157967113919772, 0.843764373253457, -0.1426121926871968, -0.5483486869724357, 0.2608490671514323, -0.26372400914740446, 0.8194095519733929, -0.270587376920324, -0.7737009584318266, -1.8472980629037679, -0.7082294452695416, 0.41190023363389006, -0.05569757355731567, -0.8395179440475853, 1.237960335845157, 0.09429165095844295, 0.8444303425008042, 1.0941573273460798, 0.5004607034246967, -1.2380236960978572, -0.5299553544779251, -2.401224423159397, -1.533248329403312, -0.17338990000742058, -1.303044209950965, 0.15434110478985552, -0.014923617770171496, 2.2196598208911857, -0.22823646275445944, -0.2495367783710828, -0.08131270339267661, 1.9699500613792806, -1.188690274209095, 0.8832334729754634, 2.09273443955495, -1.0036519160375525, -0.7060680965281807, -0.23968689244003327, 0.163276759185642, -0.686450971672635, -0.30631556602327387, -0.08707637532852806, -0.5228852910421682, -0.7172234514173806, -0.29517886902307716, -0.20458324362180894, -1.462710827625806, 1.4670598502699281, 0.8479039242641055, -1.9986453717747588, -0.6388634514624134, 0.28169086802838134, -0.7770575057522737, 0.04592948766882219, -1.0942302497431726, 0.9789185809599306, -0.46129486343229453, -0.40833102173104213, 1.227531863543337, -0.37368070911341755, -0.45808425613661174, 0.7934113176984202, -1.500505747410543, 0.3307505779477316, 0.5925706519046703, 1.635234820387899, 0.4765566163310391, -1.1996493035445714]}, {\"histfunc\": \"count\", \"histnorm\": \"\", \"marker\": {\"color\": \"rgba(50, 171, 96, 1.0)\", \"line\": {\"color\": \"#4D5663\", \"width\": 1.3}}, \"name\": \"C\", \"nbinsx\": 60, \"opacity\": 0.8, \"orientation\": \"v\", \"type\": \"histogram\", \"x\": [0.2530917113271322, -0.9890104346964195, -0.39399061015526105, -0.806349443728782, 1.0269292755252677, -0.5765171906888962, 1.595271012716274, 0.5963187126316164, -1.4502231149363887, -0.4112895787635489, 1.8019109475952786, -0.0918095648497734, 0.7627425581289289, -0.21914522192757702, -0.2926509630327127, -0.6971203406836002, -0.5468277875916475, -0.7331471279589682, 0.7182673562773526, -1.1734544133177471, -1.474992929667637, 0.8683397659408032, 0.35905053100282663, 0.2292625916257633, -0.6967589269149497, -0.48177822080743415, -0.9222113134634797, 1.2461523735545468, 1.5046599491507222, 0.92261259229617, 0.06195593412560095, 1.3501517219540615, -0.1962592516509624, -1.5236450780327122, 0.07013849426944149, -1.0175226875210754, -1.967895625772992, 1.181703711464979, -0.5678600438042352, 0.6595631355626677, -0.34433448425807334, -0.20307368400259568, -0.54553609386368, -1.6769241078819122, 0.6757788510129932, 0.8258212450642957, -0.350307561972649, 1.2574260935280994, 1.3359166977975272, -2.043068859179839, -0.519474178200342, 0.20599050286675058, -1.651846473593329, 0.31113593378343907, -0.49987751408599584, 0.3888705685375426, -1.506532134549189, 0.14568265358322754, 0.6887695472572651, 0.24988829811863322, -0.08825695195704542, 0.5420044701977272, -0.849556723826802, -0.2921489315869297, 0.5073892089994784, -0.3683131455091124, 1.1933559825006401, 0.01849527309794985, -0.8311877135581195, -0.903773590381288, -0.3148140662690922, 1.964400161863338, -1.581092584064821, -0.07324715397940061, 0.1485008590973546, 0.9057581978437469, -0.618261773342376, 0.6330497758753028, -0.13553713399477593, 0.12943801352764087, 0.9031247247539765, 1.446838737665481, 1.477826912335126, -1.1763939428341526, 0.9995732717882453, -0.12423940048829445, -1.1013294246687177, -0.17903286619989758, -0.04605668442365374, 1.89833634590754, 0.038807438640817114, -0.8161127075991621, -0.9456418183483448, 0.17419248814889204, 0.1405198689364899, -2.1038438209599977, 0.6808095514690816, -0.35020137419082026, -1.113547234381775, 0.7984763692018992]}, {\"histfunc\": \"count\", \"histnorm\": \"\", \"marker\": {\"color\": \"rgba(128, 0, 128, 1.0)\", \"line\": {\"color\": \"#4D5663\", \"width\": 1.3}}, \"name\": \"D\", \"nbinsx\": 60, \"opacity\": 0.8, \"orientation\": \"v\", \"type\": \"histogram\", \"x\": [0.9135095511270055, 0.8300768819790462, -0.32004306346453193, -0.6581296286650561, 1.4836945505803925, 1.0270586035577867, -0.9859497561904975, 1.5701847583308441, 1.0689501999873456, 0.27469367698909647, 0.802179541436546, 0.28884337018785844, -0.7434532905448736, 0.27274012450951335, -1.2859035819950417, 1.4733751166997981, -1.448170024930766, 0.6387142479829242, 0.10544400953620241, -1.2102928294002335, -0.24276755640050543, -0.8963604076627338, 0.22887388670666756, 0.7055734686513757, -0.11357563100775599, 0.9252196163749348, 1.058228680287137, 0.25047384372673487, 1.1653344926210953, 0.15865317944084573, 1.3866504724146873, 1.6689296985913067, -0.8134044689759502, 0.6487187769518447, -0.8052091624301895, 2.0326603507057137, 0.1073820460355707, 0.4071162529196392, -0.5750653685166855, -0.6315805871754341, 0.5418712272596757, -1.1306708673810189, -1.118714709363381, -0.4401647702306003, -0.8061306367639891, -1.197345475413853, -1.0068972492704373, -0.17817852999860212, 0.639369678595348, 1.013703991356466, -0.23922158717259134, 1.4633201945065708, 1.3800134011897498, 0.2247267573806439, 0.49163132075695115, -0.10828728589737688, 1.1069484290607003, -1.2288487448834053, 0.1754650161188707, 0.7507986272132572, -0.20081391988588704, -0.6226641921427002, -0.16735697752048215, -0.38524578546611754, -0.5355048393729672, -0.34164985540023096, -0.2774104723203889, -0.2584209934005529, -0.3814423922234519, 0.3257577500486821, 0.6434080629177568, 0.66077107797274, 0.3637986673716947, -0.09214981424928291, 0.5276787296850053, -1.0338595767059349, -0.21097706924663143, 0.8984944691691217, 0.0820970582758034, 0.11562641623887104, 0.10032385906751383, -0.6503813578923999, -0.055876884880289614, -0.8571822962027709, 0.615500073921127, -1.3194434776149946, 2.0925297421943623, 0.9410652730595865, -3.673307455724263, -0.1572986034633572, -0.47613933558282523, 0.8539426335428666, -0.23704464026201616, 0.6063597785257324, -0.6518794725049938, 1.7049202285082419, -0.4059466352822378, -2.217238611239522, 1.1045060637619017, 0.13468126793607563]}],                        {\"barmode\": \"overlay\", \"legend\": {\"bgcolor\": \"#F5F6F9\", \"font\": {\"color\": \"#4D5663\"}}, \"paper_bgcolor\": \"#F5F6F9\", \"plot_bgcolor\": \"#F5F6F9\", \"template\": {\"data\": {\"bar\": [{\"error_x\": {\"color\": \"#2a3f5f\"}, \"error_y\": {\"color\": \"#2a3f5f\"}, \"marker\": {\"line\": {\"color\": \"#E5ECF6\", \"width\": 0.5}}, \"type\": \"bar\"}], \"barpolar\": [{\"marker\": {\"line\": {\"color\": \"#E5ECF6\", \"width\": 0.5}}, \"type\": \"barpolar\"}], \"carpet\": [{\"aaxis\": {\"endlinecolor\": \"#2a3f5f\", \"gridcolor\": \"white\", \"linecolor\": \"white\", \"minorgridcolor\": \"white\", \"startlinecolor\": \"#2a3f5f\"}, \"baxis\": {\"endlinecolor\": \"#2a3f5f\", \"gridcolor\": \"white\", \"linecolor\": \"white\", \"minorgridcolor\": \"white\", \"startlinecolor\": \"#2a3f5f\"}, \"type\": \"carpet\"}], \"choropleth\": [{\"colorbar\": {\"outlinewidth\": 0, \"ticks\": \"\"}, \"type\": \"choropleth\"}], \"contour\": [{\"colorbar\": {\"outlinewidth\": 0, \"ticks\": \"\"}, \"colorscale\": [[0.0, \"#0d0887\"], [0.1111111111111111, \"#46039f\"], [0.2222222222222222, \"#7201a8\"], [0.3333333333333333, \"#9c179e\"], [0.4444444444444444, \"#bd3786\"], [0.5555555555555556, \"#d8576b\"], [0.6666666666666666, \"#ed7953\"], [0.7777777777777778, \"#fb9f3a\"], [0.8888888888888888, \"#fdca26\"], [1.0, \"#f0f921\"]], \"type\": \"contour\"}], \"contourcarpet\": [{\"colorbar\": {\"outlinewidth\": 0, \"ticks\": \"\"}, \"type\": \"contourcarpet\"}], \"heatmap\": [{\"colorbar\": {\"outlinewidth\": 0, \"ticks\": \"\"}, \"colorscale\": [[0.0, \"#0d0887\"], [0.1111111111111111, \"#46039f\"], [0.2222222222222222, \"#7201a8\"], [0.3333333333333333, \"#9c179e\"], [0.4444444444444444, \"#bd3786\"], [0.5555555555555556, \"#d8576b\"], [0.6666666666666666, \"#ed7953\"], [0.7777777777777778, \"#fb9f3a\"], [0.8888888888888888, \"#fdca26\"], [1.0, \"#f0f921\"]], \"type\": \"heatmap\"}], \"heatmapgl\": [{\"colorbar\": {\"outlinewidth\": 0, \"ticks\": \"\"}, \"colorscale\": [[0.0, \"#0d0887\"], [0.1111111111111111, \"#46039f\"], [0.2222222222222222, \"#7201a8\"], [0.3333333333333333, \"#9c179e\"], [0.4444444444444444, \"#bd3786\"], [0.5555555555555556, \"#d8576b\"], [0.6666666666666666, \"#ed7953\"], [0.7777777777777778, \"#fb9f3a\"], [0.8888888888888888, \"#fdca26\"], [1.0, \"#f0f921\"]], \"type\": \"heatmapgl\"}], \"histogram\": [{\"marker\": {\"colorbar\": {\"outlinewidth\": 0, \"ticks\": \"\"}}, \"type\": \"histogram\"}], \"histogram2d\": [{\"colorbar\": {\"outlinewidth\": 0, \"ticks\": \"\"}, \"colorscale\": [[0.0, \"#0d0887\"], [0.1111111111111111, \"#46039f\"], [0.2222222222222222, \"#7201a8\"], [0.3333333333333333, \"#9c179e\"], [0.4444444444444444, \"#bd3786\"], [0.5555555555555556, \"#d8576b\"], [0.6666666666666666, \"#ed7953\"], [0.7777777777777778, \"#fb9f3a\"], [0.8888888888888888, \"#fdca26\"], [1.0, \"#f0f921\"]], \"type\": \"histogram2d\"}], \"histogram2dcontour\": [{\"colorbar\": {\"outlinewidth\": 0, \"ticks\": \"\"}, \"colorscale\": [[0.0, \"#0d0887\"], [0.1111111111111111, \"#46039f\"], [0.2222222222222222, \"#7201a8\"], [0.3333333333333333, \"#9c179e\"], [0.4444444444444444, \"#bd3786\"], [0.5555555555555556, \"#d8576b\"], [0.6666666666666666, \"#ed7953\"], [0.7777777777777778, \"#fb9f3a\"], [0.8888888888888888, \"#fdca26\"], [1.0, \"#f0f921\"]], \"type\": \"histogram2dcontour\"}], \"mesh3d\": [{\"colorbar\": {\"outlinewidth\": 0, \"ticks\": \"\"}, \"type\": \"mesh3d\"}], \"parcoords\": [{\"line\": {\"colorbar\": {\"outlinewidth\": 0, \"ticks\": \"\"}}, \"type\": \"parcoords\"}], \"pie\": [{\"automargin\": true, \"type\": \"pie\"}], \"scatter\": [{\"marker\": {\"colorbar\": {\"outlinewidth\": 0, \"ticks\": \"\"}}, \"type\": \"scatter\"}], \"scatter3d\": [{\"line\": {\"colorbar\": {\"outlinewidth\": 0, \"ticks\": \"\"}}, \"marker\": {\"colorbar\": {\"outlinewidth\": 0, \"ticks\": \"\"}}, \"type\": \"scatter3d\"}], \"scattercarpet\": [{\"marker\": {\"colorbar\": {\"outlinewidth\": 0, \"ticks\": \"\"}}, \"type\": \"scattercarpet\"}], \"scattergeo\": [{\"marker\": {\"colorbar\": {\"outlinewidth\": 0, \"ticks\": \"\"}}, \"type\": \"scattergeo\"}], \"scattergl\": [{\"marker\": {\"colorbar\": {\"outlinewidth\": 0, \"ticks\": \"\"}}, \"type\": \"scattergl\"}], \"scattermapbox\": [{\"marker\": {\"colorbar\": {\"outlinewidth\": 0, \"ticks\": \"\"}}, \"type\": \"scattermapbox\"}], \"scatterpolar\": [{\"marker\": {\"colorbar\": {\"outlinewidth\": 0, \"ticks\": \"\"}}, \"type\": \"scatterpolar\"}], \"scatterpolargl\": [{\"marker\": {\"colorbar\": {\"outlinewidth\": 0, \"ticks\": \"\"}}, \"type\": \"scatterpolargl\"}], \"scatterternary\": [{\"marker\": {\"colorbar\": {\"outlinewidth\": 0, \"ticks\": \"\"}}, \"type\": \"scatterternary\"}], \"surface\": [{\"colorbar\": {\"outlinewidth\": 0, \"ticks\": \"\"}, \"colorscale\": [[0.0, \"#0d0887\"], [0.1111111111111111, \"#46039f\"], [0.2222222222222222, \"#7201a8\"], [0.3333333333333333, \"#9c179e\"], [0.4444444444444444, \"#bd3786\"], [0.5555555555555556, \"#d8576b\"], [0.6666666666666666, \"#ed7953\"], [0.7777777777777778, \"#fb9f3a\"], [0.8888888888888888, \"#fdca26\"], [1.0, \"#f0f921\"]], \"type\": \"surface\"}], \"table\": [{\"cells\": {\"fill\": {\"color\": \"#EBF0F8\"}, \"line\": {\"color\": \"white\"}}, \"header\": {\"fill\": {\"color\": \"#C8D4E3\"}, \"line\": {\"color\": \"white\"}}, \"type\": \"table\"}]}, \"layout\": {\"annotationdefaults\": {\"arrowcolor\": \"#2a3f5f\", \"arrowhead\": 0, \"arrowwidth\": 1}, \"autotypenumbers\": \"strict\", \"coloraxis\": {\"colorbar\": {\"outlinewidth\": 0, \"ticks\": \"\"}}, \"colorscale\": {\"diverging\": [[0, \"#8e0152\"], [0.1, \"#c51b7d\"], [0.2, \"#de77ae\"], [0.3, \"#f1b6da\"], [0.4, \"#fde0ef\"], [0.5, \"#f7f7f7\"], [0.6, \"#e6f5d0\"], [0.7, \"#b8e186\"], [0.8, \"#7fbc41\"], [0.9, \"#4d9221\"], [1, \"#276419\"]], \"sequential\": [[0.0, \"#0d0887\"], [0.1111111111111111, \"#46039f\"], [0.2222222222222222, \"#7201a8\"], [0.3333333333333333, \"#9c179e\"], [0.4444444444444444, \"#bd3786\"], [0.5555555555555556, \"#d8576b\"], [0.6666666666666666, \"#ed7953\"], [0.7777777777777778, \"#fb9f3a\"], [0.8888888888888888, \"#fdca26\"], [1.0, \"#f0f921\"]], \"sequentialminus\": [[0.0, \"#0d0887\"], [0.1111111111111111, \"#46039f\"], [0.2222222222222222, \"#7201a8\"], [0.3333333333333333, \"#9c179e\"], [0.4444444444444444, \"#bd3786\"], [0.5555555555555556, \"#d8576b\"], [0.6666666666666666, \"#ed7953\"], [0.7777777777777778, \"#fb9f3a\"], [0.8888888888888888, \"#fdca26\"], [1.0, \"#f0f921\"]]}, \"colorway\": [\"#636efa\", \"#EF553B\", \"#00cc96\", \"#ab63fa\", \"#FFA15A\", \"#19d3f3\", \"#FF6692\", \"#B6E880\", \"#FF97FF\", \"#FECB52\"], \"font\": {\"color\": \"#2a3f5f\"}, \"geo\": {\"bgcolor\": \"white\", \"lakecolor\": \"white\", \"landcolor\": \"#E5ECF6\", \"showlakes\": true, \"showland\": true, \"subunitcolor\": \"white\"}, \"hoverlabel\": {\"align\": \"left\"}, \"hovermode\": \"closest\", \"mapbox\": {\"style\": \"light\"}, \"paper_bgcolor\": \"white\", \"plot_bgcolor\": \"#E5ECF6\", \"polar\": {\"angularaxis\": {\"gridcolor\": \"white\", \"linecolor\": \"white\", \"ticks\": \"\"}, \"bgcolor\": \"#E5ECF6\", \"radialaxis\": {\"gridcolor\": \"white\", \"linecolor\": \"white\", \"ticks\": \"\"}}, \"scene\": {\"xaxis\": {\"backgroundcolor\": \"#E5ECF6\", \"gridcolor\": \"white\", \"gridwidth\": 2, \"linecolor\": \"white\", \"showbackground\": true, \"ticks\": \"\", \"zerolinecolor\": \"white\"}, \"yaxis\": {\"backgroundcolor\": \"#E5ECF6\", \"gridcolor\": \"white\", \"gridwidth\": 2, \"linecolor\": \"white\", \"showbackground\": true, \"ticks\": \"\", \"zerolinecolor\": \"white\"}, \"zaxis\": {\"backgroundcolor\": \"#E5ECF6\", \"gridcolor\": \"white\", \"gridwidth\": 2, \"linecolor\": \"white\", \"showbackground\": true, \"ticks\": \"\", \"zerolinecolor\": \"white\"}}, \"shapedefaults\": {\"line\": {\"color\": \"#2a3f5f\"}}, \"ternary\": {\"aaxis\": {\"gridcolor\": \"white\", \"linecolor\": \"white\", \"ticks\": \"\"}, \"baxis\": {\"gridcolor\": \"white\", \"linecolor\": \"white\", \"ticks\": \"\"}, \"bgcolor\": \"#E5ECF6\", \"caxis\": {\"gridcolor\": \"white\", \"linecolor\": \"white\", \"ticks\": \"\"}}, \"title\": {\"x\": 0.05}, \"xaxis\": {\"automargin\": true, \"gridcolor\": \"white\", \"linecolor\": \"white\", \"ticks\": \"\", \"title\": {\"standoff\": 15}, \"zerolinecolor\": \"white\", \"zerolinewidth\": 2}, \"yaxis\": {\"automargin\": true, \"gridcolor\": \"white\", \"linecolor\": \"white\", \"ticks\": \"\", \"title\": {\"standoff\": 15}, \"zerolinecolor\": \"white\", \"zerolinewidth\": 2}}}, \"title\": {\"font\": {\"color\": \"#4D5663\"}}, \"xaxis\": {\"gridcolor\": \"#E1E5ED\", \"showgrid\": true, \"tickfont\": {\"color\": \"#4D5663\"}, \"title\": {\"font\": {\"color\": \"#4D5663\"}, \"text\": \"\"}, \"zerolinecolor\": \"#E1E5ED\"}, \"yaxis\": {\"gridcolor\": \"#E1E5ED\", \"showgrid\": true, \"tickfont\": {\"color\": \"#4D5663\"}, \"title\": {\"font\": {\"color\": \"#4D5663\"}, \"text\": \"\"}, \"zerolinecolor\": \"#E1E5ED\"}},                        {\"showLink\": true, \"linkText\": \"Export to plot.ly\", \"plotlyServerURL\": \"https://plot.ly\", \"responsive\": true}                    ).then(function(){\n",
       "                            \n",
       "var gd = document.getElementById('4e769f29-5a84-4e0c-8a0e-7753efb998e5');\n",
       "var x = new MutationObserver(function (mutations, observer) {{\n",
       "        var display = window.getComputedStyle(gd).display;\n",
       "        if (!display || display === 'none') {{\n",
       "            console.log([gd, 'removed!']);\n",
       "            Plotly.purge(gd);\n",
       "            observer.disconnect();\n",
       "        }}\n",
       "}});\n",
       "\n",
       "// Listen for the removal of the full notebook cells\n",
       "var notebookContainer = gd.closest('#notebook-container');\n",
       "if (notebookContainer) {{\n",
       "    x.observe(notebookContainer, {childList: true});\n",
       "}}\n",
       "\n",
       "// Listen for the clearing of the current output cell\n",
       "var outputEl = gd.closest('.output');\n",
       "if (outputEl) {{\n",
       "    x.observe(outputEl, {childList: true});\n",
       "}}\n",
       "\n",
       "                        })                };                });            </script>        </div>"
      ]
     },
     "metadata": {},
     "output_type": "display_data"
    }
   ],
   "source": [
    "df.iplot(kind='hist', bins=60)"
   ]
  },
  {
   "cell_type": "code",
   "execution_count": 38,
   "metadata": {},
   "outputs": [
    {
     "name": "stderr",
     "output_type": "stream",
     "text": [
      "C:\\Users\\naber\\anaconda3\\lib\\site-packages\\cufflinks\\plotlytools.py:849: FutureWarning:\n",
      "\n",
      "The pandas.np module is deprecated and will be removed from pandas in a future version. Import numpy directly instead\n",
      "\n",
      "C:\\Users\\naber\\anaconda3\\lib\\site-packages\\cufflinks\\plotlytools.py:850: FutureWarning:\n",
      "\n",
      "The pandas.np module is deprecated and will be removed from pandas in a future version. Import numpy directly instead\n",
      "\n"
     ]
    },
    {
     "data": {
      "application/vnd.plotly.v1+json": {
       "config": {
        "linkText": "Export to plot.ly",
        "plotlyServerURL": "https://plot.ly",
        "showLink": true
       },
       "data": [
        {
         "line": {
          "color": "rgba(255, 153, 51, 1.0)",
          "dash": "solid",
          "shape": "linear",
          "width": 1.3
         },
         "mode": "lines",
         "name": "A",
         "text": "",
         "type": "scatter",
         "x": [
          0,
          1,
          2,
          3,
          4,
          5,
          6,
          7,
          8,
          9,
          10,
          11,
          12,
          13,
          14,
          15,
          16,
          17,
          18,
          19,
          20,
          21,
          22,
          23,
          24,
          25,
          26,
          27,
          28,
          29,
          30,
          31,
          32,
          33,
          34,
          35,
          36,
          37,
          38,
          39,
          40,
          41,
          42,
          43,
          44,
          45,
          46,
          47,
          48,
          49,
          50,
          51,
          52,
          53,
          54,
          55,
          56,
          57,
          58,
          59,
          60,
          61,
          62,
          63,
          64,
          65,
          66,
          67,
          68,
          69,
          70,
          71,
          72,
          73,
          74,
          75,
          76,
          77,
          78,
          79,
          80,
          81,
          82,
          83,
          84,
          85,
          86,
          87,
          88,
          89,
          90,
          91,
          92,
          93,
          94,
          95,
          96,
          97,
          98,
          99
         ],
         "y": [
          -1.3344538032223674,
          -0.8924994259218787,
          0.26886804372886924,
          0.15768862475176948,
          -0.22119158008310583,
          0.4620509340031127,
          2.4335083818309733,
          0.6283138878570738,
          0.5916528935640983,
          -1.107880473845743,
          -0.9624677212340109,
          -2.0455267244571513,
          0.0909847865615543,
          0.3952627572504107,
          0.4419932489725158,
          -0.4226953551742026,
          0.06289069744869118,
          -0.7006193989648868,
          -1.083720431567451,
          -1.060865658791126,
          -0.09081056338239148,
          -0.9353209782547409,
          0.3589422148729274,
          -1.7868990461486924,
          -0.745064837314155,
          1.6890846798067614,
          -0.1583008202058165,
          -0.2393581360509466,
          -0.3591360207502799,
          0.08032986483476401,
          -1.0175142609752241,
          -1.5016700621947336,
          1.0074806858167047,
          0.6986590715947596,
          -2.588343670560577,
          1.6081822850576204,
          -0.22914040070541067,
          -0.5293183734964289,
          0.08222597405486373,
          -1.4699631892936766,
          -1.7930767125550209,
          -0.8790112806279785,
          -1.169373718837128,
          0.1384087066882726,
          -1.0214761584041196,
          -0.04441846576227683,
          0.39667629555448003,
          0.20222543201121596,
          -1.2020756242009765,
          -1.0165590854073892,
          0.46592468153875083,
          0.31916647378233987,
          -1.7589705686927102,
          -0.19469290293284697,
          -0.017517836703771206,
          -1.0825926071297598,
          0.8868635912852298,
          1.5313879689211365,
          -0.8832920419908965,
          1.0771696646288276,
          0.4214819723313268,
          0.512096106061291,
          -0.5765759849025575,
          0.11538594660067654,
          -1.1688312935731027,
          0.6842055251828377,
          0.22219602704027291,
          -0.5744307101478267,
          0.6367232205179054,
          0.6191256148390696,
          1.8834084468543921,
          -0.019136677575396017,
          -1.1087586253663548,
          -0.09033572122028868,
          1.4938373325772583,
          -0.4050399181262893,
          -1.7460005036504043,
          -0.874792619992864,
          1.3994180541184202,
          0.799905796022181,
          1.274938101349231,
          0.2394547792737676,
          -1.577915260135125,
          0.1213707929995456,
          0.13672512118700048,
          -0.6331153406325125,
          0.8242219198301328,
          0.11707874435192542,
          0.7436012566066985,
          -1.6258384419836545,
          -0.03584548827872644,
          0.08944783921389679,
          0.578477924074061,
          0.7299558400202367,
          0.08093456386569041,
          -0.2981280006647906,
          0.7196159948359657,
          -0.9887151828728751,
          -1.2858827698631239,
          -0.6567521716175984
         ]
        },
        {
         "line": {
          "color": "rgba(55, 128, 191, 1.0)",
          "dash": "solid",
          "shape": "linear",
          "width": 1.3
         },
         "mode": "lines",
         "name": "B",
         "text": "",
         "type": "scatter",
         "x": [
          0,
          1,
          2,
          3,
          4,
          5,
          6,
          7,
          8,
          9,
          10,
          11,
          12,
          13,
          14,
          15,
          16,
          17,
          18,
          19,
          20,
          21,
          22,
          23,
          24,
          25,
          26,
          27,
          28,
          29,
          30,
          31,
          32,
          33,
          34,
          35,
          36,
          37,
          38,
          39,
          40,
          41,
          42,
          43,
          44,
          45,
          46,
          47,
          48,
          49,
          50,
          51,
          52,
          53,
          54,
          55,
          56,
          57,
          58,
          59,
          60,
          61,
          62,
          63,
          64,
          65,
          66,
          67,
          68,
          69,
          70,
          71,
          72,
          73,
          74,
          75,
          76,
          77,
          78,
          79,
          80,
          81,
          82,
          83,
          84,
          85,
          86,
          87,
          88,
          89,
          90,
          91,
          92,
          93,
          94,
          95,
          96,
          97,
          98,
          99
         ],
         "y": [
          0.14115223110497468,
          0.0064944644833475305,
          0.7422571167780311,
          1.0645093771659695,
          -0.3106905288382996,
          0.9105427572688288,
          0.6103120706936248,
          0.9859342503407027,
          -1.3935904672907908,
          0.5691387823512065,
          0.6619116415384811,
          1.6926025880928388,
          -0.6199815554999915,
          -0.08994976033741052,
          1.0750757711471672,
          0.9473855422854135,
          -0.9659146731795786,
          -0.8563163114136054,
          0.40461905434576567,
          -0.352421659367107,
          -0.17570731026437184,
          -0.9037477548119306,
          -0.02350852517774842,
          0.05092474675920466,
          1.043949946154262,
          -2.4490346466295554,
          0.33014417054208783,
          -2.2514329386378424,
          0.13653096809477527,
          0.27854119209137806,
          0.12084021939900245,
          -0.22910722021751045,
          0.8157967113919772,
          0.843764373253457,
          -0.1426121926871968,
          -0.5483486869724357,
          0.2608490671514323,
          -0.26372400914740446,
          0.8194095519733929,
          -0.270587376920324,
          -0.7737009584318266,
          -1.8472980629037679,
          -0.7082294452695416,
          0.41190023363389006,
          -0.05569757355731567,
          -0.8395179440475853,
          1.237960335845157,
          0.09429165095844295,
          0.8444303425008042,
          1.0941573273460798,
          0.5004607034246967,
          -1.2380236960978572,
          -0.5299553544779251,
          -2.401224423159397,
          -1.533248329403312,
          -0.17338990000742058,
          -1.303044209950965,
          0.15434110478985552,
          -0.014923617770171496,
          2.2196598208911857,
          -0.22823646275445944,
          -0.2495367783710828,
          -0.08131270339267661,
          1.9699500613792806,
          -1.188690274209095,
          0.8832334729754634,
          2.09273443955495,
          -1.0036519160375525,
          -0.7060680965281807,
          -0.23968689244003327,
          0.163276759185642,
          -0.686450971672635,
          -0.30631556602327387,
          -0.08707637532852806,
          -0.5228852910421682,
          -0.7172234514173806,
          -0.29517886902307716,
          -0.20458324362180894,
          -1.462710827625806,
          1.4670598502699281,
          0.8479039242641055,
          -1.9986453717747588,
          -0.6388634514624134,
          0.28169086802838134,
          -0.7770575057522737,
          0.04592948766882219,
          -1.0942302497431726,
          0.9789185809599306,
          -0.46129486343229453,
          -0.40833102173104213,
          1.227531863543337,
          -0.37368070911341755,
          -0.45808425613661174,
          0.7934113176984202,
          -1.500505747410543,
          0.3307505779477316,
          0.5925706519046703,
          1.635234820387899,
          0.4765566163310391,
          -1.1996493035445714
         ]
        },
        {
         "connectgaps": false,
         "fill": "tozeroy",
         "line": {
          "color": "green",
          "dash": "solid",
          "shape": "linear",
          "width": 0.5
         },
         "mode": "lines",
         "name": "Spread",
         "showlegend": false,
         "type": "scatter",
         "x": [
          0,
          1,
          2,
          3,
          4,
          5,
          6,
          7,
          8,
          9,
          10,
          11,
          12,
          13,
          14,
          15,
          16,
          17,
          18,
          19,
          20,
          21,
          22,
          23,
          24,
          25,
          26,
          27,
          28,
          29,
          30,
          31,
          32,
          33,
          34,
          35,
          36,
          37,
          38,
          39,
          40,
          41,
          42,
          43,
          44,
          45,
          46,
          47,
          48,
          49,
          50,
          51,
          52,
          53,
          54,
          55,
          56,
          57,
          58,
          59,
          60,
          61,
          62,
          63,
          64,
          65,
          66,
          67,
          68,
          69,
          70,
          71,
          72,
          73,
          74,
          75,
          76,
          77,
          78,
          79,
          80,
          81,
          82,
          83,
          84,
          85,
          86,
          87,
          88,
          89,
          90,
          91,
          92,
          93,
          94,
          95,
          96,
          97,
          98,
          99
         ],
         "xaxis": "x2",
         "y": [
          "",
          "",
          "",
          "",
          0.08949894875519379,
          "",
          1.8231963111373486,
          "",
          1.9852433608548892,
          "",
          "",
          "",
          0.7109663420615457,
          0.48521251758782125,
          "",
          "",
          1.0288053706282698,
          0.15569691244871864,
          "",
          "",
          0.08489674688198036,
          "",
          0.3824507400506758,
          "",
          "",
          4.138119326436317,
          "",
          2.0120748025868957,
          "",
          "",
          "",
          "",
          0.1916839744247275,
          "",
          "",
          2.156530972030056,
          "",
          "",
          "",
          "",
          "",
          0.9682867822757893,
          "",
          "",
          "",
          0.7950994782853085,
          "",
          0.107933781052773,
          "",
          "",
          "",
          1.557190169880197,
          "",
          2.20653152022655,
          1.5157304926995407,
          "",
          2.1899078012361946,
          1.377046864131281,
          "",
          "",
          0.6497184350857862,
          0.7616328844323738,
          "",
          "",
          0.01985898063599234,
          "",
          "",
          0.4292212058897259,
          1.3427913170460861,
          0.8588125072791029,
          1.7201316876687502,
          0.667314294097239,
          "",
          "",
          2.0167226236194264,
          0.31218353329109133,
          "",
          "",
          2.8621288817442263,
          "",
          0.42703417708512537,
          2.2381001510485263,
          "",
          "",
          0.9137826269392741,
          "",
          1.9184521695733054,
          "",
          1.2048961200389932,
          "",
          "",
          0.4631285483273143,
          1.0365621802106726,
          "",
          1.5814403112762334,
          "",
          0.12704534293129544,
          "",
          "",
          0.5428971319269731
         ],
         "yaxis": "y2"
        },
        {
         "connectgaps": false,
         "fill": "tozeroy",
         "line": {
          "color": "red",
          "dash": "solid",
          "shape": "linear",
          "width": 0.5
         },
         "mode": "lines",
         "name": "Spread",
         "showlegend": false,
         "type": "scatter",
         "x": [
          0,
          1,
          2,
          3,
          4,
          5,
          6,
          7,
          8,
          9,
          10,
          11,
          12,
          13,
          14,
          15,
          16,
          17,
          18,
          19,
          20,
          21,
          22,
          23,
          24,
          25,
          26,
          27,
          28,
          29,
          30,
          31,
          32,
          33,
          34,
          35,
          36,
          37,
          38,
          39,
          40,
          41,
          42,
          43,
          44,
          45,
          46,
          47,
          48,
          49,
          50,
          51,
          52,
          53,
          54,
          55,
          56,
          57,
          58,
          59,
          60,
          61,
          62,
          63,
          64,
          65,
          66,
          67,
          68,
          69,
          70,
          71,
          72,
          73,
          74,
          75,
          76,
          77,
          78,
          79,
          80,
          81,
          82,
          83,
          84,
          85,
          86,
          87,
          88,
          89,
          90,
          91,
          92,
          93,
          94,
          95,
          96,
          97,
          98,
          99
         ],
         "xaxis": "x2",
         "y": [
          -1.475606034327342,
          -0.8989938904052263,
          -0.47338907304916183,
          -0.9068207524142,
          "",
          -0.4484918232657161,
          "",
          -0.35762036248362894,
          "",
          -1.6770192561969495,
          -1.624379362772492,
          -3.73812931254999,
          "",
          "",
          -0.6330825221746514,
          -1.3700808974596161,
          "",
          "",
          -1.4883394859132166,
          -0.708443999424019,
          "",
          -0.03157322344281033,
          "",
          -1.837823792907897,
          -1.7890147834684171,
          "",
          -0.4884449907479044,
          "",
          -0.49566698884505517,
          -0.19821132725661406,
          -1.1383544803742265,
          -1.2725628419772232,
          "",
          -0.1451053016586974,
          -2.4457314778733803,
          "",
          -0.48998946785684294,
          -0.2655943643490244,
          -0.7371835779185292,
          -1.1993758123733527,
          -1.0193757541231943,
          "",
          -0.46114427356758647,
          -0.27349152694561746,
          -0.965778584846804,
          "",
          -0.8412840402906769,
          "",
          -2.0465059667017806,
          -2.1107164127534688,
          -0.0345360218859459,
          "",
          -1.229015214214785,
          "",
          "",
          -0.9092027071223392,
          "",
          "",
          -0.868368424220725,
          -1.1424901562623582,
          "",
          "",
          -0.49526328150988086,
          -1.854564114778604,
          "",
          -0.19902794779262567,
          -1.870538412514677,
          "",
          "",
          "",
          "",
          "",
          -0.8024430593430809,
          -0.0032593458917606205,
          "",
          "",
          -1.450821634627327,
          -0.670209376371055,
          "",
          -0.6671540542477471,
          "",
          "",
          -0.9390518086727115,
          -0.16032007502883572,
          "",
          -0.6790448283013347,
          "",
          -0.8618398366080051,
          "",
          -1.2175074202526124,
          -1.2633773518220635,
          "",
          "",
          -0.06345547767818349,
          "",
          -0.6288785786125222,
          "",
          -2.623950003260774,
          -1.762439386194163,
          ""
         ],
         "yaxis": "y2"
        }
       ],
       "layout": {
        "hovermode": "x",
        "legend": {
         "bgcolor": "#F5F6F9",
         "font": {
          "color": "#4D5663"
         }
        },
        "paper_bgcolor": "#F5F6F9",
        "plot_bgcolor": "#F5F6F9",
        "template": {
         "data": {
          "bar": [
           {
            "error_x": {
             "color": "#2a3f5f"
            },
            "error_y": {
             "color": "#2a3f5f"
            },
            "marker": {
             "line": {
              "color": "#E5ECF6",
              "width": 0.5
             }
            },
            "type": "bar"
           }
          ],
          "barpolar": [
           {
            "marker": {
             "line": {
              "color": "#E5ECF6",
              "width": 0.5
             }
            },
            "type": "barpolar"
           }
          ],
          "carpet": [
           {
            "aaxis": {
             "endlinecolor": "#2a3f5f",
             "gridcolor": "white",
             "linecolor": "white",
             "minorgridcolor": "white",
             "startlinecolor": "#2a3f5f"
            },
            "baxis": {
             "endlinecolor": "#2a3f5f",
             "gridcolor": "white",
             "linecolor": "white",
             "minorgridcolor": "white",
             "startlinecolor": "#2a3f5f"
            },
            "type": "carpet"
           }
          ],
          "choropleth": [
           {
            "colorbar": {
             "outlinewidth": 0,
             "ticks": ""
            },
            "type": "choropleth"
           }
          ],
          "contour": [
           {
            "colorbar": {
             "outlinewidth": 0,
             "ticks": ""
            },
            "colorscale": [
             [
              0,
              "#0d0887"
             ],
             [
              0.1111111111111111,
              "#46039f"
             ],
             [
              0.2222222222222222,
              "#7201a8"
             ],
             [
              0.3333333333333333,
              "#9c179e"
             ],
             [
              0.4444444444444444,
              "#bd3786"
             ],
             [
              0.5555555555555556,
              "#d8576b"
             ],
             [
              0.6666666666666666,
              "#ed7953"
             ],
             [
              0.7777777777777778,
              "#fb9f3a"
             ],
             [
              0.8888888888888888,
              "#fdca26"
             ],
             [
              1,
              "#f0f921"
             ]
            ],
            "type": "contour"
           }
          ],
          "contourcarpet": [
           {
            "colorbar": {
             "outlinewidth": 0,
             "ticks": ""
            },
            "type": "contourcarpet"
           }
          ],
          "heatmap": [
           {
            "colorbar": {
             "outlinewidth": 0,
             "ticks": ""
            },
            "colorscale": [
             [
              0,
              "#0d0887"
             ],
             [
              0.1111111111111111,
              "#46039f"
             ],
             [
              0.2222222222222222,
              "#7201a8"
             ],
             [
              0.3333333333333333,
              "#9c179e"
             ],
             [
              0.4444444444444444,
              "#bd3786"
             ],
             [
              0.5555555555555556,
              "#d8576b"
             ],
             [
              0.6666666666666666,
              "#ed7953"
             ],
             [
              0.7777777777777778,
              "#fb9f3a"
             ],
             [
              0.8888888888888888,
              "#fdca26"
             ],
             [
              1,
              "#f0f921"
             ]
            ],
            "type": "heatmap"
           }
          ],
          "heatmapgl": [
           {
            "colorbar": {
             "outlinewidth": 0,
             "ticks": ""
            },
            "colorscale": [
             [
              0,
              "#0d0887"
             ],
             [
              0.1111111111111111,
              "#46039f"
             ],
             [
              0.2222222222222222,
              "#7201a8"
             ],
             [
              0.3333333333333333,
              "#9c179e"
             ],
             [
              0.4444444444444444,
              "#bd3786"
             ],
             [
              0.5555555555555556,
              "#d8576b"
             ],
             [
              0.6666666666666666,
              "#ed7953"
             ],
             [
              0.7777777777777778,
              "#fb9f3a"
             ],
             [
              0.8888888888888888,
              "#fdca26"
             ],
             [
              1,
              "#f0f921"
             ]
            ],
            "type": "heatmapgl"
           }
          ],
          "histogram": [
           {
            "marker": {
             "colorbar": {
              "outlinewidth": 0,
              "ticks": ""
             }
            },
            "type": "histogram"
           }
          ],
          "histogram2d": [
           {
            "colorbar": {
             "outlinewidth": 0,
             "ticks": ""
            },
            "colorscale": [
             [
              0,
              "#0d0887"
             ],
             [
              0.1111111111111111,
              "#46039f"
             ],
             [
              0.2222222222222222,
              "#7201a8"
             ],
             [
              0.3333333333333333,
              "#9c179e"
             ],
             [
              0.4444444444444444,
              "#bd3786"
             ],
             [
              0.5555555555555556,
              "#d8576b"
             ],
             [
              0.6666666666666666,
              "#ed7953"
             ],
             [
              0.7777777777777778,
              "#fb9f3a"
             ],
             [
              0.8888888888888888,
              "#fdca26"
             ],
             [
              1,
              "#f0f921"
             ]
            ],
            "type": "histogram2d"
           }
          ],
          "histogram2dcontour": [
           {
            "colorbar": {
             "outlinewidth": 0,
             "ticks": ""
            },
            "colorscale": [
             [
              0,
              "#0d0887"
             ],
             [
              0.1111111111111111,
              "#46039f"
             ],
             [
              0.2222222222222222,
              "#7201a8"
             ],
             [
              0.3333333333333333,
              "#9c179e"
             ],
             [
              0.4444444444444444,
              "#bd3786"
             ],
             [
              0.5555555555555556,
              "#d8576b"
             ],
             [
              0.6666666666666666,
              "#ed7953"
             ],
             [
              0.7777777777777778,
              "#fb9f3a"
             ],
             [
              0.8888888888888888,
              "#fdca26"
             ],
             [
              1,
              "#f0f921"
             ]
            ],
            "type": "histogram2dcontour"
           }
          ],
          "mesh3d": [
           {
            "colorbar": {
             "outlinewidth": 0,
             "ticks": ""
            },
            "type": "mesh3d"
           }
          ],
          "parcoords": [
           {
            "line": {
             "colorbar": {
              "outlinewidth": 0,
              "ticks": ""
             }
            },
            "type": "parcoords"
           }
          ],
          "pie": [
           {
            "automargin": true,
            "type": "pie"
           }
          ],
          "scatter": [
           {
            "marker": {
             "colorbar": {
              "outlinewidth": 0,
              "ticks": ""
             }
            },
            "type": "scatter"
           }
          ],
          "scatter3d": [
           {
            "line": {
             "colorbar": {
              "outlinewidth": 0,
              "ticks": ""
             }
            },
            "marker": {
             "colorbar": {
              "outlinewidth": 0,
              "ticks": ""
             }
            },
            "type": "scatter3d"
           }
          ],
          "scattercarpet": [
           {
            "marker": {
             "colorbar": {
              "outlinewidth": 0,
              "ticks": ""
             }
            },
            "type": "scattercarpet"
           }
          ],
          "scattergeo": [
           {
            "marker": {
             "colorbar": {
              "outlinewidth": 0,
              "ticks": ""
             }
            },
            "type": "scattergeo"
           }
          ],
          "scattergl": [
           {
            "marker": {
             "colorbar": {
              "outlinewidth": 0,
              "ticks": ""
             }
            },
            "type": "scattergl"
           }
          ],
          "scattermapbox": [
           {
            "marker": {
             "colorbar": {
              "outlinewidth": 0,
              "ticks": ""
             }
            },
            "type": "scattermapbox"
           }
          ],
          "scatterpolar": [
           {
            "marker": {
             "colorbar": {
              "outlinewidth": 0,
              "ticks": ""
             }
            },
            "type": "scatterpolar"
           }
          ],
          "scatterpolargl": [
           {
            "marker": {
             "colorbar": {
              "outlinewidth": 0,
              "ticks": ""
             }
            },
            "type": "scatterpolargl"
           }
          ],
          "scatterternary": [
           {
            "marker": {
             "colorbar": {
              "outlinewidth": 0,
              "ticks": ""
             }
            },
            "type": "scatterternary"
           }
          ],
          "surface": [
           {
            "colorbar": {
             "outlinewidth": 0,
             "ticks": ""
            },
            "colorscale": [
             [
              0,
              "#0d0887"
             ],
             [
              0.1111111111111111,
              "#46039f"
             ],
             [
              0.2222222222222222,
              "#7201a8"
             ],
             [
              0.3333333333333333,
              "#9c179e"
             ],
             [
              0.4444444444444444,
              "#bd3786"
             ],
             [
              0.5555555555555556,
              "#d8576b"
             ],
             [
              0.6666666666666666,
              "#ed7953"
             ],
             [
              0.7777777777777778,
              "#fb9f3a"
             ],
             [
              0.8888888888888888,
              "#fdca26"
             ],
             [
              1,
              "#f0f921"
             ]
            ],
            "type": "surface"
           }
          ],
          "table": [
           {
            "cells": {
             "fill": {
              "color": "#EBF0F8"
             },
             "line": {
              "color": "white"
             }
            },
            "header": {
             "fill": {
              "color": "#C8D4E3"
             },
             "line": {
              "color": "white"
             }
            },
            "type": "table"
           }
          ]
         },
         "layout": {
          "annotationdefaults": {
           "arrowcolor": "#2a3f5f",
           "arrowhead": 0,
           "arrowwidth": 1
          },
          "autotypenumbers": "strict",
          "coloraxis": {
           "colorbar": {
            "outlinewidth": 0,
            "ticks": ""
           }
          },
          "colorscale": {
           "diverging": [
            [
             0,
             "#8e0152"
            ],
            [
             0.1,
             "#c51b7d"
            ],
            [
             0.2,
             "#de77ae"
            ],
            [
             0.3,
             "#f1b6da"
            ],
            [
             0.4,
             "#fde0ef"
            ],
            [
             0.5,
             "#f7f7f7"
            ],
            [
             0.6,
             "#e6f5d0"
            ],
            [
             0.7,
             "#b8e186"
            ],
            [
             0.8,
             "#7fbc41"
            ],
            [
             0.9,
             "#4d9221"
            ],
            [
             1,
             "#276419"
            ]
           ],
           "sequential": [
            [
             0,
             "#0d0887"
            ],
            [
             0.1111111111111111,
             "#46039f"
            ],
            [
             0.2222222222222222,
             "#7201a8"
            ],
            [
             0.3333333333333333,
             "#9c179e"
            ],
            [
             0.4444444444444444,
             "#bd3786"
            ],
            [
             0.5555555555555556,
             "#d8576b"
            ],
            [
             0.6666666666666666,
             "#ed7953"
            ],
            [
             0.7777777777777778,
             "#fb9f3a"
            ],
            [
             0.8888888888888888,
             "#fdca26"
            ],
            [
             1,
             "#f0f921"
            ]
           ],
           "sequentialminus": [
            [
             0,
             "#0d0887"
            ],
            [
             0.1111111111111111,
             "#46039f"
            ],
            [
             0.2222222222222222,
             "#7201a8"
            ],
            [
             0.3333333333333333,
             "#9c179e"
            ],
            [
             0.4444444444444444,
             "#bd3786"
            ],
            [
             0.5555555555555556,
             "#d8576b"
            ],
            [
             0.6666666666666666,
             "#ed7953"
            ],
            [
             0.7777777777777778,
             "#fb9f3a"
            ],
            [
             0.8888888888888888,
             "#fdca26"
            ],
            [
             1,
             "#f0f921"
            ]
           ]
          },
          "colorway": [
           "#636efa",
           "#EF553B",
           "#00cc96",
           "#ab63fa",
           "#FFA15A",
           "#19d3f3",
           "#FF6692",
           "#B6E880",
           "#FF97FF",
           "#FECB52"
          ],
          "font": {
           "color": "#2a3f5f"
          },
          "geo": {
           "bgcolor": "white",
           "lakecolor": "white",
           "landcolor": "#E5ECF6",
           "showlakes": true,
           "showland": true,
           "subunitcolor": "white"
          },
          "hoverlabel": {
           "align": "left"
          },
          "hovermode": "closest",
          "mapbox": {
           "style": "light"
          },
          "paper_bgcolor": "white",
          "plot_bgcolor": "#E5ECF6",
          "polar": {
           "angularaxis": {
            "gridcolor": "white",
            "linecolor": "white",
            "ticks": ""
           },
           "bgcolor": "#E5ECF6",
           "radialaxis": {
            "gridcolor": "white",
            "linecolor": "white",
            "ticks": ""
           }
          },
          "scene": {
           "xaxis": {
            "backgroundcolor": "#E5ECF6",
            "gridcolor": "white",
            "gridwidth": 2,
            "linecolor": "white",
            "showbackground": true,
            "ticks": "",
            "zerolinecolor": "white"
           },
           "yaxis": {
            "backgroundcolor": "#E5ECF6",
            "gridcolor": "white",
            "gridwidth": 2,
            "linecolor": "white",
            "showbackground": true,
            "ticks": "",
            "zerolinecolor": "white"
           },
           "zaxis": {
            "backgroundcolor": "#E5ECF6",
            "gridcolor": "white",
            "gridwidth": 2,
            "linecolor": "white",
            "showbackground": true,
            "ticks": "",
            "zerolinecolor": "white"
           }
          },
          "shapedefaults": {
           "line": {
            "color": "#2a3f5f"
           }
          },
          "ternary": {
           "aaxis": {
            "gridcolor": "white",
            "linecolor": "white",
            "ticks": ""
           },
           "baxis": {
            "gridcolor": "white",
            "linecolor": "white",
            "ticks": ""
           },
           "bgcolor": "#E5ECF6",
           "caxis": {
            "gridcolor": "white",
            "linecolor": "white",
            "ticks": ""
           }
          },
          "title": {
           "x": 0.05
          },
          "xaxis": {
           "automargin": true,
           "gridcolor": "white",
           "linecolor": "white",
           "ticks": "",
           "title": {
            "standoff": 15
           },
           "zerolinecolor": "white",
           "zerolinewidth": 2
          },
          "yaxis": {
           "automargin": true,
           "gridcolor": "white",
           "linecolor": "white",
           "ticks": "",
           "title": {
            "standoff": 15
           },
           "zerolinecolor": "white",
           "zerolinewidth": 2
          }
         }
        },
        "title": {
         "font": {
          "color": "#4D5663"
         }
        },
        "xaxis": {
         "gridcolor": "#E1E5ED",
         "showgrid": true,
         "tickfont": {
          "color": "#4D5663"
         },
         "title": {
          "font": {
           "color": "#4D5663"
          },
          "text": ""
         },
         "zerolinecolor": "#E1E5ED"
        },
        "xaxis2": {
         "anchor": "y2",
         "gridcolor": "#E1E5ED",
         "showgrid": true,
         "showticklabels": false,
         "tickfont": {
          "color": "#4D5663"
         },
         "title": {
          "font": {
           "color": "#4D5663"
          },
          "text": ""
         },
         "zerolinecolor": "#E1E5ED"
        },
        "yaxis": {
         "domain": [
          0.3,
          1
         ],
         "gridcolor": "#E1E5ED",
         "showgrid": true,
         "tickfont": {
          "color": "#4D5663"
         },
         "title": {
          "font": {
           "color": "#4D5663"
          },
          "text": ""
         },
         "zerolinecolor": "#E1E5ED"
        },
        "yaxis2": {
         "domain": [
          0,
          0.25
         ],
         "gridcolor": "#E1E5ED",
         "showgrid": true,
         "tickfont": {
          "color": "#4D5663"
         },
         "title": {
          "font": {
           "color": "#4D5663"
          },
          "text": "Spread"
         },
         "zerolinecolor": "#E1E5ED"
        }
       }
      },
      "text/html": [
       "<div>                            <div id=\"af25ee5b-cd40-40a8-a31a-87205818ebf3\" class=\"plotly-graph-div\" style=\"height:525px; width:100%;\"></div>            <script type=\"text/javascript\">                require([\"plotly\"], function(Plotly) {                    window.PLOTLYENV=window.PLOTLYENV || {};\n",
       "                    window.PLOTLYENV.BASE_URL='https://plot.ly';                                    if (document.getElementById(\"af25ee5b-cd40-40a8-a31a-87205818ebf3\")) {                    Plotly.newPlot(                        \"af25ee5b-cd40-40a8-a31a-87205818ebf3\",                        [{\"line\": {\"color\": \"rgba(255, 153, 51, 1.0)\", \"dash\": \"solid\", \"shape\": \"linear\", \"width\": 1.3}, \"mode\": \"lines\", \"name\": \"A\", \"text\": \"\", \"type\": \"scatter\", \"x\": [0, 1, 2, 3, 4, 5, 6, 7, 8, 9, 10, 11, 12, 13, 14, 15, 16, 17, 18, 19, 20, 21, 22, 23, 24, 25, 26, 27, 28, 29, 30, 31, 32, 33, 34, 35, 36, 37, 38, 39, 40, 41, 42, 43, 44, 45, 46, 47, 48, 49, 50, 51, 52, 53, 54, 55, 56, 57, 58, 59, 60, 61, 62, 63, 64, 65, 66, 67, 68, 69, 70, 71, 72, 73, 74, 75, 76, 77, 78, 79, 80, 81, 82, 83, 84, 85, 86, 87, 88, 89, 90, 91, 92, 93, 94, 95, 96, 97, 98, 99], \"y\": [-1.3344538032223674, -0.8924994259218787, 0.26886804372886924, 0.15768862475176948, -0.22119158008310583, 0.4620509340031127, 2.4335083818309733, 0.6283138878570738, 0.5916528935640983, -1.107880473845743, -0.9624677212340109, -2.0455267244571513, 0.0909847865615543, 0.3952627572504107, 0.4419932489725158, -0.4226953551742026, 0.06289069744869118, -0.7006193989648868, -1.083720431567451, -1.060865658791126, -0.09081056338239148, -0.9353209782547409, 0.3589422148729274, -1.7868990461486924, -0.745064837314155, 1.6890846798067614, -0.1583008202058165, -0.2393581360509466, -0.3591360207502799, 0.08032986483476401, -1.0175142609752241, -1.5016700621947336, 1.0074806858167047, 0.6986590715947596, -2.588343670560577, 1.6081822850576204, -0.22914040070541067, -0.5293183734964289, 0.08222597405486373, -1.4699631892936766, -1.7930767125550209, -0.8790112806279785, -1.169373718837128, 0.1384087066882726, -1.0214761584041196, -0.04441846576227683, 0.39667629555448003, 0.20222543201121596, -1.2020756242009765, -1.0165590854073892, 0.46592468153875083, 0.31916647378233987, -1.7589705686927102, -0.19469290293284697, -0.017517836703771206, -1.0825926071297598, 0.8868635912852298, 1.5313879689211365, -0.8832920419908965, 1.0771696646288276, 0.4214819723313268, 0.512096106061291, -0.5765759849025575, 0.11538594660067654, -1.1688312935731027, 0.6842055251828377, 0.22219602704027291, -0.5744307101478267, 0.6367232205179054, 0.6191256148390696, 1.8834084468543921, -0.019136677575396017, -1.1087586253663548, -0.09033572122028868, 1.4938373325772583, -0.4050399181262893, -1.7460005036504043, -0.874792619992864, 1.3994180541184202, 0.799905796022181, 1.274938101349231, 0.2394547792737676, -1.577915260135125, 0.1213707929995456, 0.13672512118700048, -0.6331153406325125, 0.8242219198301328, 0.11707874435192542, 0.7436012566066985, -1.6258384419836545, -0.03584548827872644, 0.08944783921389679, 0.578477924074061, 0.7299558400202367, 0.08093456386569041, -0.2981280006647906, 0.7196159948359657, -0.9887151828728751, -1.2858827698631239, -0.6567521716175984]}, {\"line\": {\"color\": \"rgba(55, 128, 191, 1.0)\", \"dash\": \"solid\", \"shape\": \"linear\", \"width\": 1.3}, \"mode\": \"lines\", \"name\": \"B\", \"text\": \"\", \"type\": \"scatter\", \"x\": [0, 1, 2, 3, 4, 5, 6, 7, 8, 9, 10, 11, 12, 13, 14, 15, 16, 17, 18, 19, 20, 21, 22, 23, 24, 25, 26, 27, 28, 29, 30, 31, 32, 33, 34, 35, 36, 37, 38, 39, 40, 41, 42, 43, 44, 45, 46, 47, 48, 49, 50, 51, 52, 53, 54, 55, 56, 57, 58, 59, 60, 61, 62, 63, 64, 65, 66, 67, 68, 69, 70, 71, 72, 73, 74, 75, 76, 77, 78, 79, 80, 81, 82, 83, 84, 85, 86, 87, 88, 89, 90, 91, 92, 93, 94, 95, 96, 97, 98, 99], \"y\": [0.14115223110497468, 0.0064944644833475305, 0.7422571167780311, 1.0645093771659695, -0.3106905288382996, 0.9105427572688288, 0.6103120706936248, 0.9859342503407027, -1.3935904672907908, 0.5691387823512065, 0.6619116415384811, 1.6926025880928388, -0.6199815554999915, -0.08994976033741052, 1.0750757711471672, 0.9473855422854135, -0.9659146731795786, -0.8563163114136054, 0.40461905434576567, -0.352421659367107, -0.17570731026437184, -0.9037477548119306, -0.02350852517774842, 0.05092474675920466, 1.043949946154262, -2.4490346466295554, 0.33014417054208783, -2.2514329386378424, 0.13653096809477527, 0.27854119209137806, 0.12084021939900245, -0.22910722021751045, 0.8157967113919772, 0.843764373253457, -0.1426121926871968, -0.5483486869724357, 0.2608490671514323, -0.26372400914740446, 0.8194095519733929, -0.270587376920324, -0.7737009584318266, -1.8472980629037679, -0.7082294452695416, 0.41190023363389006, -0.05569757355731567, -0.8395179440475853, 1.237960335845157, 0.09429165095844295, 0.8444303425008042, 1.0941573273460798, 0.5004607034246967, -1.2380236960978572, -0.5299553544779251, -2.401224423159397, -1.533248329403312, -0.17338990000742058, -1.303044209950965, 0.15434110478985552, -0.014923617770171496, 2.2196598208911857, -0.22823646275445944, -0.2495367783710828, -0.08131270339267661, 1.9699500613792806, -1.188690274209095, 0.8832334729754634, 2.09273443955495, -1.0036519160375525, -0.7060680965281807, -0.23968689244003327, 0.163276759185642, -0.686450971672635, -0.30631556602327387, -0.08707637532852806, -0.5228852910421682, -0.7172234514173806, -0.29517886902307716, -0.20458324362180894, -1.462710827625806, 1.4670598502699281, 0.8479039242641055, -1.9986453717747588, -0.6388634514624134, 0.28169086802838134, -0.7770575057522737, 0.04592948766882219, -1.0942302497431726, 0.9789185809599306, -0.46129486343229453, -0.40833102173104213, 1.227531863543337, -0.37368070911341755, -0.45808425613661174, 0.7934113176984202, -1.500505747410543, 0.3307505779477316, 0.5925706519046703, 1.635234820387899, 0.4765566163310391, -1.1996493035445714]}, {\"connectgaps\": false, \"fill\": \"tozeroy\", \"line\": {\"color\": \"green\", \"dash\": \"solid\", \"shape\": \"linear\", \"width\": 0.5}, \"mode\": \"lines\", \"name\": \"Spread\", \"showlegend\": false, \"type\": \"scatter\", \"x\": [0, 1, 2, 3, 4, 5, 6, 7, 8, 9, 10, 11, 12, 13, 14, 15, 16, 17, 18, 19, 20, 21, 22, 23, 24, 25, 26, 27, 28, 29, 30, 31, 32, 33, 34, 35, 36, 37, 38, 39, 40, 41, 42, 43, 44, 45, 46, 47, 48, 49, 50, 51, 52, 53, 54, 55, 56, 57, 58, 59, 60, 61, 62, 63, 64, 65, 66, 67, 68, 69, 70, 71, 72, 73, 74, 75, 76, 77, 78, 79, 80, 81, 82, 83, 84, 85, 86, 87, 88, 89, 90, 91, 92, 93, 94, 95, 96, 97, 98, 99], \"xaxis\": \"x2\", \"y\": [\"\", \"\", \"\", \"\", 0.08949894875519379, \"\", 1.8231963111373486, \"\", 1.9852433608548892, \"\", \"\", \"\", 0.7109663420615457, 0.48521251758782125, \"\", \"\", 1.0288053706282698, 0.15569691244871864, \"\", \"\", 0.08489674688198036, \"\", 0.3824507400506758, \"\", \"\", 4.138119326436317, \"\", 2.0120748025868957, \"\", \"\", \"\", \"\", 0.1916839744247275, \"\", \"\", 2.156530972030056, \"\", \"\", \"\", \"\", \"\", 0.9682867822757893, \"\", \"\", \"\", 0.7950994782853085, \"\", 0.107933781052773, \"\", \"\", \"\", 1.557190169880197, \"\", 2.20653152022655, 1.5157304926995407, \"\", 2.1899078012361946, 1.377046864131281, \"\", \"\", 0.6497184350857862, 0.7616328844323738, \"\", \"\", 0.01985898063599234, \"\", \"\", 0.4292212058897259, 1.3427913170460861, 0.8588125072791029, 1.7201316876687502, 0.667314294097239, \"\", \"\", 2.0167226236194264, 0.31218353329109133, \"\", \"\", 2.8621288817442263, \"\", 0.42703417708512537, 2.2381001510485263, \"\", \"\", 0.9137826269392741, \"\", 1.9184521695733054, \"\", 1.2048961200389932, \"\", \"\", 0.4631285483273143, 1.0365621802106726, \"\", 1.5814403112762334, \"\", 0.12704534293129544, \"\", \"\", 0.5428971319269731], \"yaxis\": \"y2\"}, {\"connectgaps\": false, \"fill\": \"tozeroy\", \"line\": {\"color\": \"red\", \"dash\": \"solid\", \"shape\": \"linear\", \"width\": 0.5}, \"mode\": \"lines\", \"name\": \"Spread\", \"showlegend\": false, \"type\": \"scatter\", \"x\": [0, 1, 2, 3, 4, 5, 6, 7, 8, 9, 10, 11, 12, 13, 14, 15, 16, 17, 18, 19, 20, 21, 22, 23, 24, 25, 26, 27, 28, 29, 30, 31, 32, 33, 34, 35, 36, 37, 38, 39, 40, 41, 42, 43, 44, 45, 46, 47, 48, 49, 50, 51, 52, 53, 54, 55, 56, 57, 58, 59, 60, 61, 62, 63, 64, 65, 66, 67, 68, 69, 70, 71, 72, 73, 74, 75, 76, 77, 78, 79, 80, 81, 82, 83, 84, 85, 86, 87, 88, 89, 90, 91, 92, 93, 94, 95, 96, 97, 98, 99], \"xaxis\": \"x2\", \"y\": [-1.475606034327342, -0.8989938904052263, -0.47338907304916183, -0.9068207524142, \"\", -0.4484918232657161, \"\", -0.35762036248362894, \"\", -1.6770192561969495, -1.624379362772492, -3.73812931254999, \"\", \"\", -0.6330825221746514, -1.3700808974596161, \"\", \"\", -1.4883394859132166, -0.708443999424019, \"\", -0.03157322344281033, \"\", -1.837823792907897, -1.7890147834684171, \"\", -0.4884449907479044, \"\", -0.49566698884505517, -0.19821132725661406, -1.1383544803742265, -1.2725628419772232, \"\", -0.1451053016586974, -2.4457314778733803, \"\", -0.48998946785684294, -0.2655943643490244, -0.7371835779185292, -1.1993758123733527, -1.0193757541231943, \"\", -0.46114427356758647, -0.27349152694561746, -0.965778584846804, \"\", -0.8412840402906769, \"\", -2.0465059667017806, -2.1107164127534688, -0.0345360218859459, \"\", -1.229015214214785, \"\", \"\", -0.9092027071223392, \"\", \"\", -0.868368424220725, -1.1424901562623582, \"\", \"\", -0.49526328150988086, -1.854564114778604, \"\", -0.19902794779262567, -1.870538412514677, \"\", \"\", \"\", \"\", \"\", -0.8024430593430809, -0.0032593458917606205, \"\", \"\", -1.450821634627327, -0.670209376371055, \"\", -0.6671540542477471, \"\", \"\", -0.9390518086727115, -0.16032007502883572, \"\", -0.6790448283013347, \"\", -0.8618398366080051, \"\", -1.2175074202526124, -1.2633773518220635, \"\", \"\", -0.06345547767818349, \"\", -0.6288785786125222, \"\", -2.623950003260774, -1.762439386194163, \"\"], \"yaxis\": \"y2\"}],                        {\"hovermode\": \"x\", \"legend\": {\"bgcolor\": \"#F5F6F9\", \"font\": {\"color\": \"#4D5663\"}}, \"paper_bgcolor\": \"#F5F6F9\", \"plot_bgcolor\": \"#F5F6F9\", \"template\": {\"data\": {\"bar\": [{\"error_x\": {\"color\": \"#2a3f5f\"}, \"error_y\": {\"color\": \"#2a3f5f\"}, \"marker\": {\"line\": {\"color\": \"#E5ECF6\", \"width\": 0.5}}, \"type\": \"bar\"}], \"barpolar\": [{\"marker\": {\"line\": {\"color\": \"#E5ECF6\", \"width\": 0.5}}, \"type\": \"barpolar\"}], \"carpet\": [{\"aaxis\": {\"endlinecolor\": \"#2a3f5f\", \"gridcolor\": \"white\", \"linecolor\": \"white\", \"minorgridcolor\": \"white\", \"startlinecolor\": \"#2a3f5f\"}, \"baxis\": {\"endlinecolor\": \"#2a3f5f\", \"gridcolor\": \"white\", \"linecolor\": \"white\", \"minorgridcolor\": \"white\", \"startlinecolor\": \"#2a3f5f\"}, \"type\": \"carpet\"}], \"choropleth\": [{\"colorbar\": {\"outlinewidth\": 0, \"ticks\": \"\"}, \"type\": \"choropleth\"}], \"contour\": [{\"colorbar\": {\"outlinewidth\": 0, \"ticks\": \"\"}, \"colorscale\": [[0.0, \"#0d0887\"], [0.1111111111111111, \"#46039f\"], [0.2222222222222222, \"#7201a8\"], [0.3333333333333333, \"#9c179e\"], [0.4444444444444444, \"#bd3786\"], [0.5555555555555556, \"#d8576b\"], [0.6666666666666666, \"#ed7953\"], [0.7777777777777778, \"#fb9f3a\"], [0.8888888888888888, \"#fdca26\"], [1.0, \"#f0f921\"]], \"type\": \"contour\"}], \"contourcarpet\": [{\"colorbar\": {\"outlinewidth\": 0, \"ticks\": \"\"}, \"type\": \"contourcarpet\"}], \"heatmap\": [{\"colorbar\": {\"outlinewidth\": 0, \"ticks\": \"\"}, \"colorscale\": [[0.0, \"#0d0887\"], [0.1111111111111111, \"#46039f\"], [0.2222222222222222, \"#7201a8\"], [0.3333333333333333, \"#9c179e\"], [0.4444444444444444, \"#bd3786\"], [0.5555555555555556, \"#d8576b\"], [0.6666666666666666, \"#ed7953\"], [0.7777777777777778, \"#fb9f3a\"], [0.8888888888888888, \"#fdca26\"], [1.0, \"#f0f921\"]], \"type\": \"heatmap\"}], \"heatmapgl\": [{\"colorbar\": {\"outlinewidth\": 0, \"ticks\": \"\"}, \"colorscale\": [[0.0, \"#0d0887\"], [0.1111111111111111, \"#46039f\"], [0.2222222222222222, \"#7201a8\"], [0.3333333333333333, \"#9c179e\"], [0.4444444444444444, \"#bd3786\"], [0.5555555555555556, \"#d8576b\"], [0.6666666666666666, \"#ed7953\"], [0.7777777777777778, \"#fb9f3a\"], [0.8888888888888888, \"#fdca26\"], [1.0, \"#f0f921\"]], \"type\": \"heatmapgl\"}], \"histogram\": [{\"marker\": {\"colorbar\": {\"outlinewidth\": 0, \"ticks\": \"\"}}, \"type\": \"histogram\"}], \"histogram2d\": [{\"colorbar\": {\"outlinewidth\": 0, \"ticks\": \"\"}, \"colorscale\": [[0.0, \"#0d0887\"], [0.1111111111111111, \"#46039f\"], [0.2222222222222222, \"#7201a8\"], [0.3333333333333333, \"#9c179e\"], [0.4444444444444444, \"#bd3786\"], [0.5555555555555556, \"#d8576b\"], [0.6666666666666666, \"#ed7953\"], [0.7777777777777778, \"#fb9f3a\"], [0.8888888888888888, \"#fdca26\"], [1.0, \"#f0f921\"]], \"type\": \"histogram2d\"}], \"histogram2dcontour\": [{\"colorbar\": {\"outlinewidth\": 0, \"ticks\": \"\"}, \"colorscale\": [[0.0, \"#0d0887\"], [0.1111111111111111, \"#46039f\"], [0.2222222222222222, \"#7201a8\"], [0.3333333333333333, \"#9c179e\"], [0.4444444444444444, \"#bd3786\"], [0.5555555555555556, \"#d8576b\"], [0.6666666666666666, \"#ed7953\"], [0.7777777777777778, \"#fb9f3a\"], [0.8888888888888888, \"#fdca26\"], [1.0, \"#f0f921\"]], \"type\": \"histogram2dcontour\"}], \"mesh3d\": [{\"colorbar\": {\"outlinewidth\": 0, \"ticks\": \"\"}, \"type\": \"mesh3d\"}], \"parcoords\": [{\"line\": {\"colorbar\": {\"outlinewidth\": 0, \"ticks\": \"\"}}, \"type\": \"parcoords\"}], \"pie\": [{\"automargin\": true, \"type\": \"pie\"}], \"scatter\": [{\"marker\": {\"colorbar\": {\"outlinewidth\": 0, \"ticks\": \"\"}}, \"type\": \"scatter\"}], \"scatter3d\": [{\"line\": {\"colorbar\": {\"outlinewidth\": 0, \"ticks\": \"\"}}, \"marker\": {\"colorbar\": {\"outlinewidth\": 0, \"ticks\": \"\"}}, \"type\": \"scatter3d\"}], \"scattercarpet\": [{\"marker\": {\"colorbar\": {\"outlinewidth\": 0, \"ticks\": \"\"}}, \"type\": \"scattercarpet\"}], \"scattergeo\": [{\"marker\": {\"colorbar\": {\"outlinewidth\": 0, \"ticks\": \"\"}}, \"type\": \"scattergeo\"}], \"scattergl\": [{\"marker\": {\"colorbar\": {\"outlinewidth\": 0, \"ticks\": \"\"}}, \"type\": \"scattergl\"}], \"scattermapbox\": [{\"marker\": {\"colorbar\": {\"outlinewidth\": 0, \"ticks\": \"\"}}, \"type\": \"scattermapbox\"}], \"scatterpolar\": [{\"marker\": {\"colorbar\": {\"outlinewidth\": 0, \"ticks\": \"\"}}, \"type\": \"scatterpolar\"}], \"scatterpolargl\": [{\"marker\": {\"colorbar\": {\"outlinewidth\": 0, \"ticks\": \"\"}}, \"type\": \"scatterpolargl\"}], \"scatterternary\": [{\"marker\": {\"colorbar\": {\"outlinewidth\": 0, \"ticks\": \"\"}}, \"type\": \"scatterternary\"}], \"surface\": [{\"colorbar\": {\"outlinewidth\": 0, \"ticks\": \"\"}, \"colorscale\": [[0.0, \"#0d0887\"], [0.1111111111111111, \"#46039f\"], [0.2222222222222222, \"#7201a8\"], [0.3333333333333333, \"#9c179e\"], [0.4444444444444444, \"#bd3786\"], [0.5555555555555556, \"#d8576b\"], [0.6666666666666666, \"#ed7953\"], [0.7777777777777778, \"#fb9f3a\"], [0.8888888888888888, \"#fdca26\"], [1.0, \"#f0f921\"]], \"type\": \"surface\"}], \"table\": [{\"cells\": {\"fill\": {\"color\": \"#EBF0F8\"}, \"line\": {\"color\": \"white\"}}, \"header\": {\"fill\": {\"color\": \"#C8D4E3\"}, \"line\": {\"color\": \"white\"}}, \"type\": \"table\"}]}, \"layout\": {\"annotationdefaults\": {\"arrowcolor\": \"#2a3f5f\", \"arrowhead\": 0, \"arrowwidth\": 1}, \"autotypenumbers\": \"strict\", \"coloraxis\": {\"colorbar\": {\"outlinewidth\": 0, \"ticks\": \"\"}}, \"colorscale\": {\"diverging\": [[0, \"#8e0152\"], [0.1, \"#c51b7d\"], [0.2, \"#de77ae\"], [0.3, \"#f1b6da\"], [0.4, \"#fde0ef\"], [0.5, \"#f7f7f7\"], [0.6, \"#e6f5d0\"], [0.7, \"#b8e186\"], [0.8, \"#7fbc41\"], [0.9, \"#4d9221\"], [1, \"#276419\"]], \"sequential\": [[0.0, \"#0d0887\"], [0.1111111111111111, \"#46039f\"], [0.2222222222222222, \"#7201a8\"], [0.3333333333333333, \"#9c179e\"], [0.4444444444444444, \"#bd3786\"], [0.5555555555555556, \"#d8576b\"], [0.6666666666666666, \"#ed7953\"], [0.7777777777777778, \"#fb9f3a\"], [0.8888888888888888, \"#fdca26\"], [1.0, \"#f0f921\"]], \"sequentialminus\": [[0.0, \"#0d0887\"], [0.1111111111111111, \"#46039f\"], [0.2222222222222222, \"#7201a8\"], [0.3333333333333333, \"#9c179e\"], [0.4444444444444444, \"#bd3786\"], [0.5555555555555556, \"#d8576b\"], [0.6666666666666666, \"#ed7953\"], [0.7777777777777778, \"#fb9f3a\"], [0.8888888888888888, \"#fdca26\"], [1.0, \"#f0f921\"]]}, \"colorway\": [\"#636efa\", \"#EF553B\", \"#00cc96\", \"#ab63fa\", \"#FFA15A\", \"#19d3f3\", \"#FF6692\", \"#B6E880\", \"#FF97FF\", \"#FECB52\"], \"font\": {\"color\": \"#2a3f5f\"}, \"geo\": {\"bgcolor\": \"white\", \"lakecolor\": \"white\", \"landcolor\": \"#E5ECF6\", \"showlakes\": true, \"showland\": true, \"subunitcolor\": \"white\"}, \"hoverlabel\": {\"align\": \"left\"}, \"hovermode\": \"closest\", \"mapbox\": {\"style\": \"light\"}, \"paper_bgcolor\": \"white\", \"plot_bgcolor\": \"#E5ECF6\", \"polar\": {\"angularaxis\": {\"gridcolor\": \"white\", \"linecolor\": \"white\", \"ticks\": \"\"}, \"bgcolor\": \"#E5ECF6\", \"radialaxis\": {\"gridcolor\": \"white\", \"linecolor\": \"white\", \"ticks\": \"\"}}, \"scene\": {\"xaxis\": {\"backgroundcolor\": \"#E5ECF6\", \"gridcolor\": \"white\", \"gridwidth\": 2, \"linecolor\": \"white\", \"showbackground\": true, \"ticks\": \"\", \"zerolinecolor\": \"white\"}, \"yaxis\": {\"backgroundcolor\": \"#E5ECF6\", \"gridcolor\": \"white\", \"gridwidth\": 2, \"linecolor\": \"white\", \"showbackground\": true, \"ticks\": \"\", \"zerolinecolor\": \"white\"}, \"zaxis\": {\"backgroundcolor\": \"#E5ECF6\", \"gridcolor\": \"white\", \"gridwidth\": 2, \"linecolor\": \"white\", \"showbackground\": true, \"ticks\": \"\", \"zerolinecolor\": \"white\"}}, \"shapedefaults\": {\"line\": {\"color\": \"#2a3f5f\"}}, \"ternary\": {\"aaxis\": {\"gridcolor\": \"white\", \"linecolor\": \"white\", \"ticks\": \"\"}, \"baxis\": {\"gridcolor\": \"white\", \"linecolor\": \"white\", \"ticks\": \"\"}, \"bgcolor\": \"#E5ECF6\", \"caxis\": {\"gridcolor\": \"white\", \"linecolor\": \"white\", \"ticks\": \"\"}}, \"title\": {\"x\": 0.05}, \"xaxis\": {\"automargin\": true, \"gridcolor\": \"white\", \"linecolor\": \"white\", \"ticks\": \"\", \"title\": {\"standoff\": 15}, \"zerolinecolor\": \"white\", \"zerolinewidth\": 2}, \"yaxis\": {\"automargin\": true, \"gridcolor\": \"white\", \"linecolor\": \"white\", \"ticks\": \"\", \"title\": {\"standoff\": 15}, \"zerolinecolor\": \"white\", \"zerolinewidth\": 2}}}, \"title\": {\"font\": {\"color\": \"#4D5663\"}}, \"xaxis\": {\"gridcolor\": \"#E1E5ED\", \"showgrid\": true, \"tickfont\": {\"color\": \"#4D5663\"}, \"title\": {\"font\": {\"color\": \"#4D5663\"}, \"text\": \"\"}, \"zerolinecolor\": \"#E1E5ED\"}, \"xaxis2\": {\"anchor\": \"y2\", \"gridcolor\": \"#E1E5ED\", \"showgrid\": true, \"showticklabels\": false, \"tickfont\": {\"color\": \"#4D5663\"}, \"title\": {\"font\": {\"color\": \"#4D5663\"}, \"text\": \"\"}, \"zerolinecolor\": \"#E1E5ED\"}, \"yaxis\": {\"domain\": [0.3, 1], \"gridcolor\": \"#E1E5ED\", \"showgrid\": true, \"tickfont\": {\"color\": \"#4D5663\"}, \"title\": {\"font\": {\"color\": \"#4D5663\"}, \"text\": \"\"}, \"zerolinecolor\": \"#E1E5ED\"}, \"yaxis2\": {\"domain\": [0, 0.25], \"gridcolor\": \"#E1E5ED\", \"showgrid\": true, \"tickfont\": {\"color\": \"#4D5663\"}, \"title\": {\"font\": {\"color\": \"#4D5663\"}, \"text\": \"Spread\"}, \"zerolinecolor\": \"#E1E5ED\"}},                        {\"showLink\": true, \"linkText\": \"Export to plot.ly\", \"plotlyServerURL\": \"https://plot.ly\", \"responsive\": true}                    ).then(function(){\n",
       "                            \n",
       "var gd = document.getElementById('af25ee5b-cd40-40a8-a31a-87205818ebf3');\n",
       "var x = new MutationObserver(function (mutations, observer) {{\n",
       "        var display = window.getComputedStyle(gd).display;\n",
       "        if (!display || display === 'none') {{\n",
       "            console.log([gd, 'removed!']);\n",
       "            Plotly.purge(gd);\n",
       "            observer.disconnect();\n",
       "        }}\n",
       "}});\n",
       "\n",
       "// Listen for the removal of the full notebook cells\n",
       "var notebookContainer = gd.closest('#notebook-container');\n",
       "if (notebookContainer) {{\n",
       "    x.observe(notebookContainer, {childList: true});\n",
       "}}\n",
       "\n",
       "// Listen for the clearing of the current output cell\n",
       "var outputEl = gd.closest('.output');\n",
       "if (outputEl) {{\n",
       "    x.observe(outputEl, {childList: true});\n",
       "}}\n",
       "\n",
       "                        })                };                });            </script>        </div>"
      ]
     },
     "metadata": {},
     "output_type": "display_data"
    }
   ],
   "source": [
    "df[['A', 'B']].iplot(kind='spread')"
   ]
  },
  {
   "cell_type": "code",
   "execution_count": 39,
   "metadata": {},
   "outputs": [
    {
     "data": {
      "application/vnd.plotly.v1+json": {
       "config": {
        "linkText": "Export to plot.ly",
        "plotlyServerURL": "https://plot.ly",
        "showLink": true
       },
       "data": [
        {
         "marker": {
          "color": [
           "rgb(255, 153, 51)",
           "rgb(55, 128, 191)",
           "rgb(50, 171, 96)",
           "rgb(128, 0, 128)",
           "rgb(219, 64, 82)",
           "rgb(0, 128, 128)",
           "rgb(255, 255, 51)",
           "rgb(128, 128, 0)",
           "rgb(251, 128, 114)",
           "rgb(128, 177, 211)"
          ],
          "line": {
           "width": 1.3
          },
          "size": [
           69,
           39,
           54,
           43,
           88,
           49,
           102,
           78,
           28,
           53,
           108,
           61,
           82,
           58,
           56,
           46,
           50,
           45,
           81,
           34,
           27,
           85,
           72,
           69,
           46,
           51,
           41,
           94,
           100,
           86,
           65,
           96,
           58,
           26,
           65,
           38,
           15,
           92,
           49,
           79,
           55,
           58,
           50,
           22,
           80,
           84,
           55,
           94,
           96,
           13,
           50,
           68,
           23,
           71,
           51,
           73,
           26,
           67,
           80,
           69,
           61,
           77,
           42,
           56,
           76,
           54,
           93,
           64,
           43,
           41,
           55,
           112,
           24,
           61,
           67,
           85,
           48,
           79,
           60,
           66,
           85,
           99,
           100,
           34,
           88,
           60,
           36,
           59,
           62,
           110,
           64,
           43,
           40,
           67,
           67,
           12,
           80,
           55,
           36,
           83
          ],
          "symbol": "circle"
         },
         "mode": "markers",
         "text": "",
         "type": "scatter",
         "x": [
          -1.3344538032223674,
          -0.8924994259218787,
          0.26886804372886924,
          0.15768862475176948,
          -0.22119158008310583,
          0.4620509340031127,
          2.4335083818309733,
          0.6283138878570738,
          0.5916528935640983,
          -1.107880473845743,
          -0.9624677212340109,
          -2.0455267244571513,
          0.0909847865615543,
          0.3952627572504107,
          0.4419932489725158,
          -0.4226953551742026,
          0.06289069744869118,
          -0.7006193989648868,
          -1.083720431567451,
          -1.060865658791126,
          -0.09081056338239148,
          -0.9353209782547409,
          0.3589422148729274,
          -1.7868990461486924,
          -0.745064837314155,
          1.6890846798067614,
          -0.1583008202058165,
          -0.2393581360509466,
          -0.3591360207502799,
          0.08032986483476401,
          -1.0175142609752241,
          -1.5016700621947336,
          1.0074806858167047,
          0.6986590715947596,
          -2.588343670560577,
          1.6081822850576204,
          -0.22914040070541067,
          -0.5293183734964289,
          0.08222597405486373,
          -1.4699631892936766,
          -1.7930767125550209,
          -0.8790112806279785,
          -1.169373718837128,
          0.1384087066882726,
          -1.0214761584041196,
          -0.04441846576227683,
          0.39667629555448003,
          0.20222543201121596,
          -1.2020756242009765,
          -1.0165590854073892,
          0.46592468153875083,
          0.31916647378233987,
          -1.7589705686927102,
          -0.19469290293284697,
          -0.017517836703771206,
          -1.0825926071297598,
          0.8868635912852298,
          1.5313879689211365,
          -0.8832920419908965,
          1.0771696646288276,
          0.4214819723313268,
          0.512096106061291,
          -0.5765759849025575,
          0.11538594660067654,
          -1.1688312935731027,
          0.6842055251828377,
          0.22219602704027291,
          -0.5744307101478267,
          0.6367232205179054,
          0.6191256148390696,
          1.8834084468543921,
          -0.019136677575396017,
          -1.1087586253663548,
          -0.09033572122028868,
          1.4938373325772583,
          -0.4050399181262893,
          -1.7460005036504043,
          -0.874792619992864,
          1.3994180541184202,
          0.799905796022181,
          1.274938101349231,
          0.2394547792737676,
          -1.577915260135125,
          0.1213707929995456,
          0.13672512118700048,
          -0.6331153406325125,
          0.8242219198301328,
          0.11707874435192542,
          0.7436012566066985,
          -1.6258384419836545,
          -0.03584548827872644,
          0.08944783921389679,
          0.578477924074061,
          0.7299558400202367,
          0.08093456386569041,
          -0.2981280006647906,
          0.7196159948359657,
          -0.9887151828728751,
          -1.2858827698631239,
          -0.6567521716175984
         ],
         "y": [
          0.14115223110497468,
          0.0064944644833475305,
          0.7422571167780311,
          1.0645093771659695,
          -0.3106905288382996,
          0.9105427572688288,
          0.6103120706936248,
          0.9859342503407027,
          -1.3935904672907908,
          0.5691387823512065,
          0.6619116415384811,
          1.6926025880928388,
          -0.6199815554999915,
          -0.08994976033741052,
          1.0750757711471672,
          0.9473855422854135,
          -0.9659146731795786,
          -0.8563163114136054,
          0.40461905434576567,
          -0.352421659367107,
          -0.17570731026437184,
          -0.9037477548119306,
          -0.02350852517774842,
          0.05092474675920466,
          1.043949946154262,
          -2.4490346466295554,
          0.33014417054208783,
          -2.2514329386378424,
          0.13653096809477527,
          0.27854119209137806,
          0.12084021939900245,
          -0.22910722021751045,
          0.8157967113919772,
          0.843764373253457,
          -0.1426121926871968,
          -0.5483486869724357,
          0.2608490671514323,
          -0.26372400914740446,
          0.8194095519733929,
          -0.270587376920324,
          -0.7737009584318266,
          -1.8472980629037679,
          -0.7082294452695416,
          0.41190023363389006,
          -0.05569757355731567,
          -0.8395179440475853,
          1.237960335845157,
          0.09429165095844295,
          0.8444303425008042,
          1.0941573273460798,
          0.5004607034246967,
          -1.2380236960978572,
          -0.5299553544779251,
          -2.401224423159397,
          -1.533248329403312,
          -0.17338990000742058,
          -1.303044209950965,
          0.15434110478985552,
          -0.014923617770171496,
          2.2196598208911857,
          -0.22823646275445944,
          -0.2495367783710828,
          -0.08131270339267661,
          1.9699500613792806,
          -1.188690274209095,
          0.8832334729754634,
          2.09273443955495,
          -1.0036519160375525,
          -0.7060680965281807,
          -0.23968689244003327,
          0.163276759185642,
          -0.686450971672635,
          -0.30631556602327387,
          -0.08707637532852806,
          -0.5228852910421682,
          -0.7172234514173806,
          -0.29517886902307716,
          -0.20458324362180894,
          -1.462710827625806,
          1.4670598502699281,
          0.8479039242641055,
          -1.9986453717747588,
          -0.6388634514624134,
          0.28169086802838134,
          -0.7770575057522737,
          0.04592948766882219,
          -1.0942302497431726,
          0.9789185809599306,
          -0.46129486343229453,
          -0.40833102173104213,
          1.227531863543337,
          -0.37368070911341755,
          -0.45808425613661174,
          0.7934113176984202,
          -1.500505747410543,
          0.3307505779477316,
          0.5925706519046703,
          1.635234820387899,
          0.4765566163310391,
          -1.1996493035445714
         ]
        }
       ],
       "layout": {
        "legend": {
         "bgcolor": "#F5F6F9",
         "font": {
          "color": "#4D5663"
         }
        },
        "paper_bgcolor": "#F5F6F9",
        "plot_bgcolor": "#F5F6F9",
        "template": {
         "data": {
          "bar": [
           {
            "error_x": {
             "color": "#2a3f5f"
            },
            "error_y": {
             "color": "#2a3f5f"
            },
            "marker": {
             "line": {
              "color": "#E5ECF6",
              "width": 0.5
             }
            },
            "type": "bar"
           }
          ],
          "barpolar": [
           {
            "marker": {
             "line": {
              "color": "#E5ECF6",
              "width": 0.5
             }
            },
            "type": "barpolar"
           }
          ],
          "carpet": [
           {
            "aaxis": {
             "endlinecolor": "#2a3f5f",
             "gridcolor": "white",
             "linecolor": "white",
             "minorgridcolor": "white",
             "startlinecolor": "#2a3f5f"
            },
            "baxis": {
             "endlinecolor": "#2a3f5f",
             "gridcolor": "white",
             "linecolor": "white",
             "minorgridcolor": "white",
             "startlinecolor": "#2a3f5f"
            },
            "type": "carpet"
           }
          ],
          "choropleth": [
           {
            "colorbar": {
             "outlinewidth": 0,
             "ticks": ""
            },
            "type": "choropleth"
           }
          ],
          "contour": [
           {
            "colorbar": {
             "outlinewidth": 0,
             "ticks": ""
            },
            "colorscale": [
             [
              0,
              "#0d0887"
             ],
             [
              0.1111111111111111,
              "#46039f"
             ],
             [
              0.2222222222222222,
              "#7201a8"
             ],
             [
              0.3333333333333333,
              "#9c179e"
             ],
             [
              0.4444444444444444,
              "#bd3786"
             ],
             [
              0.5555555555555556,
              "#d8576b"
             ],
             [
              0.6666666666666666,
              "#ed7953"
             ],
             [
              0.7777777777777778,
              "#fb9f3a"
             ],
             [
              0.8888888888888888,
              "#fdca26"
             ],
             [
              1,
              "#f0f921"
             ]
            ],
            "type": "contour"
           }
          ],
          "contourcarpet": [
           {
            "colorbar": {
             "outlinewidth": 0,
             "ticks": ""
            },
            "type": "contourcarpet"
           }
          ],
          "heatmap": [
           {
            "colorbar": {
             "outlinewidth": 0,
             "ticks": ""
            },
            "colorscale": [
             [
              0,
              "#0d0887"
             ],
             [
              0.1111111111111111,
              "#46039f"
             ],
             [
              0.2222222222222222,
              "#7201a8"
             ],
             [
              0.3333333333333333,
              "#9c179e"
             ],
             [
              0.4444444444444444,
              "#bd3786"
             ],
             [
              0.5555555555555556,
              "#d8576b"
             ],
             [
              0.6666666666666666,
              "#ed7953"
             ],
             [
              0.7777777777777778,
              "#fb9f3a"
             ],
             [
              0.8888888888888888,
              "#fdca26"
             ],
             [
              1,
              "#f0f921"
             ]
            ],
            "type": "heatmap"
           }
          ],
          "heatmapgl": [
           {
            "colorbar": {
             "outlinewidth": 0,
             "ticks": ""
            },
            "colorscale": [
             [
              0,
              "#0d0887"
             ],
             [
              0.1111111111111111,
              "#46039f"
             ],
             [
              0.2222222222222222,
              "#7201a8"
             ],
             [
              0.3333333333333333,
              "#9c179e"
             ],
             [
              0.4444444444444444,
              "#bd3786"
             ],
             [
              0.5555555555555556,
              "#d8576b"
             ],
             [
              0.6666666666666666,
              "#ed7953"
             ],
             [
              0.7777777777777778,
              "#fb9f3a"
             ],
             [
              0.8888888888888888,
              "#fdca26"
             ],
             [
              1,
              "#f0f921"
             ]
            ],
            "type": "heatmapgl"
           }
          ],
          "histogram": [
           {
            "marker": {
             "colorbar": {
              "outlinewidth": 0,
              "ticks": ""
             }
            },
            "type": "histogram"
           }
          ],
          "histogram2d": [
           {
            "colorbar": {
             "outlinewidth": 0,
             "ticks": ""
            },
            "colorscale": [
             [
              0,
              "#0d0887"
             ],
             [
              0.1111111111111111,
              "#46039f"
             ],
             [
              0.2222222222222222,
              "#7201a8"
             ],
             [
              0.3333333333333333,
              "#9c179e"
             ],
             [
              0.4444444444444444,
              "#bd3786"
             ],
             [
              0.5555555555555556,
              "#d8576b"
             ],
             [
              0.6666666666666666,
              "#ed7953"
             ],
             [
              0.7777777777777778,
              "#fb9f3a"
             ],
             [
              0.8888888888888888,
              "#fdca26"
             ],
             [
              1,
              "#f0f921"
             ]
            ],
            "type": "histogram2d"
           }
          ],
          "histogram2dcontour": [
           {
            "colorbar": {
             "outlinewidth": 0,
             "ticks": ""
            },
            "colorscale": [
             [
              0,
              "#0d0887"
             ],
             [
              0.1111111111111111,
              "#46039f"
             ],
             [
              0.2222222222222222,
              "#7201a8"
             ],
             [
              0.3333333333333333,
              "#9c179e"
             ],
             [
              0.4444444444444444,
              "#bd3786"
             ],
             [
              0.5555555555555556,
              "#d8576b"
             ],
             [
              0.6666666666666666,
              "#ed7953"
             ],
             [
              0.7777777777777778,
              "#fb9f3a"
             ],
             [
              0.8888888888888888,
              "#fdca26"
             ],
             [
              1,
              "#f0f921"
             ]
            ],
            "type": "histogram2dcontour"
           }
          ],
          "mesh3d": [
           {
            "colorbar": {
             "outlinewidth": 0,
             "ticks": ""
            },
            "type": "mesh3d"
           }
          ],
          "parcoords": [
           {
            "line": {
             "colorbar": {
              "outlinewidth": 0,
              "ticks": ""
             }
            },
            "type": "parcoords"
           }
          ],
          "pie": [
           {
            "automargin": true,
            "type": "pie"
           }
          ],
          "scatter": [
           {
            "marker": {
             "colorbar": {
              "outlinewidth": 0,
              "ticks": ""
             }
            },
            "type": "scatter"
           }
          ],
          "scatter3d": [
           {
            "line": {
             "colorbar": {
              "outlinewidth": 0,
              "ticks": ""
             }
            },
            "marker": {
             "colorbar": {
              "outlinewidth": 0,
              "ticks": ""
             }
            },
            "type": "scatter3d"
           }
          ],
          "scattercarpet": [
           {
            "marker": {
             "colorbar": {
              "outlinewidth": 0,
              "ticks": ""
             }
            },
            "type": "scattercarpet"
           }
          ],
          "scattergeo": [
           {
            "marker": {
             "colorbar": {
              "outlinewidth": 0,
              "ticks": ""
             }
            },
            "type": "scattergeo"
           }
          ],
          "scattergl": [
           {
            "marker": {
             "colorbar": {
              "outlinewidth": 0,
              "ticks": ""
             }
            },
            "type": "scattergl"
           }
          ],
          "scattermapbox": [
           {
            "marker": {
             "colorbar": {
              "outlinewidth": 0,
              "ticks": ""
             }
            },
            "type": "scattermapbox"
           }
          ],
          "scatterpolar": [
           {
            "marker": {
             "colorbar": {
              "outlinewidth": 0,
              "ticks": ""
             }
            },
            "type": "scatterpolar"
           }
          ],
          "scatterpolargl": [
           {
            "marker": {
             "colorbar": {
              "outlinewidth": 0,
              "ticks": ""
             }
            },
            "type": "scatterpolargl"
           }
          ],
          "scatterternary": [
           {
            "marker": {
             "colorbar": {
              "outlinewidth": 0,
              "ticks": ""
             }
            },
            "type": "scatterternary"
           }
          ],
          "surface": [
           {
            "colorbar": {
             "outlinewidth": 0,
             "ticks": ""
            },
            "colorscale": [
             [
              0,
              "#0d0887"
             ],
             [
              0.1111111111111111,
              "#46039f"
             ],
             [
              0.2222222222222222,
              "#7201a8"
             ],
             [
              0.3333333333333333,
              "#9c179e"
             ],
             [
              0.4444444444444444,
              "#bd3786"
             ],
             [
              0.5555555555555556,
              "#d8576b"
             ],
             [
              0.6666666666666666,
              "#ed7953"
             ],
             [
              0.7777777777777778,
              "#fb9f3a"
             ],
             [
              0.8888888888888888,
              "#fdca26"
             ],
             [
              1,
              "#f0f921"
             ]
            ],
            "type": "surface"
           }
          ],
          "table": [
           {
            "cells": {
             "fill": {
              "color": "#EBF0F8"
             },
             "line": {
              "color": "white"
             }
            },
            "header": {
             "fill": {
              "color": "#C8D4E3"
             },
             "line": {
              "color": "white"
             }
            },
            "type": "table"
           }
          ]
         },
         "layout": {
          "annotationdefaults": {
           "arrowcolor": "#2a3f5f",
           "arrowhead": 0,
           "arrowwidth": 1
          },
          "autotypenumbers": "strict",
          "coloraxis": {
           "colorbar": {
            "outlinewidth": 0,
            "ticks": ""
           }
          },
          "colorscale": {
           "diverging": [
            [
             0,
             "#8e0152"
            ],
            [
             0.1,
             "#c51b7d"
            ],
            [
             0.2,
             "#de77ae"
            ],
            [
             0.3,
             "#f1b6da"
            ],
            [
             0.4,
             "#fde0ef"
            ],
            [
             0.5,
             "#f7f7f7"
            ],
            [
             0.6,
             "#e6f5d0"
            ],
            [
             0.7,
             "#b8e186"
            ],
            [
             0.8,
             "#7fbc41"
            ],
            [
             0.9,
             "#4d9221"
            ],
            [
             1,
             "#276419"
            ]
           ],
           "sequential": [
            [
             0,
             "#0d0887"
            ],
            [
             0.1111111111111111,
             "#46039f"
            ],
            [
             0.2222222222222222,
             "#7201a8"
            ],
            [
             0.3333333333333333,
             "#9c179e"
            ],
            [
             0.4444444444444444,
             "#bd3786"
            ],
            [
             0.5555555555555556,
             "#d8576b"
            ],
            [
             0.6666666666666666,
             "#ed7953"
            ],
            [
             0.7777777777777778,
             "#fb9f3a"
            ],
            [
             0.8888888888888888,
             "#fdca26"
            ],
            [
             1,
             "#f0f921"
            ]
           ],
           "sequentialminus": [
            [
             0,
             "#0d0887"
            ],
            [
             0.1111111111111111,
             "#46039f"
            ],
            [
             0.2222222222222222,
             "#7201a8"
            ],
            [
             0.3333333333333333,
             "#9c179e"
            ],
            [
             0.4444444444444444,
             "#bd3786"
            ],
            [
             0.5555555555555556,
             "#d8576b"
            ],
            [
             0.6666666666666666,
             "#ed7953"
            ],
            [
             0.7777777777777778,
             "#fb9f3a"
            ],
            [
             0.8888888888888888,
             "#fdca26"
            ],
            [
             1,
             "#f0f921"
            ]
           ]
          },
          "colorway": [
           "#636efa",
           "#EF553B",
           "#00cc96",
           "#ab63fa",
           "#FFA15A",
           "#19d3f3",
           "#FF6692",
           "#B6E880",
           "#FF97FF",
           "#FECB52"
          ],
          "font": {
           "color": "#2a3f5f"
          },
          "geo": {
           "bgcolor": "white",
           "lakecolor": "white",
           "landcolor": "#E5ECF6",
           "showlakes": true,
           "showland": true,
           "subunitcolor": "white"
          },
          "hoverlabel": {
           "align": "left"
          },
          "hovermode": "closest",
          "mapbox": {
           "style": "light"
          },
          "paper_bgcolor": "white",
          "plot_bgcolor": "#E5ECF6",
          "polar": {
           "angularaxis": {
            "gridcolor": "white",
            "linecolor": "white",
            "ticks": ""
           },
           "bgcolor": "#E5ECF6",
           "radialaxis": {
            "gridcolor": "white",
            "linecolor": "white",
            "ticks": ""
           }
          },
          "scene": {
           "xaxis": {
            "backgroundcolor": "#E5ECF6",
            "gridcolor": "white",
            "gridwidth": 2,
            "linecolor": "white",
            "showbackground": true,
            "ticks": "",
            "zerolinecolor": "white"
           },
           "yaxis": {
            "backgroundcolor": "#E5ECF6",
            "gridcolor": "white",
            "gridwidth": 2,
            "linecolor": "white",
            "showbackground": true,
            "ticks": "",
            "zerolinecolor": "white"
           },
           "zaxis": {
            "backgroundcolor": "#E5ECF6",
            "gridcolor": "white",
            "gridwidth": 2,
            "linecolor": "white",
            "showbackground": true,
            "ticks": "",
            "zerolinecolor": "white"
           }
          },
          "shapedefaults": {
           "line": {
            "color": "#2a3f5f"
           }
          },
          "ternary": {
           "aaxis": {
            "gridcolor": "white",
            "linecolor": "white",
            "ticks": ""
           },
           "baxis": {
            "gridcolor": "white",
            "linecolor": "white",
            "ticks": ""
           },
           "bgcolor": "#E5ECF6",
           "caxis": {
            "gridcolor": "white",
            "linecolor": "white",
            "ticks": ""
           }
          },
          "title": {
           "x": 0.05
          },
          "xaxis": {
           "automargin": true,
           "gridcolor": "white",
           "linecolor": "white",
           "ticks": "",
           "title": {
            "standoff": 15
           },
           "zerolinecolor": "white",
           "zerolinewidth": 2
          },
          "yaxis": {
           "automargin": true,
           "gridcolor": "white",
           "linecolor": "white",
           "ticks": "",
           "title": {
            "standoff": 15
           },
           "zerolinecolor": "white",
           "zerolinewidth": 2
          }
         }
        },
        "title": {
         "font": {
          "color": "#4D5663"
         }
        },
        "xaxis": {
         "gridcolor": "#E1E5ED",
         "showgrid": true,
         "tickfont": {
          "color": "#4D5663"
         },
         "title": {
          "font": {
           "color": "#4D5663"
          },
          "text": ""
         },
         "zerolinecolor": "#E1E5ED"
        },
        "yaxis": {
         "gridcolor": "#E1E5ED",
         "showgrid": true,
         "tickfont": {
          "color": "#4D5663"
         },
         "title": {
          "font": {
           "color": "#4D5663"
          },
          "text": ""
         },
         "zerolinecolor": "#E1E5ED"
        }
       }
      },
      "text/html": [
       "<div>                            <div id=\"70fd68ed-af1e-40e2-9a4c-12cb47988ddd\" class=\"plotly-graph-div\" style=\"height:525px; width:100%;\"></div>            <script type=\"text/javascript\">                require([\"plotly\"], function(Plotly) {                    window.PLOTLYENV=window.PLOTLYENV || {};\n",
       "                    window.PLOTLYENV.BASE_URL='https://plot.ly';                                    if (document.getElementById(\"70fd68ed-af1e-40e2-9a4c-12cb47988ddd\")) {                    Plotly.newPlot(                        \"70fd68ed-af1e-40e2-9a4c-12cb47988ddd\",                        [{\"marker\": {\"color\": [\"rgb(255, 153, 51)\", \"rgb(55, 128, 191)\", \"rgb(50, 171, 96)\", \"rgb(128, 0, 128)\", \"rgb(219, 64, 82)\", \"rgb(0, 128, 128)\", \"rgb(255, 255, 51)\", \"rgb(128, 128, 0)\", \"rgb(251, 128, 114)\", \"rgb(128, 177, 211)\"], \"line\": {\"width\": 1.3}, \"size\": [69, 39, 54, 43, 88, 49, 102, 78, 28, 53, 108, 61, 82, 58, 56, 46, 50, 45, 81, 34, 27, 85, 72, 69, 46, 51, 41, 94, 100, 86, 65, 96, 58, 26, 65, 38, 15, 92, 49, 79, 55, 58, 50, 22, 80, 84, 55, 94, 96, 13, 50, 68, 23, 71, 51, 73, 26, 67, 80, 69, 61, 77, 42, 56, 76, 54, 93, 64, 43, 41, 55, 112, 24, 61, 67, 85, 48, 79, 60, 66, 85, 99, 100, 34, 88, 60, 36, 59, 62, 110, 64, 43, 40, 67, 67, 12, 80, 55, 36, 83], \"symbol\": \"circle\"}, \"mode\": \"markers\", \"text\": \"\", \"type\": \"scatter\", \"x\": [-1.3344538032223674, -0.8924994259218787, 0.26886804372886924, 0.15768862475176948, -0.22119158008310583, 0.4620509340031127, 2.4335083818309733, 0.6283138878570738, 0.5916528935640983, -1.107880473845743, -0.9624677212340109, -2.0455267244571513, 0.0909847865615543, 0.3952627572504107, 0.4419932489725158, -0.4226953551742026, 0.06289069744869118, -0.7006193989648868, -1.083720431567451, -1.060865658791126, -0.09081056338239148, -0.9353209782547409, 0.3589422148729274, -1.7868990461486924, -0.745064837314155, 1.6890846798067614, -0.1583008202058165, -0.2393581360509466, -0.3591360207502799, 0.08032986483476401, -1.0175142609752241, -1.5016700621947336, 1.0074806858167047, 0.6986590715947596, -2.588343670560577, 1.6081822850576204, -0.22914040070541067, -0.5293183734964289, 0.08222597405486373, -1.4699631892936766, -1.7930767125550209, -0.8790112806279785, -1.169373718837128, 0.1384087066882726, -1.0214761584041196, -0.04441846576227683, 0.39667629555448003, 0.20222543201121596, -1.2020756242009765, -1.0165590854073892, 0.46592468153875083, 0.31916647378233987, -1.7589705686927102, -0.19469290293284697, -0.017517836703771206, -1.0825926071297598, 0.8868635912852298, 1.5313879689211365, -0.8832920419908965, 1.0771696646288276, 0.4214819723313268, 0.512096106061291, -0.5765759849025575, 0.11538594660067654, -1.1688312935731027, 0.6842055251828377, 0.22219602704027291, -0.5744307101478267, 0.6367232205179054, 0.6191256148390696, 1.8834084468543921, -0.019136677575396017, -1.1087586253663548, -0.09033572122028868, 1.4938373325772583, -0.4050399181262893, -1.7460005036504043, -0.874792619992864, 1.3994180541184202, 0.799905796022181, 1.274938101349231, 0.2394547792737676, -1.577915260135125, 0.1213707929995456, 0.13672512118700048, -0.6331153406325125, 0.8242219198301328, 0.11707874435192542, 0.7436012566066985, -1.6258384419836545, -0.03584548827872644, 0.08944783921389679, 0.578477924074061, 0.7299558400202367, 0.08093456386569041, -0.2981280006647906, 0.7196159948359657, -0.9887151828728751, -1.2858827698631239, -0.6567521716175984], \"y\": [0.14115223110497468, 0.0064944644833475305, 0.7422571167780311, 1.0645093771659695, -0.3106905288382996, 0.9105427572688288, 0.6103120706936248, 0.9859342503407027, -1.3935904672907908, 0.5691387823512065, 0.6619116415384811, 1.6926025880928388, -0.6199815554999915, -0.08994976033741052, 1.0750757711471672, 0.9473855422854135, -0.9659146731795786, -0.8563163114136054, 0.40461905434576567, -0.352421659367107, -0.17570731026437184, -0.9037477548119306, -0.02350852517774842, 0.05092474675920466, 1.043949946154262, -2.4490346466295554, 0.33014417054208783, -2.2514329386378424, 0.13653096809477527, 0.27854119209137806, 0.12084021939900245, -0.22910722021751045, 0.8157967113919772, 0.843764373253457, -0.1426121926871968, -0.5483486869724357, 0.2608490671514323, -0.26372400914740446, 0.8194095519733929, -0.270587376920324, -0.7737009584318266, -1.8472980629037679, -0.7082294452695416, 0.41190023363389006, -0.05569757355731567, -0.8395179440475853, 1.237960335845157, 0.09429165095844295, 0.8444303425008042, 1.0941573273460798, 0.5004607034246967, -1.2380236960978572, -0.5299553544779251, -2.401224423159397, -1.533248329403312, -0.17338990000742058, -1.303044209950965, 0.15434110478985552, -0.014923617770171496, 2.2196598208911857, -0.22823646275445944, -0.2495367783710828, -0.08131270339267661, 1.9699500613792806, -1.188690274209095, 0.8832334729754634, 2.09273443955495, -1.0036519160375525, -0.7060680965281807, -0.23968689244003327, 0.163276759185642, -0.686450971672635, -0.30631556602327387, -0.08707637532852806, -0.5228852910421682, -0.7172234514173806, -0.29517886902307716, -0.20458324362180894, -1.462710827625806, 1.4670598502699281, 0.8479039242641055, -1.9986453717747588, -0.6388634514624134, 0.28169086802838134, -0.7770575057522737, 0.04592948766882219, -1.0942302497431726, 0.9789185809599306, -0.46129486343229453, -0.40833102173104213, 1.227531863543337, -0.37368070911341755, -0.45808425613661174, 0.7934113176984202, -1.500505747410543, 0.3307505779477316, 0.5925706519046703, 1.635234820387899, 0.4765566163310391, -1.1996493035445714]}],                        {\"legend\": {\"bgcolor\": \"#F5F6F9\", \"font\": {\"color\": \"#4D5663\"}}, \"paper_bgcolor\": \"#F5F6F9\", \"plot_bgcolor\": \"#F5F6F9\", \"template\": {\"data\": {\"bar\": [{\"error_x\": {\"color\": \"#2a3f5f\"}, \"error_y\": {\"color\": \"#2a3f5f\"}, \"marker\": {\"line\": {\"color\": \"#E5ECF6\", \"width\": 0.5}}, \"type\": \"bar\"}], \"barpolar\": [{\"marker\": {\"line\": {\"color\": \"#E5ECF6\", \"width\": 0.5}}, \"type\": \"barpolar\"}], \"carpet\": [{\"aaxis\": {\"endlinecolor\": \"#2a3f5f\", \"gridcolor\": \"white\", \"linecolor\": \"white\", \"minorgridcolor\": \"white\", \"startlinecolor\": \"#2a3f5f\"}, \"baxis\": {\"endlinecolor\": \"#2a3f5f\", \"gridcolor\": \"white\", \"linecolor\": \"white\", \"minorgridcolor\": \"white\", \"startlinecolor\": \"#2a3f5f\"}, \"type\": \"carpet\"}], \"choropleth\": [{\"colorbar\": {\"outlinewidth\": 0, \"ticks\": \"\"}, \"type\": \"choropleth\"}], \"contour\": [{\"colorbar\": {\"outlinewidth\": 0, \"ticks\": \"\"}, \"colorscale\": [[0.0, \"#0d0887\"], [0.1111111111111111, \"#46039f\"], [0.2222222222222222, \"#7201a8\"], [0.3333333333333333, \"#9c179e\"], [0.4444444444444444, \"#bd3786\"], [0.5555555555555556, \"#d8576b\"], [0.6666666666666666, \"#ed7953\"], [0.7777777777777778, \"#fb9f3a\"], [0.8888888888888888, \"#fdca26\"], [1.0, \"#f0f921\"]], \"type\": \"contour\"}], \"contourcarpet\": [{\"colorbar\": {\"outlinewidth\": 0, \"ticks\": \"\"}, \"type\": \"contourcarpet\"}], \"heatmap\": [{\"colorbar\": {\"outlinewidth\": 0, \"ticks\": \"\"}, \"colorscale\": [[0.0, \"#0d0887\"], [0.1111111111111111, \"#46039f\"], [0.2222222222222222, \"#7201a8\"], [0.3333333333333333, \"#9c179e\"], [0.4444444444444444, \"#bd3786\"], [0.5555555555555556, \"#d8576b\"], [0.6666666666666666, \"#ed7953\"], [0.7777777777777778, \"#fb9f3a\"], [0.8888888888888888, \"#fdca26\"], [1.0, \"#f0f921\"]], \"type\": \"heatmap\"}], \"heatmapgl\": [{\"colorbar\": {\"outlinewidth\": 0, \"ticks\": \"\"}, \"colorscale\": [[0.0, \"#0d0887\"], [0.1111111111111111, \"#46039f\"], [0.2222222222222222, \"#7201a8\"], [0.3333333333333333, \"#9c179e\"], [0.4444444444444444, \"#bd3786\"], [0.5555555555555556, \"#d8576b\"], [0.6666666666666666, \"#ed7953\"], [0.7777777777777778, \"#fb9f3a\"], [0.8888888888888888, \"#fdca26\"], [1.0, \"#f0f921\"]], \"type\": \"heatmapgl\"}], \"histogram\": [{\"marker\": {\"colorbar\": {\"outlinewidth\": 0, \"ticks\": \"\"}}, \"type\": \"histogram\"}], \"histogram2d\": [{\"colorbar\": {\"outlinewidth\": 0, \"ticks\": \"\"}, \"colorscale\": [[0.0, \"#0d0887\"], [0.1111111111111111, \"#46039f\"], [0.2222222222222222, \"#7201a8\"], [0.3333333333333333, \"#9c179e\"], [0.4444444444444444, \"#bd3786\"], [0.5555555555555556, \"#d8576b\"], [0.6666666666666666, \"#ed7953\"], [0.7777777777777778, \"#fb9f3a\"], [0.8888888888888888, \"#fdca26\"], [1.0, \"#f0f921\"]], \"type\": \"histogram2d\"}], \"histogram2dcontour\": [{\"colorbar\": {\"outlinewidth\": 0, \"ticks\": \"\"}, \"colorscale\": [[0.0, \"#0d0887\"], [0.1111111111111111, \"#46039f\"], [0.2222222222222222, \"#7201a8\"], [0.3333333333333333, \"#9c179e\"], [0.4444444444444444, \"#bd3786\"], [0.5555555555555556, \"#d8576b\"], [0.6666666666666666, \"#ed7953\"], [0.7777777777777778, \"#fb9f3a\"], [0.8888888888888888, \"#fdca26\"], [1.0, \"#f0f921\"]], \"type\": \"histogram2dcontour\"}], \"mesh3d\": [{\"colorbar\": {\"outlinewidth\": 0, \"ticks\": \"\"}, \"type\": \"mesh3d\"}], \"parcoords\": [{\"line\": {\"colorbar\": {\"outlinewidth\": 0, \"ticks\": \"\"}}, \"type\": \"parcoords\"}], \"pie\": [{\"automargin\": true, \"type\": \"pie\"}], \"scatter\": [{\"marker\": {\"colorbar\": {\"outlinewidth\": 0, \"ticks\": \"\"}}, \"type\": \"scatter\"}], \"scatter3d\": [{\"line\": {\"colorbar\": {\"outlinewidth\": 0, \"ticks\": \"\"}}, \"marker\": {\"colorbar\": {\"outlinewidth\": 0, \"ticks\": \"\"}}, \"type\": \"scatter3d\"}], \"scattercarpet\": [{\"marker\": {\"colorbar\": {\"outlinewidth\": 0, \"ticks\": \"\"}}, \"type\": \"scattercarpet\"}], \"scattergeo\": [{\"marker\": {\"colorbar\": {\"outlinewidth\": 0, \"ticks\": \"\"}}, \"type\": \"scattergeo\"}], \"scattergl\": [{\"marker\": {\"colorbar\": {\"outlinewidth\": 0, \"ticks\": \"\"}}, \"type\": \"scattergl\"}], \"scattermapbox\": [{\"marker\": {\"colorbar\": {\"outlinewidth\": 0, \"ticks\": \"\"}}, \"type\": \"scattermapbox\"}], \"scatterpolar\": [{\"marker\": {\"colorbar\": {\"outlinewidth\": 0, \"ticks\": \"\"}}, \"type\": \"scatterpolar\"}], \"scatterpolargl\": [{\"marker\": {\"colorbar\": {\"outlinewidth\": 0, \"ticks\": \"\"}}, \"type\": \"scatterpolargl\"}], \"scatterternary\": [{\"marker\": {\"colorbar\": {\"outlinewidth\": 0, \"ticks\": \"\"}}, \"type\": \"scatterternary\"}], \"surface\": [{\"colorbar\": {\"outlinewidth\": 0, \"ticks\": \"\"}, \"colorscale\": [[0.0, \"#0d0887\"], [0.1111111111111111, \"#46039f\"], [0.2222222222222222, \"#7201a8\"], [0.3333333333333333, \"#9c179e\"], [0.4444444444444444, \"#bd3786\"], [0.5555555555555556, \"#d8576b\"], [0.6666666666666666, \"#ed7953\"], [0.7777777777777778, \"#fb9f3a\"], [0.8888888888888888, \"#fdca26\"], [1.0, \"#f0f921\"]], \"type\": \"surface\"}], \"table\": [{\"cells\": {\"fill\": {\"color\": \"#EBF0F8\"}, \"line\": {\"color\": \"white\"}}, \"header\": {\"fill\": {\"color\": \"#C8D4E3\"}, \"line\": {\"color\": \"white\"}}, \"type\": \"table\"}]}, \"layout\": {\"annotationdefaults\": {\"arrowcolor\": \"#2a3f5f\", \"arrowhead\": 0, \"arrowwidth\": 1}, \"autotypenumbers\": \"strict\", \"coloraxis\": {\"colorbar\": {\"outlinewidth\": 0, \"ticks\": \"\"}}, \"colorscale\": {\"diverging\": [[0, \"#8e0152\"], [0.1, \"#c51b7d\"], [0.2, \"#de77ae\"], [0.3, \"#f1b6da\"], [0.4, \"#fde0ef\"], [0.5, \"#f7f7f7\"], [0.6, \"#e6f5d0\"], [0.7, \"#b8e186\"], [0.8, \"#7fbc41\"], [0.9, \"#4d9221\"], [1, \"#276419\"]], \"sequential\": [[0.0, \"#0d0887\"], [0.1111111111111111, \"#46039f\"], [0.2222222222222222, \"#7201a8\"], [0.3333333333333333, \"#9c179e\"], [0.4444444444444444, \"#bd3786\"], [0.5555555555555556, \"#d8576b\"], [0.6666666666666666, \"#ed7953\"], [0.7777777777777778, \"#fb9f3a\"], [0.8888888888888888, \"#fdca26\"], [1.0, \"#f0f921\"]], \"sequentialminus\": [[0.0, \"#0d0887\"], [0.1111111111111111, \"#46039f\"], [0.2222222222222222, \"#7201a8\"], [0.3333333333333333, \"#9c179e\"], [0.4444444444444444, \"#bd3786\"], [0.5555555555555556, \"#d8576b\"], [0.6666666666666666, \"#ed7953\"], [0.7777777777777778, \"#fb9f3a\"], [0.8888888888888888, \"#fdca26\"], [1.0, \"#f0f921\"]]}, \"colorway\": [\"#636efa\", \"#EF553B\", \"#00cc96\", \"#ab63fa\", \"#FFA15A\", \"#19d3f3\", \"#FF6692\", \"#B6E880\", \"#FF97FF\", \"#FECB52\"], \"font\": {\"color\": \"#2a3f5f\"}, \"geo\": {\"bgcolor\": \"white\", \"lakecolor\": \"white\", \"landcolor\": \"#E5ECF6\", \"showlakes\": true, \"showland\": true, \"subunitcolor\": \"white\"}, \"hoverlabel\": {\"align\": \"left\"}, \"hovermode\": \"closest\", \"mapbox\": {\"style\": \"light\"}, \"paper_bgcolor\": \"white\", \"plot_bgcolor\": \"#E5ECF6\", \"polar\": {\"angularaxis\": {\"gridcolor\": \"white\", \"linecolor\": \"white\", \"ticks\": \"\"}, \"bgcolor\": \"#E5ECF6\", \"radialaxis\": {\"gridcolor\": \"white\", \"linecolor\": \"white\", \"ticks\": \"\"}}, \"scene\": {\"xaxis\": {\"backgroundcolor\": \"#E5ECF6\", \"gridcolor\": \"white\", \"gridwidth\": 2, \"linecolor\": \"white\", \"showbackground\": true, \"ticks\": \"\", \"zerolinecolor\": \"white\"}, \"yaxis\": {\"backgroundcolor\": \"#E5ECF6\", \"gridcolor\": \"white\", \"gridwidth\": 2, \"linecolor\": \"white\", \"showbackground\": true, \"ticks\": \"\", \"zerolinecolor\": \"white\"}, \"zaxis\": {\"backgroundcolor\": \"#E5ECF6\", \"gridcolor\": \"white\", \"gridwidth\": 2, \"linecolor\": \"white\", \"showbackground\": true, \"ticks\": \"\", \"zerolinecolor\": \"white\"}}, \"shapedefaults\": {\"line\": {\"color\": \"#2a3f5f\"}}, \"ternary\": {\"aaxis\": {\"gridcolor\": \"white\", \"linecolor\": \"white\", \"ticks\": \"\"}, \"baxis\": {\"gridcolor\": \"white\", \"linecolor\": \"white\", \"ticks\": \"\"}, \"bgcolor\": \"#E5ECF6\", \"caxis\": {\"gridcolor\": \"white\", \"linecolor\": \"white\", \"ticks\": \"\"}}, \"title\": {\"x\": 0.05}, \"xaxis\": {\"automargin\": true, \"gridcolor\": \"white\", \"linecolor\": \"white\", \"ticks\": \"\", \"title\": {\"standoff\": 15}, \"zerolinecolor\": \"white\", \"zerolinewidth\": 2}, \"yaxis\": {\"automargin\": true, \"gridcolor\": \"white\", \"linecolor\": \"white\", \"ticks\": \"\", \"title\": {\"standoff\": 15}, \"zerolinecolor\": \"white\", \"zerolinewidth\": 2}}}, \"title\": {\"font\": {\"color\": \"#4D5663\"}}, \"xaxis\": {\"gridcolor\": \"#E1E5ED\", \"showgrid\": true, \"tickfont\": {\"color\": \"#4D5663\"}, \"title\": {\"font\": {\"color\": \"#4D5663\"}, \"text\": \"\"}, \"zerolinecolor\": \"#E1E5ED\"}, \"yaxis\": {\"gridcolor\": \"#E1E5ED\", \"showgrid\": true, \"tickfont\": {\"color\": \"#4D5663\"}, \"title\": {\"font\": {\"color\": \"#4D5663\"}, \"text\": \"\"}, \"zerolinecolor\": \"#E1E5ED\"}},                        {\"showLink\": true, \"linkText\": \"Export to plot.ly\", \"plotlyServerURL\": \"https://plot.ly\", \"responsive\": true}                    ).then(function(){\n",
       "                            \n",
       "var gd = document.getElementById('70fd68ed-af1e-40e2-9a4c-12cb47988ddd');\n",
       "var x = new MutationObserver(function (mutations, observer) {{\n",
       "        var display = window.getComputedStyle(gd).display;\n",
       "        if (!display || display === 'none') {{\n",
       "            console.log([gd, 'removed!']);\n",
       "            Plotly.purge(gd);\n",
       "            observer.disconnect();\n",
       "        }}\n",
       "}});\n",
       "\n",
       "// Listen for the removal of the full notebook cells\n",
       "var notebookContainer = gd.closest('#notebook-container');\n",
       "if (notebookContainer) {{\n",
       "    x.observe(notebookContainer, {childList: true});\n",
       "}}\n",
       "\n",
       "// Listen for the clearing of the current output cell\n",
       "var outputEl = gd.closest('.output');\n",
       "if (outputEl) {{\n",
       "    x.observe(outputEl, {childList: true});\n",
       "}}\n",
       "\n",
       "                        })                };                });            </script>        </div>"
      ]
     },
     "metadata": {},
     "output_type": "display_data"
    }
   ],
   "source": [
    "df.iplot(kind='bubble', x='A', y='B', size='C')"
   ]
  },
  {
   "cell_type": "code",
   "execution_count": 40,
   "metadata": {},
   "outputs": [
    {
     "data": {
      "application/vnd.plotly.v1+json": {
       "config": {
        "linkText": "Export to plot.ly",
        "plotlyServerURL": "https://plot.ly",
        "showLink": true
       },
       "data": [
        {
         "histfunc": "count",
         "histnorm": "",
         "marker": {
          "color": "rgba(255, 153, 51, 1.0)",
          "line": {
           "color": "#4D5663",
           "width": 1.3
          }
         },
         "name": "A",
         "nbinsx": 10,
         "opacity": 0.8,
         "orientation": "v",
         "type": "histogram",
         "x": [
          -1.3344538032223674,
          -0.8924994259218787,
          0.26886804372886924,
          0.15768862475176948,
          -0.22119158008310583,
          0.4620509340031127,
          2.4335083818309733,
          0.6283138878570738,
          0.5916528935640983,
          -1.107880473845743,
          -0.9624677212340109,
          -2.0455267244571513,
          0.0909847865615543,
          0.3952627572504107,
          0.4419932489725158,
          -0.4226953551742026,
          0.06289069744869118,
          -0.7006193989648868,
          -1.083720431567451,
          -1.060865658791126,
          -0.09081056338239148,
          -0.9353209782547409,
          0.3589422148729274,
          -1.7868990461486924,
          -0.745064837314155,
          1.6890846798067614,
          -0.1583008202058165,
          -0.2393581360509466,
          -0.3591360207502799,
          0.08032986483476401,
          -1.0175142609752241,
          -1.5016700621947336,
          1.0074806858167047,
          0.6986590715947596,
          -2.588343670560577,
          1.6081822850576204,
          -0.22914040070541067,
          -0.5293183734964289,
          0.08222597405486373,
          -1.4699631892936766,
          -1.7930767125550209,
          -0.8790112806279785,
          -1.169373718837128,
          0.1384087066882726,
          -1.0214761584041196,
          -0.04441846576227683,
          0.39667629555448003,
          0.20222543201121596,
          -1.2020756242009765,
          -1.0165590854073892,
          0.46592468153875083,
          0.31916647378233987,
          -1.7589705686927102,
          -0.19469290293284697,
          -0.017517836703771206,
          -1.0825926071297598,
          0.8868635912852298,
          1.5313879689211365,
          -0.8832920419908965,
          1.0771696646288276,
          0.4214819723313268,
          0.512096106061291,
          -0.5765759849025575,
          0.11538594660067654,
          -1.1688312935731027,
          0.6842055251828377,
          0.22219602704027291,
          -0.5744307101478267,
          0.6367232205179054,
          0.6191256148390696,
          1.8834084468543921,
          -0.019136677575396017,
          -1.1087586253663548,
          -0.09033572122028868,
          1.4938373325772583,
          -0.4050399181262893,
          -1.7460005036504043,
          -0.874792619992864,
          1.3994180541184202,
          0.799905796022181,
          1.274938101349231,
          0.2394547792737676,
          -1.577915260135125,
          0.1213707929995456,
          0.13672512118700048,
          -0.6331153406325125,
          0.8242219198301328,
          0.11707874435192542,
          0.7436012566066985,
          -1.6258384419836545,
          -0.03584548827872644,
          0.08944783921389679,
          0.578477924074061,
          0.7299558400202367,
          0.08093456386569041,
          -0.2981280006647906,
          0.7196159948359657,
          -0.9887151828728751,
          -1.2858827698631239,
          -0.6567521716175984
         ],
         "xaxis": "x",
         "yaxis": "y"
        },
        {
         "line": {
          "color": "rgba(128, 128, 128, 1.0)",
          "dash": "solid",
          "shape": "linear",
          "width": 1.3
         },
         "marker": {
          "size": 2,
          "symbol": "circle"
         },
         "mode": "markers",
         "name": "A",
         "text": "",
         "type": "scatter",
         "x": [
          0.14115223110497468,
          0.0064944644833475305,
          0.7422571167780311,
          1.0645093771659695,
          -0.3106905288382996,
          0.9105427572688288,
          0.6103120706936248,
          0.9859342503407027,
          -1.3935904672907908,
          0.5691387823512065,
          0.6619116415384811,
          1.6926025880928388,
          -0.6199815554999915,
          -0.08994976033741052,
          1.0750757711471672,
          0.9473855422854135,
          -0.9659146731795786,
          -0.8563163114136054,
          0.40461905434576567,
          -0.352421659367107,
          -0.17570731026437184,
          -0.9037477548119306,
          -0.02350852517774842,
          0.05092474675920466,
          1.043949946154262,
          -2.4490346466295554,
          0.33014417054208783,
          -2.2514329386378424,
          0.13653096809477527,
          0.27854119209137806,
          0.12084021939900245,
          -0.22910722021751045,
          0.8157967113919772,
          0.843764373253457,
          -0.1426121926871968,
          -0.5483486869724357,
          0.2608490671514323,
          -0.26372400914740446,
          0.8194095519733929,
          -0.270587376920324,
          -0.7737009584318266,
          -1.8472980629037679,
          -0.7082294452695416,
          0.41190023363389006,
          -0.05569757355731567,
          -0.8395179440475853,
          1.237960335845157,
          0.09429165095844295,
          0.8444303425008042,
          1.0941573273460798,
          0.5004607034246967,
          -1.2380236960978572,
          -0.5299553544779251,
          -2.401224423159397,
          -1.533248329403312,
          -0.17338990000742058,
          -1.303044209950965,
          0.15434110478985552,
          -0.014923617770171496,
          2.2196598208911857,
          -0.22823646275445944,
          -0.2495367783710828,
          -0.08131270339267661,
          1.9699500613792806,
          -1.188690274209095,
          0.8832334729754634,
          2.09273443955495,
          -1.0036519160375525,
          -0.7060680965281807,
          -0.23968689244003327,
          0.163276759185642,
          -0.686450971672635,
          -0.30631556602327387,
          -0.08707637532852806,
          -0.5228852910421682,
          -0.7172234514173806,
          -0.29517886902307716,
          -0.20458324362180894,
          -1.462710827625806,
          1.4670598502699281,
          0.8479039242641055,
          -1.9986453717747588,
          -0.6388634514624134,
          0.28169086802838134,
          -0.7770575057522737,
          0.04592948766882219,
          -1.0942302497431726,
          0.9789185809599306,
          -0.46129486343229453,
          -0.40833102173104213,
          1.227531863543337,
          -0.37368070911341755,
          -0.45808425613661174,
          0.7934113176984202,
          -1.500505747410543,
          0.3307505779477316,
          0.5925706519046703,
          1.635234820387899,
          0.4765566163310391,
          -1.1996493035445714
         ],
         "xaxis": "x2",
         "y": [
          -1.3344538032223674,
          -0.8924994259218787,
          0.26886804372886924,
          0.15768862475176948,
          -0.22119158008310583,
          0.4620509340031127,
          2.4335083818309733,
          0.6283138878570738,
          0.5916528935640983,
          -1.107880473845743,
          -0.9624677212340109,
          -2.0455267244571513,
          0.0909847865615543,
          0.3952627572504107,
          0.4419932489725158,
          -0.4226953551742026,
          0.06289069744869118,
          -0.7006193989648868,
          -1.083720431567451,
          -1.060865658791126,
          -0.09081056338239148,
          -0.9353209782547409,
          0.3589422148729274,
          -1.7868990461486924,
          -0.745064837314155,
          1.6890846798067614,
          -0.1583008202058165,
          -0.2393581360509466,
          -0.3591360207502799,
          0.08032986483476401,
          -1.0175142609752241,
          -1.5016700621947336,
          1.0074806858167047,
          0.6986590715947596,
          -2.588343670560577,
          1.6081822850576204,
          -0.22914040070541067,
          -0.5293183734964289,
          0.08222597405486373,
          -1.4699631892936766,
          -1.7930767125550209,
          -0.8790112806279785,
          -1.169373718837128,
          0.1384087066882726,
          -1.0214761584041196,
          -0.04441846576227683,
          0.39667629555448003,
          0.20222543201121596,
          -1.2020756242009765,
          -1.0165590854073892,
          0.46592468153875083,
          0.31916647378233987,
          -1.7589705686927102,
          -0.19469290293284697,
          -0.017517836703771206,
          -1.0825926071297598,
          0.8868635912852298,
          1.5313879689211365,
          -0.8832920419908965,
          1.0771696646288276,
          0.4214819723313268,
          0.512096106061291,
          -0.5765759849025575,
          0.11538594660067654,
          -1.1688312935731027,
          0.6842055251828377,
          0.22219602704027291,
          -0.5744307101478267,
          0.6367232205179054,
          0.6191256148390696,
          1.8834084468543921,
          -0.019136677575396017,
          -1.1087586253663548,
          -0.09033572122028868,
          1.4938373325772583,
          -0.4050399181262893,
          -1.7460005036504043,
          -0.874792619992864,
          1.3994180541184202,
          0.799905796022181,
          1.274938101349231,
          0.2394547792737676,
          -1.577915260135125,
          0.1213707929995456,
          0.13672512118700048,
          -0.6331153406325125,
          0.8242219198301328,
          0.11707874435192542,
          0.7436012566066985,
          -1.6258384419836545,
          -0.03584548827872644,
          0.08944783921389679,
          0.578477924074061,
          0.7299558400202367,
          0.08093456386569041,
          -0.2981280006647906,
          0.7196159948359657,
          -0.9887151828728751,
          -1.2858827698631239,
          -0.6567521716175984
         ],
         "yaxis": "y2"
        },
        {
         "line": {
          "color": "rgba(128, 128, 128, 1.0)",
          "dash": "solid",
          "shape": "linear",
          "width": 1.3
         },
         "marker": {
          "size": 2,
          "symbol": "circle"
         },
         "mode": "markers",
         "name": "A",
         "text": "",
         "type": "scatter",
         "x": [
          0.2530917113271322,
          -0.9890104346964195,
          -0.39399061015526105,
          -0.806349443728782,
          1.0269292755252677,
          -0.5765171906888962,
          1.595271012716274,
          0.5963187126316164,
          -1.4502231149363887,
          -0.4112895787635489,
          1.8019109475952786,
          -0.0918095648497734,
          0.7627425581289289,
          -0.21914522192757702,
          -0.2926509630327127,
          -0.6971203406836002,
          -0.5468277875916475,
          -0.7331471279589682,
          0.7182673562773526,
          -1.1734544133177471,
          -1.474992929667637,
          0.8683397659408032,
          0.35905053100282663,
          0.2292625916257633,
          -0.6967589269149497,
          -0.48177822080743415,
          -0.9222113134634797,
          1.2461523735545468,
          1.5046599491507222,
          0.92261259229617,
          0.06195593412560095,
          1.3501517219540615,
          -0.1962592516509624,
          -1.5236450780327122,
          0.07013849426944149,
          -1.0175226875210754,
          -1.967895625772992,
          1.181703711464979,
          -0.5678600438042352,
          0.6595631355626677,
          -0.34433448425807334,
          -0.20307368400259568,
          -0.54553609386368,
          -1.6769241078819122,
          0.6757788510129932,
          0.8258212450642957,
          -0.350307561972649,
          1.2574260935280994,
          1.3359166977975272,
          -2.043068859179839,
          -0.519474178200342,
          0.20599050286675058,
          -1.651846473593329,
          0.31113593378343907,
          -0.49987751408599584,
          0.3888705685375426,
          -1.506532134549189,
          0.14568265358322754,
          0.6887695472572651,
          0.24988829811863322,
          -0.08825695195704542,
          0.5420044701977272,
          -0.849556723826802,
          -0.2921489315869297,
          0.5073892089994784,
          -0.3683131455091124,
          1.1933559825006401,
          0.01849527309794985,
          -0.8311877135581195,
          -0.903773590381288,
          -0.3148140662690922,
          1.964400161863338,
          -1.581092584064821,
          -0.07324715397940061,
          0.1485008590973546,
          0.9057581978437469,
          -0.618261773342376,
          0.6330497758753028,
          -0.13553713399477593,
          0.12943801352764087,
          0.9031247247539765,
          1.446838737665481,
          1.477826912335126,
          -1.1763939428341526,
          0.9995732717882453,
          -0.12423940048829445,
          -1.1013294246687177,
          -0.17903286619989758,
          -0.04605668442365374,
          1.89833634590754,
          0.038807438640817114,
          -0.8161127075991621,
          -0.9456418183483448,
          0.17419248814889204,
          0.1405198689364899,
          -2.1038438209599977,
          0.6808095514690816,
          -0.35020137419082026,
          -1.113547234381775,
          0.7984763692018992
         ],
         "xaxis": "x3",
         "y": [
          -1.3344538032223674,
          -0.8924994259218787,
          0.26886804372886924,
          0.15768862475176948,
          -0.22119158008310583,
          0.4620509340031127,
          2.4335083818309733,
          0.6283138878570738,
          0.5916528935640983,
          -1.107880473845743,
          -0.9624677212340109,
          -2.0455267244571513,
          0.0909847865615543,
          0.3952627572504107,
          0.4419932489725158,
          -0.4226953551742026,
          0.06289069744869118,
          -0.7006193989648868,
          -1.083720431567451,
          -1.060865658791126,
          -0.09081056338239148,
          -0.9353209782547409,
          0.3589422148729274,
          -1.7868990461486924,
          -0.745064837314155,
          1.6890846798067614,
          -0.1583008202058165,
          -0.2393581360509466,
          -0.3591360207502799,
          0.08032986483476401,
          -1.0175142609752241,
          -1.5016700621947336,
          1.0074806858167047,
          0.6986590715947596,
          -2.588343670560577,
          1.6081822850576204,
          -0.22914040070541067,
          -0.5293183734964289,
          0.08222597405486373,
          -1.4699631892936766,
          -1.7930767125550209,
          -0.8790112806279785,
          -1.169373718837128,
          0.1384087066882726,
          -1.0214761584041196,
          -0.04441846576227683,
          0.39667629555448003,
          0.20222543201121596,
          -1.2020756242009765,
          -1.0165590854073892,
          0.46592468153875083,
          0.31916647378233987,
          -1.7589705686927102,
          -0.19469290293284697,
          -0.017517836703771206,
          -1.0825926071297598,
          0.8868635912852298,
          1.5313879689211365,
          -0.8832920419908965,
          1.0771696646288276,
          0.4214819723313268,
          0.512096106061291,
          -0.5765759849025575,
          0.11538594660067654,
          -1.1688312935731027,
          0.6842055251828377,
          0.22219602704027291,
          -0.5744307101478267,
          0.6367232205179054,
          0.6191256148390696,
          1.8834084468543921,
          -0.019136677575396017,
          -1.1087586253663548,
          -0.09033572122028868,
          1.4938373325772583,
          -0.4050399181262893,
          -1.7460005036504043,
          -0.874792619992864,
          1.3994180541184202,
          0.799905796022181,
          1.274938101349231,
          0.2394547792737676,
          -1.577915260135125,
          0.1213707929995456,
          0.13672512118700048,
          -0.6331153406325125,
          0.8242219198301328,
          0.11707874435192542,
          0.7436012566066985,
          -1.6258384419836545,
          -0.03584548827872644,
          0.08944783921389679,
          0.578477924074061,
          0.7299558400202367,
          0.08093456386569041,
          -0.2981280006647906,
          0.7196159948359657,
          -0.9887151828728751,
          -1.2858827698631239,
          -0.6567521716175984
         ],
         "yaxis": "y3"
        },
        {
         "line": {
          "color": "rgba(128, 128, 128, 1.0)",
          "dash": "solid",
          "shape": "linear",
          "width": 1.3
         },
         "marker": {
          "size": 2,
          "symbol": "circle"
         },
         "mode": "markers",
         "name": "A",
         "text": "",
         "type": "scatter",
         "x": [
          0.9135095511270055,
          0.8300768819790462,
          -0.32004306346453193,
          -0.6581296286650561,
          1.4836945505803925,
          1.0270586035577867,
          -0.9859497561904975,
          1.5701847583308441,
          1.0689501999873456,
          0.27469367698909647,
          0.802179541436546,
          0.28884337018785844,
          -0.7434532905448736,
          0.27274012450951335,
          -1.2859035819950417,
          1.4733751166997981,
          -1.448170024930766,
          0.6387142479829242,
          0.10544400953620241,
          -1.2102928294002335,
          -0.24276755640050543,
          -0.8963604076627338,
          0.22887388670666756,
          0.7055734686513757,
          -0.11357563100775599,
          0.9252196163749348,
          1.058228680287137,
          0.25047384372673487,
          1.1653344926210953,
          0.15865317944084573,
          1.3866504724146873,
          1.6689296985913067,
          -0.8134044689759502,
          0.6487187769518447,
          -0.8052091624301895,
          2.0326603507057137,
          0.1073820460355707,
          0.4071162529196392,
          -0.5750653685166855,
          -0.6315805871754341,
          0.5418712272596757,
          -1.1306708673810189,
          -1.118714709363381,
          -0.4401647702306003,
          -0.8061306367639891,
          -1.197345475413853,
          -1.0068972492704373,
          -0.17817852999860212,
          0.639369678595348,
          1.013703991356466,
          -0.23922158717259134,
          1.4633201945065708,
          1.3800134011897498,
          0.2247267573806439,
          0.49163132075695115,
          -0.10828728589737688,
          1.1069484290607003,
          -1.2288487448834053,
          0.1754650161188707,
          0.7507986272132572,
          -0.20081391988588704,
          -0.6226641921427002,
          -0.16735697752048215,
          -0.38524578546611754,
          -0.5355048393729672,
          -0.34164985540023096,
          -0.2774104723203889,
          -0.2584209934005529,
          -0.3814423922234519,
          0.3257577500486821,
          0.6434080629177568,
          0.66077107797274,
          0.3637986673716947,
          -0.09214981424928291,
          0.5276787296850053,
          -1.0338595767059349,
          -0.21097706924663143,
          0.8984944691691217,
          0.0820970582758034,
          0.11562641623887104,
          0.10032385906751383,
          -0.6503813578923999,
          -0.055876884880289614,
          -0.8571822962027709,
          0.615500073921127,
          -1.3194434776149946,
          2.0925297421943623,
          0.9410652730595865,
          -3.673307455724263,
          -0.1572986034633572,
          -0.47613933558282523,
          0.8539426335428666,
          -0.23704464026201616,
          0.6063597785257324,
          -0.6518794725049938,
          1.7049202285082419,
          -0.4059466352822378,
          -2.217238611239522,
          1.1045060637619017,
          0.13468126793607563
         ],
         "xaxis": "x4",
         "y": [
          -1.3344538032223674,
          -0.8924994259218787,
          0.26886804372886924,
          0.15768862475176948,
          -0.22119158008310583,
          0.4620509340031127,
          2.4335083818309733,
          0.6283138878570738,
          0.5916528935640983,
          -1.107880473845743,
          -0.9624677212340109,
          -2.0455267244571513,
          0.0909847865615543,
          0.3952627572504107,
          0.4419932489725158,
          -0.4226953551742026,
          0.06289069744869118,
          -0.7006193989648868,
          -1.083720431567451,
          -1.060865658791126,
          -0.09081056338239148,
          -0.9353209782547409,
          0.3589422148729274,
          -1.7868990461486924,
          -0.745064837314155,
          1.6890846798067614,
          -0.1583008202058165,
          -0.2393581360509466,
          -0.3591360207502799,
          0.08032986483476401,
          -1.0175142609752241,
          -1.5016700621947336,
          1.0074806858167047,
          0.6986590715947596,
          -2.588343670560577,
          1.6081822850576204,
          -0.22914040070541067,
          -0.5293183734964289,
          0.08222597405486373,
          -1.4699631892936766,
          -1.7930767125550209,
          -0.8790112806279785,
          -1.169373718837128,
          0.1384087066882726,
          -1.0214761584041196,
          -0.04441846576227683,
          0.39667629555448003,
          0.20222543201121596,
          -1.2020756242009765,
          -1.0165590854073892,
          0.46592468153875083,
          0.31916647378233987,
          -1.7589705686927102,
          -0.19469290293284697,
          -0.017517836703771206,
          -1.0825926071297598,
          0.8868635912852298,
          1.5313879689211365,
          -0.8832920419908965,
          1.0771696646288276,
          0.4214819723313268,
          0.512096106061291,
          -0.5765759849025575,
          0.11538594660067654,
          -1.1688312935731027,
          0.6842055251828377,
          0.22219602704027291,
          -0.5744307101478267,
          0.6367232205179054,
          0.6191256148390696,
          1.8834084468543921,
          -0.019136677575396017,
          -1.1087586253663548,
          -0.09033572122028868,
          1.4938373325772583,
          -0.4050399181262893,
          -1.7460005036504043,
          -0.874792619992864,
          1.3994180541184202,
          0.799905796022181,
          1.274938101349231,
          0.2394547792737676,
          -1.577915260135125,
          0.1213707929995456,
          0.13672512118700048,
          -0.6331153406325125,
          0.8242219198301328,
          0.11707874435192542,
          0.7436012566066985,
          -1.6258384419836545,
          -0.03584548827872644,
          0.08944783921389679,
          0.578477924074061,
          0.7299558400202367,
          0.08093456386569041,
          -0.2981280006647906,
          0.7196159948359657,
          -0.9887151828728751,
          -1.2858827698631239,
          -0.6567521716175984
         ],
         "yaxis": "y4"
        },
        {
         "line": {
          "color": "rgba(128, 128, 128, 1.0)",
          "dash": "solid",
          "shape": "linear",
          "width": 1.3
         },
         "marker": {
          "size": 2,
          "symbol": "circle"
         },
         "mode": "markers",
         "name": "B",
         "text": "",
         "type": "scatter",
         "x": [
          -1.3344538032223674,
          -0.8924994259218787,
          0.26886804372886924,
          0.15768862475176948,
          -0.22119158008310583,
          0.4620509340031127,
          2.4335083818309733,
          0.6283138878570738,
          0.5916528935640983,
          -1.107880473845743,
          -0.9624677212340109,
          -2.0455267244571513,
          0.0909847865615543,
          0.3952627572504107,
          0.4419932489725158,
          -0.4226953551742026,
          0.06289069744869118,
          -0.7006193989648868,
          -1.083720431567451,
          -1.060865658791126,
          -0.09081056338239148,
          -0.9353209782547409,
          0.3589422148729274,
          -1.7868990461486924,
          -0.745064837314155,
          1.6890846798067614,
          -0.1583008202058165,
          -0.2393581360509466,
          -0.3591360207502799,
          0.08032986483476401,
          -1.0175142609752241,
          -1.5016700621947336,
          1.0074806858167047,
          0.6986590715947596,
          -2.588343670560577,
          1.6081822850576204,
          -0.22914040070541067,
          -0.5293183734964289,
          0.08222597405486373,
          -1.4699631892936766,
          -1.7930767125550209,
          -0.8790112806279785,
          -1.169373718837128,
          0.1384087066882726,
          -1.0214761584041196,
          -0.04441846576227683,
          0.39667629555448003,
          0.20222543201121596,
          -1.2020756242009765,
          -1.0165590854073892,
          0.46592468153875083,
          0.31916647378233987,
          -1.7589705686927102,
          -0.19469290293284697,
          -0.017517836703771206,
          -1.0825926071297598,
          0.8868635912852298,
          1.5313879689211365,
          -0.8832920419908965,
          1.0771696646288276,
          0.4214819723313268,
          0.512096106061291,
          -0.5765759849025575,
          0.11538594660067654,
          -1.1688312935731027,
          0.6842055251828377,
          0.22219602704027291,
          -0.5744307101478267,
          0.6367232205179054,
          0.6191256148390696,
          1.8834084468543921,
          -0.019136677575396017,
          -1.1087586253663548,
          -0.09033572122028868,
          1.4938373325772583,
          -0.4050399181262893,
          -1.7460005036504043,
          -0.874792619992864,
          1.3994180541184202,
          0.799905796022181,
          1.274938101349231,
          0.2394547792737676,
          -1.577915260135125,
          0.1213707929995456,
          0.13672512118700048,
          -0.6331153406325125,
          0.8242219198301328,
          0.11707874435192542,
          0.7436012566066985,
          -1.6258384419836545,
          -0.03584548827872644,
          0.08944783921389679,
          0.578477924074061,
          0.7299558400202367,
          0.08093456386569041,
          -0.2981280006647906,
          0.7196159948359657,
          -0.9887151828728751,
          -1.2858827698631239,
          -0.6567521716175984
         ],
         "xaxis": "x5",
         "y": [
          0.14115223110497468,
          0.0064944644833475305,
          0.7422571167780311,
          1.0645093771659695,
          -0.3106905288382996,
          0.9105427572688288,
          0.6103120706936248,
          0.9859342503407027,
          -1.3935904672907908,
          0.5691387823512065,
          0.6619116415384811,
          1.6926025880928388,
          -0.6199815554999915,
          -0.08994976033741052,
          1.0750757711471672,
          0.9473855422854135,
          -0.9659146731795786,
          -0.8563163114136054,
          0.40461905434576567,
          -0.352421659367107,
          -0.17570731026437184,
          -0.9037477548119306,
          -0.02350852517774842,
          0.05092474675920466,
          1.043949946154262,
          -2.4490346466295554,
          0.33014417054208783,
          -2.2514329386378424,
          0.13653096809477527,
          0.27854119209137806,
          0.12084021939900245,
          -0.22910722021751045,
          0.8157967113919772,
          0.843764373253457,
          -0.1426121926871968,
          -0.5483486869724357,
          0.2608490671514323,
          -0.26372400914740446,
          0.8194095519733929,
          -0.270587376920324,
          -0.7737009584318266,
          -1.8472980629037679,
          -0.7082294452695416,
          0.41190023363389006,
          -0.05569757355731567,
          -0.8395179440475853,
          1.237960335845157,
          0.09429165095844295,
          0.8444303425008042,
          1.0941573273460798,
          0.5004607034246967,
          -1.2380236960978572,
          -0.5299553544779251,
          -2.401224423159397,
          -1.533248329403312,
          -0.17338990000742058,
          -1.303044209950965,
          0.15434110478985552,
          -0.014923617770171496,
          2.2196598208911857,
          -0.22823646275445944,
          -0.2495367783710828,
          -0.08131270339267661,
          1.9699500613792806,
          -1.188690274209095,
          0.8832334729754634,
          2.09273443955495,
          -1.0036519160375525,
          -0.7060680965281807,
          -0.23968689244003327,
          0.163276759185642,
          -0.686450971672635,
          -0.30631556602327387,
          -0.08707637532852806,
          -0.5228852910421682,
          -0.7172234514173806,
          -0.29517886902307716,
          -0.20458324362180894,
          -1.462710827625806,
          1.4670598502699281,
          0.8479039242641055,
          -1.9986453717747588,
          -0.6388634514624134,
          0.28169086802838134,
          -0.7770575057522737,
          0.04592948766882219,
          -1.0942302497431726,
          0.9789185809599306,
          -0.46129486343229453,
          -0.40833102173104213,
          1.227531863543337,
          -0.37368070911341755,
          -0.45808425613661174,
          0.7934113176984202,
          -1.500505747410543,
          0.3307505779477316,
          0.5925706519046703,
          1.635234820387899,
          0.4765566163310391,
          -1.1996493035445714
         ],
         "yaxis": "y5"
        },
        {
         "histfunc": "count",
         "histnorm": "",
         "marker": {
          "color": "rgba(55, 128, 191, 1.0)",
          "line": {
           "color": "#4D5663",
           "width": 1.3
          }
         },
         "name": "B",
         "nbinsx": 10,
         "opacity": 0.8,
         "orientation": "v",
         "type": "histogram",
         "x": [
          0.14115223110497468,
          0.0064944644833475305,
          0.7422571167780311,
          1.0645093771659695,
          -0.3106905288382996,
          0.9105427572688288,
          0.6103120706936248,
          0.9859342503407027,
          -1.3935904672907908,
          0.5691387823512065,
          0.6619116415384811,
          1.6926025880928388,
          -0.6199815554999915,
          -0.08994976033741052,
          1.0750757711471672,
          0.9473855422854135,
          -0.9659146731795786,
          -0.8563163114136054,
          0.40461905434576567,
          -0.352421659367107,
          -0.17570731026437184,
          -0.9037477548119306,
          -0.02350852517774842,
          0.05092474675920466,
          1.043949946154262,
          -2.4490346466295554,
          0.33014417054208783,
          -2.2514329386378424,
          0.13653096809477527,
          0.27854119209137806,
          0.12084021939900245,
          -0.22910722021751045,
          0.8157967113919772,
          0.843764373253457,
          -0.1426121926871968,
          -0.5483486869724357,
          0.2608490671514323,
          -0.26372400914740446,
          0.8194095519733929,
          -0.270587376920324,
          -0.7737009584318266,
          -1.8472980629037679,
          -0.7082294452695416,
          0.41190023363389006,
          -0.05569757355731567,
          -0.8395179440475853,
          1.237960335845157,
          0.09429165095844295,
          0.8444303425008042,
          1.0941573273460798,
          0.5004607034246967,
          -1.2380236960978572,
          -0.5299553544779251,
          -2.401224423159397,
          -1.533248329403312,
          -0.17338990000742058,
          -1.303044209950965,
          0.15434110478985552,
          -0.014923617770171496,
          2.2196598208911857,
          -0.22823646275445944,
          -0.2495367783710828,
          -0.08131270339267661,
          1.9699500613792806,
          -1.188690274209095,
          0.8832334729754634,
          2.09273443955495,
          -1.0036519160375525,
          -0.7060680965281807,
          -0.23968689244003327,
          0.163276759185642,
          -0.686450971672635,
          -0.30631556602327387,
          -0.08707637532852806,
          -0.5228852910421682,
          -0.7172234514173806,
          -0.29517886902307716,
          -0.20458324362180894,
          -1.462710827625806,
          1.4670598502699281,
          0.8479039242641055,
          -1.9986453717747588,
          -0.6388634514624134,
          0.28169086802838134,
          -0.7770575057522737,
          0.04592948766882219,
          -1.0942302497431726,
          0.9789185809599306,
          -0.46129486343229453,
          -0.40833102173104213,
          1.227531863543337,
          -0.37368070911341755,
          -0.45808425613661174,
          0.7934113176984202,
          -1.500505747410543,
          0.3307505779477316,
          0.5925706519046703,
          1.635234820387899,
          0.4765566163310391,
          -1.1996493035445714
         ],
         "xaxis": "x6",
         "yaxis": "y6"
        },
        {
         "line": {
          "color": "rgba(128, 128, 128, 1.0)",
          "dash": "solid",
          "shape": "linear",
          "width": 1.3
         },
         "marker": {
          "size": 2,
          "symbol": "circle"
         },
         "mode": "markers",
         "name": "B",
         "text": "",
         "type": "scatter",
         "x": [
          0.2530917113271322,
          -0.9890104346964195,
          -0.39399061015526105,
          -0.806349443728782,
          1.0269292755252677,
          -0.5765171906888962,
          1.595271012716274,
          0.5963187126316164,
          -1.4502231149363887,
          -0.4112895787635489,
          1.8019109475952786,
          -0.0918095648497734,
          0.7627425581289289,
          -0.21914522192757702,
          -0.2926509630327127,
          -0.6971203406836002,
          -0.5468277875916475,
          -0.7331471279589682,
          0.7182673562773526,
          -1.1734544133177471,
          -1.474992929667637,
          0.8683397659408032,
          0.35905053100282663,
          0.2292625916257633,
          -0.6967589269149497,
          -0.48177822080743415,
          -0.9222113134634797,
          1.2461523735545468,
          1.5046599491507222,
          0.92261259229617,
          0.06195593412560095,
          1.3501517219540615,
          -0.1962592516509624,
          -1.5236450780327122,
          0.07013849426944149,
          -1.0175226875210754,
          -1.967895625772992,
          1.181703711464979,
          -0.5678600438042352,
          0.6595631355626677,
          -0.34433448425807334,
          -0.20307368400259568,
          -0.54553609386368,
          -1.6769241078819122,
          0.6757788510129932,
          0.8258212450642957,
          -0.350307561972649,
          1.2574260935280994,
          1.3359166977975272,
          -2.043068859179839,
          -0.519474178200342,
          0.20599050286675058,
          -1.651846473593329,
          0.31113593378343907,
          -0.49987751408599584,
          0.3888705685375426,
          -1.506532134549189,
          0.14568265358322754,
          0.6887695472572651,
          0.24988829811863322,
          -0.08825695195704542,
          0.5420044701977272,
          -0.849556723826802,
          -0.2921489315869297,
          0.5073892089994784,
          -0.3683131455091124,
          1.1933559825006401,
          0.01849527309794985,
          -0.8311877135581195,
          -0.903773590381288,
          -0.3148140662690922,
          1.964400161863338,
          -1.581092584064821,
          -0.07324715397940061,
          0.1485008590973546,
          0.9057581978437469,
          -0.618261773342376,
          0.6330497758753028,
          -0.13553713399477593,
          0.12943801352764087,
          0.9031247247539765,
          1.446838737665481,
          1.477826912335126,
          -1.1763939428341526,
          0.9995732717882453,
          -0.12423940048829445,
          -1.1013294246687177,
          -0.17903286619989758,
          -0.04605668442365374,
          1.89833634590754,
          0.038807438640817114,
          -0.8161127075991621,
          -0.9456418183483448,
          0.17419248814889204,
          0.1405198689364899,
          -2.1038438209599977,
          0.6808095514690816,
          -0.35020137419082026,
          -1.113547234381775,
          0.7984763692018992
         ],
         "xaxis": "x7",
         "y": [
          0.14115223110497468,
          0.0064944644833475305,
          0.7422571167780311,
          1.0645093771659695,
          -0.3106905288382996,
          0.9105427572688288,
          0.6103120706936248,
          0.9859342503407027,
          -1.3935904672907908,
          0.5691387823512065,
          0.6619116415384811,
          1.6926025880928388,
          -0.6199815554999915,
          -0.08994976033741052,
          1.0750757711471672,
          0.9473855422854135,
          -0.9659146731795786,
          -0.8563163114136054,
          0.40461905434576567,
          -0.352421659367107,
          -0.17570731026437184,
          -0.9037477548119306,
          -0.02350852517774842,
          0.05092474675920466,
          1.043949946154262,
          -2.4490346466295554,
          0.33014417054208783,
          -2.2514329386378424,
          0.13653096809477527,
          0.27854119209137806,
          0.12084021939900245,
          -0.22910722021751045,
          0.8157967113919772,
          0.843764373253457,
          -0.1426121926871968,
          -0.5483486869724357,
          0.2608490671514323,
          -0.26372400914740446,
          0.8194095519733929,
          -0.270587376920324,
          -0.7737009584318266,
          -1.8472980629037679,
          -0.7082294452695416,
          0.41190023363389006,
          -0.05569757355731567,
          -0.8395179440475853,
          1.237960335845157,
          0.09429165095844295,
          0.8444303425008042,
          1.0941573273460798,
          0.5004607034246967,
          -1.2380236960978572,
          -0.5299553544779251,
          -2.401224423159397,
          -1.533248329403312,
          -0.17338990000742058,
          -1.303044209950965,
          0.15434110478985552,
          -0.014923617770171496,
          2.2196598208911857,
          -0.22823646275445944,
          -0.2495367783710828,
          -0.08131270339267661,
          1.9699500613792806,
          -1.188690274209095,
          0.8832334729754634,
          2.09273443955495,
          -1.0036519160375525,
          -0.7060680965281807,
          -0.23968689244003327,
          0.163276759185642,
          -0.686450971672635,
          -0.30631556602327387,
          -0.08707637532852806,
          -0.5228852910421682,
          -0.7172234514173806,
          -0.29517886902307716,
          -0.20458324362180894,
          -1.462710827625806,
          1.4670598502699281,
          0.8479039242641055,
          -1.9986453717747588,
          -0.6388634514624134,
          0.28169086802838134,
          -0.7770575057522737,
          0.04592948766882219,
          -1.0942302497431726,
          0.9789185809599306,
          -0.46129486343229453,
          -0.40833102173104213,
          1.227531863543337,
          -0.37368070911341755,
          -0.45808425613661174,
          0.7934113176984202,
          -1.500505747410543,
          0.3307505779477316,
          0.5925706519046703,
          1.635234820387899,
          0.4765566163310391,
          -1.1996493035445714
         ],
         "yaxis": "y7"
        },
        {
         "line": {
          "color": "rgba(128, 128, 128, 1.0)",
          "dash": "solid",
          "shape": "linear",
          "width": 1.3
         },
         "marker": {
          "size": 2,
          "symbol": "circle"
         },
         "mode": "markers",
         "name": "B",
         "text": "",
         "type": "scatter",
         "x": [
          0.9135095511270055,
          0.8300768819790462,
          -0.32004306346453193,
          -0.6581296286650561,
          1.4836945505803925,
          1.0270586035577867,
          -0.9859497561904975,
          1.5701847583308441,
          1.0689501999873456,
          0.27469367698909647,
          0.802179541436546,
          0.28884337018785844,
          -0.7434532905448736,
          0.27274012450951335,
          -1.2859035819950417,
          1.4733751166997981,
          -1.448170024930766,
          0.6387142479829242,
          0.10544400953620241,
          -1.2102928294002335,
          -0.24276755640050543,
          -0.8963604076627338,
          0.22887388670666756,
          0.7055734686513757,
          -0.11357563100775599,
          0.9252196163749348,
          1.058228680287137,
          0.25047384372673487,
          1.1653344926210953,
          0.15865317944084573,
          1.3866504724146873,
          1.6689296985913067,
          -0.8134044689759502,
          0.6487187769518447,
          -0.8052091624301895,
          2.0326603507057137,
          0.1073820460355707,
          0.4071162529196392,
          -0.5750653685166855,
          -0.6315805871754341,
          0.5418712272596757,
          -1.1306708673810189,
          -1.118714709363381,
          -0.4401647702306003,
          -0.8061306367639891,
          -1.197345475413853,
          -1.0068972492704373,
          -0.17817852999860212,
          0.639369678595348,
          1.013703991356466,
          -0.23922158717259134,
          1.4633201945065708,
          1.3800134011897498,
          0.2247267573806439,
          0.49163132075695115,
          -0.10828728589737688,
          1.1069484290607003,
          -1.2288487448834053,
          0.1754650161188707,
          0.7507986272132572,
          -0.20081391988588704,
          -0.6226641921427002,
          -0.16735697752048215,
          -0.38524578546611754,
          -0.5355048393729672,
          -0.34164985540023096,
          -0.2774104723203889,
          -0.2584209934005529,
          -0.3814423922234519,
          0.3257577500486821,
          0.6434080629177568,
          0.66077107797274,
          0.3637986673716947,
          -0.09214981424928291,
          0.5276787296850053,
          -1.0338595767059349,
          -0.21097706924663143,
          0.8984944691691217,
          0.0820970582758034,
          0.11562641623887104,
          0.10032385906751383,
          -0.6503813578923999,
          -0.055876884880289614,
          -0.8571822962027709,
          0.615500073921127,
          -1.3194434776149946,
          2.0925297421943623,
          0.9410652730595865,
          -3.673307455724263,
          -0.1572986034633572,
          -0.47613933558282523,
          0.8539426335428666,
          -0.23704464026201616,
          0.6063597785257324,
          -0.6518794725049938,
          1.7049202285082419,
          -0.4059466352822378,
          -2.217238611239522,
          1.1045060637619017,
          0.13468126793607563
         ],
         "xaxis": "x8",
         "y": [
          0.14115223110497468,
          0.0064944644833475305,
          0.7422571167780311,
          1.0645093771659695,
          -0.3106905288382996,
          0.9105427572688288,
          0.6103120706936248,
          0.9859342503407027,
          -1.3935904672907908,
          0.5691387823512065,
          0.6619116415384811,
          1.6926025880928388,
          -0.6199815554999915,
          -0.08994976033741052,
          1.0750757711471672,
          0.9473855422854135,
          -0.9659146731795786,
          -0.8563163114136054,
          0.40461905434576567,
          -0.352421659367107,
          -0.17570731026437184,
          -0.9037477548119306,
          -0.02350852517774842,
          0.05092474675920466,
          1.043949946154262,
          -2.4490346466295554,
          0.33014417054208783,
          -2.2514329386378424,
          0.13653096809477527,
          0.27854119209137806,
          0.12084021939900245,
          -0.22910722021751045,
          0.8157967113919772,
          0.843764373253457,
          -0.1426121926871968,
          -0.5483486869724357,
          0.2608490671514323,
          -0.26372400914740446,
          0.8194095519733929,
          -0.270587376920324,
          -0.7737009584318266,
          -1.8472980629037679,
          -0.7082294452695416,
          0.41190023363389006,
          -0.05569757355731567,
          -0.8395179440475853,
          1.237960335845157,
          0.09429165095844295,
          0.8444303425008042,
          1.0941573273460798,
          0.5004607034246967,
          -1.2380236960978572,
          -0.5299553544779251,
          -2.401224423159397,
          -1.533248329403312,
          -0.17338990000742058,
          -1.303044209950965,
          0.15434110478985552,
          -0.014923617770171496,
          2.2196598208911857,
          -0.22823646275445944,
          -0.2495367783710828,
          -0.08131270339267661,
          1.9699500613792806,
          -1.188690274209095,
          0.8832334729754634,
          2.09273443955495,
          -1.0036519160375525,
          -0.7060680965281807,
          -0.23968689244003327,
          0.163276759185642,
          -0.686450971672635,
          -0.30631556602327387,
          -0.08707637532852806,
          -0.5228852910421682,
          -0.7172234514173806,
          -0.29517886902307716,
          -0.20458324362180894,
          -1.462710827625806,
          1.4670598502699281,
          0.8479039242641055,
          -1.9986453717747588,
          -0.6388634514624134,
          0.28169086802838134,
          -0.7770575057522737,
          0.04592948766882219,
          -1.0942302497431726,
          0.9789185809599306,
          -0.46129486343229453,
          -0.40833102173104213,
          1.227531863543337,
          -0.37368070911341755,
          -0.45808425613661174,
          0.7934113176984202,
          -1.500505747410543,
          0.3307505779477316,
          0.5925706519046703,
          1.635234820387899,
          0.4765566163310391,
          -1.1996493035445714
         ],
         "yaxis": "y8"
        },
        {
         "line": {
          "color": "rgba(128, 128, 128, 1.0)",
          "dash": "solid",
          "shape": "linear",
          "width": 1.3
         },
         "marker": {
          "size": 2,
          "symbol": "circle"
         },
         "mode": "markers",
         "name": "C",
         "text": "",
         "type": "scatter",
         "x": [
          -1.3344538032223674,
          -0.8924994259218787,
          0.26886804372886924,
          0.15768862475176948,
          -0.22119158008310583,
          0.4620509340031127,
          2.4335083818309733,
          0.6283138878570738,
          0.5916528935640983,
          -1.107880473845743,
          -0.9624677212340109,
          -2.0455267244571513,
          0.0909847865615543,
          0.3952627572504107,
          0.4419932489725158,
          -0.4226953551742026,
          0.06289069744869118,
          -0.7006193989648868,
          -1.083720431567451,
          -1.060865658791126,
          -0.09081056338239148,
          -0.9353209782547409,
          0.3589422148729274,
          -1.7868990461486924,
          -0.745064837314155,
          1.6890846798067614,
          -0.1583008202058165,
          -0.2393581360509466,
          -0.3591360207502799,
          0.08032986483476401,
          -1.0175142609752241,
          -1.5016700621947336,
          1.0074806858167047,
          0.6986590715947596,
          -2.588343670560577,
          1.6081822850576204,
          -0.22914040070541067,
          -0.5293183734964289,
          0.08222597405486373,
          -1.4699631892936766,
          -1.7930767125550209,
          -0.8790112806279785,
          -1.169373718837128,
          0.1384087066882726,
          -1.0214761584041196,
          -0.04441846576227683,
          0.39667629555448003,
          0.20222543201121596,
          -1.2020756242009765,
          -1.0165590854073892,
          0.46592468153875083,
          0.31916647378233987,
          -1.7589705686927102,
          -0.19469290293284697,
          -0.017517836703771206,
          -1.0825926071297598,
          0.8868635912852298,
          1.5313879689211365,
          -0.8832920419908965,
          1.0771696646288276,
          0.4214819723313268,
          0.512096106061291,
          -0.5765759849025575,
          0.11538594660067654,
          -1.1688312935731027,
          0.6842055251828377,
          0.22219602704027291,
          -0.5744307101478267,
          0.6367232205179054,
          0.6191256148390696,
          1.8834084468543921,
          -0.019136677575396017,
          -1.1087586253663548,
          -0.09033572122028868,
          1.4938373325772583,
          -0.4050399181262893,
          -1.7460005036504043,
          -0.874792619992864,
          1.3994180541184202,
          0.799905796022181,
          1.274938101349231,
          0.2394547792737676,
          -1.577915260135125,
          0.1213707929995456,
          0.13672512118700048,
          -0.6331153406325125,
          0.8242219198301328,
          0.11707874435192542,
          0.7436012566066985,
          -1.6258384419836545,
          -0.03584548827872644,
          0.08944783921389679,
          0.578477924074061,
          0.7299558400202367,
          0.08093456386569041,
          -0.2981280006647906,
          0.7196159948359657,
          -0.9887151828728751,
          -1.2858827698631239,
          -0.6567521716175984
         ],
         "xaxis": "x9",
         "y": [
          0.2530917113271322,
          -0.9890104346964195,
          -0.39399061015526105,
          -0.806349443728782,
          1.0269292755252677,
          -0.5765171906888962,
          1.595271012716274,
          0.5963187126316164,
          -1.4502231149363887,
          -0.4112895787635489,
          1.8019109475952786,
          -0.0918095648497734,
          0.7627425581289289,
          -0.21914522192757702,
          -0.2926509630327127,
          -0.6971203406836002,
          -0.5468277875916475,
          -0.7331471279589682,
          0.7182673562773526,
          -1.1734544133177471,
          -1.474992929667637,
          0.8683397659408032,
          0.35905053100282663,
          0.2292625916257633,
          -0.6967589269149497,
          -0.48177822080743415,
          -0.9222113134634797,
          1.2461523735545468,
          1.5046599491507222,
          0.92261259229617,
          0.06195593412560095,
          1.3501517219540615,
          -0.1962592516509624,
          -1.5236450780327122,
          0.07013849426944149,
          -1.0175226875210754,
          -1.967895625772992,
          1.181703711464979,
          -0.5678600438042352,
          0.6595631355626677,
          -0.34433448425807334,
          -0.20307368400259568,
          -0.54553609386368,
          -1.6769241078819122,
          0.6757788510129932,
          0.8258212450642957,
          -0.350307561972649,
          1.2574260935280994,
          1.3359166977975272,
          -2.043068859179839,
          -0.519474178200342,
          0.20599050286675058,
          -1.651846473593329,
          0.31113593378343907,
          -0.49987751408599584,
          0.3888705685375426,
          -1.506532134549189,
          0.14568265358322754,
          0.6887695472572651,
          0.24988829811863322,
          -0.08825695195704542,
          0.5420044701977272,
          -0.849556723826802,
          -0.2921489315869297,
          0.5073892089994784,
          -0.3683131455091124,
          1.1933559825006401,
          0.01849527309794985,
          -0.8311877135581195,
          -0.903773590381288,
          -0.3148140662690922,
          1.964400161863338,
          -1.581092584064821,
          -0.07324715397940061,
          0.1485008590973546,
          0.9057581978437469,
          -0.618261773342376,
          0.6330497758753028,
          -0.13553713399477593,
          0.12943801352764087,
          0.9031247247539765,
          1.446838737665481,
          1.477826912335126,
          -1.1763939428341526,
          0.9995732717882453,
          -0.12423940048829445,
          -1.1013294246687177,
          -0.17903286619989758,
          -0.04605668442365374,
          1.89833634590754,
          0.038807438640817114,
          -0.8161127075991621,
          -0.9456418183483448,
          0.17419248814889204,
          0.1405198689364899,
          -2.1038438209599977,
          0.6808095514690816,
          -0.35020137419082026,
          -1.113547234381775,
          0.7984763692018992
         ],
         "yaxis": "y9"
        },
        {
         "line": {
          "color": "rgba(128, 128, 128, 1.0)",
          "dash": "solid",
          "shape": "linear",
          "width": 1.3
         },
         "marker": {
          "size": 2,
          "symbol": "circle"
         },
         "mode": "markers",
         "name": "C",
         "text": "",
         "type": "scatter",
         "x": [
          0.14115223110497468,
          0.0064944644833475305,
          0.7422571167780311,
          1.0645093771659695,
          -0.3106905288382996,
          0.9105427572688288,
          0.6103120706936248,
          0.9859342503407027,
          -1.3935904672907908,
          0.5691387823512065,
          0.6619116415384811,
          1.6926025880928388,
          -0.6199815554999915,
          -0.08994976033741052,
          1.0750757711471672,
          0.9473855422854135,
          -0.9659146731795786,
          -0.8563163114136054,
          0.40461905434576567,
          -0.352421659367107,
          -0.17570731026437184,
          -0.9037477548119306,
          -0.02350852517774842,
          0.05092474675920466,
          1.043949946154262,
          -2.4490346466295554,
          0.33014417054208783,
          -2.2514329386378424,
          0.13653096809477527,
          0.27854119209137806,
          0.12084021939900245,
          -0.22910722021751045,
          0.8157967113919772,
          0.843764373253457,
          -0.1426121926871968,
          -0.5483486869724357,
          0.2608490671514323,
          -0.26372400914740446,
          0.8194095519733929,
          -0.270587376920324,
          -0.7737009584318266,
          -1.8472980629037679,
          -0.7082294452695416,
          0.41190023363389006,
          -0.05569757355731567,
          -0.8395179440475853,
          1.237960335845157,
          0.09429165095844295,
          0.8444303425008042,
          1.0941573273460798,
          0.5004607034246967,
          -1.2380236960978572,
          -0.5299553544779251,
          -2.401224423159397,
          -1.533248329403312,
          -0.17338990000742058,
          -1.303044209950965,
          0.15434110478985552,
          -0.014923617770171496,
          2.2196598208911857,
          -0.22823646275445944,
          -0.2495367783710828,
          -0.08131270339267661,
          1.9699500613792806,
          -1.188690274209095,
          0.8832334729754634,
          2.09273443955495,
          -1.0036519160375525,
          -0.7060680965281807,
          -0.23968689244003327,
          0.163276759185642,
          -0.686450971672635,
          -0.30631556602327387,
          -0.08707637532852806,
          -0.5228852910421682,
          -0.7172234514173806,
          -0.29517886902307716,
          -0.20458324362180894,
          -1.462710827625806,
          1.4670598502699281,
          0.8479039242641055,
          -1.9986453717747588,
          -0.6388634514624134,
          0.28169086802838134,
          -0.7770575057522737,
          0.04592948766882219,
          -1.0942302497431726,
          0.9789185809599306,
          -0.46129486343229453,
          -0.40833102173104213,
          1.227531863543337,
          -0.37368070911341755,
          -0.45808425613661174,
          0.7934113176984202,
          -1.500505747410543,
          0.3307505779477316,
          0.5925706519046703,
          1.635234820387899,
          0.4765566163310391,
          -1.1996493035445714
         ],
         "xaxis": "x10",
         "y": [
          0.2530917113271322,
          -0.9890104346964195,
          -0.39399061015526105,
          -0.806349443728782,
          1.0269292755252677,
          -0.5765171906888962,
          1.595271012716274,
          0.5963187126316164,
          -1.4502231149363887,
          -0.4112895787635489,
          1.8019109475952786,
          -0.0918095648497734,
          0.7627425581289289,
          -0.21914522192757702,
          -0.2926509630327127,
          -0.6971203406836002,
          -0.5468277875916475,
          -0.7331471279589682,
          0.7182673562773526,
          -1.1734544133177471,
          -1.474992929667637,
          0.8683397659408032,
          0.35905053100282663,
          0.2292625916257633,
          -0.6967589269149497,
          -0.48177822080743415,
          -0.9222113134634797,
          1.2461523735545468,
          1.5046599491507222,
          0.92261259229617,
          0.06195593412560095,
          1.3501517219540615,
          -0.1962592516509624,
          -1.5236450780327122,
          0.07013849426944149,
          -1.0175226875210754,
          -1.967895625772992,
          1.181703711464979,
          -0.5678600438042352,
          0.6595631355626677,
          -0.34433448425807334,
          -0.20307368400259568,
          -0.54553609386368,
          -1.6769241078819122,
          0.6757788510129932,
          0.8258212450642957,
          -0.350307561972649,
          1.2574260935280994,
          1.3359166977975272,
          -2.043068859179839,
          -0.519474178200342,
          0.20599050286675058,
          -1.651846473593329,
          0.31113593378343907,
          -0.49987751408599584,
          0.3888705685375426,
          -1.506532134549189,
          0.14568265358322754,
          0.6887695472572651,
          0.24988829811863322,
          -0.08825695195704542,
          0.5420044701977272,
          -0.849556723826802,
          -0.2921489315869297,
          0.5073892089994784,
          -0.3683131455091124,
          1.1933559825006401,
          0.01849527309794985,
          -0.8311877135581195,
          -0.903773590381288,
          -0.3148140662690922,
          1.964400161863338,
          -1.581092584064821,
          -0.07324715397940061,
          0.1485008590973546,
          0.9057581978437469,
          -0.618261773342376,
          0.6330497758753028,
          -0.13553713399477593,
          0.12943801352764087,
          0.9031247247539765,
          1.446838737665481,
          1.477826912335126,
          -1.1763939428341526,
          0.9995732717882453,
          -0.12423940048829445,
          -1.1013294246687177,
          -0.17903286619989758,
          -0.04605668442365374,
          1.89833634590754,
          0.038807438640817114,
          -0.8161127075991621,
          -0.9456418183483448,
          0.17419248814889204,
          0.1405198689364899,
          -2.1038438209599977,
          0.6808095514690816,
          -0.35020137419082026,
          -1.113547234381775,
          0.7984763692018992
         ],
         "yaxis": "y10"
        },
        {
         "histfunc": "count",
         "histnorm": "",
         "marker": {
          "color": "rgba(50, 171, 96, 1.0)",
          "line": {
           "color": "#4D5663",
           "width": 1.3
          }
         },
         "name": "C",
         "nbinsx": 10,
         "opacity": 0.8,
         "orientation": "v",
         "type": "histogram",
         "x": [
          0.2530917113271322,
          -0.9890104346964195,
          -0.39399061015526105,
          -0.806349443728782,
          1.0269292755252677,
          -0.5765171906888962,
          1.595271012716274,
          0.5963187126316164,
          -1.4502231149363887,
          -0.4112895787635489,
          1.8019109475952786,
          -0.0918095648497734,
          0.7627425581289289,
          -0.21914522192757702,
          -0.2926509630327127,
          -0.6971203406836002,
          -0.5468277875916475,
          -0.7331471279589682,
          0.7182673562773526,
          -1.1734544133177471,
          -1.474992929667637,
          0.8683397659408032,
          0.35905053100282663,
          0.2292625916257633,
          -0.6967589269149497,
          -0.48177822080743415,
          -0.9222113134634797,
          1.2461523735545468,
          1.5046599491507222,
          0.92261259229617,
          0.06195593412560095,
          1.3501517219540615,
          -0.1962592516509624,
          -1.5236450780327122,
          0.07013849426944149,
          -1.0175226875210754,
          -1.967895625772992,
          1.181703711464979,
          -0.5678600438042352,
          0.6595631355626677,
          -0.34433448425807334,
          -0.20307368400259568,
          -0.54553609386368,
          -1.6769241078819122,
          0.6757788510129932,
          0.8258212450642957,
          -0.350307561972649,
          1.2574260935280994,
          1.3359166977975272,
          -2.043068859179839,
          -0.519474178200342,
          0.20599050286675058,
          -1.651846473593329,
          0.31113593378343907,
          -0.49987751408599584,
          0.3888705685375426,
          -1.506532134549189,
          0.14568265358322754,
          0.6887695472572651,
          0.24988829811863322,
          -0.08825695195704542,
          0.5420044701977272,
          -0.849556723826802,
          -0.2921489315869297,
          0.5073892089994784,
          -0.3683131455091124,
          1.1933559825006401,
          0.01849527309794985,
          -0.8311877135581195,
          -0.903773590381288,
          -0.3148140662690922,
          1.964400161863338,
          -1.581092584064821,
          -0.07324715397940061,
          0.1485008590973546,
          0.9057581978437469,
          -0.618261773342376,
          0.6330497758753028,
          -0.13553713399477593,
          0.12943801352764087,
          0.9031247247539765,
          1.446838737665481,
          1.477826912335126,
          -1.1763939428341526,
          0.9995732717882453,
          -0.12423940048829445,
          -1.1013294246687177,
          -0.17903286619989758,
          -0.04605668442365374,
          1.89833634590754,
          0.038807438640817114,
          -0.8161127075991621,
          -0.9456418183483448,
          0.17419248814889204,
          0.1405198689364899,
          -2.1038438209599977,
          0.6808095514690816,
          -0.35020137419082026,
          -1.113547234381775,
          0.7984763692018992
         ],
         "xaxis": "x11",
         "yaxis": "y11"
        },
        {
         "line": {
          "color": "rgba(128, 128, 128, 1.0)",
          "dash": "solid",
          "shape": "linear",
          "width": 1.3
         },
         "marker": {
          "size": 2,
          "symbol": "circle"
         },
         "mode": "markers",
         "name": "C",
         "text": "",
         "type": "scatter",
         "x": [
          0.9135095511270055,
          0.8300768819790462,
          -0.32004306346453193,
          -0.6581296286650561,
          1.4836945505803925,
          1.0270586035577867,
          -0.9859497561904975,
          1.5701847583308441,
          1.0689501999873456,
          0.27469367698909647,
          0.802179541436546,
          0.28884337018785844,
          -0.7434532905448736,
          0.27274012450951335,
          -1.2859035819950417,
          1.4733751166997981,
          -1.448170024930766,
          0.6387142479829242,
          0.10544400953620241,
          -1.2102928294002335,
          -0.24276755640050543,
          -0.8963604076627338,
          0.22887388670666756,
          0.7055734686513757,
          -0.11357563100775599,
          0.9252196163749348,
          1.058228680287137,
          0.25047384372673487,
          1.1653344926210953,
          0.15865317944084573,
          1.3866504724146873,
          1.6689296985913067,
          -0.8134044689759502,
          0.6487187769518447,
          -0.8052091624301895,
          2.0326603507057137,
          0.1073820460355707,
          0.4071162529196392,
          -0.5750653685166855,
          -0.6315805871754341,
          0.5418712272596757,
          -1.1306708673810189,
          -1.118714709363381,
          -0.4401647702306003,
          -0.8061306367639891,
          -1.197345475413853,
          -1.0068972492704373,
          -0.17817852999860212,
          0.639369678595348,
          1.013703991356466,
          -0.23922158717259134,
          1.4633201945065708,
          1.3800134011897498,
          0.2247267573806439,
          0.49163132075695115,
          -0.10828728589737688,
          1.1069484290607003,
          -1.2288487448834053,
          0.1754650161188707,
          0.7507986272132572,
          -0.20081391988588704,
          -0.6226641921427002,
          -0.16735697752048215,
          -0.38524578546611754,
          -0.5355048393729672,
          -0.34164985540023096,
          -0.2774104723203889,
          -0.2584209934005529,
          -0.3814423922234519,
          0.3257577500486821,
          0.6434080629177568,
          0.66077107797274,
          0.3637986673716947,
          -0.09214981424928291,
          0.5276787296850053,
          -1.0338595767059349,
          -0.21097706924663143,
          0.8984944691691217,
          0.0820970582758034,
          0.11562641623887104,
          0.10032385906751383,
          -0.6503813578923999,
          -0.055876884880289614,
          -0.8571822962027709,
          0.615500073921127,
          -1.3194434776149946,
          2.0925297421943623,
          0.9410652730595865,
          -3.673307455724263,
          -0.1572986034633572,
          -0.47613933558282523,
          0.8539426335428666,
          -0.23704464026201616,
          0.6063597785257324,
          -0.6518794725049938,
          1.7049202285082419,
          -0.4059466352822378,
          -2.217238611239522,
          1.1045060637619017,
          0.13468126793607563
         ],
         "xaxis": "x12",
         "y": [
          0.2530917113271322,
          -0.9890104346964195,
          -0.39399061015526105,
          -0.806349443728782,
          1.0269292755252677,
          -0.5765171906888962,
          1.595271012716274,
          0.5963187126316164,
          -1.4502231149363887,
          -0.4112895787635489,
          1.8019109475952786,
          -0.0918095648497734,
          0.7627425581289289,
          -0.21914522192757702,
          -0.2926509630327127,
          -0.6971203406836002,
          -0.5468277875916475,
          -0.7331471279589682,
          0.7182673562773526,
          -1.1734544133177471,
          -1.474992929667637,
          0.8683397659408032,
          0.35905053100282663,
          0.2292625916257633,
          -0.6967589269149497,
          -0.48177822080743415,
          -0.9222113134634797,
          1.2461523735545468,
          1.5046599491507222,
          0.92261259229617,
          0.06195593412560095,
          1.3501517219540615,
          -0.1962592516509624,
          -1.5236450780327122,
          0.07013849426944149,
          -1.0175226875210754,
          -1.967895625772992,
          1.181703711464979,
          -0.5678600438042352,
          0.6595631355626677,
          -0.34433448425807334,
          -0.20307368400259568,
          -0.54553609386368,
          -1.6769241078819122,
          0.6757788510129932,
          0.8258212450642957,
          -0.350307561972649,
          1.2574260935280994,
          1.3359166977975272,
          -2.043068859179839,
          -0.519474178200342,
          0.20599050286675058,
          -1.651846473593329,
          0.31113593378343907,
          -0.49987751408599584,
          0.3888705685375426,
          -1.506532134549189,
          0.14568265358322754,
          0.6887695472572651,
          0.24988829811863322,
          -0.08825695195704542,
          0.5420044701977272,
          -0.849556723826802,
          -0.2921489315869297,
          0.5073892089994784,
          -0.3683131455091124,
          1.1933559825006401,
          0.01849527309794985,
          -0.8311877135581195,
          -0.903773590381288,
          -0.3148140662690922,
          1.964400161863338,
          -1.581092584064821,
          -0.07324715397940061,
          0.1485008590973546,
          0.9057581978437469,
          -0.618261773342376,
          0.6330497758753028,
          -0.13553713399477593,
          0.12943801352764087,
          0.9031247247539765,
          1.446838737665481,
          1.477826912335126,
          -1.1763939428341526,
          0.9995732717882453,
          -0.12423940048829445,
          -1.1013294246687177,
          -0.17903286619989758,
          -0.04605668442365374,
          1.89833634590754,
          0.038807438640817114,
          -0.8161127075991621,
          -0.9456418183483448,
          0.17419248814889204,
          0.1405198689364899,
          -2.1038438209599977,
          0.6808095514690816,
          -0.35020137419082026,
          -1.113547234381775,
          0.7984763692018992
         ],
         "yaxis": "y12"
        },
        {
         "line": {
          "color": "rgba(128, 128, 128, 1.0)",
          "dash": "solid",
          "shape": "linear",
          "width": 1.3
         },
         "marker": {
          "size": 2,
          "symbol": "circle"
         },
         "mode": "markers",
         "name": "D",
         "text": "",
         "type": "scatter",
         "x": [
          -1.3344538032223674,
          -0.8924994259218787,
          0.26886804372886924,
          0.15768862475176948,
          -0.22119158008310583,
          0.4620509340031127,
          2.4335083818309733,
          0.6283138878570738,
          0.5916528935640983,
          -1.107880473845743,
          -0.9624677212340109,
          -2.0455267244571513,
          0.0909847865615543,
          0.3952627572504107,
          0.4419932489725158,
          -0.4226953551742026,
          0.06289069744869118,
          -0.7006193989648868,
          -1.083720431567451,
          -1.060865658791126,
          -0.09081056338239148,
          -0.9353209782547409,
          0.3589422148729274,
          -1.7868990461486924,
          -0.745064837314155,
          1.6890846798067614,
          -0.1583008202058165,
          -0.2393581360509466,
          -0.3591360207502799,
          0.08032986483476401,
          -1.0175142609752241,
          -1.5016700621947336,
          1.0074806858167047,
          0.6986590715947596,
          -2.588343670560577,
          1.6081822850576204,
          -0.22914040070541067,
          -0.5293183734964289,
          0.08222597405486373,
          -1.4699631892936766,
          -1.7930767125550209,
          -0.8790112806279785,
          -1.169373718837128,
          0.1384087066882726,
          -1.0214761584041196,
          -0.04441846576227683,
          0.39667629555448003,
          0.20222543201121596,
          -1.2020756242009765,
          -1.0165590854073892,
          0.46592468153875083,
          0.31916647378233987,
          -1.7589705686927102,
          -0.19469290293284697,
          -0.017517836703771206,
          -1.0825926071297598,
          0.8868635912852298,
          1.5313879689211365,
          -0.8832920419908965,
          1.0771696646288276,
          0.4214819723313268,
          0.512096106061291,
          -0.5765759849025575,
          0.11538594660067654,
          -1.1688312935731027,
          0.6842055251828377,
          0.22219602704027291,
          -0.5744307101478267,
          0.6367232205179054,
          0.6191256148390696,
          1.8834084468543921,
          -0.019136677575396017,
          -1.1087586253663548,
          -0.09033572122028868,
          1.4938373325772583,
          -0.4050399181262893,
          -1.7460005036504043,
          -0.874792619992864,
          1.3994180541184202,
          0.799905796022181,
          1.274938101349231,
          0.2394547792737676,
          -1.577915260135125,
          0.1213707929995456,
          0.13672512118700048,
          -0.6331153406325125,
          0.8242219198301328,
          0.11707874435192542,
          0.7436012566066985,
          -1.6258384419836545,
          -0.03584548827872644,
          0.08944783921389679,
          0.578477924074061,
          0.7299558400202367,
          0.08093456386569041,
          -0.2981280006647906,
          0.7196159948359657,
          -0.9887151828728751,
          -1.2858827698631239,
          -0.6567521716175984
         ],
         "xaxis": "x13",
         "y": [
          0.9135095511270055,
          0.8300768819790462,
          -0.32004306346453193,
          -0.6581296286650561,
          1.4836945505803925,
          1.0270586035577867,
          -0.9859497561904975,
          1.5701847583308441,
          1.0689501999873456,
          0.27469367698909647,
          0.802179541436546,
          0.28884337018785844,
          -0.7434532905448736,
          0.27274012450951335,
          -1.2859035819950417,
          1.4733751166997981,
          -1.448170024930766,
          0.6387142479829242,
          0.10544400953620241,
          -1.2102928294002335,
          -0.24276755640050543,
          -0.8963604076627338,
          0.22887388670666756,
          0.7055734686513757,
          -0.11357563100775599,
          0.9252196163749348,
          1.058228680287137,
          0.25047384372673487,
          1.1653344926210953,
          0.15865317944084573,
          1.3866504724146873,
          1.6689296985913067,
          -0.8134044689759502,
          0.6487187769518447,
          -0.8052091624301895,
          2.0326603507057137,
          0.1073820460355707,
          0.4071162529196392,
          -0.5750653685166855,
          -0.6315805871754341,
          0.5418712272596757,
          -1.1306708673810189,
          -1.118714709363381,
          -0.4401647702306003,
          -0.8061306367639891,
          -1.197345475413853,
          -1.0068972492704373,
          -0.17817852999860212,
          0.639369678595348,
          1.013703991356466,
          -0.23922158717259134,
          1.4633201945065708,
          1.3800134011897498,
          0.2247267573806439,
          0.49163132075695115,
          -0.10828728589737688,
          1.1069484290607003,
          -1.2288487448834053,
          0.1754650161188707,
          0.7507986272132572,
          -0.20081391988588704,
          -0.6226641921427002,
          -0.16735697752048215,
          -0.38524578546611754,
          -0.5355048393729672,
          -0.34164985540023096,
          -0.2774104723203889,
          -0.2584209934005529,
          -0.3814423922234519,
          0.3257577500486821,
          0.6434080629177568,
          0.66077107797274,
          0.3637986673716947,
          -0.09214981424928291,
          0.5276787296850053,
          -1.0338595767059349,
          -0.21097706924663143,
          0.8984944691691217,
          0.0820970582758034,
          0.11562641623887104,
          0.10032385906751383,
          -0.6503813578923999,
          -0.055876884880289614,
          -0.8571822962027709,
          0.615500073921127,
          -1.3194434776149946,
          2.0925297421943623,
          0.9410652730595865,
          -3.673307455724263,
          -0.1572986034633572,
          -0.47613933558282523,
          0.8539426335428666,
          -0.23704464026201616,
          0.6063597785257324,
          -0.6518794725049938,
          1.7049202285082419,
          -0.4059466352822378,
          -2.217238611239522,
          1.1045060637619017,
          0.13468126793607563
         ],
         "yaxis": "y13"
        },
        {
         "line": {
          "color": "rgba(128, 128, 128, 1.0)",
          "dash": "solid",
          "shape": "linear",
          "width": 1.3
         },
         "marker": {
          "size": 2,
          "symbol": "circle"
         },
         "mode": "markers",
         "name": "D",
         "text": "",
         "type": "scatter",
         "x": [
          0.14115223110497468,
          0.0064944644833475305,
          0.7422571167780311,
          1.0645093771659695,
          -0.3106905288382996,
          0.9105427572688288,
          0.6103120706936248,
          0.9859342503407027,
          -1.3935904672907908,
          0.5691387823512065,
          0.6619116415384811,
          1.6926025880928388,
          -0.6199815554999915,
          -0.08994976033741052,
          1.0750757711471672,
          0.9473855422854135,
          -0.9659146731795786,
          -0.8563163114136054,
          0.40461905434576567,
          -0.352421659367107,
          -0.17570731026437184,
          -0.9037477548119306,
          -0.02350852517774842,
          0.05092474675920466,
          1.043949946154262,
          -2.4490346466295554,
          0.33014417054208783,
          -2.2514329386378424,
          0.13653096809477527,
          0.27854119209137806,
          0.12084021939900245,
          -0.22910722021751045,
          0.8157967113919772,
          0.843764373253457,
          -0.1426121926871968,
          -0.5483486869724357,
          0.2608490671514323,
          -0.26372400914740446,
          0.8194095519733929,
          -0.270587376920324,
          -0.7737009584318266,
          -1.8472980629037679,
          -0.7082294452695416,
          0.41190023363389006,
          -0.05569757355731567,
          -0.8395179440475853,
          1.237960335845157,
          0.09429165095844295,
          0.8444303425008042,
          1.0941573273460798,
          0.5004607034246967,
          -1.2380236960978572,
          -0.5299553544779251,
          -2.401224423159397,
          -1.533248329403312,
          -0.17338990000742058,
          -1.303044209950965,
          0.15434110478985552,
          -0.014923617770171496,
          2.2196598208911857,
          -0.22823646275445944,
          -0.2495367783710828,
          -0.08131270339267661,
          1.9699500613792806,
          -1.188690274209095,
          0.8832334729754634,
          2.09273443955495,
          -1.0036519160375525,
          -0.7060680965281807,
          -0.23968689244003327,
          0.163276759185642,
          -0.686450971672635,
          -0.30631556602327387,
          -0.08707637532852806,
          -0.5228852910421682,
          -0.7172234514173806,
          -0.29517886902307716,
          -0.20458324362180894,
          -1.462710827625806,
          1.4670598502699281,
          0.8479039242641055,
          -1.9986453717747588,
          -0.6388634514624134,
          0.28169086802838134,
          -0.7770575057522737,
          0.04592948766882219,
          -1.0942302497431726,
          0.9789185809599306,
          -0.46129486343229453,
          -0.40833102173104213,
          1.227531863543337,
          -0.37368070911341755,
          -0.45808425613661174,
          0.7934113176984202,
          -1.500505747410543,
          0.3307505779477316,
          0.5925706519046703,
          1.635234820387899,
          0.4765566163310391,
          -1.1996493035445714
         ],
         "xaxis": "x14",
         "y": [
          0.9135095511270055,
          0.8300768819790462,
          -0.32004306346453193,
          -0.6581296286650561,
          1.4836945505803925,
          1.0270586035577867,
          -0.9859497561904975,
          1.5701847583308441,
          1.0689501999873456,
          0.27469367698909647,
          0.802179541436546,
          0.28884337018785844,
          -0.7434532905448736,
          0.27274012450951335,
          -1.2859035819950417,
          1.4733751166997981,
          -1.448170024930766,
          0.6387142479829242,
          0.10544400953620241,
          -1.2102928294002335,
          -0.24276755640050543,
          -0.8963604076627338,
          0.22887388670666756,
          0.7055734686513757,
          -0.11357563100775599,
          0.9252196163749348,
          1.058228680287137,
          0.25047384372673487,
          1.1653344926210953,
          0.15865317944084573,
          1.3866504724146873,
          1.6689296985913067,
          -0.8134044689759502,
          0.6487187769518447,
          -0.8052091624301895,
          2.0326603507057137,
          0.1073820460355707,
          0.4071162529196392,
          -0.5750653685166855,
          -0.6315805871754341,
          0.5418712272596757,
          -1.1306708673810189,
          -1.118714709363381,
          -0.4401647702306003,
          -0.8061306367639891,
          -1.197345475413853,
          -1.0068972492704373,
          -0.17817852999860212,
          0.639369678595348,
          1.013703991356466,
          -0.23922158717259134,
          1.4633201945065708,
          1.3800134011897498,
          0.2247267573806439,
          0.49163132075695115,
          -0.10828728589737688,
          1.1069484290607003,
          -1.2288487448834053,
          0.1754650161188707,
          0.7507986272132572,
          -0.20081391988588704,
          -0.6226641921427002,
          -0.16735697752048215,
          -0.38524578546611754,
          -0.5355048393729672,
          -0.34164985540023096,
          -0.2774104723203889,
          -0.2584209934005529,
          -0.3814423922234519,
          0.3257577500486821,
          0.6434080629177568,
          0.66077107797274,
          0.3637986673716947,
          -0.09214981424928291,
          0.5276787296850053,
          -1.0338595767059349,
          -0.21097706924663143,
          0.8984944691691217,
          0.0820970582758034,
          0.11562641623887104,
          0.10032385906751383,
          -0.6503813578923999,
          -0.055876884880289614,
          -0.8571822962027709,
          0.615500073921127,
          -1.3194434776149946,
          2.0925297421943623,
          0.9410652730595865,
          -3.673307455724263,
          -0.1572986034633572,
          -0.47613933558282523,
          0.8539426335428666,
          -0.23704464026201616,
          0.6063597785257324,
          -0.6518794725049938,
          1.7049202285082419,
          -0.4059466352822378,
          -2.217238611239522,
          1.1045060637619017,
          0.13468126793607563
         ],
         "yaxis": "y14"
        },
        {
         "line": {
          "color": "rgba(128, 128, 128, 1.0)",
          "dash": "solid",
          "shape": "linear",
          "width": 1.3
         },
         "marker": {
          "size": 2,
          "symbol": "circle"
         },
         "mode": "markers",
         "name": "D",
         "text": "",
         "type": "scatter",
         "x": [
          0.2530917113271322,
          -0.9890104346964195,
          -0.39399061015526105,
          -0.806349443728782,
          1.0269292755252677,
          -0.5765171906888962,
          1.595271012716274,
          0.5963187126316164,
          -1.4502231149363887,
          -0.4112895787635489,
          1.8019109475952786,
          -0.0918095648497734,
          0.7627425581289289,
          -0.21914522192757702,
          -0.2926509630327127,
          -0.6971203406836002,
          -0.5468277875916475,
          -0.7331471279589682,
          0.7182673562773526,
          -1.1734544133177471,
          -1.474992929667637,
          0.8683397659408032,
          0.35905053100282663,
          0.2292625916257633,
          -0.6967589269149497,
          -0.48177822080743415,
          -0.9222113134634797,
          1.2461523735545468,
          1.5046599491507222,
          0.92261259229617,
          0.06195593412560095,
          1.3501517219540615,
          -0.1962592516509624,
          -1.5236450780327122,
          0.07013849426944149,
          -1.0175226875210754,
          -1.967895625772992,
          1.181703711464979,
          -0.5678600438042352,
          0.6595631355626677,
          -0.34433448425807334,
          -0.20307368400259568,
          -0.54553609386368,
          -1.6769241078819122,
          0.6757788510129932,
          0.8258212450642957,
          -0.350307561972649,
          1.2574260935280994,
          1.3359166977975272,
          -2.043068859179839,
          -0.519474178200342,
          0.20599050286675058,
          -1.651846473593329,
          0.31113593378343907,
          -0.49987751408599584,
          0.3888705685375426,
          -1.506532134549189,
          0.14568265358322754,
          0.6887695472572651,
          0.24988829811863322,
          -0.08825695195704542,
          0.5420044701977272,
          -0.849556723826802,
          -0.2921489315869297,
          0.5073892089994784,
          -0.3683131455091124,
          1.1933559825006401,
          0.01849527309794985,
          -0.8311877135581195,
          -0.903773590381288,
          -0.3148140662690922,
          1.964400161863338,
          -1.581092584064821,
          -0.07324715397940061,
          0.1485008590973546,
          0.9057581978437469,
          -0.618261773342376,
          0.6330497758753028,
          -0.13553713399477593,
          0.12943801352764087,
          0.9031247247539765,
          1.446838737665481,
          1.477826912335126,
          -1.1763939428341526,
          0.9995732717882453,
          -0.12423940048829445,
          -1.1013294246687177,
          -0.17903286619989758,
          -0.04605668442365374,
          1.89833634590754,
          0.038807438640817114,
          -0.8161127075991621,
          -0.9456418183483448,
          0.17419248814889204,
          0.1405198689364899,
          -2.1038438209599977,
          0.6808095514690816,
          -0.35020137419082026,
          -1.113547234381775,
          0.7984763692018992
         ],
         "xaxis": "x15",
         "y": [
          0.9135095511270055,
          0.8300768819790462,
          -0.32004306346453193,
          -0.6581296286650561,
          1.4836945505803925,
          1.0270586035577867,
          -0.9859497561904975,
          1.5701847583308441,
          1.0689501999873456,
          0.27469367698909647,
          0.802179541436546,
          0.28884337018785844,
          -0.7434532905448736,
          0.27274012450951335,
          -1.2859035819950417,
          1.4733751166997981,
          -1.448170024930766,
          0.6387142479829242,
          0.10544400953620241,
          -1.2102928294002335,
          -0.24276755640050543,
          -0.8963604076627338,
          0.22887388670666756,
          0.7055734686513757,
          -0.11357563100775599,
          0.9252196163749348,
          1.058228680287137,
          0.25047384372673487,
          1.1653344926210953,
          0.15865317944084573,
          1.3866504724146873,
          1.6689296985913067,
          -0.8134044689759502,
          0.6487187769518447,
          -0.8052091624301895,
          2.0326603507057137,
          0.1073820460355707,
          0.4071162529196392,
          -0.5750653685166855,
          -0.6315805871754341,
          0.5418712272596757,
          -1.1306708673810189,
          -1.118714709363381,
          -0.4401647702306003,
          -0.8061306367639891,
          -1.197345475413853,
          -1.0068972492704373,
          -0.17817852999860212,
          0.639369678595348,
          1.013703991356466,
          -0.23922158717259134,
          1.4633201945065708,
          1.3800134011897498,
          0.2247267573806439,
          0.49163132075695115,
          -0.10828728589737688,
          1.1069484290607003,
          -1.2288487448834053,
          0.1754650161188707,
          0.7507986272132572,
          -0.20081391988588704,
          -0.6226641921427002,
          -0.16735697752048215,
          -0.38524578546611754,
          -0.5355048393729672,
          -0.34164985540023096,
          -0.2774104723203889,
          -0.2584209934005529,
          -0.3814423922234519,
          0.3257577500486821,
          0.6434080629177568,
          0.66077107797274,
          0.3637986673716947,
          -0.09214981424928291,
          0.5276787296850053,
          -1.0338595767059349,
          -0.21097706924663143,
          0.8984944691691217,
          0.0820970582758034,
          0.11562641623887104,
          0.10032385906751383,
          -0.6503813578923999,
          -0.055876884880289614,
          -0.8571822962027709,
          0.615500073921127,
          -1.3194434776149946,
          2.0925297421943623,
          0.9410652730595865,
          -3.673307455724263,
          -0.1572986034633572,
          -0.47613933558282523,
          0.8539426335428666,
          -0.23704464026201616,
          0.6063597785257324,
          -0.6518794725049938,
          1.7049202285082419,
          -0.4059466352822378,
          -2.217238611239522,
          1.1045060637619017,
          0.13468126793607563
         ],
         "yaxis": "y15"
        },
        {
         "histfunc": "count",
         "histnorm": "",
         "marker": {
          "color": "rgba(128, 0, 128, 1.0)",
          "line": {
           "color": "#4D5663",
           "width": 1.3
          }
         },
         "name": "D",
         "nbinsx": 10,
         "opacity": 0.8,
         "orientation": "v",
         "type": "histogram",
         "x": [
          0.9135095511270055,
          0.8300768819790462,
          -0.32004306346453193,
          -0.6581296286650561,
          1.4836945505803925,
          1.0270586035577867,
          -0.9859497561904975,
          1.5701847583308441,
          1.0689501999873456,
          0.27469367698909647,
          0.802179541436546,
          0.28884337018785844,
          -0.7434532905448736,
          0.27274012450951335,
          -1.2859035819950417,
          1.4733751166997981,
          -1.448170024930766,
          0.6387142479829242,
          0.10544400953620241,
          -1.2102928294002335,
          -0.24276755640050543,
          -0.8963604076627338,
          0.22887388670666756,
          0.7055734686513757,
          -0.11357563100775599,
          0.9252196163749348,
          1.058228680287137,
          0.25047384372673487,
          1.1653344926210953,
          0.15865317944084573,
          1.3866504724146873,
          1.6689296985913067,
          -0.8134044689759502,
          0.6487187769518447,
          -0.8052091624301895,
          2.0326603507057137,
          0.1073820460355707,
          0.4071162529196392,
          -0.5750653685166855,
          -0.6315805871754341,
          0.5418712272596757,
          -1.1306708673810189,
          -1.118714709363381,
          -0.4401647702306003,
          -0.8061306367639891,
          -1.197345475413853,
          -1.0068972492704373,
          -0.17817852999860212,
          0.639369678595348,
          1.013703991356466,
          -0.23922158717259134,
          1.4633201945065708,
          1.3800134011897498,
          0.2247267573806439,
          0.49163132075695115,
          -0.10828728589737688,
          1.1069484290607003,
          -1.2288487448834053,
          0.1754650161188707,
          0.7507986272132572,
          -0.20081391988588704,
          -0.6226641921427002,
          -0.16735697752048215,
          -0.38524578546611754,
          -0.5355048393729672,
          -0.34164985540023096,
          -0.2774104723203889,
          -0.2584209934005529,
          -0.3814423922234519,
          0.3257577500486821,
          0.6434080629177568,
          0.66077107797274,
          0.3637986673716947,
          -0.09214981424928291,
          0.5276787296850053,
          -1.0338595767059349,
          -0.21097706924663143,
          0.8984944691691217,
          0.0820970582758034,
          0.11562641623887104,
          0.10032385906751383,
          -0.6503813578923999,
          -0.055876884880289614,
          -0.8571822962027709,
          0.615500073921127,
          -1.3194434776149946,
          2.0925297421943623,
          0.9410652730595865,
          -3.673307455724263,
          -0.1572986034633572,
          -0.47613933558282523,
          0.8539426335428666,
          -0.23704464026201616,
          0.6063597785257324,
          -0.6518794725049938,
          1.7049202285082419,
          -0.4059466352822378,
          -2.217238611239522,
          1.1045060637619017,
          0.13468126793607563
         ],
         "xaxis": "x16",
         "yaxis": "y16"
        }
       ],
       "layout": {
        "bargap": 0.02,
        "legend": {
         "bgcolor": "#F5F6F9",
         "font": {
          "color": "#4D5663"
         }
        },
        "paper_bgcolor": "#F5F6F9",
        "plot_bgcolor": "#F5F6F9",
        "showlegend": false,
        "template": {
         "data": {
          "bar": [
           {
            "error_x": {
             "color": "#2a3f5f"
            },
            "error_y": {
             "color": "#2a3f5f"
            },
            "marker": {
             "line": {
              "color": "#E5ECF6",
              "width": 0.5
             }
            },
            "type": "bar"
           }
          ],
          "barpolar": [
           {
            "marker": {
             "line": {
              "color": "#E5ECF6",
              "width": 0.5
             }
            },
            "type": "barpolar"
           }
          ],
          "carpet": [
           {
            "aaxis": {
             "endlinecolor": "#2a3f5f",
             "gridcolor": "white",
             "linecolor": "white",
             "minorgridcolor": "white",
             "startlinecolor": "#2a3f5f"
            },
            "baxis": {
             "endlinecolor": "#2a3f5f",
             "gridcolor": "white",
             "linecolor": "white",
             "minorgridcolor": "white",
             "startlinecolor": "#2a3f5f"
            },
            "type": "carpet"
           }
          ],
          "choropleth": [
           {
            "colorbar": {
             "outlinewidth": 0,
             "ticks": ""
            },
            "type": "choropleth"
           }
          ],
          "contour": [
           {
            "colorbar": {
             "outlinewidth": 0,
             "ticks": ""
            },
            "colorscale": [
             [
              0,
              "#0d0887"
             ],
             [
              0.1111111111111111,
              "#46039f"
             ],
             [
              0.2222222222222222,
              "#7201a8"
             ],
             [
              0.3333333333333333,
              "#9c179e"
             ],
             [
              0.4444444444444444,
              "#bd3786"
             ],
             [
              0.5555555555555556,
              "#d8576b"
             ],
             [
              0.6666666666666666,
              "#ed7953"
             ],
             [
              0.7777777777777778,
              "#fb9f3a"
             ],
             [
              0.8888888888888888,
              "#fdca26"
             ],
             [
              1,
              "#f0f921"
             ]
            ],
            "type": "contour"
           }
          ],
          "contourcarpet": [
           {
            "colorbar": {
             "outlinewidth": 0,
             "ticks": ""
            },
            "type": "contourcarpet"
           }
          ],
          "heatmap": [
           {
            "colorbar": {
             "outlinewidth": 0,
             "ticks": ""
            },
            "colorscale": [
             [
              0,
              "#0d0887"
             ],
             [
              0.1111111111111111,
              "#46039f"
             ],
             [
              0.2222222222222222,
              "#7201a8"
             ],
             [
              0.3333333333333333,
              "#9c179e"
             ],
             [
              0.4444444444444444,
              "#bd3786"
             ],
             [
              0.5555555555555556,
              "#d8576b"
             ],
             [
              0.6666666666666666,
              "#ed7953"
             ],
             [
              0.7777777777777778,
              "#fb9f3a"
             ],
             [
              0.8888888888888888,
              "#fdca26"
             ],
             [
              1,
              "#f0f921"
             ]
            ],
            "type": "heatmap"
           }
          ],
          "heatmapgl": [
           {
            "colorbar": {
             "outlinewidth": 0,
             "ticks": ""
            },
            "colorscale": [
             [
              0,
              "#0d0887"
             ],
             [
              0.1111111111111111,
              "#46039f"
             ],
             [
              0.2222222222222222,
              "#7201a8"
             ],
             [
              0.3333333333333333,
              "#9c179e"
             ],
             [
              0.4444444444444444,
              "#bd3786"
             ],
             [
              0.5555555555555556,
              "#d8576b"
             ],
             [
              0.6666666666666666,
              "#ed7953"
             ],
             [
              0.7777777777777778,
              "#fb9f3a"
             ],
             [
              0.8888888888888888,
              "#fdca26"
             ],
             [
              1,
              "#f0f921"
             ]
            ],
            "type": "heatmapgl"
           }
          ],
          "histogram": [
           {
            "marker": {
             "colorbar": {
              "outlinewidth": 0,
              "ticks": ""
             }
            },
            "type": "histogram"
           }
          ],
          "histogram2d": [
           {
            "colorbar": {
             "outlinewidth": 0,
             "ticks": ""
            },
            "colorscale": [
             [
              0,
              "#0d0887"
             ],
             [
              0.1111111111111111,
              "#46039f"
             ],
             [
              0.2222222222222222,
              "#7201a8"
             ],
             [
              0.3333333333333333,
              "#9c179e"
             ],
             [
              0.4444444444444444,
              "#bd3786"
             ],
             [
              0.5555555555555556,
              "#d8576b"
             ],
             [
              0.6666666666666666,
              "#ed7953"
             ],
             [
              0.7777777777777778,
              "#fb9f3a"
             ],
             [
              0.8888888888888888,
              "#fdca26"
             ],
             [
              1,
              "#f0f921"
             ]
            ],
            "type": "histogram2d"
           }
          ],
          "histogram2dcontour": [
           {
            "colorbar": {
             "outlinewidth": 0,
             "ticks": ""
            },
            "colorscale": [
             [
              0,
              "#0d0887"
             ],
             [
              0.1111111111111111,
              "#46039f"
             ],
             [
              0.2222222222222222,
              "#7201a8"
             ],
             [
              0.3333333333333333,
              "#9c179e"
             ],
             [
              0.4444444444444444,
              "#bd3786"
             ],
             [
              0.5555555555555556,
              "#d8576b"
             ],
             [
              0.6666666666666666,
              "#ed7953"
             ],
             [
              0.7777777777777778,
              "#fb9f3a"
             ],
             [
              0.8888888888888888,
              "#fdca26"
             ],
             [
              1,
              "#f0f921"
             ]
            ],
            "type": "histogram2dcontour"
           }
          ],
          "mesh3d": [
           {
            "colorbar": {
             "outlinewidth": 0,
             "ticks": ""
            },
            "type": "mesh3d"
           }
          ],
          "parcoords": [
           {
            "line": {
             "colorbar": {
              "outlinewidth": 0,
              "ticks": ""
             }
            },
            "type": "parcoords"
           }
          ],
          "pie": [
           {
            "automargin": true,
            "type": "pie"
           }
          ],
          "scatter": [
           {
            "marker": {
             "colorbar": {
              "outlinewidth": 0,
              "ticks": ""
             }
            },
            "type": "scatter"
           }
          ],
          "scatter3d": [
           {
            "line": {
             "colorbar": {
              "outlinewidth": 0,
              "ticks": ""
             }
            },
            "marker": {
             "colorbar": {
              "outlinewidth": 0,
              "ticks": ""
             }
            },
            "type": "scatter3d"
           }
          ],
          "scattercarpet": [
           {
            "marker": {
             "colorbar": {
              "outlinewidth": 0,
              "ticks": ""
             }
            },
            "type": "scattercarpet"
           }
          ],
          "scattergeo": [
           {
            "marker": {
             "colorbar": {
              "outlinewidth": 0,
              "ticks": ""
             }
            },
            "type": "scattergeo"
           }
          ],
          "scattergl": [
           {
            "marker": {
             "colorbar": {
              "outlinewidth": 0,
              "ticks": ""
             }
            },
            "type": "scattergl"
           }
          ],
          "scattermapbox": [
           {
            "marker": {
             "colorbar": {
              "outlinewidth": 0,
              "ticks": ""
             }
            },
            "type": "scattermapbox"
           }
          ],
          "scatterpolar": [
           {
            "marker": {
             "colorbar": {
              "outlinewidth": 0,
              "ticks": ""
             }
            },
            "type": "scatterpolar"
           }
          ],
          "scatterpolargl": [
           {
            "marker": {
             "colorbar": {
              "outlinewidth": 0,
              "ticks": ""
             }
            },
            "type": "scatterpolargl"
           }
          ],
          "scatterternary": [
           {
            "marker": {
             "colorbar": {
              "outlinewidth": 0,
              "ticks": ""
             }
            },
            "type": "scatterternary"
           }
          ],
          "surface": [
           {
            "colorbar": {
             "outlinewidth": 0,
             "ticks": ""
            },
            "colorscale": [
             [
              0,
              "#0d0887"
             ],
             [
              0.1111111111111111,
              "#46039f"
             ],
             [
              0.2222222222222222,
              "#7201a8"
             ],
             [
              0.3333333333333333,
              "#9c179e"
             ],
             [
              0.4444444444444444,
              "#bd3786"
             ],
             [
              0.5555555555555556,
              "#d8576b"
             ],
             [
              0.6666666666666666,
              "#ed7953"
             ],
             [
              0.7777777777777778,
              "#fb9f3a"
             ],
             [
              0.8888888888888888,
              "#fdca26"
             ],
             [
              1,
              "#f0f921"
             ]
            ],
            "type": "surface"
           }
          ],
          "table": [
           {
            "cells": {
             "fill": {
              "color": "#EBF0F8"
             },
             "line": {
              "color": "white"
             }
            },
            "header": {
             "fill": {
              "color": "#C8D4E3"
             },
             "line": {
              "color": "white"
             }
            },
            "type": "table"
           }
          ]
         },
         "layout": {
          "annotationdefaults": {
           "arrowcolor": "#2a3f5f",
           "arrowhead": 0,
           "arrowwidth": 1
          },
          "autotypenumbers": "strict",
          "coloraxis": {
           "colorbar": {
            "outlinewidth": 0,
            "ticks": ""
           }
          },
          "colorscale": {
           "diverging": [
            [
             0,
             "#8e0152"
            ],
            [
             0.1,
             "#c51b7d"
            ],
            [
             0.2,
             "#de77ae"
            ],
            [
             0.3,
             "#f1b6da"
            ],
            [
             0.4,
             "#fde0ef"
            ],
            [
             0.5,
             "#f7f7f7"
            ],
            [
             0.6,
             "#e6f5d0"
            ],
            [
             0.7,
             "#b8e186"
            ],
            [
             0.8,
             "#7fbc41"
            ],
            [
             0.9,
             "#4d9221"
            ],
            [
             1,
             "#276419"
            ]
           ],
           "sequential": [
            [
             0,
             "#0d0887"
            ],
            [
             0.1111111111111111,
             "#46039f"
            ],
            [
             0.2222222222222222,
             "#7201a8"
            ],
            [
             0.3333333333333333,
             "#9c179e"
            ],
            [
             0.4444444444444444,
             "#bd3786"
            ],
            [
             0.5555555555555556,
             "#d8576b"
            ],
            [
             0.6666666666666666,
             "#ed7953"
            ],
            [
             0.7777777777777778,
             "#fb9f3a"
            ],
            [
             0.8888888888888888,
             "#fdca26"
            ],
            [
             1,
             "#f0f921"
            ]
           ],
           "sequentialminus": [
            [
             0,
             "#0d0887"
            ],
            [
             0.1111111111111111,
             "#46039f"
            ],
            [
             0.2222222222222222,
             "#7201a8"
            ],
            [
             0.3333333333333333,
             "#9c179e"
            ],
            [
             0.4444444444444444,
             "#bd3786"
            ],
            [
             0.5555555555555556,
             "#d8576b"
            ],
            [
             0.6666666666666666,
             "#ed7953"
            ],
            [
             0.7777777777777778,
             "#fb9f3a"
            ],
            [
             0.8888888888888888,
             "#fdca26"
            ],
            [
             1,
             "#f0f921"
            ]
           ]
          },
          "colorway": [
           "#636efa",
           "#EF553B",
           "#00cc96",
           "#ab63fa",
           "#FFA15A",
           "#19d3f3",
           "#FF6692",
           "#B6E880",
           "#FF97FF",
           "#FECB52"
          ],
          "font": {
           "color": "#2a3f5f"
          },
          "geo": {
           "bgcolor": "white",
           "lakecolor": "white",
           "landcolor": "#E5ECF6",
           "showlakes": true,
           "showland": true,
           "subunitcolor": "white"
          },
          "hoverlabel": {
           "align": "left"
          },
          "hovermode": "closest",
          "mapbox": {
           "style": "light"
          },
          "paper_bgcolor": "white",
          "plot_bgcolor": "#E5ECF6",
          "polar": {
           "angularaxis": {
            "gridcolor": "white",
            "linecolor": "white",
            "ticks": ""
           },
           "bgcolor": "#E5ECF6",
           "radialaxis": {
            "gridcolor": "white",
            "linecolor": "white",
            "ticks": ""
           }
          },
          "scene": {
           "xaxis": {
            "backgroundcolor": "#E5ECF6",
            "gridcolor": "white",
            "gridwidth": 2,
            "linecolor": "white",
            "showbackground": true,
            "ticks": "",
            "zerolinecolor": "white"
           },
           "yaxis": {
            "backgroundcolor": "#E5ECF6",
            "gridcolor": "white",
            "gridwidth": 2,
            "linecolor": "white",
            "showbackground": true,
            "ticks": "",
            "zerolinecolor": "white"
           },
           "zaxis": {
            "backgroundcolor": "#E5ECF6",
            "gridcolor": "white",
            "gridwidth": 2,
            "linecolor": "white",
            "showbackground": true,
            "ticks": "",
            "zerolinecolor": "white"
           }
          },
          "shapedefaults": {
           "line": {
            "color": "#2a3f5f"
           }
          },
          "ternary": {
           "aaxis": {
            "gridcolor": "white",
            "linecolor": "white",
            "ticks": ""
           },
           "baxis": {
            "gridcolor": "white",
            "linecolor": "white",
            "ticks": ""
           },
           "bgcolor": "#E5ECF6",
           "caxis": {
            "gridcolor": "white",
            "linecolor": "white",
            "ticks": ""
           }
          },
          "title": {
           "x": 0.05
          },
          "xaxis": {
           "automargin": true,
           "gridcolor": "white",
           "linecolor": "white",
           "ticks": "",
           "title": {
            "standoff": 15
           },
           "zerolinecolor": "white",
           "zerolinewidth": 2
          },
          "yaxis": {
           "automargin": true,
           "gridcolor": "white",
           "linecolor": "white",
           "ticks": "",
           "title": {
            "standoff": 15
           },
           "zerolinecolor": "white",
           "zerolinewidth": 2
          }
         }
        },
        "title": {
         "font": {
          "color": "#4D5663"
         }
        },
        "xaxis": {
         "anchor": "y",
         "domain": [
          0,
          0.2125
         ],
         "gridcolor": "#E1E5ED",
         "showgrid": false,
         "tickfont": {
          "color": "#4D5663"
         },
         "title": {
          "font": {
           "color": "#4D5663"
          },
          "text": ""
         },
         "zerolinecolor": "#E1E5ED"
        },
        "xaxis10": {
         "anchor": "y10",
         "domain": [
          0.2625,
          0.475
         ],
         "gridcolor": "#E1E5ED",
         "showgrid": false,
         "tickfont": {
          "color": "#4D5663"
         },
         "title": {
          "font": {
           "color": "#4D5663"
          },
          "text": ""
         },
         "zerolinecolor": "#E1E5ED"
        },
        "xaxis11": {
         "anchor": "y11",
         "domain": [
          0.525,
          0.7375
         ],
         "gridcolor": "#E1E5ED",
         "showgrid": false,
         "tickfont": {
          "color": "#4D5663"
         },
         "title": {
          "font": {
           "color": "#4D5663"
          },
          "text": ""
         },
         "zerolinecolor": "#E1E5ED"
        },
        "xaxis12": {
         "anchor": "y12",
         "domain": [
          0.7875,
          1
         ],
         "gridcolor": "#E1E5ED",
         "showgrid": false,
         "tickfont": {
          "color": "#4D5663"
         },
         "title": {
          "font": {
           "color": "#4D5663"
          },
          "text": ""
         },
         "zerolinecolor": "#E1E5ED"
        },
        "xaxis13": {
         "anchor": "y13",
         "domain": [
          0,
          0.2125
         ],
         "gridcolor": "#E1E5ED",
         "showgrid": false,
         "tickfont": {
          "color": "#4D5663"
         },
         "title": {
          "font": {
           "color": "#4D5663"
          },
          "text": ""
         },
         "zerolinecolor": "#E1E5ED"
        },
        "xaxis14": {
         "anchor": "y14",
         "domain": [
          0.2625,
          0.475
         ],
         "gridcolor": "#E1E5ED",
         "showgrid": false,
         "tickfont": {
          "color": "#4D5663"
         },
         "title": {
          "font": {
           "color": "#4D5663"
          },
          "text": ""
         },
         "zerolinecolor": "#E1E5ED"
        },
        "xaxis15": {
         "anchor": "y15",
         "domain": [
          0.525,
          0.7375
         ],
         "gridcolor": "#E1E5ED",
         "showgrid": false,
         "tickfont": {
          "color": "#4D5663"
         },
         "title": {
          "font": {
           "color": "#4D5663"
          },
          "text": ""
         },
         "zerolinecolor": "#E1E5ED"
        },
        "xaxis16": {
         "anchor": "y16",
         "domain": [
          0.7875,
          1
         ],
         "gridcolor": "#E1E5ED",
         "showgrid": false,
         "tickfont": {
          "color": "#4D5663"
         },
         "title": {
          "font": {
           "color": "#4D5663"
          },
          "text": ""
         },
         "zerolinecolor": "#E1E5ED"
        },
        "xaxis2": {
         "anchor": "y2",
         "domain": [
          0.2625,
          0.475
         ],
         "gridcolor": "#E1E5ED",
         "showgrid": false,
         "tickfont": {
          "color": "#4D5663"
         },
         "title": {
          "font": {
           "color": "#4D5663"
          },
          "text": ""
         },
         "zerolinecolor": "#E1E5ED"
        },
        "xaxis3": {
         "anchor": "y3",
         "domain": [
          0.525,
          0.7375
         ],
         "gridcolor": "#E1E5ED",
         "showgrid": false,
         "tickfont": {
          "color": "#4D5663"
         },
         "title": {
          "font": {
           "color": "#4D5663"
          },
          "text": ""
         },
         "zerolinecolor": "#E1E5ED"
        },
        "xaxis4": {
         "anchor": "y4",
         "domain": [
          0.7875,
          1
         ],
         "gridcolor": "#E1E5ED",
         "showgrid": false,
         "tickfont": {
          "color": "#4D5663"
         },
         "title": {
          "font": {
           "color": "#4D5663"
          },
          "text": ""
         },
         "zerolinecolor": "#E1E5ED"
        },
        "xaxis5": {
         "anchor": "y5",
         "domain": [
          0,
          0.2125
         ],
         "gridcolor": "#E1E5ED",
         "showgrid": false,
         "tickfont": {
          "color": "#4D5663"
         },
         "title": {
          "font": {
           "color": "#4D5663"
          },
          "text": ""
         },
         "zerolinecolor": "#E1E5ED"
        },
        "xaxis6": {
         "anchor": "y6",
         "domain": [
          0.2625,
          0.475
         ],
         "gridcolor": "#E1E5ED",
         "showgrid": false,
         "tickfont": {
          "color": "#4D5663"
         },
         "title": {
          "font": {
           "color": "#4D5663"
          },
          "text": ""
         },
         "zerolinecolor": "#E1E5ED"
        },
        "xaxis7": {
         "anchor": "y7",
         "domain": [
          0.525,
          0.7375
         ],
         "gridcolor": "#E1E5ED",
         "showgrid": false,
         "tickfont": {
          "color": "#4D5663"
         },
         "title": {
          "font": {
           "color": "#4D5663"
          },
          "text": ""
         },
         "zerolinecolor": "#E1E5ED"
        },
        "xaxis8": {
         "anchor": "y8",
         "domain": [
          0.7875,
          1
         ],
         "gridcolor": "#E1E5ED",
         "showgrid": false,
         "tickfont": {
          "color": "#4D5663"
         },
         "title": {
          "font": {
           "color": "#4D5663"
          },
          "text": ""
         },
         "zerolinecolor": "#E1E5ED"
        },
        "xaxis9": {
         "anchor": "y9",
         "domain": [
          0,
          0.2125
         ],
         "gridcolor": "#E1E5ED",
         "showgrid": false,
         "tickfont": {
          "color": "#4D5663"
         },
         "title": {
          "font": {
           "color": "#4D5663"
          },
          "text": ""
         },
         "zerolinecolor": "#E1E5ED"
        },
        "yaxis": {
         "anchor": "x",
         "domain": [
          0.8025,
          1
         ],
         "gridcolor": "#E1E5ED",
         "showgrid": false,
         "tickfont": {
          "color": "#4D5663"
         },
         "title": {
          "font": {
           "color": "#4D5663"
          },
          "text": ""
         },
         "zerolinecolor": "#E1E5ED"
        },
        "yaxis10": {
         "anchor": "x10",
         "domain": [
          0.2675,
          0.465
         ],
         "gridcolor": "#E1E5ED",
         "showgrid": false,
         "tickfont": {
          "color": "#4D5663"
         },
         "title": {
          "font": {
           "color": "#4D5663"
          },
          "text": ""
         },
         "zerolinecolor": "#E1E5ED"
        },
        "yaxis11": {
         "anchor": "x11",
         "domain": [
          0.2675,
          0.465
         ],
         "gridcolor": "#E1E5ED",
         "showgrid": false,
         "tickfont": {
          "color": "#4D5663"
         },
         "title": {
          "font": {
           "color": "#4D5663"
          },
          "text": ""
         },
         "zerolinecolor": "#E1E5ED"
        },
        "yaxis12": {
         "anchor": "x12",
         "domain": [
          0.2675,
          0.465
         ],
         "gridcolor": "#E1E5ED",
         "showgrid": false,
         "tickfont": {
          "color": "#4D5663"
         },
         "title": {
          "font": {
           "color": "#4D5663"
          },
          "text": ""
         },
         "zerolinecolor": "#E1E5ED"
        },
        "yaxis13": {
         "anchor": "x13",
         "domain": [
          0,
          0.1975
         ],
         "gridcolor": "#E1E5ED",
         "showgrid": false,
         "tickfont": {
          "color": "#4D5663"
         },
         "title": {
          "font": {
           "color": "#4D5663"
          },
          "text": ""
         },
         "zerolinecolor": "#E1E5ED"
        },
        "yaxis14": {
         "anchor": "x14",
         "domain": [
          0,
          0.1975
         ],
         "gridcolor": "#E1E5ED",
         "showgrid": false,
         "tickfont": {
          "color": "#4D5663"
         },
         "title": {
          "font": {
           "color": "#4D5663"
          },
          "text": ""
         },
         "zerolinecolor": "#E1E5ED"
        },
        "yaxis15": {
         "anchor": "x15",
         "domain": [
          0,
          0.1975
         ],
         "gridcolor": "#E1E5ED",
         "showgrid": false,
         "tickfont": {
          "color": "#4D5663"
         },
         "title": {
          "font": {
           "color": "#4D5663"
          },
          "text": ""
         },
         "zerolinecolor": "#E1E5ED"
        },
        "yaxis16": {
         "anchor": "x16",
         "domain": [
          0,
          0.1975
         ],
         "gridcolor": "#E1E5ED",
         "showgrid": false,
         "tickfont": {
          "color": "#4D5663"
         },
         "title": {
          "font": {
           "color": "#4D5663"
          },
          "text": ""
         },
         "zerolinecolor": "#E1E5ED"
        },
        "yaxis2": {
         "anchor": "x2",
         "domain": [
          0.8025,
          1
         ],
         "gridcolor": "#E1E5ED",
         "showgrid": false,
         "tickfont": {
          "color": "#4D5663"
         },
         "title": {
          "font": {
           "color": "#4D5663"
          },
          "text": ""
         },
         "zerolinecolor": "#E1E5ED"
        },
        "yaxis3": {
         "anchor": "x3",
         "domain": [
          0.8025,
          1
         ],
         "gridcolor": "#E1E5ED",
         "showgrid": false,
         "tickfont": {
          "color": "#4D5663"
         },
         "title": {
          "font": {
           "color": "#4D5663"
          },
          "text": ""
         },
         "zerolinecolor": "#E1E5ED"
        },
        "yaxis4": {
         "anchor": "x4",
         "domain": [
          0.8025,
          1
         ],
         "gridcolor": "#E1E5ED",
         "showgrid": false,
         "tickfont": {
          "color": "#4D5663"
         },
         "title": {
          "font": {
           "color": "#4D5663"
          },
          "text": ""
         },
         "zerolinecolor": "#E1E5ED"
        },
        "yaxis5": {
         "anchor": "x5",
         "domain": [
          0.535,
          0.7325
         ],
         "gridcolor": "#E1E5ED",
         "showgrid": false,
         "tickfont": {
          "color": "#4D5663"
         },
         "title": {
          "font": {
           "color": "#4D5663"
          },
          "text": ""
         },
         "zerolinecolor": "#E1E5ED"
        },
        "yaxis6": {
         "anchor": "x6",
         "domain": [
          0.535,
          0.7325
         ],
         "gridcolor": "#E1E5ED",
         "showgrid": false,
         "tickfont": {
          "color": "#4D5663"
         },
         "title": {
          "font": {
           "color": "#4D5663"
          },
          "text": ""
         },
         "zerolinecolor": "#E1E5ED"
        },
        "yaxis7": {
         "anchor": "x7",
         "domain": [
          0.535,
          0.7325
         ],
         "gridcolor": "#E1E5ED",
         "showgrid": false,
         "tickfont": {
          "color": "#4D5663"
         },
         "title": {
          "font": {
           "color": "#4D5663"
          },
          "text": ""
         },
         "zerolinecolor": "#E1E5ED"
        },
        "yaxis8": {
         "anchor": "x8",
         "domain": [
          0.535,
          0.7325
         ],
         "gridcolor": "#E1E5ED",
         "showgrid": false,
         "tickfont": {
          "color": "#4D5663"
         },
         "title": {
          "font": {
           "color": "#4D5663"
          },
          "text": ""
         },
         "zerolinecolor": "#E1E5ED"
        },
        "yaxis9": {
         "anchor": "x9",
         "domain": [
          0.2675,
          0.465
         ],
         "gridcolor": "#E1E5ED",
         "showgrid": false,
         "tickfont": {
          "color": "#4D5663"
         },
         "title": {
          "font": {
           "color": "#4D5663"
          },
          "text": ""
         },
         "zerolinecolor": "#E1E5ED"
        }
       }
      },
      "text/html": [
       "<div>                            <div id=\"c8664662-f8c4-4e07-97a7-4334e793b562\" class=\"plotly-graph-div\" style=\"height:525px; width:100%;\"></div>            <script type=\"text/javascript\">                require([\"plotly\"], function(Plotly) {                    window.PLOTLYENV=window.PLOTLYENV || {};\n",
       "                    window.PLOTLYENV.BASE_URL='https://plot.ly';                                    if (document.getElementById(\"c8664662-f8c4-4e07-97a7-4334e793b562\")) {                    Plotly.newPlot(                        \"c8664662-f8c4-4e07-97a7-4334e793b562\",                        [{\"histfunc\": \"count\", \"histnorm\": \"\", \"marker\": {\"color\": \"rgba(255, 153, 51, 1.0)\", \"line\": {\"color\": \"#4D5663\", \"width\": 1.3}}, \"name\": \"A\", \"nbinsx\": 10, \"opacity\": 0.8, \"orientation\": \"v\", \"type\": \"histogram\", \"x\": [-1.3344538032223674, -0.8924994259218787, 0.26886804372886924, 0.15768862475176948, -0.22119158008310583, 0.4620509340031127, 2.4335083818309733, 0.6283138878570738, 0.5916528935640983, -1.107880473845743, -0.9624677212340109, -2.0455267244571513, 0.0909847865615543, 0.3952627572504107, 0.4419932489725158, -0.4226953551742026, 0.06289069744869118, -0.7006193989648868, -1.083720431567451, -1.060865658791126, -0.09081056338239148, -0.9353209782547409, 0.3589422148729274, -1.7868990461486924, -0.745064837314155, 1.6890846798067614, -0.1583008202058165, -0.2393581360509466, -0.3591360207502799, 0.08032986483476401, -1.0175142609752241, -1.5016700621947336, 1.0074806858167047, 0.6986590715947596, -2.588343670560577, 1.6081822850576204, -0.22914040070541067, -0.5293183734964289, 0.08222597405486373, -1.4699631892936766, -1.7930767125550209, -0.8790112806279785, -1.169373718837128, 0.1384087066882726, -1.0214761584041196, -0.04441846576227683, 0.39667629555448003, 0.20222543201121596, -1.2020756242009765, -1.0165590854073892, 0.46592468153875083, 0.31916647378233987, -1.7589705686927102, -0.19469290293284697, -0.017517836703771206, -1.0825926071297598, 0.8868635912852298, 1.5313879689211365, -0.8832920419908965, 1.0771696646288276, 0.4214819723313268, 0.512096106061291, -0.5765759849025575, 0.11538594660067654, -1.1688312935731027, 0.6842055251828377, 0.22219602704027291, -0.5744307101478267, 0.6367232205179054, 0.6191256148390696, 1.8834084468543921, -0.019136677575396017, -1.1087586253663548, -0.09033572122028868, 1.4938373325772583, -0.4050399181262893, -1.7460005036504043, -0.874792619992864, 1.3994180541184202, 0.799905796022181, 1.274938101349231, 0.2394547792737676, -1.577915260135125, 0.1213707929995456, 0.13672512118700048, -0.6331153406325125, 0.8242219198301328, 0.11707874435192542, 0.7436012566066985, -1.6258384419836545, -0.03584548827872644, 0.08944783921389679, 0.578477924074061, 0.7299558400202367, 0.08093456386569041, -0.2981280006647906, 0.7196159948359657, -0.9887151828728751, -1.2858827698631239, -0.6567521716175984], \"xaxis\": \"x\", \"yaxis\": \"y\"}, {\"line\": {\"color\": \"rgba(128, 128, 128, 1.0)\", \"dash\": \"solid\", \"shape\": \"linear\", \"width\": 1.3}, \"marker\": {\"size\": 2, \"symbol\": \"circle\"}, \"mode\": \"markers\", \"name\": \"A\", \"text\": \"\", \"type\": \"scatter\", \"x\": [0.14115223110497468, 0.0064944644833475305, 0.7422571167780311, 1.0645093771659695, -0.3106905288382996, 0.9105427572688288, 0.6103120706936248, 0.9859342503407027, -1.3935904672907908, 0.5691387823512065, 0.6619116415384811, 1.6926025880928388, -0.6199815554999915, -0.08994976033741052, 1.0750757711471672, 0.9473855422854135, -0.9659146731795786, -0.8563163114136054, 0.40461905434576567, -0.352421659367107, -0.17570731026437184, -0.9037477548119306, -0.02350852517774842, 0.05092474675920466, 1.043949946154262, -2.4490346466295554, 0.33014417054208783, -2.2514329386378424, 0.13653096809477527, 0.27854119209137806, 0.12084021939900245, -0.22910722021751045, 0.8157967113919772, 0.843764373253457, -0.1426121926871968, -0.5483486869724357, 0.2608490671514323, -0.26372400914740446, 0.8194095519733929, -0.270587376920324, -0.7737009584318266, -1.8472980629037679, -0.7082294452695416, 0.41190023363389006, -0.05569757355731567, -0.8395179440475853, 1.237960335845157, 0.09429165095844295, 0.8444303425008042, 1.0941573273460798, 0.5004607034246967, -1.2380236960978572, -0.5299553544779251, -2.401224423159397, -1.533248329403312, -0.17338990000742058, -1.303044209950965, 0.15434110478985552, -0.014923617770171496, 2.2196598208911857, -0.22823646275445944, -0.2495367783710828, -0.08131270339267661, 1.9699500613792806, -1.188690274209095, 0.8832334729754634, 2.09273443955495, -1.0036519160375525, -0.7060680965281807, -0.23968689244003327, 0.163276759185642, -0.686450971672635, -0.30631556602327387, -0.08707637532852806, -0.5228852910421682, -0.7172234514173806, -0.29517886902307716, -0.20458324362180894, -1.462710827625806, 1.4670598502699281, 0.8479039242641055, -1.9986453717747588, -0.6388634514624134, 0.28169086802838134, -0.7770575057522737, 0.04592948766882219, -1.0942302497431726, 0.9789185809599306, -0.46129486343229453, -0.40833102173104213, 1.227531863543337, -0.37368070911341755, -0.45808425613661174, 0.7934113176984202, -1.500505747410543, 0.3307505779477316, 0.5925706519046703, 1.635234820387899, 0.4765566163310391, -1.1996493035445714], \"xaxis\": \"x2\", \"y\": [-1.3344538032223674, -0.8924994259218787, 0.26886804372886924, 0.15768862475176948, -0.22119158008310583, 0.4620509340031127, 2.4335083818309733, 0.6283138878570738, 0.5916528935640983, -1.107880473845743, -0.9624677212340109, -2.0455267244571513, 0.0909847865615543, 0.3952627572504107, 0.4419932489725158, -0.4226953551742026, 0.06289069744869118, -0.7006193989648868, -1.083720431567451, -1.060865658791126, -0.09081056338239148, -0.9353209782547409, 0.3589422148729274, -1.7868990461486924, -0.745064837314155, 1.6890846798067614, -0.1583008202058165, -0.2393581360509466, -0.3591360207502799, 0.08032986483476401, -1.0175142609752241, -1.5016700621947336, 1.0074806858167047, 0.6986590715947596, -2.588343670560577, 1.6081822850576204, -0.22914040070541067, -0.5293183734964289, 0.08222597405486373, -1.4699631892936766, -1.7930767125550209, -0.8790112806279785, -1.169373718837128, 0.1384087066882726, -1.0214761584041196, -0.04441846576227683, 0.39667629555448003, 0.20222543201121596, -1.2020756242009765, -1.0165590854073892, 0.46592468153875083, 0.31916647378233987, -1.7589705686927102, -0.19469290293284697, -0.017517836703771206, -1.0825926071297598, 0.8868635912852298, 1.5313879689211365, -0.8832920419908965, 1.0771696646288276, 0.4214819723313268, 0.512096106061291, -0.5765759849025575, 0.11538594660067654, -1.1688312935731027, 0.6842055251828377, 0.22219602704027291, -0.5744307101478267, 0.6367232205179054, 0.6191256148390696, 1.8834084468543921, -0.019136677575396017, -1.1087586253663548, -0.09033572122028868, 1.4938373325772583, -0.4050399181262893, -1.7460005036504043, -0.874792619992864, 1.3994180541184202, 0.799905796022181, 1.274938101349231, 0.2394547792737676, -1.577915260135125, 0.1213707929995456, 0.13672512118700048, -0.6331153406325125, 0.8242219198301328, 0.11707874435192542, 0.7436012566066985, -1.6258384419836545, -0.03584548827872644, 0.08944783921389679, 0.578477924074061, 0.7299558400202367, 0.08093456386569041, -0.2981280006647906, 0.7196159948359657, -0.9887151828728751, -1.2858827698631239, -0.6567521716175984], \"yaxis\": \"y2\"}, {\"line\": {\"color\": \"rgba(128, 128, 128, 1.0)\", \"dash\": \"solid\", \"shape\": \"linear\", \"width\": 1.3}, \"marker\": {\"size\": 2, \"symbol\": \"circle\"}, \"mode\": \"markers\", \"name\": \"A\", \"text\": \"\", \"type\": \"scatter\", \"x\": [0.2530917113271322, -0.9890104346964195, -0.39399061015526105, -0.806349443728782, 1.0269292755252677, -0.5765171906888962, 1.595271012716274, 0.5963187126316164, -1.4502231149363887, -0.4112895787635489, 1.8019109475952786, -0.0918095648497734, 0.7627425581289289, -0.21914522192757702, -0.2926509630327127, -0.6971203406836002, -0.5468277875916475, -0.7331471279589682, 0.7182673562773526, -1.1734544133177471, -1.474992929667637, 0.8683397659408032, 0.35905053100282663, 0.2292625916257633, -0.6967589269149497, -0.48177822080743415, -0.9222113134634797, 1.2461523735545468, 1.5046599491507222, 0.92261259229617, 0.06195593412560095, 1.3501517219540615, -0.1962592516509624, -1.5236450780327122, 0.07013849426944149, -1.0175226875210754, -1.967895625772992, 1.181703711464979, -0.5678600438042352, 0.6595631355626677, -0.34433448425807334, -0.20307368400259568, -0.54553609386368, -1.6769241078819122, 0.6757788510129932, 0.8258212450642957, -0.350307561972649, 1.2574260935280994, 1.3359166977975272, -2.043068859179839, -0.519474178200342, 0.20599050286675058, -1.651846473593329, 0.31113593378343907, -0.49987751408599584, 0.3888705685375426, -1.506532134549189, 0.14568265358322754, 0.6887695472572651, 0.24988829811863322, -0.08825695195704542, 0.5420044701977272, -0.849556723826802, -0.2921489315869297, 0.5073892089994784, -0.3683131455091124, 1.1933559825006401, 0.01849527309794985, -0.8311877135581195, -0.903773590381288, -0.3148140662690922, 1.964400161863338, -1.581092584064821, -0.07324715397940061, 0.1485008590973546, 0.9057581978437469, -0.618261773342376, 0.6330497758753028, -0.13553713399477593, 0.12943801352764087, 0.9031247247539765, 1.446838737665481, 1.477826912335126, -1.1763939428341526, 0.9995732717882453, -0.12423940048829445, -1.1013294246687177, -0.17903286619989758, -0.04605668442365374, 1.89833634590754, 0.038807438640817114, -0.8161127075991621, -0.9456418183483448, 0.17419248814889204, 0.1405198689364899, -2.1038438209599977, 0.6808095514690816, -0.35020137419082026, -1.113547234381775, 0.7984763692018992], \"xaxis\": \"x3\", \"y\": [-1.3344538032223674, -0.8924994259218787, 0.26886804372886924, 0.15768862475176948, -0.22119158008310583, 0.4620509340031127, 2.4335083818309733, 0.6283138878570738, 0.5916528935640983, -1.107880473845743, -0.9624677212340109, -2.0455267244571513, 0.0909847865615543, 0.3952627572504107, 0.4419932489725158, -0.4226953551742026, 0.06289069744869118, -0.7006193989648868, -1.083720431567451, -1.060865658791126, -0.09081056338239148, -0.9353209782547409, 0.3589422148729274, -1.7868990461486924, -0.745064837314155, 1.6890846798067614, -0.1583008202058165, -0.2393581360509466, -0.3591360207502799, 0.08032986483476401, -1.0175142609752241, -1.5016700621947336, 1.0074806858167047, 0.6986590715947596, -2.588343670560577, 1.6081822850576204, -0.22914040070541067, -0.5293183734964289, 0.08222597405486373, -1.4699631892936766, -1.7930767125550209, -0.8790112806279785, -1.169373718837128, 0.1384087066882726, -1.0214761584041196, -0.04441846576227683, 0.39667629555448003, 0.20222543201121596, -1.2020756242009765, -1.0165590854073892, 0.46592468153875083, 0.31916647378233987, -1.7589705686927102, -0.19469290293284697, -0.017517836703771206, -1.0825926071297598, 0.8868635912852298, 1.5313879689211365, -0.8832920419908965, 1.0771696646288276, 0.4214819723313268, 0.512096106061291, -0.5765759849025575, 0.11538594660067654, -1.1688312935731027, 0.6842055251828377, 0.22219602704027291, -0.5744307101478267, 0.6367232205179054, 0.6191256148390696, 1.8834084468543921, -0.019136677575396017, -1.1087586253663548, -0.09033572122028868, 1.4938373325772583, -0.4050399181262893, -1.7460005036504043, -0.874792619992864, 1.3994180541184202, 0.799905796022181, 1.274938101349231, 0.2394547792737676, -1.577915260135125, 0.1213707929995456, 0.13672512118700048, -0.6331153406325125, 0.8242219198301328, 0.11707874435192542, 0.7436012566066985, -1.6258384419836545, -0.03584548827872644, 0.08944783921389679, 0.578477924074061, 0.7299558400202367, 0.08093456386569041, -0.2981280006647906, 0.7196159948359657, -0.9887151828728751, -1.2858827698631239, -0.6567521716175984], \"yaxis\": \"y3\"}, {\"line\": {\"color\": \"rgba(128, 128, 128, 1.0)\", \"dash\": \"solid\", \"shape\": \"linear\", \"width\": 1.3}, \"marker\": {\"size\": 2, \"symbol\": \"circle\"}, \"mode\": \"markers\", \"name\": \"A\", \"text\": \"\", \"type\": \"scatter\", \"x\": [0.9135095511270055, 0.8300768819790462, -0.32004306346453193, -0.6581296286650561, 1.4836945505803925, 1.0270586035577867, -0.9859497561904975, 1.5701847583308441, 1.0689501999873456, 0.27469367698909647, 0.802179541436546, 0.28884337018785844, -0.7434532905448736, 0.27274012450951335, -1.2859035819950417, 1.4733751166997981, -1.448170024930766, 0.6387142479829242, 0.10544400953620241, -1.2102928294002335, -0.24276755640050543, -0.8963604076627338, 0.22887388670666756, 0.7055734686513757, -0.11357563100775599, 0.9252196163749348, 1.058228680287137, 0.25047384372673487, 1.1653344926210953, 0.15865317944084573, 1.3866504724146873, 1.6689296985913067, -0.8134044689759502, 0.6487187769518447, -0.8052091624301895, 2.0326603507057137, 0.1073820460355707, 0.4071162529196392, -0.5750653685166855, -0.6315805871754341, 0.5418712272596757, -1.1306708673810189, -1.118714709363381, -0.4401647702306003, -0.8061306367639891, -1.197345475413853, -1.0068972492704373, -0.17817852999860212, 0.639369678595348, 1.013703991356466, -0.23922158717259134, 1.4633201945065708, 1.3800134011897498, 0.2247267573806439, 0.49163132075695115, -0.10828728589737688, 1.1069484290607003, -1.2288487448834053, 0.1754650161188707, 0.7507986272132572, -0.20081391988588704, -0.6226641921427002, -0.16735697752048215, -0.38524578546611754, -0.5355048393729672, -0.34164985540023096, -0.2774104723203889, -0.2584209934005529, -0.3814423922234519, 0.3257577500486821, 0.6434080629177568, 0.66077107797274, 0.3637986673716947, -0.09214981424928291, 0.5276787296850053, -1.0338595767059349, -0.21097706924663143, 0.8984944691691217, 0.0820970582758034, 0.11562641623887104, 0.10032385906751383, -0.6503813578923999, -0.055876884880289614, -0.8571822962027709, 0.615500073921127, -1.3194434776149946, 2.0925297421943623, 0.9410652730595865, -3.673307455724263, -0.1572986034633572, -0.47613933558282523, 0.8539426335428666, -0.23704464026201616, 0.6063597785257324, -0.6518794725049938, 1.7049202285082419, -0.4059466352822378, -2.217238611239522, 1.1045060637619017, 0.13468126793607563], \"xaxis\": \"x4\", \"y\": [-1.3344538032223674, -0.8924994259218787, 0.26886804372886924, 0.15768862475176948, -0.22119158008310583, 0.4620509340031127, 2.4335083818309733, 0.6283138878570738, 0.5916528935640983, -1.107880473845743, -0.9624677212340109, -2.0455267244571513, 0.0909847865615543, 0.3952627572504107, 0.4419932489725158, -0.4226953551742026, 0.06289069744869118, -0.7006193989648868, -1.083720431567451, -1.060865658791126, -0.09081056338239148, -0.9353209782547409, 0.3589422148729274, -1.7868990461486924, -0.745064837314155, 1.6890846798067614, -0.1583008202058165, -0.2393581360509466, -0.3591360207502799, 0.08032986483476401, -1.0175142609752241, -1.5016700621947336, 1.0074806858167047, 0.6986590715947596, -2.588343670560577, 1.6081822850576204, -0.22914040070541067, -0.5293183734964289, 0.08222597405486373, -1.4699631892936766, -1.7930767125550209, -0.8790112806279785, -1.169373718837128, 0.1384087066882726, -1.0214761584041196, -0.04441846576227683, 0.39667629555448003, 0.20222543201121596, -1.2020756242009765, -1.0165590854073892, 0.46592468153875083, 0.31916647378233987, -1.7589705686927102, -0.19469290293284697, -0.017517836703771206, -1.0825926071297598, 0.8868635912852298, 1.5313879689211365, -0.8832920419908965, 1.0771696646288276, 0.4214819723313268, 0.512096106061291, -0.5765759849025575, 0.11538594660067654, -1.1688312935731027, 0.6842055251828377, 0.22219602704027291, -0.5744307101478267, 0.6367232205179054, 0.6191256148390696, 1.8834084468543921, -0.019136677575396017, -1.1087586253663548, -0.09033572122028868, 1.4938373325772583, -0.4050399181262893, -1.7460005036504043, -0.874792619992864, 1.3994180541184202, 0.799905796022181, 1.274938101349231, 0.2394547792737676, -1.577915260135125, 0.1213707929995456, 0.13672512118700048, -0.6331153406325125, 0.8242219198301328, 0.11707874435192542, 0.7436012566066985, -1.6258384419836545, -0.03584548827872644, 0.08944783921389679, 0.578477924074061, 0.7299558400202367, 0.08093456386569041, -0.2981280006647906, 0.7196159948359657, -0.9887151828728751, -1.2858827698631239, -0.6567521716175984], \"yaxis\": \"y4\"}, {\"line\": {\"color\": \"rgba(128, 128, 128, 1.0)\", \"dash\": \"solid\", \"shape\": \"linear\", \"width\": 1.3}, \"marker\": {\"size\": 2, \"symbol\": \"circle\"}, \"mode\": \"markers\", \"name\": \"B\", \"text\": \"\", \"type\": \"scatter\", \"x\": [-1.3344538032223674, -0.8924994259218787, 0.26886804372886924, 0.15768862475176948, -0.22119158008310583, 0.4620509340031127, 2.4335083818309733, 0.6283138878570738, 0.5916528935640983, -1.107880473845743, -0.9624677212340109, -2.0455267244571513, 0.0909847865615543, 0.3952627572504107, 0.4419932489725158, -0.4226953551742026, 0.06289069744869118, -0.7006193989648868, -1.083720431567451, -1.060865658791126, -0.09081056338239148, -0.9353209782547409, 0.3589422148729274, -1.7868990461486924, -0.745064837314155, 1.6890846798067614, -0.1583008202058165, -0.2393581360509466, -0.3591360207502799, 0.08032986483476401, -1.0175142609752241, -1.5016700621947336, 1.0074806858167047, 0.6986590715947596, -2.588343670560577, 1.6081822850576204, -0.22914040070541067, -0.5293183734964289, 0.08222597405486373, -1.4699631892936766, -1.7930767125550209, -0.8790112806279785, -1.169373718837128, 0.1384087066882726, -1.0214761584041196, -0.04441846576227683, 0.39667629555448003, 0.20222543201121596, -1.2020756242009765, -1.0165590854073892, 0.46592468153875083, 0.31916647378233987, -1.7589705686927102, -0.19469290293284697, -0.017517836703771206, -1.0825926071297598, 0.8868635912852298, 1.5313879689211365, -0.8832920419908965, 1.0771696646288276, 0.4214819723313268, 0.512096106061291, -0.5765759849025575, 0.11538594660067654, -1.1688312935731027, 0.6842055251828377, 0.22219602704027291, -0.5744307101478267, 0.6367232205179054, 0.6191256148390696, 1.8834084468543921, -0.019136677575396017, -1.1087586253663548, -0.09033572122028868, 1.4938373325772583, -0.4050399181262893, -1.7460005036504043, -0.874792619992864, 1.3994180541184202, 0.799905796022181, 1.274938101349231, 0.2394547792737676, -1.577915260135125, 0.1213707929995456, 0.13672512118700048, -0.6331153406325125, 0.8242219198301328, 0.11707874435192542, 0.7436012566066985, -1.6258384419836545, -0.03584548827872644, 0.08944783921389679, 0.578477924074061, 0.7299558400202367, 0.08093456386569041, -0.2981280006647906, 0.7196159948359657, -0.9887151828728751, -1.2858827698631239, -0.6567521716175984], \"xaxis\": \"x5\", \"y\": [0.14115223110497468, 0.0064944644833475305, 0.7422571167780311, 1.0645093771659695, -0.3106905288382996, 0.9105427572688288, 0.6103120706936248, 0.9859342503407027, -1.3935904672907908, 0.5691387823512065, 0.6619116415384811, 1.6926025880928388, -0.6199815554999915, -0.08994976033741052, 1.0750757711471672, 0.9473855422854135, -0.9659146731795786, -0.8563163114136054, 0.40461905434576567, -0.352421659367107, -0.17570731026437184, -0.9037477548119306, -0.02350852517774842, 0.05092474675920466, 1.043949946154262, -2.4490346466295554, 0.33014417054208783, -2.2514329386378424, 0.13653096809477527, 0.27854119209137806, 0.12084021939900245, -0.22910722021751045, 0.8157967113919772, 0.843764373253457, -0.1426121926871968, -0.5483486869724357, 0.2608490671514323, -0.26372400914740446, 0.8194095519733929, -0.270587376920324, -0.7737009584318266, -1.8472980629037679, -0.7082294452695416, 0.41190023363389006, -0.05569757355731567, -0.8395179440475853, 1.237960335845157, 0.09429165095844295, 0.8444303425008042, 1.0941573273460798, 0.5004607034246967, -1.2380236960978572, -0.5299553544779251, -2.401224423159397, -1.533248329403312, -0.17338990000742058, -1.303044209950965, 0.15434110478985552, -0.014923617770171496, 2.2196598208911857, -0.22823646275445944, -0.2495367783710828, -0.08131270339267661, 1.9699500613792806, -1.188690274209095, 0.8832334729754634, 2.09273443955495, -1.0036519160375525, -0.7060680965281807, -0.23968689244003327, 0.163276759185642, -0.686450971672635, -0.30631556602327387, -0.08707637532852806, -0.5228852910421682, -0.7172234514173806, -0.29517886902307716, -0.20458324362180894, -1.462710827625806, 1.4670598502699281, 0.8479039242641055, -1.9986453717747588, -0.6388634514624134, 0.28169086802838134, -0.7770575057522737, 0.04592948766882219, -1.0942302497431726, 0.9789185809599306, -0.46129486343229453, -0.40833102173104213, 1.227531863543337, -0.37368070911341755, -0.45808425613661174, 0.7934113176984202, -1.500505747410543, 0.3307505779477316, 0.5925706519046703, 1.635234820387899, 0.4765566163310391, -1.1996493035445714], \"yaxis\": \"y5\"}, {\"histfunc\": \"count\", \"histnorm\": \"\", \"marker\": {\"color\": \"rgba(55, 128, 191, 1.0)\", \"line\": {\"color\": \"#4D5663\", \"width\": 1.3}}, \"name\": \"B\", \"nbinsx\": 10, \"opacity\": 0.8, \"orientation\": \"v\", \"type\": \"histogram\", \"x\": [0.14115223110497468, 0.0064944644833475305, 0.7422571167780311, 1.0645093771659695, -0.3106905288382996, 0.9105427572688288, 0.6103120706936248, 0.9859342503407027, -1.3935904672907908, 0.5691387823512065, 0.6619116415384811, 1.6926025880928388, -0.6199815554999915, -0.08994976033741052, 1.0750757711471672, 0.9473855422854135, -0.9659146731795786, -0.8563163114136054, 0.40461905434576567, -0.352421659367107, -0.17570731026437184, -0.9037477548119306, -0.02350852517774842, 0.05092474675920466, 1.043949946154262, -2.4490346466295554, 0.33014417054208783, -2.2514329386378424, 0.13653096809477527, 0.27854119209137806, 0.12084021939900245, -0.22910722021751045, 0.8157967113919772, 0.843764373253457, -0.1426121926871968, -0.5483486869724357, 0.2608490671514323, -0.26372400914740446, 0.8194095519733929, -0.270587376920324, -0.7737009584318266, -1.8472980629037679, -0.7082294452695416, 0.41190023363389006, -0.05569757355731567, -0.8395179440475853, 1.237960335845157, 0.09429165095844295, 0.8444303425008042, 1.0941573273460798, 0.5004607034246967, -1.2380236960978572, -0.5299553544779251, -2.401224423159397, -1.533248329403312, -0.17338990000742058, -1.303044209950965, 0.15434110478985552, -0.014923617770171496, 2.2196598208911857, -0.22823646275445944, -0.2495367783710828, -0.08131270339267661, 1.9699500613792806, -1.188690274209095, 0.8832334729754634, 2.09273443955495, -1.0036519160375525, -0.7060680965281807, -0.23968689244003327, 0.163276759185642, -0.686450971672635, -0.30631556602327387, -0.08707637532852806, -0.5228852910421682, -0.7172234514173806, -0.29517886902307716, -0.20458324362180894, -1.462710827625806, 1.4670598502699281, 0.8479039242641055, -1.9986453717747588, -0.6388634514624134, 0.28169086802838134, -0.7770575057522737, 0.04592948766882219, -1.0942302497431726, 0.9789185809599306, -0.46129486343229453, -0.40833102173104213, 1.227531863543337, -0.37368070911341755, -0.45808425613661174, 0.7934113176984202, -1.500505747410543, 0.3307505779477316, 0.5925706519046703, 1.635234820387899, 0.4765566163310391, -1.1996493035445714], \"xaxis\": \"x6\", \"yaxis\": \"y6\"}, {\"line\": {\"color\": \"rgba(128, 128, 128, 1.0)\", \"dash\": \"solid\", \"shape\": \"linear\", \"width\": 1.3}, \"marker\": {\"size\": 2, \"symbol\": \"circle\"}, \"mode\": \"markers\", \"name\": \"B\", \"text\": \"\", \"type\": \"scatter\", \"x\": [0.2530917113271322, -0.9890104346964195, -0.39399061015526105, -0.806349443728782, 1.0269292755252677, -0.5765171906888962, 1.595271012716274, 0.5963187126316164, -1.4502231149363887, -0.4112895787635489, 1.8019109475952786, -0.0918095648497734, 0.7627425581289289, -0.21914522192757702, -0.2926509630327127, -0.6971203406836002, -0.5468277875916475, -0.7331471279589682, 0.7182673562773526, -1.1734544133177471, -1.474992929667637, 0.8683397659408032, 0.35905053100282663, 0.2292625916257633, -0.6967589269149497, -0.48177822080743415, -0.9222113134634797, 1.2461523735545468, 1.5046599491507222, 0.92261259229617, 0.06195593412560095, 1.3501517219540615, -0.1962592516509624, -1.5236450780327122, 0.07013849426944149, -1.0175226875210754, -1.967895625772992, 1.181703711464979, -0.5678600438042352, 0.6595631355626677, -0.34433448425807334, -0.20307368400259568, -0.54553609386368, -1.6769241078819122, 0.6757788510129932, 0.8258212450642957, -0.350307561972649, 1.2574260935280994, 1.3359166977975272, -2.043068859179839, -0.519474178200342, 0.20599050286675058, -1.651846473593329, 0.31113593378343907, -0.49987751408599584, 0.3888705685375426, -1.506532134549189, 0.14568265358322754, 0.6887695472572651, 0.24988829811863322, -0.08825695195704542, 0.5420044701977272, -0.849556723826802, -0.2921489315869297, 0.5073892089994784, -0.3683131455091124, 1.1933559825006401, 0.01849527309794985, -0.8311877135581195, -0.903773590381288, -0.3148140662690922, 1.964400161863338, -1.581092584064821, -0.07324715397940061, 0.1485008590973546, 0.9057581978437469, -0.618261773342376, 0.6330497758753028, -0.13553713399477593, 0.12943801352764087, 0.9031247247539765, 1.446838737665481, 1.477826912335126, -1.1763939428341526, 0.9995732717882453, -0.12423940048829445, -1.1013294246687177, -0.17903286619989758, -0.04605668442365374, 1.89833634590754, 0.038807438640817114, -0.8161127075991621, -0.9456418183483448, 0.17419248814889204, 0.1405198689364899, -2.1038438209599977, 0.6808095514690816, -0.35020137419082026, -1.113547234381775, 0.7984763692018992], \"xaxis\": \"x7\", \"y\": [0.14115223110497468, 0.0064944644833475305, 0.7422571167780311, 1.0645093771659695, -0.3106905288382996, 0.9105427572688288, 0.6103120706936248, 0.9859342503407027, -1.3935904672907908, 0.5691387823512065, 0.6619116415384811, 1.6926025880928388, -0.6199815554999915, -0.08994976033741052, 1.0750757711471672, 0.9473855422854135, -0.9659146731795786, -0.8563163114136054, 0.40461905434576567, -0.352421659367107, -0.17570731026437184, -0.9037477548119306, -0.02350852517774842, 0.05092474675920466, 1.043949946154262, -2.4490346466295554, 0.33014417054208783, -2.2514329386378424, 0.13653096809477527, 0.27854119209137806, 0.12084021939900245, -0.22910722021751045, 0.8157967113919772, 0.843764373253457, -0.1426121926871968, -0.5483486869724357, 0.2608490671514323, -0.26372400914740446, 0.8194095519733929, -0.270587376920324, -0.7737009584318266, -1.8472980629037679, -0.7082294452695416, 0.41190023363389006, -0.05569757355731567, -0.8395179440475853, 1.237960335845157, 0.09429165095844295, 0.8444303425008042, 1.0941573273460798, 0.5004607034246967, -1.2380236960978572, -0.5299553544779251, -2.401224423159397, -1.533248329403312, -0.17338990000742058, -1.303044209950965, 0.15434110478985552, -0.014923617770171496, 2.2196598208911857, -0.22823646275445944, -0.2495367783710828, -0.08131270339267661, 1.9699500613792806, -1.188690274209095, 0.8832334729754634, 2.09273443955495, -1.0036519160375525, -0.7060680965281807, -0.23968689244003327, 0.163276759185642, -0.686450971672635, -0.30631556602327387, -0.08707637532852806, -0.5228852910421682, -0.7172234514173806, -0.29517886902307716, -0.20458324362180894, -1.462710827625806, 1.4670598502699281, 0.8479039242641055, -1.9986453717747588, -0.6388634514624134, 0.28169086802838134, -0.7770575057522737, 0.04592948766882219, -1.0942302497431726, 0.9789185809599306, -0.46129486343229453, -0.40833102173104213, 1.227531863543337, -0.37368070911341755, -0.45808425613661174, 0.7934113176984202, -1.500505747410543, 0.3307505779477316, 0.5925706519046703, 1.635234820387899, 0.4765566163310391, -1.1996493035445714], \"yaxis\": \"y7\"}, {\"line\": {\"color\": \"rgba(128, 128, 128, 1.0)\", \"dash\": \"solid\", \"shape\": \"linear\", \"width\": 1.3}, \"marker\": {\"size\": 2, \"symbol\": \"circle\"}, \"mode\": \"markers\", \"name\": \"B\", \"text\": \"\", \"type\": \"scatter\", \"x\": [0.9135095511270055, 0.8300768819790462, -0.32004306346453193, -0.6581296286650561, 1.4836945505803925, 1.0270586035577867, -0.9859497561904975, 1.5701847583308441, 1.0689501999873456, 0.27469367698909647, 0.802179541436546, 0.28884337018785844, -0.7434532905448736, 0.27274012450951335, -1.2859035819950417, 1.4733751166997981, -1.448170024930766, 0.6387142479829242, 0.10544400953620241, -1.2102928294002335, -0.24276755640050543, -0.8963604076627338, 0.22887388670666756, 0.7055734686513757, -0.11357563100775599, 0.9252196163749348, 1.058228680287137, 0.25047384372673487, 1.1653344926210953, 0.15865317944084573, 1.3866504724146873, 1.6689296985913067, -0.8134044689759502, 0.6487187769518447, -0.8052091624301895, 2.0326603507057137, 0.1073820460355707, 0.4071162529196392, -0.5750653685166855, -0.6315805871754341, 0.5418712272596757, -1.1306708673810189, -1.118714709363381, -0.4401647702306003, -0.8061306367639891, -1.197345475413853, -1.0068972492704373, -0.17817852999860212, 0.639369678595348, 1.013703991356466, -0.23922158717259134, 1.4633201945065708, 1.3800134011897498, 0.2247267573806439, 0.49163132075695115, -0.10828728589737688, 1.1069484290607003, -1.2288487448834053, 0.1754650161188707, 0.7507986272132572, -0.20081391988588704, -0.6226641921427002, -0.16735697752048215, -0.38524578546611754, -0.5355048393729672, -0.34164985540023096, -0.2774104723203889, -0.2584209934005529, -0.3814423922234519, 0.3257577500486821, 0.6434080629177568, 0.66077107797274, 0.3637986673716947, -0.09214981424928291, 0.5276787296850053, -1.0338595767059349, -0.21097706924663143, 0.8984944691691217, 0.0820970582758034, 0.11562641623887104, 0.10032385906751383, -0.6503813578923999, -0.055876884880289614, -0.8571822962027709, 0.615500073921127, -1.3194434776149946, 2.0925297421943623, 0.9410652730595865, -3.673307455724263, -0.1572986034633572, -0.47613933558282523, 0.8539426335428666, -0.23704464026201616, 0.6063597785257324, -0.6518794725049938, 1.7049202285082419, -0.4059466352822378, -2.217238611239522, 1.1045060637619017, 0.13468126793607563], \"xaxis\": \"x8\", \"y\": [0.14115223110497468, 0.0064944644833475305, 0.7422571167780311, 1.0645093771659695, -0.3106905288382996, 0.9105427572688288, 0.6103120706936248, 0.9859342503407027, -1.3935904672907908, 0.5691387823512065, 0.6619116415384811, 1.6926025880928388, -0.6199815554999915, -0.08994976033741052, 1.0750757711471672, 0.9473855422854135, -0.9659146731795786, -0.8563163114136054, 0.40461905434576567, -0.352421659367107, -0.17570731026437184, -0.9037477548119306, -0.02350852517774842, 0.05092474675920466, 1.043949946154262, -2.4490346466295554, 0.33014417054208783, -2.2514329386378424, 0.13653096809477527, 0.27854119209137806, 0.12084021939900245, -0.22910722021751045, 0.8157967113919772, 0.843764373253457, -0.1426121926871968, -0.5483486869724357, 0.2608490671514323, -0.26372400914740446, 0.8194095519733929, -0.270587376920324, -0.7737009584318266, -1.8472980629037679, -0.7082294452695416, 0.41190023363389006, -0.05569757355731567, -0.8395179440475853, 1.237960335845157, 0.09429165095844295, 0.8444303425008042, 1.0941573273460798, 0.5004607034246967, -1.2380236960978572, -0.5299553544779251, -2.401224423159397, -1.533248329403312, -0.17338990000742058, -1.303044209950965, 0.15434110478985552, -0.014923617770171496, 2.2196598208911857, -0.22823646275445944, -0.2495367783710828, -0.08131270339267661, 1.9699500613792806, -1.188690274209095, 0.8832334729754634, 2.09273443955495, -1.0036519160375525, -0.7060680965281807, -0.23968689244003327, 0.163276759185642, -0.686450971672635, -0.30631556602327387, -0.08707637532852806, -0.5228852910421682, -0.7172234514173806, -0.29517886902307716, -0.20458324362180894, -1.462710827625806, 1.4670598502699281, 0.8479039242641055, -1.9986453717747588, -0.6388634514624134, 0.28169086802838134, -0.7770575057522737, 0.04592948766882219, -1.0942302497431726, 0.9789185809599306, -0.46129486343229453, -0.40833102173104213, 1.227531863543337, -0.37368070911341755, -0.45808425613661174, 0.7934113176984202, -1.500505747410543, 0.3307505779477316, 0.5925706519046703, 1.635234820387899, 0.4765566163310391, -1.1996493035445714], \"yaxis\": \"y8\"}, {\"line\": {\"color\": \"rgba(128, 128, 128, 1.0)\", \"dash\": \"solid\", \"shape\": \"linear\", \"width\": 1.3}, \"marker\": {\"size\": 2, \"symbol\": \"circle\"}, \"mode\": \"markers\", \"name\": \"C\", \"text\": \"\", \"type\": \"scatter\", \"x\": [-1.3344538032223674, -0.8924994259218787, 0.26886804372886924, 0.15768862475176948, -0.22119158008310583, 0.4620509340031127, 2.4335083818309733, 0.6283138878570738, 0.5916528935640983, -1.107880473845743, -0.9624677212340109, -2.0455267244571513, 0.0909847865615543, 0.3952627572504107, 0.4419932489725158, -0.4226953551742026, 0.06289069744869118, -0.7006193989648868, -1.083720431567451, -1.060865658791126, -0.09081056338239148, -0.9353209782547409, 0.3589422148729274, -1.7868990461486924, -0.745064837314155, 1.6890846798067614, -0.1583008202058165, -0.2393581360509466, -0.3591360207502799, 0.08032986483476401, -1.0175142609752241, -1.5016700621947336, 1.0074806858167047, 0.6986590715947596, -2.588343670560577, 1.6081822850576204, -0.22914040070541067, -0.5293183734964289, 0.08222597405486373, -1.4699631892936766, -1.7930767125550209, -0.8790112806279785, -1.169373718837128, 0.1384087066882726, -1.0214761584041196, -0.04441846576227683, 0.39667629555448003, 0.20222543201121596, -1.2020756242009765, -1.0165590854073892, 0.46592468153875083, 0.31916647378233987, -1.7589705686927102, -0.19469290293284697, -0.017517836703771206, -1.0825926071297598, 0.8868635912852298, 1.5313879689211365, -0.8832920419908965, 1.0771696646288276, 0.4214819723313268, 0.512096106061291, -0.5765759849025575, 0.11538594660067654, -1.1688312935731027, 0.6842055251828377, 0.22219602704027291, -0.5744307101478267, 0.6367232205179054, 0.6191256148390696, 1.8834084468543921, -0.019136677575396017, -1.1087586253663548, -0.09033572122028868, 1.4938373325772583, -0.4050399181262893, -1.7460005036504043, -0.874792619992864, 1.3994180541184202, 0.799905796022181, 1.274938101349231, 0.2394547792737676, -1.577915260135125, 0.1213707929995456, 0.13672512118700048, -0.6331153406325125, 0.8242219198301328, 0.11707874435192542, 0.7436012566066985, -1.6258384419836545, -0.03584548827872644, 0.08944783921389679, 0.578477924074061, 0.7299558400202367, 0.08093456386569041, -0.2981280006647906, 0.7196159948359657, -0.9887151828728751, -1.2858827698631239, -0.6567521716175984], \"xaxis\": \"x9\", \"y\": [0.2530917113271322, -0.9890104346964195, -0.39399061015526105, -0.806349443728782, 1.0269292755252677, -0.5765171906888962, 1.595271012716274, 0.5963187126316164, -1.4502231149363887, -0.4112895787635489, 1.8019109475952786, -0.0918095648497734, 0.7627425581289289, -0.21914522192757702, -0.2926509630327127, -0.6971203406836002, -0.5468277875916475, -0.7331471279589682, 0.7182673562773526, -1.1734544133177471, -1.474992929667637, 0.8683397659408032, 0.35905053100282663, 0.2292625916257633, -0.6967589269149497, -0.48177822080743415, -0.9222113134634797, 1.2461523735545468, 1.5046599491507222, 0.92261259229617, 0.06195593412560095, 1.3501517219540615, -0.1962592516509624, -1.5236450780327122, 0.07013849426944149, -1.0175226875210754, -1.967895625772992, 1.181703711464979, -0.5678600438042352, 0.6595631355626677, -0.34433448425807334, -0.20307368400259568, -0.54553609386368, -1.6769241078819122, 0.6757788510129932, 0.8258212450642957, -0.350307561972649, 1.2574260935280994, 1.3359166977975272, -2.043068859179839, -0.519474178200342, 0.20599050286675058, -1.651846473593329, 0.31113593378343907, -0.49987751408599584, 0.3888705685375426, -1.506532134549189, 0.14568265358322754, 0.6887695472572651, 0.24988829811863322, -0.08825695195704542, 0.5420044701977272, -0.849556723826802, -0.2921489315869297, 0.5073892089994784, -0.3683131455091124, 1.1933559825006401, 0.01849527309794985, -0.8311877135581195, -0.903773590381288, -0.3148140662690922, 1.964400161863338, -1.581092584064821, -0.07324715397940061, 0.1485008590973546, 0.9057581978437469, -0.618261773342376, 0.6330497758753028, -0.13553713399477593, 0.12943801352764087, 0.9031247247539765, 1.446838737665481, 1.477826912335126, -1.1763939428341526, 0.9995732717882453, -0.12423940048829445, -1.1013294246687177, -0.17903286619989758, -0.04605668442365374, 1.89833634590754, 0.038807438640817114, -0.8161127075991621, -0.9456418183483448, 0.17419248814889204, 0.1405198689364899, -2.1038438209599977, 0.6808095514690816, -0.35020137419082026, -1.113547234381775, 0.7984763692018992], \"yaxis\": \"y9\"}, {\"line\": {\"color\": \"rgba(128, 128, 128, 1.0)\", \"dash\": \"solid\", \"shape\": \"linear\", \"width\": 1.3}, \"marker\": {\"size\": 2, \"symbol\": \"circle\"}, \"mode\": \"markers\", \"name\": \"C\", \"text\": \"\", \"type\": \"scatter\", \"x\": [0.14115223110497468, 0.0064944644833475305, 0.7422571167780311, 1.0645093771659695, -0.3106905288382996, 0.9105427572688288, 0.6103120706936248, 0.9859342503407027, -1.3935904672907908, 0.5691387823512065, 0.6619116415384811, 1.6926025880928388, -0.6199815554999915, -0.08994976033741052, 1.0750757711471672, 0.9473855422854135, -0.9659146731795786, -0.8563163114136054, 0.40461905434576567, -0.352421659367107, -0.17570731026437184, -0.9037477548119306, -0.02350852517774842, 0.05092474675920466, 1.043949946154262, -2.4490346466295554, 0.33014417054208783, -2.2514329386378424, 0.13653096809477527, 0.27854119209137806, 0.12084021939900245, -0.22910722021751045, 0.8157967113919772, 0.843764373253457, -0.1426121926871968, -0.5483486869724357, 0.2608490671514323, -0.26372400914740446, 0.8194095519733929, -0.270587376920324, -0.7737009584318266, -1.8472980629037679, -0.7082294452695416, 0.41190023363389006, -0.05569757355731567, -0.8395179440475853, 1.237960335845157, 0.09429165095844295, 0.8444303425008042, 1.0941573273460798, 0.5004607034246967, -1.2380236960978572, -0.5299553544779251, -2.401224423159397, -1.533248329403312, -0.17338990000742058, -1.303044209950965, 0.15434110478985552, -0.014923617770171496, 2.2196598208911857, -0.22823646275445944, -0.2495367783710828, -0.08131270339267661, 1.9699500613792806, -1.188690274209095, 0.8832334729754634, 2.09273443955495, -1.0036519160375525, -0.7060680965281807, -0.23968689244003327, 0.163276759185642, -0.686450971672635, -0.30631556602327387, -0.08707637532852806, -0.5228852910421682, -0.7172234514173806, -0.29517886902307716, -0.20458324362180894, -1.462710827625806, 1.4670598502699281, 0.8479039242641055, -1.9986453717747588, -0.6388634514624134, 0.28169086802838134, -0.7770575057522737, 0.04592948766882219, -1.0942302497431726, 0.9789185809599306, -0.46129486343229453, -0.40833102173104213, 1.227531863543337, -0.37368070911341755, -0.45808425613661174, 0.7934113176984202, -1.500505747410543, 0.3307505779477316, 0.5925706519046703, 1.635234820387899, 0.4765566163310391, -1.1996493035445714], \"xaxis\": \"x10\", \"y\": [0.2530917113271322, -0.9890104346964195, -0.39399061015526105, -0.806349443728782, 1.0269292755252677, -0.5765171906888962, 1.595271012716274, 0.5963187126316164, -1.4502231149363887, -0.4112895787635489, 1.8019109475952786, -0.0918095648497734, 0.7627425581289289, -0.21914522192757702, -0.2926509630327127, -0.6971203406836002, -0.5468277875916475, -0.7331471279589682, 0.7182673562773526, -1.1734544133177471, -1.474992929667637, 0.8683397659408032, 0.35905053100282663, 0.2292625916257633, -0.6967589269149497, -0.48177822080743415, -0.9222113134634797, 1.2461523735545468, 1.5046599491507222, 0.92261259229617, 0.06195593412560095, 1.3501517219540615, -0.1962592516509624, -1.5236450780327122, 0.07013849426944149, -1.0175226875210754, -1.967895625772992, 1.181703711464979, -0.5678600438042352, 0.6595631355626677, -0.34433448425807334, -0.20307368400259568, -0.54553609386368, -1.6769241078819122, 0.6757788510129932, 0.8258212450642957, -0.350307561972649, 1.2574260935280994, 1.3359166977975272, -2.043068859179839, -0.519474178200342, 0.20599050286675058, -1.651846473593329, 0.31113593378343907, -0.49987751408599584, 0.3888705685375426, -1.506532134549189, 0.14568265358322754, 0.6887695472572651, 0.24988829811863322, -0.08825695195704542, 0.5420044701977272, -0.849556723826802, -0.2921489315869297, 0.5073892089994784, -0.3683131455091124, 1.1933559825006401, 0.01849527309794985, -0.8311877135581195, -0.903773590381288, -0.3148140662690922, 1.964400161863338, -1.581092584064821, -0.07324715397940061, 0.1485008590973546, 0.9057581978437469, -0.618261773342376, 0.6330497758753028, -0.13553713399477593, 0.12943801352764087, 0.9031247247539765, 1.446838737665481, 1.477826912335126, -1.1763939428341526, 0.9995732717882453, -0.12423940048829445, -1.1013294246687177, -0.17903286619989758, -0.04605668442365374, 1.89833634590754, 0.038807438640817114, -0.8161127075991621, -0.9456418183483448, 0.17419248814889204, 0.1405198689364899, -2.1038438209599977, 0.6808095514690816, -0.35020137419082026, -1.113547234381775, 0.7984763692018992], \"yaxis\": \"y10\"}, {\"histfunc\": \"count\", \"histnorm\": \"\", \"marker\": {\"color\": \"rgba(50, 171, 96, 1.0)\", \"line\": {\"color\": \"#4D5663\", \"width\": 1.3}}, \"name\": \"C\", \"nbinsx\": 10, \"opacity\": 0.8, \"orientation\": \"v\", \"type\": \"histogram\", \"x\": [0.2530917113271322, -0.9890104346964195, -0.39399061015526105, -0.806349443728782, 1.0269292755252677, -0.5765171906888962, 1.595271012716274, 0.5963187126316164, -1.4502231149363887, -0.4112895787635489, 1.8019109475952786, -0.0918095648497734, 0.7627425581289289, -0.21914522192757702, -0.2926509630327127, -0.6971203406836002, -0.5468277875916475, -0.7331471279589682, 0.7182673562773526, -1.1734544133177471, -1.474992929667637, 0.8683397659408032, 0.35905053100282663, 0.2292625916257633, -0.6967589269149497, -0.48177822080743415, -0.9222113134634797, 1.2461523735545468, 1.5046599491507222, 0.92261259229617, 0.06195593412560095, 1.3501517219540615, -0.1962592516509624, -1.5236450780327122, 0.07013849426944149, -1.0175226875210754, -1.967895625772992, 1.181703711464979, -0.5678600438042352, 0.6595631355626677, -0.34433448425807334, -0.20307368400259568, -0.54553609386368, -1.6769241078819122, 0.6757788510129932, 0.8258212450642957, -0.350307561972649, 1.2574260935280994, 1.3359166977975272, -2.043068859179839, -0.519474178200342, 0.20599050286675058, -1.651846473593329, 0.31113593378343907, -0.49987751408599584, 0.3888705685375426, -1.506532134549189, 0.14568265358322754, 0.6887695472572651, 0.24988829811863322, -0.08825695195704542, 0.5420044701977272, -0.849556723826802, -0.2921489315869297, 0.5073892089994784, -0.3683131455091124, 1.1933559825006401, 0.01849527309794985, -0.8311877135581195, -0.903773590381288, -0.3148140662690922, 1.964400161863338, -1.581092584064821, -0.07324715397940061, 0.1485008590973546, 0.9057581978437469, -0.618261773342376, 0.6330497758753028, -0.13553713399477593, 0.12943801352764087, 0.9031247247539765, 1.446838737665481, 1.477826912335126, -1.1763939428341526, 0.9995732717882453, -0.12423940048829445, -1.1013294246687177, -0.17903286619989758, -0.04605668442365374, 1.89833634590754, 0.038807438640817114, -0.8161127075991621, -0.9456418183483448, 0.17419248814889204, 0.1405198689364899, -2.1038438209599977, 0.6808095514690816, -0.35020137419082026, -1.113547234381775, 0.7984763692018992], \"xaxis\": \"x11\", \"yaxis\": \"y11\"}, {\"line\": {\"color\": \"rgba(128, 128, 128, 1.0)\", \"dash\": \"solid\", \"shape\": \"linear\", \"width\": 1.3}, \"marker\": {\"size\": 2, \"symbol\": \"circle\"}, \"mode\": \"markers\", \"name\": \"C\", \"text\": \"\", \"type\": \"scatter\", \"x\": [0.9135095511270055, 0.8300768819790462, -0.32004306346453193, -0.6581296286650561, 1.4836945505803925, 1.0270586035577867, -0.9859497561904975, 1.5701847583308441, 1.0689501999873456, 0.27469367698909647, 0.802179541436546, 0.28884337018785844, -0.7434532905448736, 0.27274012450951335, -1.2859035819950417, 1.4733751166997981, -1.448170024930766, 0.6387142479829242, 0.10544400953620241, -1.2102928294002335, -0.24276755640050543, -0.8963604076627338, 0.22887388670666756, 0.7055734686513757, -0.11357563100775599, 0.9252196163749348, 1.058228680287137, 0.25047384372673487, 1.1653344926210953, 0.15865317944084573, 1.3866504724146873, 1.6689296985913067, -0.8134044689759502, 0.6487187769518447, -0.8052091624301895, 2.0326603507057137, 0.1073820460355707, 0.4071162529196392, -0.5750653685166855, -0.6315805871754341, 0.5418712272596757, -1.1306708673810189, -1.118714709363381, -0.4401647702306003, -0.8061306367639891, -1.197345475413853, -1.0068972492704373, -0.17817852999860212, 0.639369678595348, 1.013703991356466, -0.23922158717259134, 1.4633201945065708, 1.3800134011897498, 0.2247267573806439, 0.49163132075695115, -0.10828728589737688, 1.1069484290607003, -1.2288487448834053, 0.1754650161188707, 0.7507986272132572, -0.20081391988588704, -0.6226641921427002, -0.16735697752048215, -0.38524578546611754, -0.5355048393729672, -0.34164985540023096, -0.2774104723203889, -0.2584209934005529, -0.3814423922234519, 0.3257577500486821, 0.6434080629177568, 0.66077107797274, 0.3637986673716947, -0.09214981424928291, 0.5276787296850053, -1.0338595767059349, -0.21097706924663143, 0.8984944691691217, 0.0820970582758034, 0.11562641623887104, 0.10032385906751383, -0.6503813578923999, -0.055876884880289614, -0.8571822962027709, 0.615500073921127, -1.3194434776149946, 2.0925297421943623, 0.9410652730595865, -3.673307455724263, -0.1572986034633572, -0.47613933558282523, 0.8539426335428666, -0.23704464026201616, 0.6063597785257324, -0.6518794725049938, 1.7049202285082419, -0.4059466352822378, -2.217238611239522, 1.1045060637619017, 0.13468126793607563], \"xaxis\": \"x12\", \"y\": [0.2530917113271322, -0.9890104346964195, -0.39399061015526105, -0.806349443728782, 1.0269292755252677, -0.5765171906888962, 1.595271012716274, 0.5963187126316164, -1.4502231149363887, -0.4112895787635489, 1.8019109475952786, -0.0918095648497734, 0.7627425581289289, -0.21914522192757702, -0.2926509630327127, -0.6971203406836002, -0.5468277875916475, -0.7331471279589682, 0.7182673562773526, -1.1734544133177471, -1.474992929667637, 0.8683397659408032, 0.35905053100282663, 0.2292625916257633, -0.6967589269149497, -0.48177822080743415, -0.9222113134634797, 1.2461523735545468, 1.5046599491507222, 0.92261259229617, 0.06195593412560095, 1.3501517219540615, -0.1962592516509624, -1.5236450780327122, 0.07013849426944149, -1.0175226875210754, -1.967895625772992, 1.181703711464979, -0.5678600438042352, 0.6595631355626677, -0.34433448425807334, -0.20307368400259568, -0.54553609386368, -1.6769241078819122, 0.6757788510129932, 0.8258212450642957, -0.350307561972649, 1.2574260935280994, 1.3359166977975272, -2.043068859179839, -0.519474178200342, 0.20599050286675058, -1.651846473593329, 0.31113593378343907, -0.49987751408599584, 0.3888705685375426, -1.506532134549189, 0.14568265358322754, 0.6887695472572651, 0.24988829811863322, -0.08825695195704542, 0.5420044701977272, -0.849556723826802, -0.2921489315869297, 0.5073892089994784, -0.3683131455091124, 1.1933559825006401, 0.01849527309794985, -0.8311877135581195, -0.903773590381288, -0.3148140662690922, 1.964400161863338, -1.581092584064821, -0.07324715397940061, 0.1485008590973546, 0.9057581978437469, -0.618261773342376, 0.6330497758753028, -0.13553713399477593, 0.12943801352764087, 0.9031247247539765, 1.446838737665481, 1.477826912335126, -1.1763939428341526, 0.9995732717882453, -0.12423940048829445, -1.1013294246687177, -0.17903286619989758, -0.04605668442365374, 1.89833634590754, 0.038807438640817114, -0.8161127075991621, -0.9456418183483448, 0.17419248814889204, 0.1405198689364899, -2.1038438209599977, 0.6808095514690816, -0.35020137419082026, -1.113547234381775, 0.7984763692018992], \"yaxis\": \"y12\"}, {\"line\": {\"color\": \"rgba(128, 128, 128, 1.0)\", \"dash\": \"solid\", \"shape\": \"linear\", \"width\": 1.3}, \"marker\": {\"size\": 2, \"symbol\": \"circle\"}, \"mode\": \"markers\", \"name\": \"D\", \"text\": \"\", \"type\": \"scatter\", \"x\": [-1.3344538032223674, -0.8924994259218787, 0.26886804372886924, 0.15768862475176948, -0.22119158008310583, 0.4620509340031127, 2.4335083818309733, 0.6283138878570738, 0.5916528935640983, -1.107880473845743, -0.9624677212340109, -2.0455267244571513, 0.0909847865615543, 0.3952627572504107, 0.4419932489725158, -0.4226953551742026, 0.06289069744869118, -0.7006193989648868, -1.083720431567451, -1.060865658791126, -0.09081056338239148, -0.9353209782547409, 0.3589422148729274, -1.7868990461486924, -0.745064837314155, 1.6890846798067614, -0.1583008202058165, -0.2393581360509466, -0.3591360207502799, 0.08032986483476401, -1.0175142609752241, -1.5016700621947336, 1.0074806858167047, 0.6986590715947596, -2.588343670560577, 1.6081822850576204, -0.22914040070541067, -0.5293183734964289, 0.08222597405486373, -1.4699631892936766, -1.7930767125550209, -0.8790112806279785, -1.169373718837128, 0.1384087066882726, -1.0214761584041196, -0.04441846576227683, 0.39667629555448003, 0.20222543201121596, -1.2020756242009765, -1.0165590854073892, 0.46592468153875083, 0.31916647378233987, -1.7589705686927102, -0.19469290293284697, -0.017517836703771206, -1.0825926071297598, 0.8868635912852298, 1.5313879689211365, -0.8832920419908965, 1.0771696646288276, 0.4214819723313268, 0.512096106061291, -0.5765759849025575, 0.11538594660067654, -1.1688312935731027, 0.6842055251828377, 0.22219602704027291, -0.5744307101478267, 0.6367232205179054, 0.6191256148390696, 1.8834084468543921, -0.019136677575396017, -1.1087586253663548, -0.09033572122028868, 1.4938373325772583, -0.4050399181262893, -1.7460005036504043, -0.874792619992864, 1.3994180541184202, 0.799905796022181, 1.274938101349231, 0.2394547792737676, -1.577915260135125, 0.1213707929995456, 0.13672512118700048, -0.6331153406325125, 0.8242219198301328, 0.11707874435192542, 0.7436012566066985, -1.6258384419836545, -0.03584548827872644, 0.08944783921389679, 0.578477924074061, 0.7299558400202367, 0.08093456386569041, -0.2981280006647906, 0.7196159948359657, -0.9887151828728751, -1.2858827698631239, -0.6567521716175984], \"xaxis\": \"x13\", \"y\": [0.9135095511270055, 0.8300768819790462, -0.32004306346453193, -0.6581296286650561, 1.4836945505803925, 1.0270586035577867, -0.9859497561904975, 1.5701847583308441, 1.0689501999873456, 0.27469367698909647, 0.802179541436546, 0.28884337018785844, -0.7434532905448736, 0.27274012450951335, -1.2859035819950417, 1.4733751166997981, -1.448170024930766, 0.6387142479829242, 0.10544400953620241, -1.2102928294002335, -0.24276755640050543, -0.8963604076627338, 0.22887388670666756, 0.7055734686513757, -0.11357563100775599, 0.9252196163749348, 1.058228680287137, 0.25047384372673487, 1.1653344926210953, 0.15865317944084573, 1.3866504724146873, 1.6689296985913067, -0.8134044689759502, 0.6487187769518447, -0.8052091624301895, 2.0326603507057137, 0.1073820460355707, 0.4071162529196392, -0.5750653685166855, -0.6315805871754341, 0.5418712272596757, -1.1306708673810189, -1.118714709363381, -0.4401647702306003, -0.8061306367639891, -1.197345475413853, -1.0068972492704373, -0.17817852999860212, 0.639369678595348, 1.013703991356466, -0.23922158717259134, 1.4633201945065708, 1.3800134011897498, 0.2247267573806439, 0.49163132075695115, -0.10828728589737688, 1.1069484290607003, -1.2288487448834053, 0.1754650161188707, 0.7507986272132572, -0.20081391988588704, -0.6226641921427002, -0.16735697752048215, -0.38524578546611754, -0.5355048393729672, -0.34164985540023096, -0.2774104723203889, -0.2584209934005529, -0.3814423922234519, 0.3257577500486821, 0.6434080629177568, 0.66077107797274, 0.3637986673716947, -0.09214981424928291, 0.5276787296850053, -1.0338595767059349, -0.21097706924663143, 0.8984944691691217, 0.0820970582758034, 0.11562641623887104, 0.10032385906751383, -0.6503813578923999, -0.055876884880289614, -0.8571822962027709, 0.615500073921127, -1.3194434776149946, 2.0925297421943623, 0.9410652730595865, -3.673307455724263, -0.1572986034633572, -0.47613933558282523, 0.8539426335428666, -0.23704464026201616, 0.6063597785257324, -0.6518794725049938, 1.7049202285082419, -0.4059466352822378, -2.217238611239522, 1.1045060637619017, 0.13468126793607563], \"yaxis\": \"y13\"}, {\"line\": {\"color\": \"rgba(128, 128, 128, 1.0)\", \"dash\": \"solid\", \"shape\": \"linear\", \"width\": 1.3}, \"marker\": {\"size\": 2, \"symbol\": \"circle\"}, \"mode\": \"markers\", \"name\": \"D\", \"text\": \"\", \"type\": \"scatter\", \"x\": [0.14115223110497468, 0.0064944644833475305, 0.7422571167780311, 1.0645093771659695, -0.3106905288382996, 0.9105427572688288, 0.6103120706936248, 0.9859342503407027, -1.3935904672907908, 0.5691387823512065, 0.6619116415384811, 1.6926025880928388, -0.6199815554999915, -0.08994976033741052, 1.0750757711471672, 0.9473855422854135, -0.9659146731795786, -0.8563163114136054, 0.40461905434576567, -0.352421659367107, -0.17570731026437184, -0.9037477548119306, -0.02350852517774842, 0.05092474675920466, 1.043949946154262, -2.4490346466295554, 0.33014417054208783, -2.2514329386378424, 0.13653096809477527, 0.27854119209137806, 0.12084021939900245, -0.22910722021751045, 0.8157967113919772, 0.843764373253457, -0.1426121926871968, -0.5483486869724357, 0.2608490671514323, -0.26372400914740446, 0.8194095519733929, -0.270587376920324, -0.7737009584318266, -1.8472980629037679, -0.7082294452695416, 0.41190023363389006, -0.05569757355731567, -0.8395179440475853, 1.237960335845157, 0.09429165095844295, 0.8444303425008042, 1.0941573273460798, 0.5004607034246967, -1.2380236960978572, -0.5299553544779251, -2.401224423159397, -1.533248329403312, -0.17338990000742058, -1.303044209950965, 0.15434110478985552, -0.014923617770171496, 2.2196598208911857, -0.22823646275445944, -0.2495367783710828, -0.08131270339267661, 1.9699500613792806, -1.188690274209095, 0.8832334729754634, 2.09273443955495, -1.0036519160375525, -0.7060680965281807, -0.23968689244003327, 0.163276759185642, -0.686450971672635, -0.30631556602327387, -0.08707637532852806, -0.5228852910421682, -0.7172234514173806, -0.29517886902307716, -0.20458324362180894, -1.462710827625806, 1.4670598502699281, 0.8479039242641055, -1.9986453717747588, -0.6388634514624134, 0.28169086802838134, -0.7770575057522737, 0.04592948766882219, -1.0942302497431726, 0.9789185809599306, -0.46129486343229453, -0.40833102173104213, 1.227531863543337, -0.37368070911341755, -0.45808425613661174, 0.7934113176984202, -1.500505747410543, 0.3307505779477316, 0.5925706519046703, 1.635234820387899, 0.4765566163310391, -1.1996493035445714], \"xaxis\": \"x14\", \"y\": [0.9135095511270055, 0.8300768819790462, -0.32004306346453193, -0.6581296286650561, 1.4836945505803925, 1.0270586035577867, -0.9859497561904975, 1.5701847583308441, 1.0689501999873456, 0.27469367698909647, 0.802179541436546, 0.28884337018785844, -0.7434532905448736, 0.27274012450951335, -1.2859035819950417, 1.4733751166997981, -1.448170024930766, 0.6387142479829242, 0.10544400953620241, -1.2102928294002335, -0.24276755640050543, -0.8963604076627338, 0.22887388670666756, 0.7055734686513757, -0.11357563100775599, 0.9252196163749348, 1.058228680287137, 0.25047384372673487, 1.1653344926210953, 0.15865317944084573, 1.3866504724146873, 1.6689296985913067, -0.8134044689759502, 0.6487187769518447, -0.8052091624301895, 2.0326603507057137, 0.1073820460355707, 0.4071162529196392, -0.5750653685166855, -0.6315805871754341, 0.5418712272596757, -1.1306708673810189, -1.118714709363381, -0.4401647702306003, -0.8061306367639891, -1.197345475413853, -1.0068972492704373, -0.17817852999860212, 0.639369678595348, 1.013703991356466, -0.23922158717259134, 1.4633201945065708, 1.3800134011897498, 0.2247267573806439, 0.49163132075695115, -0.10828728589737688, 1.1069484290607003, -1.2288487448834053, 0.1754650161188707, 0.7507986272132572, -0.20081391988588704, -0.6226641921427002, -0.16735697752048215, -0.38524578546611754, -0.5355048393729672, -0.34164985540023096, -0.2774104723203889, -0.2584209934005529, -0.3814423922234519, 0.3257577500486821, 0.6434080629177568, 0.66077107797274, 0.3637986673716947, -0.09214981424928291, 0.5276787296850053, -1.0338595767059349, -0.21097706924663143, 0.8984944691691217, 0.0820970582758034, 0.11562641623887104, 0.10032385906751383, -0.6503813578923999, -0.055876884880289614, -0.8571822962027709, 0.615500073921127, -1.3194434776149946, 2.0925297421943623, 0.9410652730595865, -3.673307455724263, -0.1572986034633572, -0.47613933558282523, 0.8539426335428666, -0.23704464026201616, 0.6063597785257324, -0.6518794725049938, 1.7049202285082419, -0.4059466352822378, -2.217238611239522, 1.1045060637619017, 0.13468126793607563], \"yaxis\": \"y14\"}, {\"line\": {\"color\": \"rgba(128, 128, 128, 1.0)\", \"dash\": \"solid\", \"shape\": \"linear\", \"width\": 1.3}, \"marker\": {\"size\": 2, \"symbol\": \"circle\"}, \"mode\": \"markers\", \"name\": \"D\", \"text\": \"\", \"type\": \"scatter\", \"x\": [0.2530917113271322, -0.9890104346964195, -0.39399061015526105, -0.806349443728782, 1.0269292755252677, -0.5765171906888962, 1.595271012716274, 0.5963187126316164, -1.4502231149363887, -0.4112895787635489, 1.8019109475952786, -0.0918095648497734, 0.7627425581289289, -0.21914522192757702, -0.2926509630327127, -0.6971203406836002, -0.5468277875916475, -0.7331471279589682, 0.7182673562773526, -1.1734544133177471, -1.474992929667637, 0.8683397659408032, 0.35905053100282663, 0.2292625916257633, -0.6967589269149497, -0.48177822080743415, -0.9222113134634797, 1.2461523735545468, 1.5046599491507222, 0.92261259229617, 0.06195593412560095, 1.3501517219540615, -0.1962592516509624, -1.5236450780327122, 0.07013849426944149, -1.0175226875210754, -1.967895625772992, 1.181703711464979, -0.5678600438042352, 0.6595631355626677, -0.34433448425807334, -0.20307368400259568, -0.54553609386368, -1.6769241078819122, 0.6757788510129932, 0.8258212450642957, -0.350307561972649, 1.2574260935280994, 1.3359166977975272, -2.043068859179839, -0.519474178200342, 0.20599050286675058, -1.651846473593329, 0.31113593378343907, -0.49987751408599584, 0.3888705685375426, -1.506532134549189, 0.14568265358322754, 0.6887695472572651, 0.24988829811863322, -0.08825695195704542, 0.5420044701977272, -0.849556723826802, -0.2921489315869297, 0.5073892089994784, -0.3683131455091124, 1.1933559825006401, 0.01849527309794985, -0.8311877135581195, -0.903773590381288, -0.3148140662690922, 1.964400161863338, -1.581092584064821, -0.07324715397940061, 0.1485008590973546, 0.9057581978437469, -0.618261773342376, 0.6330497758753028, -0.13553713399477593, 0.12943801352764087, 0.9031247247539765, 1.446838737665481, 1.477826912335126, -1.1763939428341526, 0.9995732717882453, -0.12423940048829445, -1.1013294246687177, -0.17903286619989758, -0.04605668442365374, 1.89833634590754, 0.038807438640817114, -0.8161127075991621, -0.9456418183483448, 0.17419248814889204, 0.1405198689364899, -2.1038438209599977, 0.6808095514690816, -0.35020137419082026, -1.113547234381775, 0.7984763692018992], \"xaxis\": \"x15\", \"y\": [0.9135095511270055, 0.8300768819790462, -0.32004306346453193, -0.6581296286650561, 1.4836945505803925, 1.0270586035577867, -0.9859497561904975, 1.5701847583308441, 1.0689501999873456, 0.27469367698909647, 0.802179541436546, 0.28884337018785844, -0.7434532905448736, 0.27274012450951335, -1.2859035819950417, 1.4733751166997981, -1.448170024930766, 0.6387142479829242, 0.10544400953620241, -1.2102928294002335, -0.24276755640050543, -0.8963604076627338, 0.22887388670666756, 0.7055734686513757, -0.11357563100775599, 0.9252196163749348, 1.058228680287137, 0.25047384372673487, 1.1653344926210953, 0.15865317944084573, 1.3866504724146873, 1.6689296985913067, -0.8134044689759502, 0.6487187769518447, -0.8052091624301895, 2.0326603507057137, 0.1073820460355707, 0.4071162529196392, -0.5750653685166855, -0.6315805871754341, 0.5418712272596757, -1.1306708673810189, -1.118714709363381, -0.4401647702306003, -0.8061306367639891, -1.197345475413853, -1.0068972492704373, -0.17817852999860212, 0.639369678595348, 1.013703991356466, -0.23922158717259134, 1.4633201945065708, 1.3800134011897498, 0.2247267573806439, 0.49163132075695115, -0.10828728589737688, 1.1069484290607003, -1.2288487448834053, 0.1754650161188707, 0.7507986272132572, -0.20081391988588704, -0.6226641921427002, -0.16735697752048215, -0.38524578546611754, -0.5355048393729672, -0.34164985540023096, -0.2774104723203889, -0.2584209934005529, -0.3814423922234519, 0.3257577500486821, 0.6434080629177568, 0.66077107797274, 0.3637986673716947, -0.09214981424928291, 0.5276787296850053, -1.0338595767059349, -0.21097706924663143, 0.8984944691691217, 0.0820970582758034, 0.11562641623887104, 0.10032385906751383, -0.6503813578923999, -0.055876884880289614, -0.8571822962027709, 0.615500073921127, -1.3194434776149946, 2.0925297421943623, 0.9410652730595865, -3.673307455724263, -0.1572986034633572, -0.47613933558282523, 0.8539426335428666, -0.23704464026201616, 0.6063597785257324, -0.6518794725049938, 1.7049202285082419, -0.4059466352822378, -2.217238611239522, 1.1045060637619017, 0.13468126793607563], \"yaxis\": \"y15\"}, {\"histfunc\": \"count\", \"histnorm\": \"\", \"marker\": {\"color\": \"rgba(128, 0, 128, 1.0)\", \"line\": {\"color\": \"#4D5663\", \"width\": 1.3}}, \"name\": \"D\", \"nbinsx\": 10, \"opacity\": 0.8, \"orientation\": \"v\", \"type\": \"histogram\", \"x\": [0.9135095511270055, 0.8300768819790462, -0.32004306346453193, -0.6581296286650561, 1.4836945505803925, 1.0270586035577867, -0.9859497561904975, 1.5701847583308441, 1.0689501999873456, 0.27469367698909647, 0.802179541436546, 0.28884337018785844, -0.7434532905448736, 0.27274012450951335, -1.2859035819950417, 1.4733751166997981, -1.448170024930766, 0.6387142479829242, 0.10544400953620241, -1.2102928294002335, -0.24276755640050543, -0.8963604076627338, 0.22887388670666756, 0.7055734686513757, -0.11357563100775599, 0.9252196163749348, 1.058228680287137, 0.25047384372673487, 1.1653344926210953, 0.15865317944084573, 1.3866504724146873, 1.6689296985913067, -0.8134044689759502, 0.6487187769518447, -0.8052091624301895, 2.0326603507057137, 0.1073820460355707, 0.4071162529196392, -0.5750653685166855, -0.6315805871754341, 0.5418712272596757, -1.1306708673810189, -1.118714709363381, -0.4401647702306003, -0.8061306367639891, -1.197345475413853, -1.0068972492704373, -0.17817852999860212, 0.639369678595348, 1.013703991356466, -0.23922158717259134, 1.4633201945065708, 1.3800134011897498, 0.2247267573806439, 0.49163132075695115, -0.10828728589737688, 1.1069484290607003, -1.2288487448834053, 0.1754650161188707, 0.7507986272132572, -0.20081391988588704, -0.6226641921427002, -0.16735697752048215, -0.38524578546611754, -0.5355048393729672, -0.34164985540023096, -0.2774104723203889, -0.2584209934005529, -0.3814423922234519, 0.3257577500486821, 0.6434080629177568, 0.66077107797274, 0.3637986673716947, -0.09214981424928291, 0.5276787296850053, -1.0338595767059349, -0.21097706924663143, 0.8984944691691217, 0.0820970582758034, 0.11562641623887104, 0.10032385906751383, -0.6503813578923999, -0.055876884880289614, -0.8571822962027709, 0.615500073921127, -1.3194434776149946, 2.0925297421943623, 0.9410652730595865, -3.673307455724263, -0.1572986034633572, -0.47613933558282523, 0.8539426335428666, -0.23704464026201616, 0.6063597785257324, -0.6518794725049938, 1.7049202285082419, -0.4059466352822378, -2.217238611239522, 1.1045060637619017, 0.13468126793607563], \"xaxis\": \"x16\", \"yaxis\": \"y16\"}],                        {\"bargap\": 0.02, \"legend\": {\"bgcolor\": \"#F5F6F9\", \"font\": {\"color\": \"#4D5663\"}}, \"paper_bgcolor\": \"#F5F6F9\", \"plot_bgcolor\": \"#F5F6F9\", \"showlegend\": false, \"template\": {\"data\": {\"bar\": [{\"error_x\": {\"color\": \"#2a3f5f\"}, \"error_y\": {\"color\": \"#2a3f5f\"}, \"marker\": {\"line\": {\"color\": \"#E5ECF6\", \"width\": 0.5}}, \"type\": \"bar\"}], \"barpolar\": [{\"marker\": {\"line\": {\"color\": \"#E5ECF6\", \"width\": 0.5}}, \"type\": \"barpolar\"}], \"carpet\": [{\"aaxis\": {\"endlinecolor\": \"#2a3f5f\", \"gridcolor\": \"white\", \"linecolor\": \"white\", \"minorgridcolor\": \"white\", \"startlinecolor\": \"#2a3f5f\"}, \"baxis\": {\"endlinecolor\": \"#2a3f5f\", \"gridcolor\": \"white\", \"linecolor\": \"white\", \"minorgridcolor\": \"white\", \"startlinecolor\": \"#2a3f5f\"}, \"type\": \"carpet\"}], \"choropleth\": [{\"colorbar\": {\"outlinewidth\": 0, \"ticks\": \"\"}, \"type\": \"choropleth\"}], \"contour\": [{\"colorbar\": {\"outlinewidth\": 0, \"ticks\": \"\"}, \"colorscale\": [[0.0, \"#0d0887\"], [0.1111111111111111, \"#46039f\"], [0.2222222222222222, \"#7201a8\"], [0.3333333333333333, \"#9c179e\"], [0.4444444444444444, \"#bd3786\"], [0.5555555555555556, \"#d8576b\"], [0.6666666666666666, \"#ed7953\"], [0.7777777777777778, \"#fb9f3a\"], [0.8888888888888888, \"#fdca26\"], [1.0, \"#f0f921\"]], \"type\": \"contour\"}], \"contourcarpet\": [{\"colorbar\": {\"outlinewidth\": 0, \"ticks\": \"\"}, \"type\": \"contourcarpet\"}], \"heatmap\": [{\"colorbar\": {\"outlinewidth\": 0, \"ticks\": \"\"}, \"colorscale\": [[0.0, \"#0d0887\"], [0.1111111111111111, \"#46039f\"], [0.2222222222222222, \"#7201a8\"], [0.3333333333333333, \"#9c179e\"], [0.4444444444444444, \"#bd3786\"], [0.5555555555555556, \"#d8576b\"], [0.6666666666666666, \"#ed7953\"], [0.7777777777777778, \"#fb9f3a\"], [0.8888888888888888, \"#fdca26\"], [1.0, \"#f0f921\"]], \"type\": \"heatmap\"}], \"heatmapgl\": [{\"colorbar\": {\"outlinewidth\": 0, \"ticks\": \"\"}, \"colorscale\": [[0.0, \"#0d0887\"], [0.1111111111111111, \"#46039f\"], [0.2222222222222222, \"#7201a8\"], [0.3333333333333333, \"#9c179e\"], [0.4444444444444444, \"#bd3786\"], [0.5555555555555556, \"#d8576b\"], [0.6666666666666666, \"#ed7953\"], [0.7777777777777778, \"#fb9f3a\"], [0.8888888888888888, \"#fdca26\"], [1.0, \"#f0f921\"]], \"type\": \"heatmapgl\"}], \"histogram\": [{\"marker\": {\"colorbar\": {\"outlinewidth\": 0, \"ticks\": \"\"}}, \"type\": \"histogram\"}], \"histogram2d\": [{\"colorbar\": {\"outlinewidth\": 0, \"ticks\": \"\"}, \"colorscale\": [[0.0, \"#0d0887\"], [0.1111111111111111, \"#46039f\"], [0.2222222222222222, \"#7201a8\"], [0.3333333333333333, \"#9c179e\"], [0.4444444444444444, \"#bd3786\"], [0.5555555555555556, \"#d8576b\"], [0.6666666666666666, \"#ed7953\"], [0.7777777777777778, \"#fb9f3a\"], [0.8888888888888888, \"#fdca26\"], [1.0, \"#f0f921\"]], \"type\": \"histogram2d\"}], \"histogram2dcontour\": [{\"colorbar\": {\"outlinewidth\": 0, \"ticks\": \"\"}, \"colorscale\": [[0.0, \"#0d0887\"], [0.1111111111111111, \"#46039f\"], [0.2222222222222222, \"#7201a8\"], [0.3333333333333333, \"#9c179e\"], [0.4444444444444444, \"#bd3786\"], [0.5555555555555556, \"#d8576b\"], [0.6666666666666666, \"#ed7953\"], [0.7777777777777778, \"#fb9f3a\"], [0.8888888888888888, \"#fdca26\"], [1.0, \"#f0f921\"]], \"type\": \"histogram2dcontour\"}], \"mesh3d\": [{\"colorbar\": {\"outlinewidth\": 0, \"ticks\": \"\"}, \"type\": \"mesh3d\"}], \"parcoords\": [{\"line\": {\"colorbar\": {\"outlinewidth\": 0, \"ticks\": \"\"}}, \"type\": \"parcoords\"}], \"pie\": [{\"automargin\": true, \"type\": \"pie\"}], \"scatter\": [{\"marker\": {\"colorbar\": {\"outlinewidth\": 0, \"ticks\": \"\"}}, \"type\": \"scatter\"}], \"scatter3d\": [{\"line\": {\"colorbar\": {\"outlinewidth\": 0, \"ticks\": \"\"}}, \"marker\": {\"colorbar\": {\"outlinewidth\": 0, \"ticks\": \"\"}}, \"type\": \"scatter3d\"}], \"scattercarpet\": [{\"marker\": {\"colorbar\": {\"outlinewidth\": 0, \"ticks\": \"\"}}, \"type\": \"scattercarpet\"}], \"scattergeo\": [{\"marker\": {\"colorbar\": {\"outlinewidth\": 0, \"ticks\": \"\"}}, \"type\": \"scattergeo\"}], \"scattergl\": [{\"marker\": {\"colorbar\": {\"outlinewidth\": 0, \"ticks\": \"\"}}, \"type\": \"scattergl\"}], \"scattermapbox\": [{\"marker\": {\"colorbar\": {\"outlinewidth\": 0, \"ticks\": \"\"}}, \"type\": \"scattermapbox\"}], \"scatterpolar\": [{\"marker\": {\"colorbar\": {\"outlinewidth\": 0, \"ticks\": \"\"}}, \"type\": \"scatterpolar\"}], \"scatterpolargl\": [{\"marker\": {\"colorbar\": {\"outlinewidth\": 0, \"ticks\": \"\"}}, \"type\": \"scatterpolargl\"}], \"scatterternary\": [{\"marker\": {\"colorbar\": {\"outlinewidth\": 0, \"ticks\": \"\"}}, \"type\": \"scatterternary\"}], \"surface\": [{\"colorbar\": {\"outlinewidth\": 0, \"ticks\": \"\"}, \"colorscale\": [[0.0, \"#0d0887\"], [0.1111111111111111, \"#46039f\"], [0.2222222222222222, \"#7201a8\"], [0.3333333333333333, \"#9c179e\"], [0.4444444444444444, \"#bd3786\"], [0.5555555555555556, \"#d8576b\"], [0.6666666666666666, \"#ed7953\"], [0.7777777777777778, \"#fb9f3a\"], [0.8888888888888888, \"#fdca26\"], [1.0, \"#f0f921\"]], \"type\": \"surface\"}], \"table\": [{\"cells\": {\"fill\": {\"color\": \"#EBF0F8\"}, \"line\": {\"color\": \"white\"}}, \"header\": {\"fill\": {\"color\": \"#C8D4E3\"}, \"line\": {\"color\": \"white\"}}, \"type\": \"table\"}]}, \"layout\": {\"annotationdefaults\": {\"arrowcolor\": \"#2a3f5f\", \"arrowhead\": 0, \"arrowwidth\": 1}, \"autotypenumbers\": \"strict\", \"coloraxis\": {\"colorbar\": {\"outlinewidth\": 0, \"ticks\": \"\"}}, \"colorscale\": {\"diverging\": [[0, \"#8e0152\"], [0.1, \"#c51b7d\"], [0.2, \"#de77ae\"], [0.3, \"#f1b6da\"], [0.4, \"#fde0ef\"], [0.5, \"#f7f7f7\"], [0.6, \"#e6f5d0\"], [0.7, \"#b8e186\"], [0.8, \"#7fbc41\"], [0.9, \"#4d9221\"], [1, \"#276419\"]], \"sequential\": [[0.0, \"#0d0887\"], [0.1111111111111111, \"#46039f\"], [0.2222222222222222, \"#7201a8\"], [0.3333333333333333, \"#9c179e\"], [0.4444444444444444, \"#bd3786\"], [0.5555555555555556, \"#d8576b\"], [0.6666666666666666, \"#ed7953\"], [0.7777777777777778, \"#fb9f3a\"], [0.8888888888888888, \"#fdca26\"], [1.0, \"#f0f921\"]], \"sequentialminus\": [[0.0, \"#0d0887\"], [0.1111111111111111, \"#46039f\"], [0.2222222222222222, \"#7201a8\"], [0.3333333333333333, \"#9c179e\"], [0.4444444444444444, \"#bd3786\"], [0.5555555555555556, \"#d8576b\"], [0.6666666666666666, \"#ed7953\"], [0.7777777777777778, \"#fb9f3a\"], [0.8888888888888888, \"#fdca26\"], [1.0, \"#f0f921\"]]}, \"colorway\": [\"#636efa\", \"#EF553B\", \"#00cc96\", \"#ab63fa\", \"#FFA15A\", \"#19d3f3\", \"#FF6692\", \"#B6E880\", \"#FF97FF\", \"#FECB52\"], \"font\": {\"color\": \"#2a3f5f\"}, \"geo\": {\"bgcolor\": \"white\", \"lakecolor\": \"white\", \"landcolor\": \"#E5ECF6\", \"showlakes\": true, \"showland\": true, \"subunitcolor\": \"white\"}, \"hoverlabel\": {\"align\": \"left\"}, \"hovermode\": \"closest\", \"mapbox\": {\"style\": \"light\"}, \"paper_bgcolor\": \"white\", \"plot_bgcolor\": \"#E5ECF6\", \"polar\": {\"angularaxis\": {\"gridcolor\": \"white\", \"linecolor\": \"white\", \"ticks\": \"\"}, \"bgcolor\": \"#E5ECF6\", \"radialaxis\": {\"gridcolor\": \"white\", \"linecolor\": \"white\", \"ticks\": \"\"}}, \"scene\": {\"xaxis\": {\"backgroundcolor\": \"#E5ECF6\", \"gridcolor\": \"white\", \"gridwidth\": 2, \"linecolor\": \"white\", \"showbackground\": true, \"ticks\": \"\", \"zerolinecolor\": \"white\"}, \"yaxis\": {\"backgroundcolor\": \"#E5ECF6\", \"gridcolor\": \"white\", \"gridwidth\": 2, \"linecolor\": \"white\", \"showbackground\": true, \"ticks\": \"\", \"zerolinecolor\": \"white\"}, \"zaxis\": {\"backgroundcolor\": \"#E5ECF6\", \"gridcolor\": \"white\", \"gridwidth\": 2, \"linecolor\": \"white\", \"showbackground\": true, \"ticks\": \"\", \"zerolinecolor\": \"white\"}}, \"shapedefaults\": {\"line\": {\"color\": \"#2a3f5f\"}}, \"ternary\": {\"aaxis\": {\"gridcolor\": \"white\", \"linecolor\": \"white\", \"ticks\": \"\"}, \"baxis\": {\"gridcolor\": \"white\", \"linecolor\": \"white\", \"ticks\": \"\"}, \"bgcolor\": \"#E5ECF6\", \"caxis\": {\"gridcolor\": \"white\", \"linecolor\": \"white\", \"ticks\": \"\"}}, \"title\": {\"x\": 0.05}, \"xaxis\": {\"automargin\": true, \"gridcolor\": \"white\", \"linecolor\": \"white\", \"ticks\": \"\", \"title\": {\"standoff\": 15}, \"zerolinecolor\": \"white\", \"zerolinewidth\": 2}, \"yaxis\": {\"automargin\": true, \"gridcolor\": \"white\", \"linecolor\": \"white\", \"ticks\": \"\", \"title\": {\"standoff\": 15}, \"zerolinecolor\": \"white\", \"zerolinewidth\": 2}}}, \"title\": {\"font\": {\"color\": \"#4D5663\"}}, \"xaxis\": {\"anchor\": \"y\", \"domain\": [0.0, 0.2125], \"gridcolor\": \"#E1E5ED\", \"showgrid\": false, \"tickfont\": {\"color\": \"#4D5663\"}, \"title\": {\"font\": {\"color\": \"#4D5663\"}, \"text\": \"\"}, \"zerolinecolor\": \"#E1E5ED\"}, \"xaxis10\": {\"anchor\": \"y10\", \"domain\": [0.2625, 0.475], \"gridcolor\": \"#E1E5ED\", \"showgrid\": false, \"tickfont\": {\"color\": \"#4D5663\"}, \"title\": {\"font\": {\"color\": \"#4D5663\"}, \"text\": \"\"}, \"zerolinecolor\": \"#E1E5ED\"}, \"xaxis11\": {\"anchor\": \"y11\", \"domain\": [0.525, 0.7375], \"gridcolor\": \"#E1E5ED\", \"showgrid\": false, \"tickfont\": {\"color\": \"#4D5663\"}, \"title\": {\"font\": {\"color\": \"#4D5663\"}, \"text\": \"\"}, \"zerolinecolor\": \"#E1E5ED\"}, \"xaxis12\": {\"anchor\": \"y12\", \"domain\": [0.7875, 1.0], \"gridcolor\": \"#E1E5ED\", \"showgrid\": false, \"tickfont\": {\"color\": \"#4D5663\"}, \"title\": {\"font\": {\"color\": \"#4D5663\"}, \"text\": \"\"}, \"zerolinecolor\": \"#E1E5ED\"}, \"xaxis13\": {\"anchor\": \"y13\", \"domain\": [0.0, 0.2125], \"gridcolor\": \"#E1E5ED\", \"showgrid\": false, \"tickfont\": {\"color\": \"#4D5663\"}, \"title\": {\"font\": {\"color\": \"#4D5663\"}, \"text\": \"\"}, \"zerolinecolor\": \"#E1E5ED\"}, \"xaxis14\": {\"anchor\": \"y14\", \"domain\": [0.2625, 0.475], \"gridcolor\": \"#E1E5ED\", \"showgrid\": false, \"tickfont\": {\"color\": \"#4D5663\"}, \"title\": {\"font\": {\"color\": \"#4D5663\"}, \"text\": \"\"}, \"zerolinecolor\": \"#E1E5ED\"}, \"xaxis15\": {\"anchor\": \"y15\", \"domain\": [0.525, 0.7375], \"gridcolor\": \"#E1E5ED\", \"showgrid\": false, \"tickfont\": {\"color\": \"#4D5663\"}, \"title\": {\"font\": {\"color\": \"#4D5663\"}, \"text\": \"\"}, \"zerolinecolor\": \"#E1E5ED\"}, \"xaxis16\": {\"anchor\": \"y16\", \"domain\": [0.7875, 1.0], \"gridcolor\": \"#E1E5ED\", \"showgrid\": false, \"tickfont\": {\"color\": \"#4D5663\"}, \"title\": {\"font\": {\"color\": \"#4D5663\"}, \"text\": \"\"}, \"zerolinecolor\": \"#E1E5ED\"}, \"xaxis2\": {\"anchor\": \"y2\", \"domain\": [0.2625, 0.475], \"gridcolor\": \"#E1E5ED\", \"showgrid\": false, \"tickfont\": {\"color\": \"#4D5663\"}, \"title\": {\"font\": {\"color\": \"#4D5663\"}, \"text\": \"\"}, \"zerolinecolor\": \"#E1E5ED\"}, \"xaxis3\": {\"anchor\": \"y3\", \"domain\": [0.525, 0.7375], \"gridcolor\": \"#E1E5ED\", \"showgrid\": false, \"tickfont\": {\"color\": \"#4D5663\"}, \"title\": {\"font\": {\"color\": \"#4D5663\"}, \"text\": \"\"}, \"zerolinecolor\": \"#E1E5ED\"}, \"xaxis4\": {\"anchor\": \"y4\", \"domain\": [0.7875, 1.0], \"gridcolor\": \"#E1E5ED\", \"showgrid\": false, \"tickfont\": {\"color\": \"#4D5663\"}, \"title\": {\"font\": {\"color\": \"#4D5663\"}, \"text\": \"\"}, \"zerolinecolor\": \"#E1E5ED\"}, \"xaxis5\": {\"anchor\": \"y5\", \"domain\": [0.0, 0.2125], \"gridcolor\": \"#E1E5ED\", \"showgrid\": false, \"tickfont\": {\"color\": \"#4D5663\"}, \"title\": {\"font\": {\"color\": \"#4D5663\"}, \"text\": \"\"}, \"zerolinecolor\": \"#E1E5ED\"}, \"xaxis6\": {\"anchor\": \"y6\", \"domain\": [0.2625, 0.475], \"gridcolor\": \"#E1E5ED\", \"showgrid\": false, \"tickfont\": {\"color\": \"#4D5663\"}, \"title\": {\"font\": {\"color\": \"#4D5663\"}, \"text\": \"\"}, \"zerolinecolor\": \"#E1E5ED\"}, \"xaxis7\": {\"anchor\": \"y7\", \"domain\": [0.525, 0.7375], \"gridcolor\": \"#E1E5ED\", \"showgrid\": false, \"tickfont\": {\"color\": \"#4D5663\"}, \"title\": {\"font\": {\"color\": \"#4D5663\"}, \"text\": \"\"}, \"zerolinecolor\": \"#E1E5ED\"}, \"xaxis8\": {\"anchor\": \"y8\", \"domain\": [0.7875, 1.0], \"gridcolor\": \"#E1E5ED\", \"showgrid\": false, \"tickfont\": {\"color\": \"#4D5663\"}, \"title\": {\"font\": {\"color\": \"#4D5663\"}, \"text\": \"\"}, \"zerolinecolor\": \"#E1E5ED\"}, \"xaxis9\": {\"anchor\": \"y9\", \"domain\": [0.0, 0.2125], \"gridcolor\": \"#E1E5ED\", \"showgrid\": false, \"tickfont\": {\"color\": \"#4D5663\"}, \"title\": {\"font\": {\"color\": \"#4D5663\"}, \"text\": \"\"}, \"zerolinecolor\": \"#E1E5ED\"}, \"yaxis\": {\"anchor\": \"x\", \"domain\": [0.8025, 1.0], \"gridcolor\": \"#E1E5ED\", \"showgrid\": false, \"tickfont\": {\"color\": \"#4D5663\"}, \"title\": {\"font\": {\"color\": \"#4D5663\"}, \"text\": \"\"}, \"zerolinecolor\": \"#E1E5ED\"}, \"yaxis10\": {\"anchor\": \"x10\", \"domain\": [0.2675, 0.465], \"gridcolor\": \"#E1E5ED\", \"showgrid\": false, \"tickfont\": {\"color\": \"#4D5663\"}, \"title\": {\"font\": {\"color\": \"#4D5663\"}, \"text\": \"\"}, \"zerolinecolor\": \"#E1E5ED\"}, \"yaxis11\": {\"anchor\": \"x11\", \"domain\": [0.2675, 0.465], \"gridcolor\": \"#E1E5ED\", \"showgrid\": false, \"tickfont\": {\"color\": \"#4D5663\"}, \"title\": {\"font\": {\"color\": \"#4D5663\"}, \"text\": \"\"}, \"zerolinecolor\": \"#E1E5ED\"}, \"yaxis12\": {\"anchor\": \"x12\", \"domain\": [0.2675, 0.465], \"gridcolor\": \"#E1E5ED\", \"showgrid\": false, \"tickfont\": {\"color\": \"#4D5663\"}, \"title\": {\"font\": {\"color\": \"#4D5663\"}, \"text\": \"\"}, \"zerolinecolor\": \"#E1E5ED\"}, \"yaxis13\": {\"anchor\": \"x13\", \"domain\": [0.0, 0.1975], \"gridcolor\": \"#E1E5ED\", \"showgrid\": false, \"tickfont\": {\"color\": \"#4D5663\"}, \"title\": {\"font\": {\"color\": \"#4D5663\"}, \"text\": \"\"}, \"zerolinecolor\": \"#E1E5ED\"}, \"yaxis14\": {\"anchor\": \"x14\", \"domain\": [0.0, 0.1975], \"gridcolor\": \"#E1E5ED\", \"showgrid\": false, \"tickfont\": {\"color\": \"#4D5663\"}, \"title\": {\"font\": {\"color\": \"#4D5663\"}, \"text\": \"\"}, \"zerolinecolor\": \"#E1E5ED\"}, \"yaxis15\": {\"anchor\": \"x15\", \"domain\": [0.0, 0.1975], \"gridcolor\": \"#E1E5ED\", \"showgrid\": false, \"tickfont\": {\"color\": \"#4D5663\"}, \"title\": {\"font\": {\"color\": \"#4D5663\"}, \"text\": \"\"}, \"zerolinecolor\": \"#E1E5ED\"}, \"yaxis16\": {\"anchor\": \"x16\", \"domain\": [0.0, 0.1975], \"gridcolor\": \"#E1E5ED\", \"showgrid\": false, \"tickfont\": {\"color\": \"#4D5663\"}, \"title\": {\"font\": {\"color\": \"#4D5663\"}, \"text\": \"\"}, \"zerolinecolor\": \"#E1E5ED\"}, \"yaxis2\": {\"anchor\": \"x2\", \"domain\": [0.8025, 1.0], \"gridcolor\": \"#E1E5ED\", \"showgrid\": false, \"tickfont\": {\"color\": \"#4D5663\"}, \"title\": {\"font\": {\"color\": \"#4D5663\"}, \"text\": \"\"}, \"zerolinecolor\": \"#E1E5ED\"}, \"yaxis3\": {\"anchor\": \"x3\", \"domain\": [0.8025, 1.0], \"gridcolor\": \"#E1E5ED\", \"showgrid\": false, \"tickfont\": {\"color\": \"#4D5663\"}, \"title\": {\"font\": {\"color\": \"#4D5663\"}, \"text\": \"\"}, \"zerolinecolor\": \"#E1E5ED\"}, \"yaxis4\": {\"anchor\": \"x4\", \"domain\": [0.8025, 1.0], \"gridcolor\": \"#E1E5ED\", \"showgrid\": false, \"tickfont\": {\"color\": \"#4D5663\"}, \"title\": {\"font\": {\"color\": \"#4D5663\"}, \"text\": \"\"}, \"zerolinecolor\": \"#E1E5ED\"}, \"yaxis5\": {\"anchor\": \"x5\", \"domain\": [0.535, 0.7325], \"gridcolor\": \"#E1E5ED\", \"showgrid\": false, \"tickfont\": {\"color\": \"#4D5663\"}, \"title\": {\"font\": {\"color\": \"#4D5663\"}, \"text\": \"\"}, \"zerolinecolor\": \"#E1E5ED\"}, \"yaxis6\": {\"anchor\": \"x6\", \"domain\": [0.535, 0.7325], \"gridcolor\": \"#E1E5ED\", \"showgrid\": false, \"tickfont\": {\"color\": \"#4D5663\"}, \"title\": {\"font\": {\"color\": \"#4D5663\"}, \"text\": \"\"}, \"zerolinecolor\": \"#E1E5ED\"}, \"yaxis7\": {\"anchor\": \"x7\", \"domain\": [0.535, 0.7325], \"gridcolor\": \"#E1E5ED\", \"showgrid\": false, \"tickfont\": {\"color\": \"#4D5663\"}, \"title\": {\"font\": {\"color\": \"#4D5663\"}, \"text\": \"\"}, \"zerolinecolor\": \"#E1E5ED\"}, \"yaxis8\": {\"anchor\": \"x8\", \"domain\": [0.535, 0.7325], \"gridcolor\": \"#E1E5ED\", \"showgrid\": false, \"tickfont\": {\"color\": \"#4D5663\"}, \"title\": {\"font\": {\"color\": \"#4D5663\"}, \"text\": \"\"}, \"zerolinecolor\": \"#E1E5ED\"}, \"yaxis9\": {\"anchor\": \"x9\", \"domain\": [0.2675, 0.465], \"gridcolor\": \"#E1E5ED\", \"showgrid\": false, \"tickfont\": {\"color\": \"#4D5663\"}, \"title\": {\"font\": {\"color\": \"#4D5663\"}, \"text\": \"\"}, \"zerolinecolor\": \"#E1E5ED\"}},                        {\"showLink\": true, \"linkText\": \"Export to plot.ly\", \"plotlyServerURL\": \"https://plot.ly\", \"responsive\": true}                    ).then(function(){\n",
       "                            \n",
       "var gd = document.getElementById('c8664662-f8c4-4e07-97a7-4334e793b562');\n",
       "var x = new MutationObserver(function (mutations, observer) {{\n",
       "        var display = window.getComputedStyle(gd).display;\n",
       "        if (!display || display === 'none') {{\n",
       "            console.log([gd, 'removed!']);\n",
       "            Plotly.purge(gd);\n",
       "            observer.disconnect();\n",
       "        }}\n",
       "}});\n",
       "\n",
       "// Listen for the removal of the full notebook cells\n",
       "var notebookContainer = gd.closest('#notebook-container');\n",
       "if (notebookContainer) {{\n",
       "    x.observe(notebookContainer, {childList: true});\n",
       "}}\n",
       "\n",
       "// Listen for the clearing of the current output cell\n",
       "var outputEl = gd.closest('.output');\n",
       "if (outputEl) {{\n",
       "    x.observe(outputEl, {childList: true});\n",
       "}}\n",
       "\n",
       "                        })                };                });            </script>        </div>"
      ]
     },
     "metadata": {},
     "output_type": "display_data"
    }
   ],
   "source": [
    "df.scatter_matrix()"
   ]
  },
  {
   "cell_type": "code",
   "execution_count": null,
   "metadata": {},
   "outputs": [],
   "source": []
  }
 ],
 "metadata": {
  "kernelspec": {
   "display_name": "Python 3",
   "language": "python",
   "name": "python3"
  },
  "language_info": {
   "codemirror_mode": {
    "name": "ipython",
    "version": 3
   },
   "file_extension": ".py",
   "mimetype": "text/x-python",
   "name": "python",
   "nbconvert_exporter": "python",
   "pygments_lexer": "ipython3",
   "version": "3.7.6"
  }
 },
 "nbformat": 4,
 "nbformat_minor": 4
}
